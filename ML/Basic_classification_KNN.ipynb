{
  "cells": [
    {
      "cell_type": "markdown",
      "metadata": {
        "id": "view-in-github",
        "colab_type": "text"
      },
      "source": [
        "<a href=\"https://colab.research.google.com/github/Maram00ali/REV4RE/blob/main/Basic_classification_KNN.ipynb\" target=\"_parent\"><img src=\"https://colab.research.google.com/assets/colab-badge.svg\" alt=\"Open In Colab\"/></a>"
      ]
    },
    {
      "cell_type": "code",
      "metadata": {
        "tags": [],
        "source_hash": "6930914e",
        "execution_start": 1680200319183,
        "execution_millis": 1221,
        "deepnote_to_be_reexecuted": false,
        "cell_id": "dab7f4412b7a41fb8e5a0c248fe27e71",
        "deepnote_cell_type": "code",
        "id": "EIAqjC35UQTQ",
        "outputId": "2a1a2b32-a0a7-4972-bf7e-96b9d88a5d5e"
      },
      "source": [
        "import numpy as np\n",
        "import matplotlib.pyplot as plt\n",
        "import pandas as pd\n",
        "\n",
        "dataset = pd.read_csv('dataset path')\n",
        "dataset.head()"
      ],
      "execution_count": null,
      "outputs": [
        {
          "output_type": "execute_result",
          "execution_count": 1,
          "data": {
            "application/vnd.deepnote.dataframe.v3+json": {
              "column_count": 2,
              "row_count": 5,
              "columns": [
                {
                  "name": "Review",
                  "dtype": "object",
                  "stats": {
                    "unique_count": 5,
                    "nan_count": 0,
                    "categories": [
                      {
                        "name": "5 star good app",
                        "count": 1
                      },
                      {
                        "name": "A monthly subscription fee. Really?",
                        "count": 1
                      },
                      {
                        "name": "3 others",
                        "count": 3
                      }
                    ]
                  }
                },
                {
                  "name": "RivewRelevance",
                  "dtype": "int64",
                  "stats": {
                    "unique_count": 1,
                    "nan_count": 0,
                    "min": "1",
                    "max": "1",
                    "histogram": [
                      {
                        "bin_start": 0.5,
                        "bin_end": 0.6,
                        "count": 0
                      },
                      {
                        "bin_start": 0.6,
                        "bin_end": 0.7,
                        "count": 0
                      },
                      {
                        "bin_start": 0.7,
                        "bin_end": 0.8,
                        "count": 0
                      },
                      {
                        "bin_start": 0.8,
                        "bin_end": 0.9,
                        "count": 0
                      },
                      {
                        "bin_start": 0.9,
                        "bin_end": 1,
                        "count": 0
                      },
                      {
                        "bin_start": 1,
                        "bin_end": 1.1,
                        "count": 5
                      },
                      {
                        "bin_start": 1.1,
                        "bin_end": 1.2000000000000002,
                        "count": 0
                      },
                      {
                        "bin_start": 1.2000000000000002,
                        "bin_end": 1.3,
                        "count": 0
                      },
                      {
                        "bin_start": 1.3,
                        "bin_end": 1.4,
                        "count": 0
                      },
                      {
                        "bin_start": 1.4,
                        "bin_end": 1.5,
                        "count": 0
                      }
                    ]
                  }
                },
                {
                  "name": "_deepnote_index_column",
                  "dtype": "int64"
                }
              ],
              "rows": [
                {
                  "Review": "5 star good app",
                  "RivewRelevance": "1",
                  "_deepnote_index_column": "0"
                },
                {
                  "Review": "A monthly subscription fee. Really?",
                  "RivewRelevance": "1",
                  "_deepnote_index_column": "1"
                },
                {
                  "Review": "Able to customize and decorate a ton of things even for free! I really recommend this good app!",
                  "RivewRelevance": "1",
                  "_deepnote_index_column": "2"
                },
                {
                  "Review": "All I can say is this game is the best!!",
                  "RivewRelevance": "1",
                  "_deepnote_index_column": "3"
                },
                {
                  "Review": "Although not the best, it better for own creatives.",
                  "RivewRelevance": "1",
                  "_deepnote_index_column": "4"
                }
              ]
            },
            "text/plain": "                                              Review  RivewRelevance\n0                                    5 star good app               1\n1                A monthly subscription fee. Really?               1\n2  Able to customize and decorate a ton of things...               1\n3           All I can say is this game is the best!!               1\n4  Although not the best, it better for own creat...               1",
            "text/html": "<div>\n<style scoped>\n    .dataframe tbody tr th:only-of-type {\n        vertical-align: middle;\n    }\n\n    .dataframe tbody tr th {\n        vertical-align: top;\n    }\n\n    .dataframe thead th {\n        text-align: right;\n    }\n</style>\n<table border=\"1\" class=\"dataframe\">\n  <thead>\n    <tr style=\"text-align: right;\">\n      <th></th>\n      <th>Review</th>\n      <th>RivewRelevance</th>\n    </tr>\n  </thead>\n  <tbody>\n    <tr>\n      <th>0</th>\n      <td>5 star good app</td>\n      <td>1</td>\n    </tr>\n    <tr>\n      <th>1</th>\n      <td>A monthly subscription fee. Really?</td>\n      <td>1</td>\n    </tr>\n    <tr>\n      <th>2</th>\n      <td>Able to customize and decorate a ton of things...</td>\n      <td>1</td>\n    </tr>\n    <tr>\n      <th>3</th>\n      <td>All I can say is this game is the best!!</td>\n      <td>1</td>\n    </tr>\n    <tr>\n      <th>4</th>\n      <td>Although not the best, it better for own creat...</td>\n      <td>1</td>\n    </tr>\n  </tbody>\n</table>\n</div>"
          },
          "metadata": {}
        }
      ]
    },
    {
      "cell_type": "code",
      "metadata": {
        "tags": [],
        "cell_id": "1f73849298e84df4aabc8f11c0b87002",
        "source_hash": "ed8da230",
        "execution_start": 1680200320407,
        "execution_millis": 3,
        "deepnote_to_be_reexecuted": false,
        "deepnote_cell_type": "code",
        "id": "6D9WrvuPUQTS",
        "outputId": "cedf55a1-4ddf-4ebf-bdc5-8ddf3714fd84"
      },
      "source": [
        "len(dataset)"
      ],
      "execution_count": null,
      "outputs": [
        {
          "output_type": "execute_result",
          "execution_count": 2,
          "data": {
            "text/plain": "84932"
          },
          "metadata": {}
        }
      ]
    },
    {
      "cell_type": "code",
      "metadata": {
        "tags": [],
        "cell_id": "d308ed86f4ca4d918bfb80c95630032d",
        "source_hash": "c2bbee1e",
        "execution_start": 1680200320424,
        "execution_millis": 3,
        "deepnote_to_be_reexecuted": false,
        "deepnote_cell_type": "code",
        "id": "hvDlMwxKUQTS",
        "outputId": "5cfa9b34-cde5-4bce-a6e5-5399fa49c454"
      },
      "source": [
        "dataset.isnull().sum()"
      ],
      "execution_count": null,
      "outputs": [
        {
          "output_type": "execute_result",
          "execution_count": 3,
          "data": {
            "text/plain": "Review            0\nRivewRelevance    0\ndtype: int64"
          },
          "metadata": {}
        }
      ]
    },
    {
      "cell_type": "code",
      "metadata": {
        "tags": [],
        "cell_id": "0119f3ba14324bba962b3c3820c1dc74",
        "source_hash": "9a174f77",
        "execution_start": 1680200320425,
        "execution_millis": 2,
        "deepnote_to_be_reexecuted": false,
        "deepnote_cell_type": "code",
        "id": "yNmGSvGCUQTT",
        "outputId": "ebf6fdcf-ec6c-42b0-ec38-7f50048ed36c"
      },
      "source": [
        "# calculate count of each category\n",
        "labels, counts = np.unique(dataset.RivewRelevance, return_counts=True)\n",
        "# convert data.target_names to np array for fancy indexing\n",
        "\n",
        "print(dict(zip(labels, counts)))\n"
      ],
      "execution_count": null,
      "outputs": [
        {
          "name": "stdout",
          "text": "{0: 10352, 1: 69045, 2: 5535}\n",
          "output_type": "stream"
        }
      ]
    },
    {
      "cell_type": "markdown",
      "metadata": {
        "tags": [],
        "cell_id": "83142a6c696d47dc9f0249e5ec296947",
        "is_collapsed": false,
        "formattedRanges": [],
        "deepnote_cell_type": "text-cell-h1",
        "id": "RosqFSvmUQTT"
      },
      "source": [
        "# Split dataset"
      ]
    },
    {
      "cell_type": "code",
      "metadata": {
        "tags": [],
        "cell_id": "cbe3f0c78ae345d8a7e0e0b663667b97",
        "source_hash": "909b6e4",
        "execution_start": 1680200320428,
        "execution_millis": 1561,
        "deepnote_to_be_reexecuted": false,
        "deepnote_cell_type": "code",
        "id": "zoue3h4aUQTU",
        "outputId": "d0b0e633-1468-4f0c-eac7-48cdfabc3e1f"
      },
      "source": [
        "from sklearn.model_selection import train_test_split\n",
        "X_train, X_test, y_train, y_test = train_test_split(dataset.Review, dataset.RivewRelevance)\n",
        "list(t[:80] for t in X_train[:10])"
      ],
      "execution_count": null,
      "outputs": [
        {
          "output_type": "execute_result",
          "execution_count": 5,
          "data": {
            "text/plain": "[\"Horrible upgrade. Can't even detect languages proper. Please bring back last yea\",\n 'Me and my friends love it great for gacha tweeting and dance videos :) everythin',\n 'CapCut is amazing and probably better than most free editing apps that don’t put',\n \"I couldn't at all understand why one should use this app.\",\n 'I don,t like it',\n 'App Is Awesome! Only suggestion I’d make is to hold the hotels & properties at a',\n 'I love it so much',\n 'Can you add sports.',\n 'I love the hair 🥰🥰🥰🥰',\n 'In my new telegram update , my music files can not be played and I’m so confused']"
          },
          "metadata": {}
        }
      ]
    },
    {
      "cell_type": "markdown",
      "metadata": {
        "tags": [],
        "cell_id": "cb0fcf0d3f2340738cb1c94562312d77",
        "is_collapsed": false,
        "formattedRanges": [],
        "deepnote_cell_type": "text-cell-h1",
        "id": "LKlueCIoUQTU"
      },
      "source": [
        "# Prepare dataset"
      ]
    },
    {
      "cell_type": "code",
      "metadata": {
        "tags": [],
        "cell_id": "efcabf7a3ba642608d4c8159fb013693",
        "source_hash": "d2355228",
        "execution_start": 1680200322003,
        "execution_millis": 5,
        "deepnote_to_be_reexecuted": false,
        "deepnote_cell_type": "code",
        "id": "uIKez26BUQTU"
      },
      "source": [
        "#dataset pre_processing"
      ],
      "execution_count": null,
      "outputs": []
    },
    {
      "cell_type": "code",
      "metadata": {
        "tags": [],
        "cell_id": "c59a742c20c24709ada6459433b5c052",
        "source_hash": "3e1e7ccd",
        "execution_start": 1680200322003,
        "execution_millis": 5,
        "deepnote_to_be_reexecuted": false,
        "deepnote_cell_type": "code",
        "id": "nVKOMm1sUQTU"
      },
      "source": [
        "# Extracting features from text files (pure extraction)\n",
        "#from sklearn.feature_extraction.text import CountVectorizer\n",
        "#count_vect = CountVectorizer()\n",
        "#X_train_counts = count_vect.fit_transform(X_train)\n",
        "#X_train_counts.shape"
      ],
      "execution_count": null,
      "outputs": []
    },
    {
      "cell_type": "code",
      "metadata": {
        "tags": [],
        "cell_id": "b81ebf099a20467484a5b55433746697",
        "source_hash": "cef74736",
        "execution_start": 1680200322004,
        "execution_millis": 4,
        "deepnote_to_be_reexecuted": false,
        "deepnote_cell_type": "code",
        "id": "7wsxUMTOUQTV"
      },
      "source": [
        "#TF_IDF feauture extraction\n",
        "#from sklearn.feature_extraction.text import TfidfVectorizer\n",
        "#vectorizer = TfidfVectorizer(stop_words=\"english\", max_features=1000, decode_error=\"ignore\")\n",
        "#vectorizer.fit(X_train)\n"
      ],
      "execution_count": null,
      "outputs": []
    },
    {
      "cell_type": "markdown",
      "metadata": {
        "tags": [],
        "cell_id": "da65817e77af4dfc842b31d09e628451",
        "is_collapsed": false,
        "formattedRanges": [],
        "deepnote_cell_type": "text-cell-h1",
        "id": "MCi0vIW9UQTV"
      },
      "source": [
        "# start with the basic classification"
      ]
    },
    {
      "cell_type": "code",
      "metadata": {
        "tags": [],
        "cell_id": "f69e2d8981964629b7def6ba980c06dd",
        "source_hash": "b6f23fbb",
        "execution_start": 1680200322005,
        "execution_millis": 9207,
        "deepnote_to_be_reexecuted": false,
        "deepnote_cell_type": "code",
        "id": "Tk-Ky_o3UQTV",
        "outputId": "40c4dd74-5692-4d88-eb54-8fad777d2392"
      },
      "source": [
        "# import library\n",
        "import re\n",
        "import nltk\n",
        "from bs4 import BeautifulSoup\n",
        "import spacy\n",
        "from sklearn.svm import SVC\n",
        "from sklearn.feature_extraction.text import TfidfTransformer\n",
        "from sklearn.naive_bayes import GaussianNB\n",
        "from sklearn.neighbors import KNeighborsClassifier\n",
        "from sklearn.naive_bayes import MultinomialNB\n",
        "from sklearn.linear_model import LogisticRegression\n",
        "from sklearn.pipeline import Pipeline\n",
        "from sklearn.preprocessing import Normalizer\n",
        "from sklearn import preprocessing\n",
        "from sklearn.feature_extraction.text import TfidfVectorizer, CountVectorizer\n",
        "from sklearn.model_selection import cross_val_score\n",
        "from sklearn.metrics import classification_report, accuracy_score\n",
        "from sklearn import metrics\n",
        "\n"
      ],
      "execution_count": null,
      "outputs": [
        {
          "name": "stderr",
          "text": "/shared-libs/python3.9/py/lib/python3.9/site-packages/tqdm/auto.py:22: TqdmWarning: IProgress not found. Please update jupyter and ipywidgets. See https://ipywidgets.readthedocs.io/en/stable/user_install.html\n  from .autonotebook import tqdm as notebook_tqdm\n2023-03-30 18:18:46.002678: I tensorflow/core/platform/cpu_feature_guard.cc:193] This TensorFlow binary is optimized with oneAPI Deep Neural Network Library (oneDNN) to use the following CPU instructions in performance-critical operations:  AVX2 AVX512F AVX512_VNNI FMA\nTo enable them in other operations, rebuild TensorFlow with the appropriate compiler flags.\n2023-03-30 18:18:46.124248: I tensorflow/core/util/util.cc:169] oneDNN custom operations are on. You may see slightly different numerical results due to floating-point round-off errors from different computation orders. To turn them off, set the environment variable `TF_ENABLE_ONEDNN_OPTS=0`.\n2023-03-30 18:18:46.128629: W tensorflow/stream_executor/platform/default/dso_loader.cc:64] Could not load dynamic library 'libcudart.so.11.0'; dlerror: libcudart.so.11.0: cannot open shared object file: No such file or directory\n2023-03-30 18:18:46.128644: I tensorflow/stream_executor/cuda/cudart_stub.cc:29] Ignore above cudart dlerror if you do not have a GPU set up on your machine.\n2023-03-30 18:18:46.153125: E tensorflow/stream_executor/cuda/cuda_blas.cc:2981] Unable to register cuBLAS factory: Attempting to register factory for plugin cuBLAS when one has already been registered\n2023-03-30 18:18:47.656185: W tensorflow/stream_executor/platform/default/dso_loader.cc:64] Could not load dynamic library 'libnvinfer.so.7'; dlerror: libnvinfer.so.7: cannot open shared object file: No such file or directory\n2023-03-30 18:18:47.656245: W tensorflow/stream_executor/platform/default/dso_loader.cc:64] Could not load dynamic library 'libnvinfer_plugin.so.7'; dlerror: libnvinfer_plugin.so.7: cannot open shared object file: No such file or directory\n2023-03-30 18:18:47.656251: W tensorflow/compiler/tf2tensorrt/utils/py_utils.cc:38] TF-TRT Warning: Cannot dlopen some TensorRT libraries. If you would like to use Nvidia GPU with TensorRT, please make sure the missing libraries mentioned above are installed properly.\n2023-03-30 18:18:49.894100: W tensorflow/stream_executor/platform/default/dso_loader.cc:64] Could not load dynamic library 'libcuda.so.1'; dlerror: libcuda.so.1: cannot open shared object file: No such file or directory\n2023-03-30 18:18:49.894132: W tensorflow/stream_executor/cuda/cuda_driver.cc:263] failed call to cuInit: UNKNOWN ERROR (303)\n2023-03-30 18:18:49.894152: I tensorflow/stream_executor/cuda/cuda_diagnostics.cc:156] kernel driver does not appear to be running on this host (p-378be7ce-053e-4e53-a8d7-d43f011c835b): /proc/driver/nvidia/version does not exist\n",
          "output_type": "stream"
        }
      ]
    },
    {
      "cell_type": "code",
      "metadata": {
        "tags": [],
        "cell_id": "add3392ac97d4e5bbfccd6a01860f252",
        "source_hash": "5a80a385",
        "execution_start": 1680200331211,
        "execution_millis": 41,
        "deepnote_to_be_reexecuted": false,
        "deepnote_cell_type": "code",
        "id": "4ghq0P8gUQTW"
      },
      "source": [
        "\n",
        "from nltk.corpus import stopwords\n"
      ],
      "execution_count": null,
      "outputs": []
    },
    {
      "cell_type": "markdown",
      "metadata": {
        "tags": [],
        "cell_id": "d6aeb0843a784f64b2abde584e9069e1",
        "is_collapsed": false,
        "formattedRanges": [],
        "deepnote_cell_type": "text-cell-h1",
        "id": "AAj_ozpnUQTW"
      },
      "source": [
        "#"
      ]
    },
    {
      "cell_type": "code",
      "metadata": {
        "tags": [],
        "cell_id": "81e3e908b92b4ebd85d4cfafdb97431e",
        "source_hash": "1f346e0e",
        "execution_start": 1680200331251,
        "execution_millis": 901061,
        "deepnote_to_be_reexecuted": false,
        "deepnote_cell_type": "code",
        "id": "BQSLc4sYUQTW",
        "outputId": "6adeb30c-5907-4d03-e04c-fe914810f446"
      },
      "source": [
        "# Stemming Code\n",
        "\n",
        "import nltk\n",
        "nltk.download()\n",
        "\n",
        "from nltk.stem.snowball import SnowballStemmer\n",
        "stemmer = SnowballStemmer(\"english\", ignore_stopwords=True)\n",
        "\n",
        "class StemmedCountVectorizer(CountVectorizer):\n",
        "    def build_analyzer(self):\n",
        "        analyzer = super(StemmedCountVectorizer, self).build_analyzer()\n",
        "        return lambda doc: ([stemmer.stem(w) for w in analyzer(doc)])"
      ],
      "execution_count": null,
      "outputs": [
        {
          "name": "stdout",
          "text": "NLTK Downloader\n---------------------------------------------------------------------------\n    d) Download   l) List    u) Update   c) Config   h) Help   q) Quit\n---------------------------------------------------------------------------\n",
          "output_type": "stream"
        },
        {
          "output_type": "error",
          "ename": "KernelInterrupted",
          "evalue": "Execution interrupted by the Jupyter kernel.",
          "traceback": [
            "\u001b[0;31m---------------------------------------------------------------------------\u001b[0m",
            "\u001b[0;31mKernelInterrupted\u001b[0m: Execution interrupted by the Jupyter kernel."
          ]
        }
      ]
    },
    {
      "cell_type": "code",
      "metadata": {
        "tags": [],
        "cell_id": "960685a8ef9842c18d282fb64a2a5b87",
        "source_hash": "84055030",
        "execution_start": 1679141112449,
        "execution_millis": 1018389385,
        "deepnote_to_be_reexecuted": true,
        "deepnote_cell_type": "code",
        "id": "acWLeni0UQTW"
      },
      "source": [
        "#normlizing text\n",
        "#import numpy as np\n",
        "#from sklearn import preprocessing\n",
        "\n",
        "#norm_dataset = preprocessing.normalize(dataset.data)\n",
        "#scaled_df = pd.DataFrame(norm_dataset, columns=dataset.data.columns)\n",
        "#print(scaled_df)"
      ],
      "execution_count": null,
      "outputs": []
    },
    {
      "cell_type": "markdown",
      "metadata": {
        "tags": [],
        "cell_id": "1026dd2fb5a7423c98b79bf0abbfdded",
        "is_collapsed": false,
        "formattedRanges": [],
        "deepnote_cell_type": "text-cell-h1",
        "id": "nkbT80lSUQTW"
      },
      "source": [
        "# KNN"
      ]
    },
    {
      "cell_type": "code",
      "metadata": {
        "tags": [],
        "cell_id": "136f3a57271046af9bbffa43da2c965d",
        "source_hash": "e2e22b7e",
        "execution_start": 1679058922401,
        "execution_millis": 1100579433,
        "deepnote_to_be_reexecuted": true,
        "deepnote_cell_type": "code",
        "id": "Ptjl_ZG1UQTW"
      },
      "source": [
        "#pure extraction(BOW) without any processing\n",
        "\n",
        "\n",
        "#KNN_3 = Pipeline([('vect', CountVectorizer(max_features=None)), ('clf',  KNeighborsClassifier(n_neighbors=3))])"
      ],
      "execution_count": null,
      "outputs": []
    },
    {
      "cell_type": "code",
      "metadata": {
        "tags": [],
        "cell_id": "0d1cc0ecc2a049358d9cae4338d4aea2",
        "source_hash": "1621890f",
        "execution_start": 1679076240058,
        "execution_millis": 1083261776,
        "deepnote_to_be_reexecuted": true,
        "deepnote_cell_type": "code",
        "id": "is8u1IE3UQTX"
      },
      "source": [
        "#pure extraction with  stopword\n",
        "#stemmed_count_vect = StemmedCountVectorizer(stop_words='english')\n",
        "#KNN_3 = Pipeline([('vect', stemmed_count_vect),('tfidf', TfidfTransformer()),\n",
        "#                    ('clf',  KNeighborsClassifier(n_neighbors=3))])"
      ],
      "execution_count": null,
      "outputs": []
    },
    {
      "cell_type": "code",
      "metadata": {
        "tags": [],
        "cell_id": "a0970239796e45d995784bf78d5a1fc4",
        "source_hash": "4baa6a7f",
        "execution_start": 1679070836796,
        "execution_millis": 1088665039,
        "deepnote_to_be_reexecuted": true,
        "deepnote_cell_type": "code",
        "id": "PtD7ckhlUQTX"
      },
      "source": [
        "#TF_IDF feauter extraction wihout any processing\n",
        "#KNN_3 = Pipeline([('vect', TfidfVectorizer(stop_words='english', max_features=None,decode_error=\"ignore\")),\n",
        "                     ('clf',  KNeighborsClassifier(n_neighbors=3))])"
      ],
      "execution_count": null,
      "outputs": []
    },
    {
      "cell_type": "code",
      "metadata": {
        "tags": [],
        "cell_id": "985fdc7590f5435a9e075c96c41c32ee",
        "source_hash": "50369a59",
        "execution_start": 1679141147029,
        "execution_millis": 1018354817,
        "deepnote_to_be_reexecuted": true,
        "deepnote_cell_type": "code",
        "id": "LR5nein7UQTX"
      },
      "source": [
        "#pure + stop word +TF_IDF transformer without processing\n",
        "#KNN_3 = Pipeline([('vect', CountVectorizer(max_features=None, stop_words='english')), ('tfidf', TfidfTransformer()),\n",
        "#                     ('clf',  KNeighborsClassifier(n_neighbors=3))])"
      ],
      "execution_count": null,
      "outputs": []
    },
    {
      "cell_type": "code",
      "metadata": {
        "tags": [],
        "cell_id": "8d158064d9f549a3b9e94e04f617d72a",
        "source_hash": "8793974",
        "execution_start": 1679141961804,
        "execution_millis": 1017540043,
        "deepnote_to_be_reexecuted": true,
        "deepnote_cell_type": "code",
        "id": "vG2JOCH4UQTX"
      },
      "source": [
        "#pure + stop word +normalization\n",
        "#KNN_3 = Pipeline([('vect', CountVectorizer(max_features=None, stop_words='english')), ('norm', Normalizer()),\n",
        " #                    ('clf',  KNeighborsClassifier(n_neighbors=3))])"
      ],
      "execution_count": null,
      "outputs": []
    },
    {
      "cell_type": "code",
      "metadata": {
        "tags": [],
        "cell_id": "47c23d3d0ef4433db59fd40ed9bb9f52",
        "source_hash": "cff7f106",
        "execution_start": 1679142303867,
        "execution_millis": 1017197980,
        "deepnote_to_be_reexecuted": true,
        "deepnote_cell_type": "code",
        "id": "0upWz_ByUQTX"
      },
      "source": [
        "#pure + stop word +stemming + normalization\n",
        "stemmed_count_vect = StemmedCountVectorizer(stop_words='english')\n",
        "KNN_3 = Pipeline([('vect', stemmed_count_vect), ('norm', Normalizer()),\n",
        "                    ('clf',  KNeighborsClassifier(n_neighbors=3))])"
      ],
      "execution_count": null,
      "outputs": []
    },
    {
      "cell_type": "code",
      "metadata": {
        "tags": [],
        "cell_id": "84d63a4472354b858a8419cf5f2e77c1",
        "source_hash": "42d0efb5",
        "execution_start": 1679072125838,
        "execution_millis": 1087376010,
        "deepnote_to_be_reexecuted": true,
        "deepnote_cell_type": "code",
        "id": "Tp-bOW8XUQTX"
      },
      "source": [
        "#pure + stop word +TF_IDF transformer with stopword\n",
        "\n",
        "#KNN_3 = Pipeline([('vect', CountVectorizer(max_features=None, stop_words='english')), ('tfidf', TfidfTransformer()),\n",
        "#                     ('clf',  KNeighborsClassifier(n_neighbors=3))])"
      ],
      "execution_count": null,
      "outputs": []
    },
    {
      "cell_type": "code",
      "metadata": {
        "tags": [],
        "cell_id": "06474d012e404e969bd01dbde88eebbe",
        "source_hash": "773a4de8",
        "execution_start": 1679142307370,
        "execution_millis": 1017194497,
        "deepnote_to_be_reexecuted": true,
        "deepnote_cell_type": "code",
        "id": "gs79KuqOUQTX"
      },
      "source": [
        "#pure + stop word +stemming + normalization\n",
        "KNN_model = KNN_3\n",
        "KNN_model.fit(X_train, y_train)\n",
        "KNN_pred = KNN_model.predict(X_test)\n",
        "print(accuracy_score(y_test, KNN_pred))\n",
        "print(classification_report(y_test, KNN_pred))"
      ],
      "execution_count": null,
      "outputs": []
    },
    {
      "cell_type": "code",
      "metadata": {
        "tags": [],
        "cell_id": "7030758dd6714d25960558841c6d7f3c",
        "source_hash": "60f2c1b6",
        "execution_start": 1679142355487,
        "execution_millis": 1017146381,
        "deepnote_to_be_reexecuted": true,
        "deepnote_cell_type": "code",
        "id": "dGPGlEbBUQTX"
      },
      "source": [
        "# Making the Confusion Matrix\n",
        "from sklearn.metrics import confusion_matrix\n",
        "cm = confusion_matrix(y_test, KNN_pred)\n",
        "print(cm)"
      ],
      "execution_count": null,
      "outputs": []
    },
    {
      "cell_type": "code",
      "metadata": {
        "tags": [],
        "cell_id": "0c4c0d581490409a8564201fa77d5297",
        "source_hash": "447995d9",
        "execution_start": 1679142351533,
        "execution_millis": 1017150335,
        "deepnote_to_be_reexecuted": true,
        "deepnote_cell_type": "code",
        "id": "EITD1QOfUQTY"
      },
      "source": [
        "print(KNN_model.predict(['Would like to use dark mode, but I’m on iOS 12. Hope soon you will be able to enable dark theme via WhatsApp settings and not the phone settings 😎']))"
      ],
      "execution_count": null,
      "outputs": []
    },
    {
      "cell_type": "markdown",
      "metadata": {
        "tags": [],
        "cell_id": "cf4a28d82ed3405cba1575a6975c91dc",
        "is_collapsed": false,
        "formattedRanges": [],
        "deepnote_cell_type": "text-cell-h1",
        "id": "W3WuVI7eUQTY"
      },
      "source": [
        "# KNN word2vec"
      ]
    },
    {
      "cell_type": "code",
      "metadata": {
        "tags": [],
        "cell_id": "18141699ae58449a8f02fbba28a4f287",
        "source_hash": "4af434fd",
        "execution_start": 1679609009743,
        "execution_millis": 550492132,
        "deepnote_to_be_reexecuted": true,
        "deepnote_cell_type": "code",
        "id": "WuQirK4kUQTY"
      },
      "source": [
        "from scipy.special import logsumexp\n",
        "import gensim\n",
        "from gensim.models import Word2Vec\n",
        "from gensim.models import KeyedVectors"
      ],
      "execution_count": null,
      "outputs": []
    },
    {
      "cell_type": "code",
      "metadata": {
        "tags": [],
        "cell_id": "6aaecbc888d8402eab29997653eb8db5",
        "source_hash": "612163f5",
        "execution_start": 1679609012958,
        "execution_millis": 550488917,
        "deepnote_to_be_reexecuted": true,
        "deepnote_cell_type": "code",
        "id": "IfhAq3B5UQTY"
      },
      "source": [
        "!pip install gensim.downloader"
      ],
      "execution_count": null,
      "outputs": []
    },
    {
      "cell_type": "code",
      "metadata": {
        "tags": [],
        "cell_id": "cbb7121ce71c42a6844f9e756301c279",
        "source_hash": "ec0df9c",
        "execution_start": 1679609016585,
        "execution_millis": 550485290,
        "deepnote_to_be_reexecuted": true,
        "deepnote_cell_type": "code",
        "id": "LUy0w5IsUQTY"
      },
      "source": [
        "import gensim.downloader as api\n",
        "print(list(gensim.downloader.info()['models'].keys()))"
      ],
      "execution_count": null,
      "outputs": []
    },
    {
      "cell_type": "code",
      "metadata": {
        "tags": [],
        "cell_id": "a43d750dd2934f12bfde420972ca1e53",
        "source_hash": "cea08ca6",
        "execution_start": 1679609019938,
        "execution_millis": 550481939,
        "deepnote_to_be_reexecuted": true,
        "deepnote_cell_type": "code",
        "id": "wSR8Nq5xUQTY"
      },
      "source": [
        "wv = api.load('glove-twitter-50')"
      ],
      "execution_count": null,
      "outputs": []
    },
    {
      "cell_type": "code",
      "metadata": {
        "tags": [],
        "cell_id": "0f06539918c04cbbb70bb3773494b62e",
        "source_hash": "a491273c",
        "execution_start": 1679609067486,
        "execution_millis": 550434392,
        "deepnote_to_be_reexecuted": true,
        "deepnote_cell_type": "code",
        "id": "1hr8mCVkUQTY"
      },
      "source": [
        "type(wv)\n"
      ],
      "execution_count": null,
      "outputs": []
    },
    {
      "cell_type": "code",
      "metadata": {
        "tags": [],
        "cell_id": "30f47838edb0411aaf8bdafbf987fd95",
        "source_hash": "9be18b5c",
        "execution_start": 1679609067490,
        "execution_millis": 550434388,
        "deepnote_to_be_reexecuted": true,
        "deepnote_cell_type": "code",
        "id": "hHPNAhrwUQTY"
      },
      "source": [
        "wv = api.load('word2vec-google-news-300')"
      ],
      "execution_count": null,
      "outputs": []
    },
    {
      "cell_type": "code",
      "metadata": {
        "tags": [],
        "cell_id": "4808bacdb9ee42dc9f07923229626011",
        "source_hash": "2a5aa6b7",
        "execution_start": 1679609188433,
        "execution_millis": 550313446,
        "deepnote_to_be_reexecuted": true,
        "deepnote_cell_type": "code",
        "id": "ZMRLgn4wUQTZ"
      },
      "source": [
        "\n",
        "wv.init_sims(replace=True)"
      ],
      "execution_count": null,
      "outputs": []
    },
    {
      "cell_type": "markdown",
      "metadata": {
        "tags": [],
        "cell_id": "b6d03f01479140289c69a50e8b47e200",
        "is_collapsed": false,
        "formattedRanges": [],
        "deepnote_cell_type": "text-cell-p",
        "id": "Wfdoda1VUQTZ"
      },
      "source": [
        "BOW based approaches that includes averaging, summation, weighted addition. The common way is to average the two word vectors. Therefore, we will follow the most common way."
      ]
    },
    {
      "cell_type": "code",
      "metadata": {
        "tags": [],
        "cell_id": "7e05aadae79d4b968b666b3bc6866794",
        "source_hash": "524ca162",
        "execution_start": 1679609189772,
        "execution_millis": 550312107,
        "deepnote_to_be_reexecuted": true,
        "deepnote_cell_type": "code",
        "id": "VvKtnrSZUQTZ"
      },
      "source": [
        "import nltk\n",
        "nltk.download('stopwords')"
      ],
      "execution_count": null,
      "outputs": []
    },
    {
      "cell_type": "code",
      "metadata": {
        "tags": [],
        "cell_id": "1abc603c3394448ba298a315195bba60",
        "source_hash": "df2a01ea",
        "execution_start": 1679609189834,
        "execution_millis": 550312052,
        "deepnote_to_be_reexecuted": true,
        "deepnote_cell_type": "code",
        "id": "KR82JUJ6UQTZ"
      },
      "source": [
        "def word_averaging(wv, words):\n",
        "    all_words, mean = set(), []\n",
        "\n",
        "    for word in words:\n",
        "        if isinstance(word, np.ndarray):\n",
        "            mean.append(word)\n",
        "        elif word in wv.vocab:\n",
        "            mean.append(wv.syn0norm[wv.vocab[word].index])\n",
        "            all_words.add(wv.vocab[word].index)\n",
        "\n",
        "    if not mean:\n",
        "        logging.warning(\"cannot compute similarity with no input %s\", words)\n",
        "        # FIXME: remove these examples in pre-processing\n",
        "        return np.zeros(wv.vector_size,)\n",
        "\n",
        "    mean = gensim.matutils.unitvec(np.array(mean).mean(axis=0)).astype(np.float32)\n",
        "    return mean\n",
        "\n",
        "def  word_averaging_list(wv, text_list):\n",
        "    return np.vstack([word_averaging(wv, Review) for Review in text_list ])"
      ],
      "execution_count": null,
      "outputs": []
    },
    {
      "cell_type": "code",
      "metadata": {
        "tags": [],
        "cell_id": "4e83711dffc84bc8ba5c126496927c59",
        "source_hash": "ccd17a13",
        "execution_start": 1679609189837,
        "execution_millis": 550312049,
        "deepnote_to_be_reexecuted": true,
        "deepnote_cell_type": "code",
        "id": "XnP2aE8VUQTZ"
      },
      "source": [
        "nltk.download('punkt')\n"
      ],
      "execution_count": null,
      "outputs": []
    },
    {
      "cell_type": "code",
      "metadata": {
        "tags": [],
        "cell_id": "b8f695ef9aa948429f989c4b163819d2",
        "source_hash": "daedeca8",
        "execution_start": 1679609189874,
        "execution_millis": 550312012,
        "deepnote_to_be_reexecuted": true,
        "deepnote_cell_type": "code",
        "id": "9fwgX2RuUQTZ"
      },
      "source": [
        "def sent_vec(sent):\n",
        "    vector_size = wv.vector_size\n",
        "    wv_res = np.zeros(vector_size)\n",
        "    # print(wv_res)\n",
        "    ctr = 1\n",
        "    for w in sent:\n",
        "        if w in wv:\n",
        "            ctr += 1\n",
        "            wv_res += wv[w]\n",
        "    wv_res = wv_res/ctr\n",
        "    return wv_res"
      ],
      "execution_count": null,
      "outputs": []
    },
    {
      "cell_type": "code",
      "metadata": {
        "tags": [],
        "cell_id": "62f20654525d4016a8c003faf8af72ad",
        "source_hash": "1f22fa75",
        "execution_start": 1679609189875,
        "execution_millis": 550312011,
        "deepnote_to_be_reexecuted": true,
        "deepnote_cell_type": "code",
        "id": "moaa71zNUQTZ"
      },
      "source": [
        "# Creating our tokenizer function\n",
        "def spacy_tokenizer(sentence):\n",
        "    # Creating our token object, which is used to create documents with linguistic annotations.\n",
        "    doc = nlp(sentence)\n",
        "\n",
        "    # print(doc)\n",
        "    # print(type(doc))\n",
        "\n",
        "    # Lemmatizing each token and converting each token into lowercase\n",
        "    mytokens = [ word.lemma_.lower().strip() for word in doc ]\n",
        "\n",
        "    # print(mytokens)\n",
        "\n",
        "    # Removing stop words\n",
        "    mytokens = [ word for word in mytokens if word not in stop_words and word not in punctuations ]\n",
        "\n",
        "    # return preprocessed list of tokens\n",
        "    return mytokens"
      ],
      "execution_count": null,
      "outputs": []
    },
    {
      "cell_type": "code",
      "metadata": {
        "tags": [],
        "cell_id": "46c4f99e2bd245f5b563dd19f0534d6c",
        "source_hash": "99d8823b",
        "execution_start": 1679609189876,
        "execution_millis": 550312011,
        "deepnote_to_be_reexecuted": true,
        "deepnote_cell_type": "code",
        "id": "ZNRv1qGqUQTZ"
      },
      "source": [
        "sent_vec(\"I am happy\")\n"
      ],
      "execution_count": null,
      "outputs": []
    },
    {
      "cell_type": "code",
      "metadata": {
        "tags": [],
        "cell_id": "2714957891ec4cff9dd2ef093543ebd2",
        "source_hash": "33b30926",
        "execution_start": 1679609189879,
        "execution_millis": 550312014,
        "deepnote_to_be_reexecuted": true,
        "deepnote_cell_type": "code",
        "id": "1ZBEZf2ZUQTZ"
      },
      "source": [
        "!pip install spacy -q\n",
        "!python -m spacy download en_core_web_sm -q"
      ],
      "execution_count": null,
      "outputs": []
    },
    {
      "cell_type": "code",
      "metadata": {
        "tags": [],
        "cell_id": "a78a4b193f01464799fd501c22a1bdd4",
        "source_hash": "e9be4d5",
        "execution_start": 1679609206715,
        "execution_millis": 550295178,
        "deepnote_to_be_reexecuted": true,
        "deepnote_cell_type": "code",
        "id": "RG5IbJ_wUQTZ"
      },
      "source": [
        "import en_core_web_sm\n",
        "nlp = en_core_web_sm.load()\n",
        "nlp = spacy.load(\"en_core_web_sm\")\n",
        "stop_words = nlp.Defaults.stop_words\n",
        "print(stop_words)"
      ],
      "execution_count": null,
      "outputs": []
    },
    {
      "cell_type": "code",
      "metadata": {
        "tags": [],
        "cell_id": "21bc57ab7e8c4c0987fa090ce75d97f0",
        "source_hash": "f6a7e8cb",
        "execution_start": 1679609207672,
        "execution_millis": 550294222,
        "deepnote_to_be_reexecuted": true,
        "deepnote_cell_type": "code",
        "id": "J3u3q80oUQTZ"
      },
      "source": [
        "import string\n",
        "\n",
        "punctuations = string.punctuation\n",
        "print(punctuations)"
      ],
      "execution_count": null,
      "outputs": []
    },
    {
      "cell_type": "code",
      "metadata": {
        "tags": [],
        "cell_id": "6e0253ffd6d14f49baaf0f41ddd93619",
        "source_hash": "c9d6de34",
        "execution_start": 1679609207676,
        "execution_millis": 550294218,
        "deepnote_to_be_reexecuted": true,
        "deepnote_cell_type": "code",
        "id": "l3exHiJzUQTa"
      },
      "source": [
        "dataset['tokens'] = dataset['Review'].apply(spacy_tokenizer)"
      ],
      "execution_count": null,
      "outputs": []
    },
    {
      "cell_type": "code",
      "metadata": {
        "tags": [],
        "cell_id": "b6e403274fca409a97fa2c07677d65b3",
        "source_hash": "aee5c0ea",
        "execution_start": 1679609696247,
        "execution_millis": 549805648,
        "deepnote_to_be_reexecuted": true,
        "deepnote_cell_type": "code",
        "id": "Uq4muvOEUQTa"
      },
      "source": [
        "dataset.head()\n"
      ],
      "execution_count": null,
      "outputs": []
    },
    {
      "cell_type": "code",
      "metadata": {
        "tags": [],
        "cell_id": "3d0d760be58249a39b304d6322669f13",
        "source_hash": "2e63bf25",
        "execution_start": 1679609696248,
        "execution_millis": 549805656,
        "deepnote_to_be_reexecuted": true,
        "deepnote_cell_type": "code",
        "id": "AeuNjRlmUQTa"
      },
      "source": [
        "dataset['vec'] = dataset['tokens'].apply(sent_vec)"
      ],
      "execution_count": null,
      "outputs": []
    },
    {
      "cell_type": "code",
      "metadata": {
        "tags": [],
        "cell_id": "5e439df3fe4a402bb5819c561f205e43",
        "source_hash": "cb41665f",
        "execution_start": 1679609698481,
        "execution_millis": 549803424,
        "deepnote_to_be_reexecuted": true,
        "deepnote_cell_type": "code",
        "id": "jnxCF7DDUQTa"
      },
      "source": [
        "X = dataset['vec'].to_list()\n",
        "y = dataset['RivewRelevance'].to_list()"
      ],
      "execution_count": null,
      "outputs": []
    },
    {
      "cell_type": "code",
      "metadata": {
        "tags": [],
        "cell_id": "04a1c630a16d415fbe979104c8c8fe72",
        "source_hash": "f3a00d0b",
        "execution_start": 1679354456895,
        "execution_millis": 805045010,
        "deepnote_to_be_reexecuted": true,
        "deepnote_cell_type": "code",
        "id": "C3FPMEgPUQTa"
      },
      "source": [
        "X[0]"
      ],
      "execution_count": null,
      "outputs": []
    },
    {
      "cell_type": "code",
      "metadata": {
        "tags": [],
        "cell_id": "4de95844c989472eb21249cbe0fcce7d",
        "source_hash": "c619548",
        "execution_start": 1679609698485,
        "execution_millis": 549803421,
        "deepnote_to_be_reexecuted": true,
        "deepnote_cell_type": "code",
        "id": "ervNqI_oUQTa"
      },
      "source": [
        "from sklearn.model_selection import train_test_split\n",
        "X_train, X_test, y_train, y_test = train_test_split(X, y)\n",
        "list(t[:80] for t in X_train[:10])"
      ],
      "execution_count": null,
      "outputs": []
    },
    {
      "cell_type": "code",
      "metadata": {
        "tags": [],
        "cell_id": "46910fec6fd34700adf2eca71f215c8a",
        "source_hash": "de9ad34a",
        "execution_start": 1679609698517,
        "execution_millis": 549803389,
        "deepnote_to_be_reexecuted": true,
        "deepnote_cell_type": "code",
        "id": "vkLlOQMsUQTa"
      },
      "source": [
        "clasW2V=  SVC(kernel=\"linear\")\n"
      ],
      "execution_count": null,
      "outputs": []
    },
    {
      "cell_type": "code",
      "metadata": {
        "tags": [],
        "cell_id": "39c41b61e2274f318e2ae36c8b0d9f97",
        "source_hash": "52473935",
        "execution_start": 1679609698520,
        "execution_millis": 549803386,
        "deepnote_to_be_reexecuted": true,
        "deepnote_cell_type": "code",
        "id": "wGh4CG1gUQTa"
      },
      "source": [
        "#SVM with word2vect embedded\n",
        "SVM_model = clasW2V\n",
        "SVM_model.fit(X_train, y_train)\n",
        "SVM_pred = SVM_model.predict(X_test)\n",
        "print(accuracy_score(y_test, SVM_pred))\n",
        "print(classification_report(y_test, SVM_pred))"
      ],
      "execution_count": null,
      "outputs": []
    },
    {
      "cell_type": "code",
      "metadata": {
        "tags": [],
        "cell_id": "7c78ef79bc93497fb8de265e3b286dcc",
        "source_hash": "a56f2bda",
        "execution_start": 1679610073906,
        "execution_millis": 549428039,
        "deepnote_to_be_reexecuted": true,
        "deepnote_cell_type": "code",
        "id": "7rHI1ifHUQTa"
      },
      "source": [
        "# Making the Confusion Matrix\n",
        "from sklearn.metrics import confusion_matrix\n",
        "cm = confusion_matrix(y_test, SVM_pred)\n",
        "print(cm)"
      ],
      "execution_count": null,
      "outputs": []
    },
    {
      "cell_type": "markdown",
      "source": [
        "<a style='text-decoration:none;line-height:16px;display:flex;color:#5B5B62;padding:10px;justify-content:end;' href='https://deepnote.com?utm_source=created-in-deepnote-cell&projectId=378be7ce-053e-4e53-a8d7-d43f011c835b' target=\"_blank\">\n",
        "<img alt='Created in deepnote.com' style='display:inline;max-height:16px;margin:0px;margin-right:7.5px;' src='data:image/svg+xml;base64,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' > </img>\n",
        "Created in <span style='font-weight:600;margin-left:4px;'>Deepnote</span></a>"
      ],
      "metadata": {
        "created_in_deepnote_cell": true,
        "deepnote_cell_type": "markdown",
        "id": "1qYoFkMgUQTb"
      }
    }
  ],
  "nbformat": 4,
  "nbformat_minor": 0,
  "metadata": {
    "deepnote_notebook_id": "a61c12e7c800430e902dd3df270abda1",
    "deepnote_execution_queue": [],
    "colab": {
      "provenance": [],
      "include_colab_link": true
    }
  }
}
