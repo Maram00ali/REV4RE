{
  "cells": [
    {
      "cell_type": "markdown",
      "metadata": {
        "id": "view-in-github",
        "colab_type": "text"
      },
      "source": [
        "<a href=\"https://colab.research.google.com/github/Maram00ali/REV4RE/blob/main/CNN_Models.ipynb\" target=\"_parent\"><img src=\"https://colab.research.google.com/assets/colab-badge.svg\" alt=\"Open In Colab\"/></a>"
      ]
    },
    {
      "cell_type": "code",
      "source": [
        "!pip install contractions\n",
        "!pip install textsearch\n",
        "!pip install tqdm\n",
        "import nltk\n",
        "nltk.download('punkt')"
      ],
      "metadata": {
        "id": "iayiP3GZrjjk",
        "colab": {
          "base_uri": "https://localhost:8080/"
        },
        "cell_id": "424ff23ed11a4e6ab1cd4588018c58a4",
        "outputId": "54af1919-e940-4366-c949-64a5d6bd877e",
        "source_hash": "f6bbfa4a",
        "execution_start": 1682527065998,
        "execution_millis": 8496,
        "deepnote_to_be_reexecuted": false,
        "deepnote_cell_type": "code"
      },
      "outputs": [
        {
          "output_type": "stream",
          "name": "stdout",
          "text": [
            "Looking in indexes: https://pypi.org/simple, https://us-python.pkg.dev/colab-wheels/public/simple/\n",
            "Collecting contractions\n",
            "  Downloading contractions-0.1.73-py2.py3-none-any.whl (8.7 kB)\n",
            "Collecting textsearch>=0.0.21\n",
            "  Downloading textsearch-0.0.24-py2.py3-none-any.whl (7.6 kB)\n",
            "Collecting anyascii\n",
            "  Downloading anyascii-0.3.2-py3-none-any.whl (289 kB)\n",
            "\u001b[2K     \u001b[90m━━━━━━━━━━━━━━━━━━━━━━━━━━━━━━━━━━━━━━━\u001b[0m \u001b[32m289.9/289.9 kB\u001b[0m \u001b[31m6.6 MB/s\u001b[0m eta \u001b[36m0:00:00\u001b[0m\n",
            "\u001b[?25hCollecting pyahocorasick\n",
            "  Downloading pyahocorasick-2.0.0-cp39-cp39-manylinux_2_5_x86_64.manylinux1_x86_64.whl (103 kB)\n",
            "\u001b[2K     \u001b[90m━━━━━━━━━━━━━━━━━━━━━━━━━━━━━━━━━━━━━━\u001b[0m \u001b[32m103.2/103.2 kB\u001b[0m \u001b[31m13.4 MB/s\u001b[0m eta \u001b[36m0:00:00\u001b[0m\n",
            "\u001b[?25hInstalling collected packages: pyahocorasick, anyascii, textsearch, contractions\n",
            "Successfully installed anyascii-0.3.2 contractions-0.1.73 pyahocorasick-2.0.0 textsearch-0.0.24\n",
            "Looking in indexes: https://pypi.org/simple, https://us-python.pkg.dev/colab-wheels/public/simple/\n",
            "Requirement already satisfied: textsearch in /usr/local/lib/python3.9/dist-packages (0.0.24)\n",
            "Requirement already satisfied: anyascii in /usr/local/lib/python3.9/dist-packages (from textsearch) (0.3.2)\n",
            "Requirement already satisfied: pyahocorasick in /usr/local/lib/python3.9/dist-packages (from textsearch) (2.0.0)\n",
            "Looking in indexes: https://pypi.org/simple, https://us-python.pkg.dev/colab-wheels/public/simple/\n",
            "Requirement already satisfied: tqdm in /usr/local/lib/python3.9/dist-packages (4.65.0)\n"
          ]
        },
        {
          "output_type": "stream",
          "name": "stderr",
          "text": [
            "[nltk_data] Downloading package punkt to /root/nltk_data...\n",
            "[nltk_data]   Unzipping tokenizers/punkt.zip.\n"
          ]
        },
        {
          "output_type": "execute_result",
          "data": {
            "text/plain": [
              "True"
            ]
          },
          "metadata": {},
          "execution_count": 1
        }
      ],
      "execution_count": null
    },
    {
      "cell_type": "code",
      "source": [
        "import pandas as pd\n",
        "import numpy as np\n",
        "from tensorflow.keras.models import Sequential\n",
        "from tensorflow.keras.layers import Dense\n",
        "from tensorflow.keras.layers import Flatten\n",
        "from tensorflow.keras.layers import Conv1D\n",
        "from tensorflow.keras.layers import MaxPooling1D\n",
        "from tensorflow.keras.layers import Embedding\n",
        "from tensorflow.keras.preprocessing.text import Tokenizer\n",
        "from tensorflow.keras.preprocessing import sequence\n",
        "from sklearn.preprocessing import LabelEncoder\n",
        "\n",
        "# fix random seed for reproducibility\n",
        "seed = 42\n",
        "np.random.seed(seed)"
      ],
      "metadata": {
        "id": "Gbnh0egkUzRX",
        "cell_id": "4c5c767bebf74c879d8c79cd2ff605d2",
        "source_hash": "8a480a5",
        "execution_start": 1682527101537,
        "execution_millis": 2353,
        "deepnote_to_be_reexecuted": false,
        "deepnote_cell_type": "code"
      },
      "outputs": [],
      "execution_count": null
    },
    {
      "cell_type": "markdown",
      "source": [
        "## Load Movie Review Dataset"
      ],
      "metadata": {
        "id": "8_JEXODppxTc",
        "cell_id": "9a8e96a2d7924b50afd479d8c81dc29f",
        "deepnote_cell_type": "markdown"
      }
    },
    {
      "cell_type": "code",
      "source": [
        "dataset = pd.read_csv('dataset path')\n",
        "dataset.info()"
      ],
      "metadata": {
        "id": "U7pQ5WR1VYqm",
        "colab": {
          "base_uri": "https://localhost:8080/"
        },
        "cell_id": "6a50187f17f444acb39ed1cc256752af",
        "outputId": "9fa41772-197c-406b-9d44-1ed9cc1343db",
        "source_hash": "dad2e2f1",
        "execution_start": 1682527106716,
        "execution_millis": 429,
        "deepnote_to_be_reexecuted": false,
        "deepnote_cell_type": "code"
      },
      "outputs": [
        {
          "output_type": "stream",
          "name": "stdout",
          "text": [
            "<class 'pandas.core.frame.DataFrame'>\n",
            "RangeIndex: 84932 entries, 0 to 84931\n",
            "Data columns (total 2 columns):\n",
            " #   Column          Non-Null Count  Dtype \n",
            "---  ------          --------------  ----- \n",
            " 0   Review          84932 non-null  object\n",
            " 1   RivewRelevance  84932 non-null  int64 \n",
            "dtypes: int64(1), object(1)\n",
            "memory usage: 1.3+ MB\n"
          ]
        }
      ],
      "execution_count": null
    },
    {
      "cell_type": "code",
      "source": [
        "# take a peek at the data\n",
        "dataset.head()"
      ],
      "metadata": {
        "id": "XMP7r5cUV6-B",
        "colab": {
          "height": 206,
          "base_uri": "https://localhost:8080/"
        },
        "cell_id": "fed379785c494e01b8f56aa34a63a051",
        "outputId": "91b733e5-7783-47bb-c6a4-635af5584e8f",
        "source_hash": "8b919f3c",
        "execution_start": 1682527107148,
        "execution_millis": 620,
        "deepnote_to_be_reexecuted": false,
        "deepnote_cell_type": "code"
      },
      "outputs": [
        {
          "output_type": "execute_result",
          "data": {
            "text/plain": [
              "                                              Review  RivewRelevance\n",
              "0                                    5 star good app               1\n",
              "1                A monthly subscription fee. Really?               1\n",
              "2  Able to customize and decorate a ton of things...               1\n",
              "3           All I can say is this game is the best!!               1\n",
              "4  Although not the best, it better for own creat...               1"
            ],
            "text/html": [
              "\n",
              "  <div id=\"df-d59b54de-e756-44d0-81a9-0e0ee8f77918\">\n",
              "    <div class=\"colab-df-container\">\n",
              "      <div>\n",
              "<style scoped>\n",
              "    .dataframe tbody tr th:only-of-type {\n",
              "        vertical-align: middle;\n",
              "    }\n",
              "\n",
              "    .dataframe tbody tr th {\n",
              "        vertical-align: top;\n",
              "    }\n",
              "\n",
              "    .dataframe thead th {\n",
              "        text-align: right;\n",
              "    }\n",
              "</style>\n",
              "<table border=\"1\" class=\"dataframe\">\n",
              "  <thead>\n",
              "    <tr style=\"text-align: right;\">\n",
              "      <th></th>\n",
              "      <th>Review</th>\n",
              "      <th>RivewRelevance</th>\n",
              "    </tr>\n",
              "  </thead>\n",
              "  <tbody>\n",
              "    <tr>\n",
              "      <th>0</th>\n",
              "      <td>5 star good app</td>\n",
              "      <td>1</td>\n",
              "    </tr>\n",
              "    <tr>\n",
              "      <th>1</th>\n",
              "      <td>A monthly subscription fee. Really?</td>\n",
              "      <td>1</td>\n",
              "    </tr>\n",
              "    <tr>\n",
              "      <th>2</th>\n",
              "      <td>Able to customize and decorate a ton of things...</td>\n",
              "      <td>1</td>\n",
              "    </tr>\n",
              "    <tr>\n",
              "      <th>3</th>\n",
              "      <td>All I can say is this game is the best!!</td>\n",
              "      <td>1</td>\n",
              "    </tr>\n",
              "    <tr>\n",
              "      <th>4</th>\n",
              "      <td>Although not the best, it better for own creat...</td>\n",
              "      <td>1</td>\n",
              "    </tr>\n",
              "  </tbody>\n",
              "</table>\n",
              "</div>\n",
              "      <button class=\"colab-df-convert\" onclick=\"convertToInteractive('df-d59b54de-e756-44d0-81a9-0e0ee8f77918')\"\n",
              "              title=\"Convert this dataframe to an interactive table.\"\n",
              "              style=\"display:none;\">\n",
              "        \n",
              "  <svg xmlns=\"http://www.w3.org/2000/svg\" height=\"24px\"viewBox=\"0 0 24 24\"\n",
              "       width=\"24px\">\n",
              "    <path d=\"M0 0h24v24H0V0z\" fill=\"none\"/>\n",
              "    <path d=\"M18.56 5.44l.94 2.06.94-2.06 2.06-.94-2.06-.94-.94-2.06-.94 2.06-2.06.94zm-11 1L8.5 8.5l.94-2.06 2.06-.94-2.06-.94L8.5 2.5l-.94 2.06-2.06.94zm10 10l.94 2.06.94-2.06 2.06-.94-2.06-.94-.94-2.06-.94 2.06-2.06.94z\"/><path d=\"M17.41 7.96l-1.37-1.37c-.4-.4-.92-.59-1.43-.59-.52 0-1.04.2-1.43.59L10.3 9.45l-7.72 7.72c-.78.78-.78 2.05 0 2.83L4 21.41c.39.39.9.59 1.41.59.51 0 1.02-.2 1.41-.59l7.78-7.78 2.81-2.81c.8-.78.8-2.07 0-2.86zM5.41 20L4 18.59l7.72-7.72 1.47 1.35L5.41 20z\"/>\n",
              "  </svg>\n",
              "      </button>\n",
              "      \n",
              "  <style>\n",
              "    .colab-df-container {\n",
              "      display:flex;\n",
              "      flex-wrap:wrap;\n",
              "      gap: 12px;\n",
              "    }\n",
              "\n",
              "    .colab-df-convert {\n",
              "      background-color: #E8F0FE;\n",
              "      border: none;\n",
              "      border-radius: 50%;\n",
              "      cursor: pointer;\n",
              "      display: none;\n",
              "      fill: #1967D2;\n",
              "      height: 32px;\n",
              "      padding: 0 0 0 0;\n",
              "      width: 32px;\n",
              "    }\n",
              "\n",
              "    .colab-df-convert:hover {\n",
              "      background-color: #E2EBFA;\n",
              "      box-shadow: 0px 1px 2px rgba(60, 64, 67, 0.3), 0px 1px 3px 1px rgba(60, 64, 67, 0.15);\n",
              "      fill: #174EA6;\n",
              "    }\n",
              "\n",
              "    [theme=dark] .colab-df-convert {\n",
              "      background-color: #3B4455;\n",
              "      fill: #D2E3FC;\n",
              "    }\n",
              "\n",
              "    [theme=dark] .colab-df-convert:hover {\n",
              "      background-color: #434B5C;\n",
              "      box-shadow: 0px 1px 3px 1px rgba(0, 0, 0, 0.15);\n",
              "      filter: drop-shadow(0px 1px 2px rgba(0, 0, 0, 0.3));\n",
              "      fill: #FFFFFF;\n",
              "    }\n",
              "  </style>\n",
              "\n",
              "      <script>\n",
              "        const buttonEl =\n",
              "          document.querySelector('#df-d59b54de-e756-44d0-81a9-0e0ee8f77918 button.colab-df-convert');\n",
              "        buttonEl.style.display =\n",
              "          google.colab.kernel.accessAllowed ? 'block' : 'none';\n",
              "\n",
              "        async function convertToInteractive(key) {\n",
              "          const element = document.querySelector('#df-d59b54de-e756-44d0-81a9-0e0ee8f77918');\n",
              "          const dataTable =\n",
              "            await google.colab.kernel.invokeFunction('convertToInteractive',\n",
              "                                                     [key], {});\n",
              "          if (!dataTable) return;\n",
              "\n",
              "          const docLinkHtml = 'Like what you see? Visit the ' +\n",
              "            '<a target=\"_blank\" href=https://colab.research.google.com/notebooks/data_table.ipynb>data table notebook</a>'\n",
              "            + ' to learn more about interactive tables.';\n",
              "          element.innerHTML = '';\n",
              "          dataTable['output_type'] = 'display_data';\n",
              "          await google.colab.output.renderOutput(dataTable, element);\n",
              "          const docLink = document.createElement('div');\n",
              "          docLink.innerHTML = docLinkHtml;\n",
              "          element.appendChild(docLink);\n",
              "        }\n",
              "      </script>\n",
              "    </div>\n",
              "  </div>\n",
              "  "
            ]
          },
          "metadata": {},
          "execution_count": 4
        }
      ],
      "execution_count": null
    },
    {
      "cell_type": "markdown",
      "source": [
        "### Prepare Train Test Split"
      ],
      "metadata": {
        "id": "-qBM4Od_pxTp",
        "cell_id": "cab0193d05c2480d8c5325672f81cac2",
        "deepnote_cell_type": "markdown"
      }
    },
    {
      "cell_type": "code",
      "source": [
        "# Importing NLTK Libraries\n",
        "import nltk\n",
        "from nltk.corpus import stopwords\n",
        "from nltk import *"
      ],
      "metadata": {
        "cell_id": "debec2e66f264c8f833f6d429a3e2059",
        "source_hash": "a1a27c08",
        "execution_start": 1682527107703,
        "execution_millis": 66,
        "deepnote_to_be_reexecuted": false,
        "deepnote_cell_type": "code",
        "id": "sFQPq3JC5ZGW"
      },
      "outputs": [],
      "execution_count": null
    },
    {
      "cell_type": "code",
      "source": [
        "def preprocess_text(main_df):\n",
        "  df_1 = main_df.copy()\n",
        "\n",
        "  # remove stopwords\n",
        "  nltk.download('stopwords')         # Downloading stopwords\n",
        "  stop = stopwords.words('english')\n",
        "  df_1['Review'] = df_1['Review'].apply(lambda x: \" \".join(x for x in x.split() if x not in stop))\n",
        "\n",
        "  # remove punctuations and convert to lower case\n",
        "  #df_1['Review'] = df_1['Review'].apply(lambda x: re.sub('[!@#$:).;,?&]', '', x.lower()))\n",
        "\n",
        "  # remove double spaces\n",
        "  #df_1['Review'] = df_1['Review'].apply(lambda x: re.sub(' ', ' ', x))\n",
        "\n",
        "  return df_1"
      ],
      "metadata": {
        "cell_id": "26299bdf38f645aaaa491bc12a7f03c9",
        "source_hash": "a2576a0e",
        "execution_start": 1682527107707,
        "execution_millis": 63,
        "deepnote_to_be_reexecuted": false,
        "deepnote_cell_type": "code",
        "id": "7JZFh-ie5ZGW"
      },
      "outputs": [],
      "execution_count": null
    },
    {
      "cell_type": "code",
      "source": [
        "dataset = preprocess_text(dataset)"
      ],
      "metadata": {
        "cell_id": "899403a4f19147e2a3d6657baaa348b5",
        "source_hash": "73b63a99",
        "execution_start": 1682527107712,
        "execution_millis": 3067,
        "deepnote_to_be_reexecuted": false,
        "deepnote_cell_type": "code",
        "colab": {
          "base_uri": "https://localhost:8080/"
        },
        "id": "FwlImSME5ZGX",
        "outputId": "f1c2a56e-8388-4783-fd30-81bae83be6be"
      },
      "outputs": [
        {
          "output_type": "stream",
          "name": "stderr",
          "text": [
            "[nltk_data] Downloading package stopwords to /root/nltk_data...\n",
            "[nltk_data]   Unzipping corpora/stopwords.zip.\n"
          ]
        }
      ],
      "execution_count": null
    },
    {
      "cell_type": "code",
      "source": [
        "dataset"
      ],
      "metadata": {
        "cell_id": "3dccc7fae151466fac1436c730788c91",
        "source_hash": "10724ecb",
        "execution_start": 1682527110779,
        "execution_millis": 94,
        "deepnote_to_be_reexecuted": false,
        "deepnote_cell_type": "code",
        "colab": {
          "base_uri": "https://localhost:8080/",
          "height": 424
        },
        "id": "qOvQn9Ur5ZGX",
        "outputId": "a1491cf8-aa8a-44b1-ef0c-c2a32d46a0cd"
      },
      "outputs": [
        {
          "output_type": "execute_result",
          "data": {
            "text/plain": [
              "                                                  Review  RivewRelevance\n",
              "0                                        5 star good app               1\n",
              "1                    A monthly subscription fee. Really?               1\n",
              "2      Able customize decorate ton things even free! ...               1\n",
              "3                                  All I say game best!!               1\n",
              "4                       Although best, better creatives.               1\n",
              "...                                                  ...             ...\n",
              "84927  Your app sucks.Im deleting it.I know I'm getti...               1\n",
              "84928  Your app wait along process downloads west dat...               1\n",
              "84929  Your customer service unresponsive. I email go...               1\n",
              "84930  Your new desktop version sucks. I save send in...               1\n",
              "84931  Your product so, useful practical. Thank you. ...               1\n",
              "\n",
              "[84932 rows x 2 columns]"
            ],
            "text/html": [
              "\n",
              "  <div id=\"df-64c8f7da-ac0d-45a3-9861-c7d5f05f9c2c\">\n",
              "    <div class=\"colab-df-container\">\n",
              "      <div>\n",
              "<style scoped>\n",
              "    .dataframe tbody tr th:only-of-type {\n",
              "        vertical-align: middle;\n",
              "    }\n",
              "\n",
              "    .dataframe tbody tr th {\n",
              "        vertical-align: top;\n",
              "    }\n",
              "\n",
              "    .dataframe thead th {\n",
              "        text-align: right;\n",
              "    }\n",
              "</style>\n",
              "<table border=\"1\" class=\"dataframe\">\n",
              "  <thead>\n",
              "    <tr style=\"text-align: right;\">\n",
              "      <th></th>\n",
              "      <th>Review</th>\n",
              "      <th>RivewRelevance</th>\n",
              "    </tr>\n",
              "  </thead>\n",
              "  <tbody>\n",
              "    <tr>\n",
              "      <th>0</th>\n",
              "      <td>5 star good app</td>\n",
              "      <td>1</td>\n",
              "    </tr>\n",
              "    <tr>\n",
              "      <th>1</th>\n",
              "      <td>A monthly subscription fee. Really?</td>\n",
              "      <td>1</td>\n",
              "    </tr>\n",
              "    <tr>\n",
              "      <th>2</th>\n",
              "      <td>Able customize decorate ton things even free! ...</td>\n",
              "      <td>1</td>\n",
              "    </tr>\n",
              "    <tr>\n",
              "      <th>3</th>\n",
              "      <td>All I say game best!!</td>\n",
              "      <td>1</td>\n",
              "    </tr>\n",
              "    <tr>\n",
              "      <th>4</th>\n",
              "      <td>Although best, better creatives.</td>\n",
              "      <td>1</td>\n",
              "    </tr>\n",
              "    <tr>\n",
              "      <th>...</th>\n",
              "      <td>...</td>\n",
              "      <td>...</td>\n",
              "    </tr>\n",
              "    <tr>\n",
              "      <th>84927</th>\n",
              "      <td>Your app sucks.Im deleting it.I know I'm getti...</td>\n",
              "      <td>1</td>\n",
              "    </tr>\n",
              "    <tr>\n",
              "      <th>84928</th>\n",
              "      <td>Your app wait along process downloads west dat...</td>\n",
              "      <td>1</td>\n",
              "    </tr>\n",
              "    <tr>\n",
              "      <th>84929</th>\n",
              "      <td>Your customer service unresponsive. I email go...</td>\n",
              "      <td>1</td>\n",
              "    </tr>\n",
              "    <tr>\n",
              "      <th>84930</th>\n",
              "      <td>Your new desktop version sucks. I save send in...</td>\n",
              "      <td>1</td>\n",
              "    </tr>\n",
              "    <tr>\n",
              "      <th>84931</th>\n",
              "      <td>Your product so, useful practical. Thank you. ...</td>\n",
              "      <td>1</td>\n",
              "    </tr>\n",
              "  </tbody>\n",
              "</table>\n",
              "<p>84932 rows × 2 columns</p>\n",
              "</div>\n",
              "      <button class=\"colab-df-convert\" onclick=\"convertToInteractive('df-64c8f7da-ac0d-45a3-9861-c7d5f05f9c2c')\"\n",
              "              title=\"Convert this dataframe to an interactive table.\"\n",
              "              style=\"display:none;\">\n",
              "        \n",
              "  <svg xmlns=\"http://www.w3.org/2000/svg\" height=\"24px\"viewBox=\"0 0 24 24\"\n",
              "       width=\"24px\">\n",
              "    <path d=\"M0 0h24v24H0V0z\" fill=\"none\"/>\n",
              "    <path d=\"M18.56 5.44l.94 2.06.94-2.06 2.06-.94-2.06-.94-.94-2.06-.94 2.06-2.06.94zm-11 1L8.5 8.5l.94-2.06 2.06-.94-2.06-.94L8.5 2.5l-.94 2.06-2.06.94zm10 10l.94 2.06.94-2.06 2.06-.94-2.06-.94-.94-2.06-.94 2.06-2.06.94z\"/><path d=\"M17.41 7.96l-1.37-1.37c-.4-.4-.92-.59-1.43-.59-.52 0-1.04.2-1.43.59L10.3 9.45l-7.72 7.72c-.78.78-.78 2.05 0 2.83L4 21.41c.39.39.9.59 1.41.59.51 0 1.02-.2 1.41-.59l7.78-7.78 2.81-2.81c.8-.78.8-2.07 0-2.86zM5.41 20L4 18.59l7.72-7.72 1.47 1.35L5.41 20z\"/>\n",
              "  </svg>\n",
              "      </button>\n",
              "      \n",
              "  <style>\n",
              "    .colab-df-container {\n",
              "      display:flex;\n",
              "      flex-wrap:wrap;\n",
              "      gap: 12px;\n",
              "    }\n",
              "\n",
              "    .colab-df-convert {\n",
              "      background-color: #E8F0FE;\n",
              "      border: none;\n",
              "      border-radius: 50%;\n",
              "      cursor: pointer;\n",
              "      display: none;\n",
              "      fill: #1967D2;\n",
              "      height: 32px;\n",
              "      padding: 0 0 0 0;\n",
              "      width: 32px;\n",
              "    }\n",
              "\n",
              "    .colab-df-convert:hover {\n",
              "      background-color: #E2EBFA;\n",
              "      box-shadow: 0px 1px 2px rgba(60, 64, 67, 0.3), 0px 1px 3px 1px rgba(60, 64, 67, 0.15);\n",
              "      fill: #174EA6;\n",
              "    }\n",
              "\n",
              "    [theme=dark] .colab-df-convert {\n",
              "      background-color: #3B4455;\n",
              "      fill: #D2E3FC;\n",
              "    }\n",
              "\n",
              "    [theme=dark] .colab-df-convert:hover {\n",
              "      background-color: #434B5C;\n",
              "      box-shadow: 0px 1px 3px 1px rgba(0, 0, 0, 0.15);\n",
              "      filter: drop-shadow(0px 1px 2px rgba(0, 0, 0, 0.3));\n",
              "      fill: #FFFFFF;\n",
              "    }\n",
              "  </style>\n",
              "\n",
              "      <script>\n",
              "        const buttonEl =\n",
              "          document.querySelector('#df-64c8f7da-ac0d-45a3-9861-c7d5f05f9c2c button.colab-df-convert');\n",
              "        buttonEl.style.display =\n",
              "          google.colab.kernel.accessAllowed ? 'block' : 'none';\n",
              "\n",
              "        async function convertToInteractive(key) {\n",
              "          const element = document.querySelector('#df-64c8f7da-ac0d-45a3-9861-c7d5f05f9c2c');\n",
              "          const dataTable =\n",
              "            await google.colab.kernel.invokeFunction('convertToInteractive',\n",
              "                                                     [key], {});\n",
              "          if (!dataTable) return;\n",
              "\n",
              "          const docLinkHtml = 'Like what you see? Visit the ' +\n",
              "            '<a target=\"_blank\" href=https://colab.research.google.com/notebooks/data_table.ipynb>data table notebook</a>'\n",
              "            + ' to learn more about interactive tables.';\n",
              "          element.innerHTML = '';\n",
              "          dataTable['output_type'] = 'display_data';\n",
              "          await google.colab.output.renderOutput(dataTable, element);\n",
              "          const docLink = document.createElement('div');\n",
              "          docLink.innerHTML = docLinkHtml;\n",
              "          element.appendChild(docLink);\n",
              "        }\n",
              "      </script>\n",
              "    </div>\n",
              "  </div>\n",
              "  "
            ]
          },
          "metadata": {},
          "execution_count": 8
        }
      ],
      "execution_count": null
    },
    {
      "cell_type": "code",
      "source": [
        "# build train and test datasets\n",
        "reviews = dataset['Review'].values\n",
        "relevences = dataset['RivewRelevance'].values\n",
        "\n",
        "train_reviews = reviews[:67945]\n",
        "train_relevences = relevences[:67945]\n",
        "\n",
        "test_reviews = reviews[16987:]\n",
        "test_relevences = relevences[16987:]"
      ],
      "metadata": {
        "id": "XpwueLn6V-qF",
        "cell_id": "6faccedd8cc84691aee65f6f23c3d3d4",
        "source_hash": "ee57a67",
        "execution_start": 1682527110875,
        "execution_millis": 4,
        "deepnote_to_be_reexecuted": false,
        "deepnote_cell_type": "code"
      },
      "outputs": [],
      "execution_count": null
    },
    {
      "cell_type": "markdown",
      "source": [
        "# Text Wrangling & Normalization"
      ],
      "metadata": {
        "id": "CETaiGM2tO_d",
        "cell_id": "e0421a209e1940a794a831f691c41258",
        "deepnote_cell_type": "markdown"
      }
    },
    {
      "cell_type": "code",
      "source": [
        "#import contractions\n",
        "from bs4 import BeautifulSoup\n",
        "import numpy as np\n",
        "import re\n",
        "import tqdm\n",
        "import unicodedata\n",
        "\n",
        "\n",
        "def strip_html_tags(text):\n",
        "  soup = BeautifulSoup(text, \"html.parser\")\n",
        "  [s.extract() for s in soup(['iframe', 'script'])]\n",
        "  stripped_text = soup.get_text()\n",
        "  stripped_text = re.sub(r'[\\r|\\n|\\r\\n]+', '\\n', stripped_text)\n",
        "  return stripped_text\n",
        "\n",
        "def remove_accented_chars(text):\n",
        "  text = unicodedata.normalize('NFKD', text).encode('ascii', 'ignore').decode('utf-8', 'ignore')\n",
        "  return text\n",
        "\n",
        "def pre_process_corpus(docs):\n",
        "  norm_docs = []\n",
        "  for doc in tqdm.tqdm(docs):\n",
        "    doc = strip_html_tags(doc)\n",
        "    doc = doc.translate(doc.maketrans(\"\\n\\t\\r\", \"   \"))\n",
        "    doc = doc.lower()\n",
        "    doc = remove_accented_chars(doc)\n",
        "    doc = contractions.fix(doc)\n",
        "    # lower case and remove special characters\\whitespaces\n",
        "    doc = re.sub(r'[^a-zA-Z0-9\\s]', '', doc, re.I|re.A)\n",
        "    doc = re.sub(' +', ' ', doc)\n",
        "    doc = doc.strip()\n",
        "    norm_docs.append(doc)\n",
        "\n",
        "  return norm_docs"
      ],
      "metadata": {
        "id": "tkFyu9u3tUOi",
        "cell_id": "d791cd1cc23d4b20989a5180275c3b7a",
        "source_hash": "530b47c5",
        "execution_start": 1682527110881,
        "execution_millis": 190,
        "deepnote_to_be_reexecuted": false,
        "deepnote_cell_type": "code"
      },
      "outputs": [],
      "execution_count": null
    },
    {
      "cell_type": "code",
      "source": [
        "%%time\n",
        "\n",
        "norm_train_reviews = train_reviews\n",
        "norm_test_reviews = test_reviews"
      ],
      "metadata": {
        "id": "EgAqgSnHtap5",
        "colab": {
          "base_uri": "https://localhost:8080/"
        },
        "cell_id": "a53f5a5ee72c48bc84b2fba3e3798038",
        "outputId": "ea0d67e3-9473-4c6e-e83e-d30d7359ed24",
        "source_hash": "6b0eed77",
        "execution_start": 1682527111062,
        "execution_millis": 38,
        "deepnote_to_be_reexecuted": false,
        "deepnote_cell_type": "code"
      },
      "outputs": [
        {
          "output_type": "stream",
          "name": "stdout",
          "text": [
            "CPU times: user 5 µs, sys: 0 ns, total: 5 µs\n",
            "Wall time: 9.78 µs\n"
          ]
        }
      ],
      "execution_count": null
    },
    {
      "cell_type": "markdown",
      "source": [
        "## Preprocessing\n",
        "\n",
        "To prepare text data for our deep learning model, we transform each review into a sequence.\n",
        "Every word in the review is mapped to an integer index and thus the sentence turns into a sequence of numbers.\n",
        "\n",
        "To perform this transformation, keras provides the ```Tokenizer```"
      ],
      "metadata": {
        "id": "COgKPRmLpxTu",
        "cell_id": "5ee4dcae3ebd450b810ac137b3bc77f5",
        "deepnote_cell_type": "markdown"
      }
    },
    {
      "cell_type": "code",
      "source": [
        "t = Tokenizer(oov_token='<UNK>')\n",
        "# fit the tokenizer on the documents\n",
        "t.fit_on_texts(norm_train_reviews)\n",
        "t.word_index['<PAD>'] = 0"
      ],
      "metadata": {
        "id": "dff8sG63cw03",
        "cell_id": "04124a25848044059503d2ac57433477",
        "source_hash": "6585089e",
        "execution_start": 1682527111099,
        "execution_millis": 1098,
        "deepnote_to_be_reexecuted": false,
        "deepnote_cell_type": "code"
      },
      "outputs": [],
      "execution_count": null
    },
    {
      "cell_type": "code",
      "source": [
        "max([(k, v) for k, v in t.word_index.items()], key = lambda x:x[1]), min([(k, v) for k, v in t.word_index.items()], key = lambda x:x[1]), t.word_index['<UNK>']"
      ],
      "metadata": {
        "id": "0xd_eGZ1vQRR",
        "colab": {
          "base_uri": "https://localhost:8080/"
        },
        "cell_id": "70770b3e8e8b4d60bf0d81881089e68d",
        "outputId": "4849a3f4-4009-40b7-cc3d-10cad92ba4e4",
        "source_hash": "635c4d77",
        "execution_start": 1682527112199,
        "execution_millis": 5,
        "deepnote_to_be_reexecuted": false,
        "deepnote_cell_type": "code"
      },
      "outputs": [
        {
          "output_type": "execute_result",
          "data": {
            "text/plain": [
              "(('glenwood', 40192), ('<PAD>', 0), 1)"
            ]
          },
          "metadata": {},
          "execution_count": 13
        }
      ],
      "execution_count": null
    },
    {
      "cell_type": "code",
      "source": [
        "train_sequences = t.texts_to_sequences(norm_train_reviews)"
      ],
      "metadata": {
        "id": "4yv_m8T5c2xg",
        "cell_id": "521c9c7033e34c01ac4d6688cafe7f75",
        "source_hash": "b2911e71",
        "execution_start": 1682527112234,
        "execution_millis": 982,
        "deepnote_to_be_reexecuted": false,
        "deepnote_cell_type": "code"
      },
      "outputs": [],
      "execution_count": null
    },
    {
      "cell_type": "code",
      "source": [
        "test_sequences = t.texts_to_sequences(norm_test_reviews)"
      ],
      "metadata": {
        "id": "ifZCCxtydEnc",
        "cell_id": "65d26bf18930404696e719441dc01a26",
        "source_hash": "b1d1e505",
        "execution_start": 1682527113255,
        "execution_millis": 808,
        "deepnote_to_be_reexecuted": false,
        "deepnote_cell_type": "code"
      },
      "outputs": [],
      "execution_count": null
    },
    {
      "cell_type": "code",
      "source": [
        "print(\"Vocabulary size={}\".format(len(t.word_index)))\n",
        "print(\"Number of Documents={}\".format(t.document_count))"
      ],
      "metadata": {
        "id": "ldkDHyjZgaFV",
        "colab": {
          "base_uri": "https://localhost:8080/"
        },
        "cell_id": "30933f1b7d7a4bbc8b43723d1b9dccee",
        "outputId": "e11fdf95-889b-4099-e6e6-82c6c7b45e7d",
        "source_hash": "989679a0",
        "execution_start": 1682527114064,
        "execution_millis": 4,
        "deepnote_to_be_reexecuted": false,
        "deepnote_cell_type": "code"
      },
      "outputs": [
        {
          "output_type": "stream",
          "name": "stdout",
          "text": [
            "Vocabulary size=40193\n",
            "Number of Documents=67945\n"
          ]
        }
      ],
      "execution_count": null
    },
    {
      "cell_type": "code",
      "source": [
        "import matplotlib.pyplot as plt\n",
        "%matplotlib inline\n",
        "\n",
        "train_lens = [len(s) for s in train_sequences]\n",
        "test_lens = [len(s) for s in test_sequences]\n",
        "\n",
        "fig, ax = plt.subplots(1,2, figsize=(12, 6))\n",
        "h1 = ax[0].hist(train_lens)\n",
        "h2 = ax[1].hist(test_lens)"
      ],
      "metadata": {
        "id": "CQjiXA7Ntw13",
        "colab": {
          "height": 331,
          "base_uri": "https://localhost:8080/"
        },
        "cell_id": "d75940e450b34b0ab03785f85fe59f5a",
        "outputId": "9afdd216-371b-487d-aa9e-0d6f9f7b626b",
        "source_hash": "8bf88b7b",
        "execution_start": 1682527114069,
        "execution_millis": 1857,
        "deepnote_to_be_reexecuted": false,
        "deepnote_cell_type": "code"
      },
      "outputs": [
        {
          "output_type": "display_data",
          "data": {
            "text/plain": [
              "<Figure size 1200x600 with 2 Axes>"
            ],
            "image/png": "[encoded data removed]"
          },
          "metadata": {}
        }
      ],
      "execution_count": null
    },
    {
      "cell_type": "markdown",
      "source": [
        "### Sequence Normalization\n",
        "\n",
        "Not all reviews are of same length. To handle this difference in length of reviews, we define a maximum length.\n",
        "For reviews which are smaller than this length, we pad them with zeros which longer ones are truncated"
      ],
      "metadata": {
        "id": "xfZwP6C8pxT8",
        "cell_id": "087e19706de84ec1a2435c826b12e186",
        "deepnote_cell_type": "markdown"
      }
    },
    {
      "cell_type": "code",
      "source": [
        "MAX_SEQUENCE_LENGTH = 1000"
      ],
      "metadata": {
        "id": "BtuGJ0wXjQnC",
        "cell_id": "85bfc796a9fe441fa28967ff0595e1bc",
        "source_hash": "90168d96",
        "execution_start": 1682527115928,
        "execution_millis": 1,
        "deepnote_to_be_reexecuted": false,
        "deepnote_cell_type": "code"
      },
      "outputs": [],
      "execution_count": null
    },
    {
      "cell_type": "code",
      "source": [
        "# pad dataset to a maximum review length in words\n",
        "X_train = sequence.pad_sequences(train_sequences, maxlen=MAX_SEQUENCE_LENGTH)\n",
        "X_test = sequence.pad_sequences(test_sequences, maxlen=MAX_SEQUENCE_LENGTH)\n",
        "X_train.shape, X_test.shape"
      ],
      "metadata": {
        "id": "wAnv99kzWA5k",
        "colab": {
          "base_uri": "https://localhost:8080/"
        },
        "cell_id": "924587bb2c164cf281631cea7a1797e9",
        "outputId": "5b9f1097-fef3-42bc-967d-eb1fd961decb",
        "source_hash": "d7a1d166",
        "execution_start": 1682527115930,
        "execution_millis": 368,
        "deepnote_to_be_reexecuted": false,
        "deepnote_cell_type": "code"
      },
      "outputs": [
        {
          "output_type": "execute_result",
          "data": {
            "text/plain": [
              "((67945, 1000), (67945, 1000))"
            ]
          },
          "metadata": {},
          "execution_count": 19
        }
      ],
      "execution_count": null
    },
    {
      "cell_type": "markdown",
      "source": [
        "### Encoding Labels\n",
        "\n",
        "The dataset contains labels of the form positive/negative. The following step encodes the labels using ```sklearn's``` ```LabelEncoder```"
      ],
      "metadata": {
        "id": "9X_4ticSpxUC",
        "cell_id": "cc3e96ab0eca428d9c81819b2dccb274",
        "deepnote_cell_type": "markdown"
      }
    },
    {
      "cell_type": "code",
      "source": [
        "le = LabelEncoder()\n",
        "num_classes=3 # positive -> 1, negative -> 0"
      ],
      "metadata": {
        "id": "rRMaWb1ldqyl",
        "cell_id": "b144c4ec2a6a4c9583b0271b62b95a79",
        "source_hash": "368297e9",
        "execution_start": 1682527116307,
        "execution_millis": 8,
        "deepnote_to_be_reexecuted": false,
        "deepnote_cell_type": "code"
      },
      "outputs": [],
      "execution_count": null
    },
    {
      "cell_type": "code",
      "source": [
        "y_train = le.fit_transform(train_relevences)\n",
        "y_test = le.transform(test_relevences)"
      ],
      "metadata": {
        "id": "tJjbtyDjfsd1",
        "cell_id": "7891677f73a6473b958394714c89f772",
        "source_hash": "4c435cf7",
        "execution_start": 1682527116314,
        "execution_millis": 1,
        "deepnote_to_be_reexecuted": false,
        "deepnote_cell_type": "code"
      },
      "outputs": [],
      "execution_count": null
    },
    {
      "cell_type": "code",
      "source": [
        "VOCAB_SIZE = len(t.word_index)"
      ],
      "metadata": {
        "id": "iaqFz7ZpdoLC",
        "cell_id": "bd3fa04e5a724593a021ebc3550dfd67",
        "source_hash": "e94c2288",
        "execution_start": 1682527116314,
        "execution_millis": 3,
        "deepnote_to_be_reexecuted": false,
        "deepnote_cell_type": "code"
      },
      "outputs": [],
      "execution_count": null
    },
    {
      "cell_type": "markdown",
      "source": [
        "## Prepare the Model\n",
        "\n",
        "Since textual data is a sequence of words, we utilize ```1D``` convolutions to scan through the sentences.\n",
        "The model first transforms each word into lower dimensional embedding/vector space followed by 1d convolutions and then passing the data through dense layers before the final layer for classification"
      ],
      "metadata": {
        "id": "YCjRYBh2pxUM",
        "cell_id": "ce2182871c844395b1bd0c7fba536933",
        "deepnote_cell_type": "markdown"
      }
    },
    {
      "cell_type": "code",
      "source": [
        "EMBED_SIZE = 300\n",
        "EPOCHS=100\n",
        "BATCH_SIZE=32"
      ],
      "metadata": {
        "id": "LR3mdd8kjgW1",
        "cell_id": "22ba1e2086d042b1aa5919f9b131d565",
        "source_hash": "a166ae81",
        "execution_start": 1682527116316,
        "execution_millis": 46,
        "deepnote_to_be_reexecuted": false,
        "deepnote_cell_type": "code"
      },
      "outputs": [],
      "execution_count": null
    },
    {
      "cell_type": "code",
      "source": [
        "# create the model\n",
        "model = Sequential()\n",
        "model.add(Embedding(VOCAB_SIZE, EMBED_SIZE, input_length=MAX_SEQUENCE_LENGTH))\n",
        "model.add(Conv1D(filters=128, kernel_size=4, padding='same', activation='relu'))\n",
        "model.add(MaxPooling1D(pool_size=2))\n",
        "model.add(Conv1D(filters=64, kernel_size=4, padding='same', activation='relu'))\n",
        "model.add(MaxPooling1D(pool_size=2))\n",
        "model.add(Conv1D(filters=32, kernel_size=4, padding='same', activation='relu'))\n",
        "model.add(MaxPooling1D(pool_size=2))\n",
        "model.add(Flatten())\n",
        "model.add(Dense(256, activation='relu'))\n",
        "model.add(Dense(1, activation='sigmoid'))\n",
        "model.compile(loss='binary_crossentropy', optimizer='adam', metrics=['accuracy'])\n",
        "model.summary()"
      ],
      "metadata": {
        "id": "AXhAERVeXhmZ",
        "colab": {
          "base_uri": "https://localhost:8080/"
        },
        "cell_id": "5f8c21c8f4ff46cd9b497992f7902140",
        "outputId": "3e5a6675-fc42-407d-e4bc-b4385d4faee3",
        "source_hash": "f0c54dce",
        "execution_start": 1682527116361,
        "execution_millis": 262,
        "deepnote_to_be_reexecuted": false,
        "deepnote_cell_type": "code"
      },
      "outputs": [
        {
          "output_type": "stream",
          "name": "stdout",
          "text": [
            "Model: \"sequential\"\n",
            "_________________________________________________________________\n",
            " Layer (type)                Output Shape              Param #   \n",
            "=================================================================\n",
            " embedding (Embedding)       (None, 1000, 300)         12057900  \n",
            "                                                                 \n",
            " conv1d (Conv1D)             (None, 1000, 128)         153728    \n",
            "                                                                 \n",
            " max_pooling1d (MaxPooling1D  (None, 500, 128)         0         \n",
            " )                                                               \n",
            "                                                                 \n",
            " conv1d_1 (Conv1D)           (None, 500, 64)           32832     \n",
            "                                                                 \n",
            " max_pooling1d_1 (MaxPooling  (None, 250, 64)          0         \n",
            " 1D)                                                             \n",
            "                                                                 \n",
            " conv1d_2 (Conv1D)           (None, 250, 32)           8224      \n",
            "                                                                 \n",
            " max_pooling1d_2 (MaxPooling  (None, 125, 32)          0         \n",
            " 1D)                                                             \n",
            "                                                                 \n",
            " flatten (Flatten)           (None, 4000)              0         \n",
            "                                                                 \n",
            " dense (Dense)               (None, 256)               1024256   \n",
            "                                                                 \n",
            " dense_1 (Dense)             (None, 1)                 257       \n",
            "                                                                 \n",
            "=================================================================\n",
            "Total params: 13,277,197\n",
            "Trainable params: 13,277,197\n",
            "Non-trainable params: 0\n",
            "_________________________________________________________________\n"
          ]
        }
      ],
      "execution_count": null
    },
    {
      "cell_type": "markdown",
      "source": [
        "## Model Training"
      ],
      "metadata": {
        "id": "szNl8QiQpxUa",
        "cell_id": "918b081fd2754a28bea480cf6eda2d12",
        "deepnote_cell_type": "markdown"
      }
    },
    {
      "cell_type": "code",
      "source": [
        "# Fit the model\n",
        "model.fit(X_train, y_train,\n",
        "          validation_split=0.20,\n",
        "          epochs=EPOCHS,\n",
        "          batch_size=BATCH_SIZE,\n",
        "          verbose=1)"
      ],
      "metadata": {
        "id": "0uc0jXszf5ob",
        "colab": {
          "base_uri": "https://localhost:8080/"
        },
        "cell_id": "9ac88281428c4f21b90b83690598e5b4",
        "outputId": "ab6f1664-0160-4049-a33e-116cba6d3a37",
        "source_hash": "a19e79d3",
        "execution_start": 1682527116689,
        "execution_millis": 190766,
        "deepnote_to_be_reexecuted": false,
        "deepnote_cell_type": "code"
      },
      "outputs": [
        {
          "output_type": "stream",
          "name": "stdout",
          "text": [
            "Epoch 1/100\n",
            "1699/1699 [==============================] - 109s 57ms/step - loss: -309503590400.0000 - accuracy: 0.8115 - val_loss: -727662067712.0000 - val_accuracy: 0.7962\n",
            "Epoch 2/100\n",
            "1699/1699 [==============================] - 43s 25ms/step - loss: -24141348470784.0000 - accuracy: 0.8159 - val_loss: -25294889025536.0000 - val_accuracy: 0.7934\n",
            "Epoch 3/100\n",
            "1699/1699 [==============================] - 40s 23ms/step - loss: -247792953982976.0000 - accuracy: 0.8161 - val_loss: -178946792488960.0000 - val_accuracy: 0.7964\n",
            "Epoch 4/100\n",
            "1699/1699 [==============================] - 39s 23ms/step - loss: -1139463413563392.0000 - accuracy: 0.8168 - val_loss: -673602873589760.0000 - val_accuracy: 0.7979\n",
            "Epoch 5/100\n",
            "1699/1699 [==============================] - 38s 22ms/step - loss: -3499407819407360.0000 - accuracy: 0.8168 - val_loss: -1820731528708096.0000 - val_accuracy: 0.7971\n",
            "Epoch 6/100\n",
            "1699/1699 [==============================] - 39s 23ms/step - loss: -8535465279881216.0000 - accuracy: 0.8169 - val_loss: -4150285953925120.0000 - val_accuracy: 0.7973\n",
            "Epoch 7/100\n",
            "1699/1699 [==============================] - 37s 22ms/step - loss: -18137685545713664.0000 - accuracy: 0.8172 - val_loss: -8449531037351936.0000 - val_accuracy: 0.7967\n",
            "Epoch 8/100\n",
            "1699/1699 [==============================] - 38s 23ms/step - loss: -35050272472432640.0000 - accuracy: 0.8172 - val_loss: -15606178134360064.0000 - val_accuracy: 0.7961\n",
            "Epoch 9/100\n",
            "1699/1699 [==============================] - 37s 22ms/step - loss: -62039733143863296.0000 - accuracy: 0.8167 - val_loss: -26838114613854208.0000 - val_accuracy: 0.7967\n",
            "Epoch 10/100\n",
            "1699/1699 [==============================] - 37s 22ms/step - loss: -104297577066790912.0000 - accuracy: 0.8168 - val_loss: -44101690562969600.0000 - val_accuracy: 0.7975\n",
            "Epoch 11/100\n",
            "1699/1699 [==============================] - 36s 21ms/step - loss: -167520887233314816.0000 - accuracy: 0.8177 - val_loss: -69425105502994432.0000 - val_accuracy: 0.7957\n",
            "Epoch 12/100\n",
            "1699/1699 [==============================] - 36s 21ms/step - loss: -258545125569855488.0000 - accuracy: 0.8172 - val_loss: -105148023541071872.0000 - val_accuracy: 0.7970\n",
            "Epoch 13/100\n",
            "1699/1699 [==============================] - 36s 21ms/step - loss: -384351606797238272.0000 - accuracy: 0.8172 - val_loss: -153991705891176448.0000 - val_accuracy: 0.7962\n",
            "Epoch 14/100\n",
            "1699/1699 [==============================] - 37s 22ms/step - loss: -553981099634589696.0000 - accuracy: 0.8172 - val_loss: -218962655430311936.0000 - val_accuracy: 0.7956\n",
            "Epoch 15/100\n",
            "1699/1699 [==============================] - 37s 22ms/step - loss: -778362973000302592.0000 - accuracy: 0.8171 - val_loss: -303525304448581632.0000 - val_accuracy: 0.7968\n",
            "Epoch 16/100\n",
            "1699/1699 [==============================] - 36s 21ms/step - loss: -1067801506272509952.0000 - accuracy: 0.8179 - val_loss: -413334320988553216.0000 - val_accuracy: 0.7957\n",
            "Epoch 17/100\n",
            "1699/1699 [==============================] - 36s 21ms/step - loss: -1443054310752518144.0000 - accuracy: 0.8172 - val_loss: -554512816585834496.0000 - val_accuracy: 0.7969\n",
            "Epoch 18/100\n",
            "1699/1699 [==============================] - 36s 21ms/step - loss: -1925463663049703424.0000 - accuracy: 0.8172 - val_loss: -732962763499896832.0000 - val_accuracy: 0.7972\n",
            "Epoch 19/100\n",
            "1699/1699 [==============================] - 36s 21ms/step - loss: -2522460818658820096.0000 - accuracy: 0.8176 - val_loss: -954771573498183680.0000 - val_accuracy: 0.7969\n",
            "Epoch 20/100\n",
            "1699/1699 [==============================] - 39s 23ms/step - loss: -3272008065796276224.0000 - accuracy: 0.8180 - val_loss: -1230027093966848000.0000 - val_accuracy: 0.7967\n",
            "Epoch 21/100\n",
            "1699/1699 [==============================] - 39s 23ms/step - loss: -4173707381252816896.0000 - accuracy: 0.8176 - val_loss: -1561550190706425856.0000 - val_accuracy: 0.7966\n",
            "Epoch 22/100\n",
            "1699/1699 [==============================] - 36s 21ms/step - loss: -5281894980405690368.0000 - accuracy: 0.8180 - val_loss: -1967873888117325824.0000 - val_accuracy: 0.7956\n",
            "Epoch 23/100\n",
            "1699/1699 [==============================] - 36s 21ms/step - loss: -6639566990581170176.0000 - accuracy: 0.8170 - val_loss: -2464520129287815168.0000 - val_accuracy: 0.7969\n",
            "Epoch 24/100\n",
            "1699/1699 [==============================] - 36s 21ms/step - loss: -8282659025187766272.0000 - accuracy: 0.8178 - val_loss: -3059303143356497920.0000 - val_accuracy: 0.7959\n",
            "Epoch 25/100\n",
            "1699/1699 [==============================] - 39s 23ms/step - loss: -10253007501662355456.0000 - accuracy: 0.8179 - val_loss: -3775001100399149056.0000 - val_accuracy: 0.7961\n",
            "Epoch 26/100\n",
            "1699/1699 [==============================] - 36s 21ms/step - loss: -12552685549179109376.0000 - accuracy: 0.8177 - val_loss: -4589767529005580288.0000 - val_accuracy: 0.7962\n",
            "Epoch 27/100\n",
            "1699/1699 [==============================] - 36s 21ms/step - loss: -15235478527789760512.0000 - accuracy: 0.8174 - val_loss: -5555554078710300672.0000 - val_accuracy: 0.7961\n",
            "Epoch 28/100\n",
            "1699/1699 [==============================] - 39s 23ms/step - loss: -18403855423644893184.0000 - accuracy: 0.8175 - val_loss: -6695814157167493120.0000 - val_accuracy: 0.7968\n",
            "Epoch 29/100\n",
            "1699/1699 [==============================] - 37s 22ms/step - loss: -22104100178715738112.0000 - accuracy: 0.8179 - val_loss: -8013831180975603712.0000 - val_accuracy: 0.7966\n",
            "Epoch 30/100\n",
            "1699/1699 [==============================] - 39s 23ms/step - loss: -26363971063557128192.0000 - accuracy: 0.8177 - val_loss: -9519066997447458816.0000 - val_accuracy: 0.7962\n",
            "Epoch 31/100\n",
            "1699/1699 [==============================] - 36s 21ms/step - loss: -31280622025110978560.0000 - accuracy: 0.8179 - val_loss: -11273259734238494720.0000 - val_accuracy: 0.7965\n",
            "Epoch 32/100\n",
            "1699/1699 [==============================] - 36s 21ms/step - loss: -36938919967878807552.0000 - accuracy: 0.8178 - val_loss: -13279488023906484224.0000 - val_accuracy: 0.7967\n",
            "Epoch 33/100\n",
            "1699/1699 [==============================] - 39s 23ms/step - loss: -43449977138917146624.0000 - accuracy: 0.8178 - val_loss: -15572008250726416384.0000 - val_accuracy: 0.7967\n",
            "Epoch 34/100\n",
            "1699/1699 [==============================] - 38s 23ms/step - loss: -50815302068179304448.0000 - accuracy: 0.8179 - val_loss: -18177538547253248000.0000 - val_accuracy: 0.7962\n",
            "Epoch 35/100\n",
            "1699/1699 [==============================] - 36s 21ms/step - loss: -59213560997132369920.0000 - accuracy: 0.8177 - val_loss: -21148120997852872704.0000 - val_accuracy: 0.7960\n",
            "Epoch 36/100\n",
            "1699/1699 [==============================] - 36s 21ms/step - loss: -68728483935254740992.0000 - accuracy: 0.8175 - val_loss: -24485514821129732096.0000 - val_accuracy: 0.7966\n",
            "Epoch 37/100\n",
            "1699/1699 [==============================] - 36s 21ms/step - loss: -79467079752208089088.0000 - accuracy: 0.8176 - val_loss: -28226983565660782592.0000 - val_accuracy: 0.7968\n",
            "Epoch 38/100\n",
            "1699/1699 [==============================] - 36s 21ms/step - loss: -91245444133130600448.0000 - accuracy: 0.8179 - val_loss: -32316843564568936448.0000 - val_accuracy: 0.7960\n",
            "Epoch 39/100\n",
            "1699/1699 [==============================] - 38s 23ms/step - loss: -104368432069985959936.0000 - accuracy: 0.8177 - val_loss: -36944976077924597760.0000 - val_accuracy: 0.7962\n",
            "Epoch 40/100\n",
            "1699/1699 [==============================] - 39s 23ms/step - loss: -119221347621518966784.0000 - accuracy: 0.8176 - val_loss: -42147073452188631040.0000 - val_accuracy: 0.7965\n",
            "Epoch 41/100\n",
            "1699/1699 [==============================] - 36s 21ms/step - loss: -135999252946590105600.0000 - accuracy: 0.8180 - val_loss: -48011411077908660224.0000 - val_accuracy: 0.7968\n",
            "Epoch 42/100\n",
            "1699/1699 [==============================] - 39s 23ms/step - loss: -154713371859895713792.0000 - accuracy: 0.8179 - val_loss: -54554450843175747584.0000 - val_accuracy: 0.7968\n",
            "Epoch 43/100\n",
            "1699/1699 [==============================] - 36s 21ms/step - loss: -175514407823185281024.0000 - accuracy: 0.8177 - val_loss: -61809310038218506240.0000 - val_accuracy: 0.7963\n",
            "Epoch 44/100\n",
            "1699/1699 [==============================] - 36s 21ms/step - loss: -198558728982114598912.0000 - accuracy: 0.8180 - val_loss: -69782044773082726400.0000 - val_accuracy: 0.7962\n",
            "Epoch 45/100\n",
            "1699/1699 [==============================] - 36s 21ms/step - loss: -223825805255569833984.0000 - accuracy: 0.8180 - val_loss: -78480932171302305792.0000 - val_accuracy: 0.7962\n",
            "Epoch 46/100\n",
            "1699/1699 [==============================] - 38s 23ms/step - loss: -251570793709939195904.0000 - accuracy: 0.8176 - val_loss: -88179592298519068672.0000 - val_accuracy: 0.7965\n",
            "Epoch 47/100\n",
            "1699/1699 [==============================] - 39s 23ms/step - loss: -282165962594108571648.0000 - accuracy: 0.8181 - val_loss: -98720997302100557824.0000 - val_accuracy: 0.7964\n",
            "Epoch 48/100\n",
            "1699/1699 [==============================] - 36s 21ms/step - loss: -315604450955520638976.0000 - accuracy: 0.8179 - val_loss: -110302892149279031296.0000 - val_accuracy: 0.7964\n",
            "Epoch 49/100\n",
            "1699/1699 [==============================] - 37s 22ms/step - loss: -352208969854974164992.0000 - accuracy: 0.8179 - val_loss: -123022913472600997888.0000 - val_accuracy: 0.7964\n",
            "Epoch 50/100\n",
            "1699/1699 [==============================] - 38s 23ms/step - loss: -392820214679159701504.0000 - accuracy: 0.8181 - val_loss: -137144970451011764224.0000 - val_accuracy: 0.7964\n",
            "Epoch 51/100\n",
            "1699/1699 [==============================] - 36s 21ms/step - loss: -437216242408940896256.0000 - accuracy: 0.8177 - val_loss: -152321415099994603520.0000 - val_accuracy: 0.7965\n",
            "Epoch 52/100\n",
            "1699/1699 [==============================] - 36s 21ms/step - loss: -484985782918971392000.0000 - accuracy: 0.8181 - val_loss: -168841937947142914048.0000 - val_accuracy: 0.7961\n",
            "Epoch 53/100\n",
            "1699/1699 [==============================] - 36s 21ms/step - loss: -537120085524109852672.0000 - accuracy: 0.8178 - val_loss: -186725186709663776768.0000 - val_accuracy: 0.7963\n",
            "Epoch 54/100\n",
            "1699/1699 [==============================] - 39s 23ms/step - loss: -593772378164803141632.0000 - accuracy: 0.8181 - val_loss: -206343112977094279168.0000 - val_accuracy: 0.7962\n",
            "Epoch 55/100\n",
            "1699/1699 [==============================] - 37s 22ms/step - loss: -655558105877629108224.0000 - accuracy: 0.8178 - val_loss: -227546904447684706304.0000 - val_accuracy: 0.7964\n",
            "Epoch 56/100\n",
            "1699/1699 [==============================] - 36s 21ms/step - loss: -722697769122468462592.0000 - accuracy: 0.8177 - val_loss: -250732350123062329344.0000 - val_accuracy: 0.7965\n",
            "Epoch 57/100\n",
            "1699/1699 [==============================] - 36s 21ms/step - loss: -796649408278682402816.0000 - accuracy: 0.8180 - val_loss: -276199607881516974080.0000 - val_accuracy: 0.7965\n",
            "Epoch 58/100\n",
            "1699/1699 [==============================] - 36s 21ms/step - loss: -875922120763378761728.0000 - accuracy: 0.8180 - val_loss: -303209242959229747200.0000 - val_accuracy: 0.7965\n",
            "Epoch 59/100\n",
            "1699/1699 [==============================] - 36s 21ms/step - loss: -961441185193749643264.0000 - accuracy: 0.8180 - val_loss: -332425290010633175040.0000 - val_accuracy: 0.7966\n",
            "Epoch 60/100\n",
            "1699/1699 [==============================] - 36s 21ms/step - loss: -1052957566584150294528.0000 - accuracy: 0.8182 - val_loss: -363798455730430803968.0000 - val_accuracy: 0.7965\n",
            "Epoch 61/100\n",
            "1699/1699 [==============================] - 36s 21ms/step - loss: -1151700536526620327936.0000 - accuracy: 0.8181 - val_loss: -397764533751314907136.0000 - val_accuracy: 0.7963\n",
            "Epoch 62/100\n",
            "1699/1699 [==============================] - 36s 21ms/step - loss: -1258299543437828947968.0000 - accuracy: 0.8180 - val_loss: -434203369442602123264.0000 - val_accuracy: 0.7965\n",
            "Epoch 63/100\n",
            "1699/1699 [==============================] - 36s 21ms/step - loss: -1372552910496962969600.0000 - accuracy: 0.8181 - val_loss: -473185437101586382848.0000 - val_accuracy: 0.7965\n",
            "Epoch 64/100\n",
            "1699/1699 [==============================] - 36s 21ms/step - loss: -1494877572513275052032.0000 - accuracy: 0.8182 - val_loss: -515263659135643680768.0000 - val_accuracy: 0.7965\n",
            "Epoch 65/100\n",
            "1699/1699 [==============================] - 36s 21ms/step - loss: -1627457916043528241152.0000 - accuracy: 0.8180 - val_loss: -560654806461213310976.0000 - val_accuracy: 0.7965\n",
            "Epoch 66/100\n",
            "1699/1699 [==============================] - 36s 21ms/step - loss: -1769085850487680401408.0000 - accuracy: 0.8182 - val_loss: -609100731340279513088.0000 - val_accuracy: 0.7966\n",
            "Epoch 67/100\n",
            "1699/1699 [==============================] - 36s 21ms/step - loss: -1920830980757232025600.0000 - accuracy: 0.8183 - val_loss: -660645766081674215424.0000 - val_accuracy: 0.7965\n",
            "Epoch 68/100\n",
            "1699/1699 [==============================] - 38s 23ms/step - loss: -2082273627661907525632.0000 - accuracy: 0.8179 - val_loss: -715640135925169651712.0000 - val_accuracy: 0.7965\n",
            "Epoch 69/100\n",
            "1699/1699 [==============================] - 36s 21ms/step - loss: -2254323096113970675712.0000 - accuracy: 0.8182 - val_loss: -774888366722949054464.0000 - val_accuracy: 0.7965\n",
            "Epoch 70/100\n",
            "1699/1699 [==============================] - 36s 21ms/step - loss: -2439897155722004135936.0000 - accuracy: 0.8182 - val_loss: -838248454349261897728.0000 - val_accuracy: 0.7965\n",
            "Epoch 71/100\n",
            "1699/1699 [==============================] - 36s 21ms/step - loss: -2635416711419643559936.0000 - accuracy: 0.8182 - val_loss: -904414706755891625984.0000 - val_accuracy: 0.7962\n",
            "Epoch 72/100\n",
            "1699/1699 [==============================] - 36s 21ms/step - loss: -2845421250893790052352.0000 - accuracy: 0.8177 - val_loss: -976404043111967227904.0000 - val_accuracy: 0.7964\n",
            "Epoch 73/100\n",
            "1699/1699 [==============================] - 36s 21ms/step - loss: -3069593833320667414528.0000 - accuracy: 0.8181 - val_loss: -1052423327078353469440.0000 - val_accuracy: 0.7963\n",
            "Epoch 74/100\n",
            "1699/1699 [==============================] - 36s 21ms/step - loss: -3306212957742713274368.0000 - accuracy: 0.8182 - val_loss: -1133028119890333007872.0000 - val_accuracy: 0.7963\n",
            "Epoch 75/100\n",
            "1699/1699 [==============================] - 36s 21ms/step - loss: -3558526563916191891456.0000 - accuracy: 0.8180 - val_loss: -1219264734405083529216.0000 - val_accuracy: 0.7964\n",
            "Epoch 76/100\n",
            "1699/1699 [==============================] - 36s 21ms/step - loss: -3827976366671815245824.0000 - accuracy: 0.8182 - val_loss: -1309956253376233603072.0000 - val_accuracy: 0.7962\n",
            "Epoch 77/100\n",
            "1699/1699 [==============================] - 36s 21ms/step - loss: -4111016625727959203840.0000 - accuracy: 0.8179 - val_loss: -1406541717622216458240.0000 - val_accuracy: 0.7964\n",
            "Epoch 78/100\n",
            "1699/1699 [==============================] - 36s 21ms/step - loss: -4410311783214166835200.0000 - accuracy: 0.8182 - val_loss: -1508500961386070802432.0000 - val_accuracy: 0.7963\n",
            "Epoch 79/100\n",
            "1699/1699 [==============================] - 36s 21ms/step - loss: -4732275527949767147520.0000 - accuracy: 0.8177 - val_loss: -1618174730574122450944.0000 - val_accuracy: 0.7965\n",
            "Epoch 80/100\n",
            "1699/1699 [==============================] - 36s 21ms/step - loss: -5071184910708279083008.0000 - accuracy: 0.8180 - val_loss: -1733101948727501783040.0000 - val_accuracy: 0.7964\n",
            "Epoch 81/100\n",
            "1699/1699 [==============================] - 36s 21ms/step - loss: -5430159518656586842112.0000 - accuracy: 0.8180 - val_loss: -1854277489151392612352.0000 - val_accuracy: 0.7965\n",
            "Epoch 82/100\n",
            "1699/1699 [==============================] - 36s 21ms/step - loss: -5806192636093467197440.0000 - accuracy: 0.8182 - val_loss: -1981319671777375289344.0000 - val_accuracy: 0.7963\n",
            "Epoch 83/100\n",
            "1699/1699 [==============================] - 38s 23ms/step - loss: -6201767998213414977536.0000 - accuracy: 0.8182 - val_loss: -2115780831102009081856.0000 - val_accuracy: 0.7964\n",
            "Epoch 84/100\n",
            "1699/1699 [==============================] - 36s 21ms/step - loss: -6622094580935437582336.0000 - accuracy: 0.8181 - val_loss: -2259703068081329799168.0000 - val_accuracy: 0.7964\n",
            "Epoch 85/100\n",
            "1699/1699 [==============================] - 36s 21ms/step - loss: -7074057825139831078912.0000 - accuracy: 0.8179 - val_loss: -2413200943030858678272.0000 - val_accuracy: 0.7965\n",
            "Epoch 86/100\n",
            "1699/1699 [==============================] - 39s 23ms/step - loss: -7551034624624593731584.0000 - accuracy: 0.8180 - val_loss: -2573597488184589025280.0000 - val_accuracy: 0.7965\n",
            "Epoch 87/100\n",
            "1699/1699 [==============================] - 36s 21ms/step - loss: -8048356435426002599936.0000 - accuracy: 0.8181 - val_loss: -2742745653314207088640.0000 - val_accuracy: 0.7965\n",
            "Epoch 88/100\n",
            "1699/1699 [==============================] - 39s 23ms/step - loss: -8576504259776855670784.0000 - accuracy: 0.8183 - val_loss: -2921708006456795594752.0000 - val_accuracy: 0.7964\n",
            "Epoch 89/100\n",
            "1699/1699 [==============================] - 36s 21ms/step - loss: -9135379018485350793216.0000 - accuracy: 0.8183 - val_loss: -3110828510033894965248.0000 - val_accuracy: 0.7964\n",
            "Epoch 90/100\n",
            "1699/1699 [==============================] - 36s 21ms/step - loss: -9728454112764097462272.0000 - accuracy: 0.8182 - val_loss: -3312078896257363345408.0000 - val_accuracy: 0.7965\n",
            "Epoch 91/100\n",
            "1699/1699 [==============================] - 37s 22ms/step - loss: -10339951744268556566528.0000 - accuracy: 0.8182 - val_loss: -3515505365525781807104.0000 - val_accuracy: 0.7965\n",
            "Epoch 92/100\n",
            "1699/1699 [==============================] - 39s 23ms/step - loss: -10976131353530819674112.0000 - accuracy: 0.8180 - val_loss: -3732157780999880572928.0000 - val_accuracy: 0.7965\n",
            "Epoch 93/100\n",
            "1699/1699 [==============================] - 38s 23ms/step - loss: -11655529756617143746560.0000 - accuracy: 0.8183 - val_loss: -3962647224854098477056.0000 - val_accuracy: 0.7966\n",
            "Epoch 94/100\n",
            "1699/1699 [==============================] - 36s 21ms/step - loss: -12373560037307051933696.0000 - accuracy: 0.8179 - val_loss: -4204904011584682065920.0000 - val_accuracy: 0.7966\n",
            "Epoch 95/100\n",
            "1699/1699 [==============================] - 36s 21ms/step - loss: -13123751648835919675392.0000 - accuracy: 0.8182 - val_loss: -4460454579990333227008.0000 - val_accuracy: 0.7966\n",
            "Epoch 96/100\n",
            "1699/1699 [==============================] - 36s 21ms/step - loss: -13919917131260892282880.0000 - accuracy: 0.8184 - val_loss: -4729572242273438007296.0000 - val_accuracy: 0.7965\n",
            "Epoch 97/100\n",
            "1699/1699 [==============================] - 39s 23ms/step - loss: -14755625344314084687872.0000 - accuracy: 0.8178 - val_loss: -5010735344709898600448.0000 - val_accuracy: 0.7966\n",
            "Epoch 98/100\n",
            "1699/1699 [==============================] - 36s 21ms/step - loss: -15620603577245464788992.0000 - accuracy: 0.8183 - val_loss: -5301810869926201655296.0000 - val_accuracy: 0.7966\n",
            "Epoch 99/100\n",
            "1699/1699 [==============================] - 38s 23ms/step - loss: -16529802654917995790336.0000 - accuracy: 0.8182 - val_loss: -5610449307789342801920.0000 - val_accuracy: 0.7966\n",
            "Epoch 100/100\n",
            "1699/1699 [==============================] - 36s 21ms/step - loss: -17491566621541288378368.0000 - accuracy: 0.8180 - val_loss: -5934184937503336693760.0000 - val_accuracy: 0.7967\n"
          ]
        },
        {
          "output_type": "execute_result",
          "data": {
            "text/plain": [
              "<keras.callbacks.History at 0x7f5d6b49dfa0>"
            ]
          },
          "metadata": {},
          "execution_count": 25
        }
      ],
      "execution_count": null
    },
    {
      "cell_type": "markdown",
      "source": [
        "## Model Evaluation"
      ],
      "metadata": {
        "id": "cuKczZqYpxUk",
        "cell_id": "8fa526f364b4473182d5826c1b28c106",
        "deepnote_cell_type": "markdown"
      }
    },
    {
      "cell_type": "code",
      "source": [
        "# Final evaluation of the model\n",
        "scores = model.evaluate(X_test, y_test, verbose=1)\n",
        "print(\"Accuracy: %.2f%%\" % (scores[1]*100))"
      ],
      "metadata": {
        "id": "3Zik9CWQgNlK",
        "colab": {
          "base_uri": "https://localhost:8080/"
        },
        "cell_id": "221242c78c184f34abc53a3b1d7c76b3",
        "outputId": "10ea349b-9007-41b9-e0d6-12186aea73ef",
        "source_hash": "5b67f146",
        "execution_start": 1679947621715,
        "execution_millis": 2579458982,
        "deepnote_to_be_reexecuted": true,
        "deepnote_cell_type": "code"
      },
      "outputs": [
        {
          "output_type": "stream",
          "name": "stdout",
          "text": [
            "2124/2124 [==============================] - 14s 7ms/step - loss: -15615097926701004357632.0000 - accuracy: 0.8516\n",
            "Accuracy: 85.16%\n"
          ]
        }
      ],
      "execution_count": null
    },
    {
      "cell_type": "code",
      "source": [
        "predictions = model.predict(X_test).round()\n",
        "predictions[:10]"
      ],
      "metadata": {
        "id": "B904TLKNiA1B",
        "colab": {
          "base_uri": "https://localhost:8080/"
        },
        "cell_id": "54b645448f39407a9dbc9ca83f07ec84",
        "outputId": "b6479cd4-8370-4d4f-e0b8-86eadc56a28b",
        "source_hash": "863db94d",
        "execution_start": 1679948120508,
        "execution_millis": 2578960208,
        "deepnote_to_be_reexecuted": true,
        "deepnote_cell_type": "code"
      },
      "outputs": [
        {
          "output_type": "stream",
          "name": "stdout",
          "text": [
            "2124/2124 [==============================] - 11s 5ms/step\n"
          ]
        },
        {
          "output_type": "execute_result",
          "data": {
            "text/plain": [
              "array([[1.],\n",
              "       [1.],\n",
              "       [1.],\n",
              "       [1.],\n",
              "       [1.],\n",
              "       [1.],\n",
              "       [1.],\n",
              "       [1.],\n",
              "       [1.],\n",
              "       [1.]], dtype=float32)"
            ]
          },
          "metadata": {},
          "execution_count": 27
        }
      ],
      "execution_count": null
    },
    {
      "cell_type": "code",
      "source": [
        "predictions\n",
        "#= [1 if item == '1' else 0 if item== 0 else 2 if item=2 for item in predictions]\n",
        "predictions[:10]"
      ],
      "metadata": {
        "id": "HVjbqjaopxU-",
        "colab": {
          "base_uri": "https://localhost:8080/"
        },
        "cell_id": "2a45ee362012456aa73251dd77f51299",
        "outputId": "e649cc17-faca-4324-cfbb-7e6c486364ba",
        "source_hash": "435c38ab",
        "execution_start": 1679948171118,
        "execution_millis": 2578909599,
        "deepnote_to_be_reexecuted": true,
        "deepnote_cell_type": "code"
      },
      "outputs": [
        {
          "output_type": "execute_result",
          "data": {
            "text/plain": [
              "array([[1.],\n",
              "       [1.],\n",
              "       [1.],\n",
              "       [1.],\n",
              "       [1.],\n",
              "       [1.],\n",
              "       [1.],\n",
              "       [1.],\n",
              "       [1.],\n",
              "       [1.]], dtype=float32)"
            ]
          },
          "metadata": {},
          "execution_count": 28
        }
      ],
      "execution_count": null
    },
    {
      "cell_type": "code",
      "source": [
        "test_relevences"
      ],
      "metadata": {
        "cell_id": "09be41b200fe43a99dea8e7ecf1a7a92",
        "source_hash": "99b85632",
        "execution_start": 1679948171121,
        "execution_millis": 2578909597,
        "deepnote_to_be_reexecuted": true,
        "deepnote_cell_type": "code",
        "colab": {
          "base_uri": "https://localhost:8080/"
        },
        "id": "aSF6irQY5ZGa",
        "outputId": "a0ca5822-6a2d-4c7e-baba-e2c033f51b21"
      },
      "outputs": [
        {
          "output_type": "execute_result",
          "data": {
            "text/plain": [
              "array([1, 1, 1, ..., 1, 1, 1])"
            ]
          },
          "metadata": {},
          "execution_count": 29
        }
      ],
      "execution_count": null
    },
    {
      "cell_type": "code",
      "source": [
        "predictions"
      ],
      "metadata": {
        "cell_id": "8c9e749f91ac4d7aba8b658ee340955a",
        "source_hash": "463ff82d",
        "execution_start": 1679948171146,
        "execution_millis": 2578909560,
        "deepnote_to_be_reexecuted": true,
        "deepnote_cell_type": "code",
        "colab": {
          "base_uri": "https://localhost:8080/"
        },
        "id": "5L8sbRn25ZGa",
        "outputId": "6e8c89bb-b5ce-415f-833d-ab76e56c0035"
      },
      "outputs": [
        {
          "output_type": "execute_result",
          "data": {
            "text/plain": [
              "array([[1.],\n",
              "       [1.],\n",
              "       [1.],\n",
              "       ...,\n",
              "       [1.],\n",
              "       [1.],\n",
              "       [1.]], dtype=float32)"
            ]
          },
          "metadata": {},
          "execution_count": 30
        }
      ],
      "execution_count": null
    },
    {
      "cell_type": "code",
      "source": [
        "from sklearn.metrics import confusion_matrix, classification_report\n",
        "#CNN\n",
        "labels = ['Relevent', 'Irrelevant','Mixed_class']\n",
        "print(classification_report(test_relevences, predictions))\n",
        "pd.DataFrame(confusion_matrix(test_relevences, predictions), index=labels, columns=labels)"
      ],
      "metadata": {
        "id": "mINpo7mDpxVC",
        "colab": {
          "height": 449,
          "base_uri": "https://localhost:8080/"
        },
        "cell_id": "d726e9536efc44f9ba6d45e32650abcf",
        "outputId": "d1efc829-37c2-4354-e9f0-c9aae46c3a44",
        "source_hash": "a9c1396e",
        "execution_start": 1679948171150,
        "execution_millis": 2578909557,
        "deepnote_to_be_reexecuted": true,
        "deepnote_cell_type": "code"
      },
      "outputs": [
        {
          "output_type": "stream",
          "name": "stdout",
          "text": [
            "              precision    recall  f1-score   support\n",
            "\n",
            "           0       0.28      0.19      0.22      4867\n",
            "           1       0.88      0.96      0.92     59278\n",
            "           2       0.00      0.00      0.00      3800\n",
            "\n",
            "    accuracy                           0.85     67945\n",
            "   macro avg       0.39      0.38      0.38     67945\n",
            "weighted avg       0.79      0.85      0.82     67945\n",
            "\n"
          ]
        },
        {
          "output_type": "stream",
          "name": "stderr",
          "text": [
            "/usr/local/lib/python3.9/dist-packages/sklearn/metrics/_classification.py:1344: UndefinedMetricWarning: Precision and F-score are ill-defined and being set to 0.0 in labels with no predicted samples. Use `zero_division` parameter to control this behavior.\n",
            "  _warn_prf(average, modifier, msg_start, len(result))\n",
            "/usr/local/lib/python3.9/dist-packages/sklearn/metrics/_classification.py:1344: UndefinedMetricWarning: Precision and F-score are ill-defined and being set to 0.0 in labels with no predicted samples. Use `zero_division` parameter to control this behavior.\n",
            "  _warn_prf(average, modifier, msg_start, len(result))\n",
            "/usr/local/lib/python3.9/dist-packages/sklearn/metrics/_classification.py:1344: UndefinedMetricWarning: Precision and F-score are ill-defined and being set to 0.0 in labels with no predicted samples. Use `zero_division` parameter to control this behavior.\n",
            "  _warn_prf(average, modifier, msg_start, len(result))\n"
          ]
        },
        {
          "output_type": "execute_result",
          "data": {
            "text/plain": [
              "             Relevent  Irrelevant  Mixed_class\n",
              "Relevent          919        3948            0\n",
              "Irrelevant       2334       56944            0\n",
              "Mixed_class        71        3729            0"
            ],
            "text/html": [
              "\n",
              "  <div id=\"df-22e6f6f1-1b58-40ff-a6b0-736570e91232\">\n",
              "    <div class=\"colab-df-container\">\n",
              "      <div>\n",
              "<style scoped>\n",
              "    .dataframe tbody tr th:only-of-type {\n",
              "        vertical-align: middle;\n",
              "    }\n",
              "\n",
              "    .dataframe tbody tr th {\n",
              "        vertical-align: top;\n",
              "    }\n",
              "\n",
              "    .dataframe thead th {\n",
              "        text-align: right;\n",
              "    }\n",
              "</style>\n",
              "<table border=\"1\" class=\"dataframe\">\n",
              "  <thead>\n",
              "    <tr style=\"text-align: right;\">\n",
              "      <th></th>\n",
              "      <th>Relevent</th>\n",
              "      <th>Irrelevant</th>\n",
              "      <th>Mixed_class</th>\n",
              "    </tr>\n",
              "  </thead>\n",
              "  <tbody>\n",
              "    <tr>\n",
              "      <th>Relevent</th>\n",
              "      <td>919</td>\n",
              "      <td>3948</td>\n",
              "      <td>0</td>\n",
              "    </tr>\n",
              "    <tr>\n",
              "      <th>Irrelevant</th>\n",
              "      <td>2334</td>\n",
              "      <td>56944</td>\n",
              "      <td>0</td>\n",
              "    </tr>\n",
              "    <tr>\n",
              "      <th>Mixed_class</th>\n",
              "      <td>71</td>\n",
              "      <td>3729</td>\n",
              "      <td>0</td>\n",
              "    </tr>\n",
              "  </tbody>\n",
              "</table>\n",
              "</div>\n",
              "      <button class=\"colab-df-convert\" onclick=\"convertToInteractive('df-22e6f6f1-1b58-40ff-a6b0-736570e91232')\"\n",
              "              title=\"Convert this dataframe to an interactive table.\"\n",
              "              style=\"display:none;\">\n",
              "        \n",
              "  <svg xmlns=\"http://www.w3.org/2000/svg\" height=\"24px\"viewBox=\"0 0 24 24\"\n",
              "       width=\"24px\">\n",
              "    <path d=\"M0 0h24v24H0V0z\" fill=\"none\"/>\n",
              "    <path d=\"M18.56 5.44l.94 2.06.94-2.06 2.06-.94-2.06-.94-.94-2.06-.94 2.06-2.06.94zm-11 1L8.5 8.5l.94-2.06 2.06-.94-2.06-.94L8.5 2.5l-.94 2.06-2.06.94zm10 10l.94 2.06.94-2.06 2.06-.94-2.06-.94-.94-2.06-.94 2.06-2.06.94z\"/><path d=\"M17.41 7.96l-1.37-1.37c-.4-.4-.92-.59-1.43-.59-.52 0-1.04.2-1.43.59L10.3 9.45l-7.72 7.72c-.78.78-.78 2.05 0 2.83L4 21.41c.39.39.9.59 1.41.59.51 0 1.02-.2 1.41-.59l7.78-7.78 2.81-2.81c.8-.78.8-2.07 0-2.86zM5.41 20L4 18.59l7.72-7.72 1.47 1.35L5.41 20z\"/>\n",
              "  </svg>\n",
              "      </button>\n",
              "      \n",
              "  <style>\n",
              "    .colab-df-container {\n",
              "      display:flex;\n",
              "      flex-wrap:wrap;\n",
              "      gap: 12px;\n",
              "    }\n",
              "\n",
              "    .colab-df-convert {\n",
              "      background-color: #E8F0FE;\n",
              "      border: none;\n",
              "      border-radius: 50%;\n",
              "      cursor: pointer;\n",
              "      display: none;\n",
              "      fill: #1967D2;\n",
              "      height: 32px;\n",
              "      padding: 0 0 0 0;\n",
              "      width: 32px;\n",
              "    }\n",
              "\n",
              "    .colab-df-convert:hover {\n",
              "      background-color: #E2EBFA;\n",
              "      box-shadow: 0px 1px 2px rgba(60, 64, 67, 0.3), 0px 1px 3px 1px rgba(60, 64, 67, 0.15);\n",
              "      fill: #174EA6;\n",
              "    }\n",
              "\n",
              "    [theme=dark] .colab-df-convert {\n",
              "      background-color: #3B4455;\n",
              "      fill: #D2E3FC;\n",
              "    }\n",
              "\n",
              "    [theme=dark] .colab-df-convert:hover {\n",
              "      background-color: #434B5C;\n",
              "      box-shadow: 0px 1px 3px 1px rgba(0, 0, 0, 0.15);\n",
              "      filter: drop-shadow(0px 1px 2px rgba(0, 0, 0, 0.3));\n",
              "      fill: #FFFFFF;\n",
              "    }\n",
              "  </style>\n",
              "\n",
              "      <script>\n",
              "        const buttonEl =\n",
              "          document.querySelector('#df-22e6f6f1-1b58-40ff-a6b0-736570e91232 button.colab-df-convert');\n",
              "        buttonEl.style.display =\n",
              "          google.colab.kernel.accessAllowed ? 'block' : 'none';\n",
              "\n",
              "        async function convertToInteractive(key) {\n",
              "          const element = document.querySelector('#df-22e6f6f1-1b58-40ff-a6b0-736570e91232');\n",
              "          const dataTable =\n",
              "            await google.colab.kernel.invokeFunction('convertToInteractive',\n",
              "                                                     [key], {});\n",
              "          if (!dataTable) return;\n",
              "\n",
              "          const docLinkHtml = 'Like what you see? Visit the ' +\n",
              "            '<a target=\"_blank\" href=https://colab.research.google.com/notebooks/data_table.ipynb>data table notebook</a>'\n",
              "            + ' to learn more about interactive tables.';\n",
              "          element.innerHTML = '';\n",
              "          dataTable['output_type'] = 'display_data';\n",
              "          await google.colab.output.renderOutput(dataTable, element);\n",
              "          const docLink = document.createElement('div');\n",
              "          docLink.innerHTML = docLinkHtml;\n",
              "          element.appendChild(docLink);\n",
              "        }\n",
              "      </script>\n",
              "    </div>\n",
              "  </div>\n",
              "  "
            ]
          },
          "metadata": {},
          "execution_count": 31
        }
      ],
      "execution_count": null
    },
    {
      "cell_type": "markdown",
      "source": [
        "<a style='text-decoration:none;line-height:16px;display:flex;color:#5B5B62;padding:10px;justify-content:end;' href='https://deepnote.com?utm_source=created-in-deepnote-cell&projectId=378be7ce-053e-4e53-a8d7-d43f011c835b' target=\"_blank\">\n",
        "<img alt='Created in deepnote.com' style='display:inline;max-height:16px;margin:0px;margin-right:7.5px;' src='data:image/svg+xml;base64,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' > </img>\n",
        "Created in <span style='font-weight:600;margin-left:4px;'>Deepnote</span></a>"
      ],
      "metadata": {
        "created_in_deepnote_cell": true,
        "deepnote_cell_type": "markdown",
        "id": "PY-OpS895ZGa"
      }
    }
  ],
  "nbformat": 4,
  "nbformat_minor": 0,
  "metadata": {
    "colab": {
      "provenance": [],
      "include_colab_link": true
    },
    "deepnote": {},
    "kernelspec": {
      "name": "python3",
      "language": "python",
      "display_name": "Python 3"
    },
    "accelerator": "GPU",
    "language_info": {
      "name": "python",
      "version": "3.6.8",
      "mimetype": "text/x-python",
      "file_extension": ".py",
      "pygments_lexer": "ipython3",
      "codemirror_mode": {
        "name": "ipython",
        "version": 3
      },
      "nbconvert_exporter": "python"
    },
    "anaconda-cloud": {},
    "deepnote_notebook_id": "66941995d112477e918a138a77a204d9",
    "deepnote_execution_queue": []
  }
}
