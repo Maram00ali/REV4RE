{
  "nbformat": 4,
  "nbformat_minor": 0,
  "metadata": {
    "colab": {
      "provenance": [],
      "authorship_tag": "ABX9TyNkgzZW8wlZ9mmDNPC5aVOb",
      "include_colab_link": true
    },
    "kernelspec": {
      "name": "python3",
      "display_name": "Python 3"
    },
    "language_info": {
      "name": "python"
    }
  },
  "cells": [
    {
      "cell_type": "markdown",
      "metadata": {
        "id": "view-in-github",
        "colab_type": "text"
      },
      "source": [
        "<a href=\"https://colab.research.google.com/github/Maram00ali/REV4RE/blob/main/LSTM_last.ipynb\" target=\"_parent\"><img src=\"https://colab.research.google.com/assets/colab-badge.svg\" alt=\"Open In Colab\"/></a>"
      ]
    },
    {
      "cell_type": "code",
      "execution_count": null,
      "metadata": {
        "id": "DFwpIYBVP_Qm"
      },
      "outputs": [],
      "source": [
        "!pip install pydot==1.4.2"
      ]
    },
    {
      "cell_type": "code",
      "metadata": {
        "cell_id": "9647ad46f4f947de9a5ebbfe9880b058",
        "source_hash": "5d259a58",
        "execution_start": 1680024967805,
        "execution_millis": 6729,
        "deepnote_to_be_reexecuted": false,
        "deepnote_cell_type": "code",
        "id": "8S8OkY62V93h"
      },
      "source": [
        "import matplotlib as mpl\n",
        "import matplotlib.pyplot as plt\n",
        "import os\n",
        "import re\n",
        "import shutil\n",
        "import string\n",
        "import tensorflow as tf\n",
        "from tensorflow.keras import regularizers\n",
        "\n",
        "from tensorflow.keras import layers\n",
        "from tensorflow.keras import losses\n",
        "\n",
        "from collections import Counter\n",
        "\n",
        "\n",
        "import pandas as pd\n",
        "import numpy as np\n",
        "\n",
        "import sklearn\n",
        "\n",
        "\n",
        "from sklearn.model_selection import train_test_split\n",
        "from sklearn.metrics import classification_report , accuracy_score\n",
        "\n",
        "\n",
        "from tensorflow.keras import preprocessing\n",
        "from tensorflow.keras.preprocessing.text import Tokenizer\n",
        "from tensorflow.keras.preprocessing.sequence import pad_sequences\n",
        "\n",
        "\n",
        "import seaborn as sns\n",
        "\n",
        "import pydot"
      ],
      "execution_count": null,
      "outputs": []
    },
    {
      "cell_type": "code",
      "metadata": {
        "cell_id": "107ccbf4952e4005b00faa795571a261",
        "source_hash": "5cd864d7",
        "execution_start": 1680024974535,
        "execution_millis": 4,
        "deepnote_to_be_reexecuted": false,
        "deepnote_cell_type": "code",
        "id": "6lbsev_xV93i"
      },
      "source": [
        "print(tf.__version__)\n",
        "#policy = mixed_precision.Policy('mixed_float16')\n",
        "#mixed_precision.set_policy(policy)"
      ],
      "execution_count": null,
      "outputs": []
    },
    {
      "cell_type": "code",
      "metadata": {
        "cell_id": "07605865be614481bdb714a60cffa551",
        "source_hash": "5ffb69de",
        "execution_start": 1680024974540,
        "execution_millis": 4,
        "deepnote_to_be_reexecuted": false,
        "deepnote_cell_type": "code",
        "id": "IrZ5KqTgV93i"
      },
      "source": [
        "if tf.test.gpu_device_name():\n",
        "    print('Default GPU Device:{}'.format(tf.test.gpu_device_name()))\n",
        "\n",
        "else:\n",
        "    print(\"Please install GPU version of TF\")"
      ],
      "execution_count": null,
      "outputs": []
    },
    {
      "cell_type": "code",
      "metadata": {
        "cell_id": "d42605e496a94bdf845af6e7e26d7ffc",
        "source_hash": "e19e8e51",
        "execution_start": 1680024974589,
        "execution_millis": 2,
        "deepnote_to_be_reexecuted": false,
        "deepnote_cell_type": "code",
        "id": "jXaCIbPHV93j"
      },
      "source": [
        "\n",
        "\n",
        "\n",
        "def clean_text(text ):\n",
        "    delete_dict = {sp_character: '' for sp_character in string.punctuation}\n",
        "    delete_dict[' '] = ' '\n",
        "    table = str.maketrans(delete_dict)\n",
        "    text1 = text.translate(table)\n",
        "    #print('cleaned:'+text1)\n",
        "    textArr= text1.split()\n",
        "    text2 = ' '.join([w for w in textArr if ( not w.isdigit() and  ( not w.isdigit() and len(w)>2))])\n",
        "\n",
        "    return text2.lower()\n",
        "\n"
      ],
      "execution_count": null,
      "outputs": []
    },
    {
      "cell_type": "code",
      "metadata": {
        "source_hash": "e9e99d83",
        "execution_start": 1680024974590,
        "execution_millis": 116,
        "deepnote_to_be_reexecuted": false,
        "cell_id": "d67f95bac80c4b8ab4f8c21421c19d2d",
        "deepnote_cell_type": "code",
        "id": "UeNbK16PV93k"
      },
      "source": [
        "review_data= pd.read_csv(\"dataset path\")\n",
        "print(review_data.head(10))\n",
        "print(len(review_data))\n"
      ],
      "execution_count": null,
      "outputs": []
    },
    {
      "cell_type": "code",
      "metadata": {
        "cell_id": "2efe45bd565342e6b1a24586d0fc145f",
        "source_hash": "7fe6725e",
        "execution_start": 1680024974752,
        "execution_millis": 1429,
        "deepnote_to_be_reexecuted": false,
        "deepnote_cell_type": "code",
        "id": "nUsGst13V93k"
      },
      "source": [
        "review_data.dropna(axis = 0, how ='any',inplace=True)\n",
        "\n",
        "\n",
        "\n",
        "\n",
        "\n",
        "#review_data['reviewText'] = review_data['reviewText'].apply(remove_url)\n",
        "review_data['reviewText'] = review_data['Review'].apply(clean_text)\n",
        "review_data['Num_words_text'] = review_data['Review'].apply(lambda x:len(str(x).split()))\n",
        "\n",
        "print('-------Dataset --------')\n",
        "print(review_data['RivewRelevance'].value_counts())\n",
        "print(len(review_data))\n",
        "print('-------------------------')\n",
        "max_review_data_sentence_length  = review_data['Num_words_text'].max()\n",
        "\n",
        "print('Train Max Sentence Length :'+str(max_review_data_sentence_length))\n",
        "\n",
        "\n",
        "#all_sentences = train_data['text'].tolist() + test_data['text'].tolist()\n"
      ],
      "execution_count": null,
      "outputs": []
    },
    {
      "cell_type": "code",
      "metadata": {
        "cell_id": "fae85c720ee34c02b7acb0613a6ccab8",
        "source_hash": "c8a08f8b",
        "execution_start": 1680024976176,
        "execution_millis": 9,
        "deepnote_to_be_reexecuted": false,
        "deepnote_cell_type": "code",
        "id": "qZRjoiVzV93k"
      },
      "source": [
        "review_data['Num_words_text'].describe()"
      ],
      "execution_count": null,
      "outputs": []
    },
    {
      "cell_type": "code",
      "metadata": {
        "cell_id": "d0a9756fef394897b3fbf5cd02e91959",
        "source_hash": "5ed79e99",
        "execution_start": 1680024976190,
        "execution_millis": 46,
        "deepnote_to_be_reexecuted": false,
        "deepnote_cell_type": "code",
        "id": "P27Eb8vtV93k"
      },
      "source": [
        "sns.set(style=\"whitegrid\")\n",
        "sns.boxplot(x=review_data['Num_words_text'])"
      ],
      "execution_count": null,
      "outputs": []
    },
    {
      "cell_type": "code",
      "metadata": {
        "cell_id": "b2df6fa408cd44358edb8f51e46dc956",
        "source_hash": "e1d14922",
        "execution_start": 1680024976420,
        "execution_millis": 13,
        "deepnote_to_be_reexecuted": false,
        "deepnote_cell_type": "code",
        "id": "858rm6p-V93l"
      },
      "source": [
        "mask = (review_data['Num_words_text'] < 400) & (review_data['Num_words_text'] >=20)\n",
        "df_short_reviews = review_data[mask]\n",
        "print('No of Short reviews')\n",
        "print(len(df_short_reviews))\n",
        "\n",
        "mask = review_data['Num_words_text'] >= 400\n",
        "df_long_reviews = review_data[mask]\n",
        "print('No of Long reviews')\n",
        "print(len(df_long_reviews))"
      ],
      "execution_count": null,
      "outputs": []
    },
    {
      "cell_type": "code",
      "metadata": {
        "cell_id": "169a4dd3de094344b79e90063a62da51",
        "source_hash": "403f2f20",
        "execution_start": 1680024976474,
        "execution_millis": 4,
        "deepnote_to_be_reexecuted": false,
        "deepnote_cell_type": "code",
        "id": "nYDXiDfTV93l"
      },
      "source": [
        "print(df_short_reviews['Num_words_text'].max())"
      ],
      "execution_count": null,
      "outputs": []
    },
    {
      "cell_type": "code",
      "metadata": {
        "cell_id": "c3d46eab678c4d0c96ad22f8076aa925",
        "source_hash": "476effe1",
        "execution_start": 1680024976475,
        "execution_millis": 3,
        "deepnote_to_be_reexecuted": false,
        "deepnote_cell_type": "code",
        "id": "uW8d2r4tV93l"
      },
      "source": [
        "def get_sentiment(rating):\n",
        "    if rating == 5 or rating == 4 or rating ==3:\n",
        "        return 1\n",
        "    else:\n",
        "        return 0\n"
      ],
      "execution_count": null,
      "outputs": []
    },
    {
      "cell_type": "code",
      "metadata": {
        "cell_id": "a5ae857b2db84f6683cfdc87712f0c8f",
        "source_hash": "33c59838",
        "execution_start": 1680024976476,
        "execution_millis": 3,
        "deepnote_to_be_reexecuted": false,
        "deepnote_cell_type": "code",
        "id": "95TTqFUKV93m"
      },
      "source": [
        "#df_short_reviews['rating'].value_counts()\n",
        "filtered_data = df_short_reviews.groupby('RivewRelevance').filter(lambda x: len(x) >= 20)\n",
        "print(len(filtered_data))\n",
        "print(filtered_data ['RivewRelevance'].value_counts())\n",
        "#filtered_data ['sentiment'] = filtered_data ['rating'].apply(get_sentiment)\n",
        "#train_data = df_short_reviews.sample(n=35804, random_state =0)\n",
        "train_data = filtered_data[['Review','RivewRelevance']]\n",
        "print('Train data')\n",
        "print(train_data['RivewRelevance'].value_counts())\n",
        "\n",
        "#Create Test Data\n",
        "mask = review_data['Num_words_text'] < 100\n",
        "df_short_reviews = review_data[mask]\n",
        "filtered_data = df_short_reviews.groupby('RivewRelevance').filter(lambda x: len(x) >= 10)\n",
        "print(filtered_data ['RivewRelevance'].value_counts())\n",
        "#filtered_data ['sentiment'] = filtered_data ['rating'].apply(get_sentiment)\n",
        "#train_data = df_short_reviews.sample(n=35804, random_state =0)\n",
        "test_data = filtered_data[['Review','RivewRelevance']]\n",
        "print('Test data')\n",
        "print(test_data['RivewRelevance'].value_counts())\n",
        "\n",
        "\n"
      ],
      "execution_count": null,
      "outputs": []
    },
    {
      "cell_type": "code",
      "metadata": {
        "cell_id": "ca55c05030404377838ae2787337859a",
        "source_hash": "603f390a",
        "execution_start": 1680025289245,
        "execution_millis": 2,
        "deepnote_to_be_reexecuted": false,
        "deepnote_cell_type": "code",
        "id": "YCCFT4yhV93m"
      },
      "source": [
        "train_data['RivewRelevance'].value_counts()"
      ],
      "execution_count": null,
      "outputs": []
    },
    {
      "cell_type": "code",
      "metadata": {
        "cell_id": "30d20e00ad364d8b920b50e250b4b633",
        "source_hash": "6b5a1523",
        "execution_start": 1680025289246,
        "execution_millis": 19,
        "deepnote_to_be_reexecuted": false,
        "deepnote_cell_type": "code",
        "id": "kHshQk0EV93m"
      },
      "source": [
        "X_train, X_valid, y_train, y_valid = train_test_split(train_data['Review'].tolist(),\\\n",
        "                                                      train_data['RivewRelevance'].tolist(),\\\n",
        "                                                      test_size=0.2,\\\n",
        "                                                      stratify = train_data['RivewRelevance'].tolist(),\\\n",
        "                                                      random_state=0)\n",
        "\n",
        "\n",
        "print('Train data len:'+str(len(X_train)))\n",
        "print('Class distribution'+str(Counter(y_train)))\n",
        "print('Valid data len:'+str(len(X_valid)))\n",
        "print('Class distribution'+ str(Counter(y_valid)))"
      ],
      "execution_count": null,
      "outputs": []
    },
    {
      "cell_type": "code",
      "metadata": {
        "cell_id": "829d4b79d70e4fa6978a7f4d2507d802",
        "source_hash": "4288bee",
        "execution_start": 1680025289320,
        "execution_millis": 600,
        "deepnote_to_be_reexecuted": false,
        "deepnote_cell_type": "code",
        "id": "gf6p6FeiV93m"
      },
      "source": [
        "num_words = 50000\n",
        "\n",
        "tokenizer = Tokenizer(num_words=num_words,oov_token=\"unk\")\n",
        "tokenizer.fit_on_texts(X_train)\n",
        "\n",
        "\n",
        "print(str(tokenizer.texts_to_sequences(['xyz how are you'])))\n",
        "\n",
        "\n"
      ],
      "execution_count": null,
      "outputs": []
    },
    {
      "cell_type": "code",
      "metadata": {
        "cell_id": "35906ef0a4514c0d8a4edb3a64110473",
        "source_hash": "ad61f72a",
        "execution_start": 1680025289940,
        "execution_millis": 2811,
        "deepnote_to_be_reexecuted": false,
        "deepnote_cell_type": "code",
        "id": "5phJ7Q6CV93n"
      },
      "source": [
        "\n",
        "\n",
        "\n",
        "x_train = np.array( tokenizer.texts_to_sequences(X_train) )\n",
        "x_valid = np.array( tokenizer.texts_to_sequences(X_valid) )\n",
        "x_test  = np.array( tokenizer.texts_to_sequences(test_data['Review'].tolist()) )\n",
        "\n",
        "\n",
        "\n",
        "x_train = pad_sequences(x_train, padding='post', maxlen=100)\n",
        "x_valid = pad_sequences(x_valid, padding='post', maxlen=100)\n",
        "x_test = pad_sequences(x_test, padding='post', maxlen=100)\n",
        "\n",
        "\n",
        "\n",
        "train_labels = np.asarray(y_train )\n",
        "valid_labels = np.asarray( y_valid)\n",
        "\n",
        "test_labels = np.asarray(test_data['RivewRelevance'].tolist())\n",
        "\n",
        "print('Train data len:'+str(len(x_train)))\n",
        "print('Class distribution'+str(Counter(train_labels)))\n",
        "\n",
        "print('Validation data len:'+str(len(x_valid)))\n",
        "print('Class distribution'+str(Counter(valid_labels)))\n",
        "\n",
        "print('Test data len:'+str(len(x_test)))\n",
        "print('Class distribution'+str(Counter(test_labels)))\n",
        "\n",
        "\n",
        "train_ds = tf.data.Dataset.from_tensor_slices((x_train,train_labels))\n",
        "valid_ds = tf.data.Dataset.from_tensor_slices((x_valid,valid_labels))\n",
        "test_ds = tf.data.Dataset.from_tensor_slices((x_test,test_labels))\n"
      ],
      "execution_count": null,
      "outputs": []
    },
    {
      "cell_type": "code",
      "metadata": {
        "cell_id": "e0f2c33ed0ba4e2184be311c0b677f1d",
        "source_hash": "7dc60ae7",
        "execution_start": 1680025292755,
        "execution_millis": 68,
        "deepnote_to_be_reexecuted": false,
        "deepnote_cell_type": "code",
        "id": "hFyzr8mDV93n"
      },
      "source": [
        "count =0\n",
        "print('======Train dataset ====')\n",
        "for value,label in train_ds:\n",
        "    count += 1\n",
        "    print(value,label)\n",
        "    if count==1:\n",
        "        break\n",
        "count =0\n",
        "print('======Validation dataset ====')\n",
        "for value,label in valid_ds:\n",
        "    count += 1\n",
        "    print(value,label)\n",
        "    if count==1:\n",
        "        break\n",
        "count =0\n",
        "print('======Test dataset ====')\n",
        "for value,label in test_ds:\n",
        "    count += 1\n",
        "    print(value,label)\n",
        "    if count==1:\n",
        "        break"
      ],
      "execution_count": null,
      "outputs": []
    },
    {
      "cell_type": "code",
      "metadata": {
        "cell_id": "9647ad46f4f947de9a5ebbfe9880b058",
        "source_hash": "5d259a58",
        "execution_start": 1680024967805,
        "execution_millis": 6729,
        "deepnote_to_be_reexecuted": false,
        "deepnote_cell_type": "code",
        "id": "eYosH_VKQUg2"
      },
      "source": [
        "import matplotlib as mpl\n",
        "import matplotlib.pyplot as plt\n",
        "import os\n",
        "import re\n",
        "import shutil\n",
        "import string\n",
        "import tensorflow as tf\n",
        "from tensorflow.keras import regularizers\n",
        "\n",
        "from tensorflow.keras import layers\n",
        "from tensorflow.keras import losses\n",
        "\n",
        "from collections import Counter\n",
        "\n",
        "\n",
        "import pandas as pd\n",
        "import numpy as np\n",
        "\n",
        "import sklearn\n",
        "\n",
        "\n",
        "from sklearn.model_selection import train_test_split\n",
        "from sklearn.metrics import classification_report , accuracy_score\n",
        "\n",
        "\n",
        "from tensorflow.keras import preprocessing\n",
        "from tensorflow.keras.preprocessing.text import Tokenizer\n",
        "from tensorflow.keras.preprocessing.sequence import pad_sequences\n",
        "\n",
        "\n",
        "import seaborn as sns\n",
        "\n",
        "import pydot"
      ],
      "execution_count": null,
      "outputs": []
    },
    {
      "cell_type": "code",
      "metadata": {
        "cell_id": "107ccbf4952e4005b00faa795571a261",
        "source_hash": "5cd864d7",
        "execution_start": 1680024974535,
        "execution_millis": 4,
        "deepnote_to_be_reexecuted": false,
        "deepnote_cell_type": "code",
        "id": "tfPI_nCrQUg3"
      },
      "source": [
        "print(tf.__version__)\n",
        "#policy = mixed_precision.Policy('mixed_float16')\n",
        "#mixed_precision.set_policy(policy)"
      ],
      "execution_count": null,
      "outputs": []
    },
    {
      "cell_type": "code",
      "metadata": {
        "cell_id": "07605865be614481bdb714a60cffa551",
        "source_hash": "5ffb69de",
        "execution_start": 1680024974540,
        "execution_millis": 4,
        "deepnote_to_be_reexecuted": false,
        "deepnote_cell_type": "code",
        "id": "2gs7hGAiQUg3"
      },
      "source": [
        "if tf.test.gpu_device_name():\n",
        "    print('Default GPU Device:{}'.format(tf.test.gpu_device_name()))\n",
        "\n",
        "else:\n",
        "    print(\"Please install GPU version of TF\")"
      ],
      "execution_count": null,
      "outputs": []
    },
    {
      "cell_type": "code",
      "metadata": {
        "cell_id": "d42605e496a94bdf845af6e7e26d7ffc",
        "source_hash": "e19e8e51",
        "execution_start": 1680024974589,
        "execution_millis": 2,
        "deepnote_to_be_reexecuted": false,
        "deepnote_cell_type": "code",
        "id": "1mNA4ODWQUg3"
      },
      "source": [
        "\n",
        "\n",
        "\n",
        "def clean_text(text ):\n",
        "    delete_dict = {sp_character: '' for sp_character in string.punctuation}\n",
        "    delete_dict[' '] = ' '\n",
        "    table = str.maketrans(delete_dict)\n",
        "    text1 = text.translate(table)\n",
        "    #print('cleaned:'+text1)\n",
        "    textArr= text1.split()\n",
        "    text2 = ' '.join([w for w in textArr if ( not w.isdigit() and  ( not w.isdigit() and len(w)>2))])\n",
        "\n",
        "    return text2.lower()\n",
        "\n"
      ],
      "execution_count": null,
      "outputs": []
    },
    {
      "cell_type": "code",
      "metadata": {
        "source_hash": "e9e99d83",
        "execution_start": 1680024974590,
        "execution_millis": 116,
        "deepnote_to_be_reexecuted": false,
        "cell_id": "d67f95bac80c4b8ab4f8c21421c19d2d",
        "deepnote_cell_type": "code",
        "id": "XKOPJY1PQUg3"
      },
      "source": [
        "review_data= pd.read_csv(\"dataset path\")\n",
        "print(review_data.head(10))\n",
        "print(len(review_data))\n"
      ],
      "execution_count": null,
      "outputs": []
    },
    {
      "cell_type": "code",
      "metadata": {
        "cell_id": "2efe45bd565342e6b1a24586d0fc145f",
        "source_hash": "7fe6725e",
        "execution_start": 1680024974752,
        "execution_millis": 1429,
        "deepnote_to_be_reexecuted": false,
        "deepnote_cell_type": "code",
        "id": "V8ukskliQUg4"
      },
      "source": [
        "review_data.dropna(axis = 0, how ='any',inplace=True)\n",
        "\n",
        "\n",
        "\n",
        "\n",
        "\n",
        "#review_data['reviewText'] = review_data['reviewText'].apply(remove_url)\n",
        "review_data['reviewText'] = review_data['Review'].apply(clean_text)\n",
        "review_data['Num_words_text'] = review_data['Review'].apply(lambda x:len(str(x).split()))\n",
        "\n",
        "print('-------Dataset --------')\n",
        "print(review_data['RivewRelevance'].value_counts())\n",
        "print(len(review_data))\n",
        "print('-------------------------')\n",
        "max_review_data_sentence_length  = review_data['Num_words_text'].max()\n",
        "\n",
        "print('Train Max Sentence Length :'+str(max_review_data_sentence_length))\n",
        "\n",
        "\n",
        "#all_sentences = train_data['text'].tolist() + test_data['text'].tolist()\n"
      ],
      "execution_count": null,
      "outputs": []
    },
    {
      "cell_type": "code",
      "metadata": {
        "cell_id": "fae85c720ee34c02b7acb0613a6ccab8",
        "source_hash": "c8a08f8b",
        "execution_start": 1680024976176,
        "execution_millis": 9,
        "deepnote_to_be_reexecuted": false,
        "deepnote_cell_type": "code",
        "id": "x7Ll3hhaQUg4"
      },
      "source": [
        "review_data['Num_words_text'].describe()"
      ],
      "execution_count": null,
      "outputs": []
    },
    {
      "cell_type": "code",
      "metadata": {
        "cell_id": "d0a9756fef394897b3fbf5cd02e91959",
        "source_hash": "5ed79e99",
        "execution_start": 1680024976190,
        "execution_millis": 46,
        "deepnote_to_be_reexecuted": false,
        "deepnote_cell_type": "code",
        "id": "OoC53k4RQUg4"
      },
      "source": [
        "sns.set(style=\"whitegrid\")\n",
        "sns.boxplot(x=review_data['Num_words_text'])"
      ],
      "execution_count": null,
      "outputs": []
    },
    {
      "cell_type": "code",
      "metadata": {
        "cell_id": "b2df6fa408cd44358edb8f51e46dc956",
        "source_hash": "e1d14922",
        "execution_start": 1680024976420,
        "execution_millis": 13,
        "deepnote_to_be_reexecuted": false,
        "deepnote_cell_type": "code",
        "id": "ILXLwcd7QUg4"
      },
      "source": [
        "mask = (review_data['Num_words_text'] < 400) & (review_data['Num_words_text'] >=20)\n",
        "df_short_reviews = review_data[mask]\n",
        "print('No of Short reviews')\n",
        "print(len(df_short_reviews))\n",
        "\n",
        "mask = review_data['Num_words_text'] >= 400\n",
        "df_long_reviews = review_data[mask]\n",
        "print('No of Long reviews')\n",
        "print(len(df_long_reviews))"
      ],
      "execution_count": null,
      "outputs": []
    },
    {
      "cell_type": "code",
      "metadata": {
        "cell_id": "169a4dd3de094344b79e90063a62da51",
        "source_hash": "403f2f20",
        "execution_start": 1680024976474,
        "execution_millis": 4,
        "deepnote_to_be_reexecuted": false,
        "deepnote_cell_type": "code",
        "id": "8mLFBkO-QUg4"
      },
      "source": [
        "print(df_short_reviews['Num_words_text'].max())"
      ],
      "execution_count": null,
      "outputs": []
    },
    {
      "cell_type": "code",
      "metadata": {
        "cell_id": "c3d46eab678c4d0c96ad22f8076aa925",
        "source_hash": "476effe1",
        "execution_start": 1680024976475,
        "execution_millis": 3,
        "deepnote_to_be_reexecuted": false,
        "deepnote_cell_type": "code",
        "id": "IfWnDMMbQUg4"
      },
      "source": [
        "def get_sentiment(rating):\n",
        "    if rating == 5 or rating == 4 or rating ==3:\n",
        "        return 1\n",
        "    else:\n",
        "        return 0\n"
      ],
      "execution_count": null,
      "outputs": []
    },
    {
      "cell_type": "code",
      "metadata": {
        "cell_id": "a5ae857b2db84f6683cfdc87712f0c8f",
        "source_hash": "33c59838",
        "execution_start": 1680024976476,
        "execution_millis": 3,
        "deepnote_to_be_reexecuted": false,
        "deepnote_cell_type": "code",
        "id": "wdvIR0y3QUg4"
      },
      "source": [
        "#df_short_reviews['rating'].value_counts()\n",
        "filtered_data = df_short_reviews.groupby('RivewRelevance').filter(lambda x: len(x) >= 20)\n",
        "print(len(filtered_data))\n",
        "print(filtered_data ['RivewRelevance'].value_counts())\n",
        "#filtered_data ['sentiment'] = filtered_data ['rating'].apply(get_sentiment)\n",
        "#train_data = df_short_reviews.sample(n=35804, random_state =0)\n",
        "train_data = filtered_data[['Review','RivewRelevance']]\n",
        "print('Train data')\n",
        "print(train_data['RivewRelevance'].value_counts())\n",
        "\n",
        "#Create Test Data\n",
        "mask = review_data['Num_words_text'] < 100\n",
        "df_short_reviews = review_data[mask]\n",
        "filtered_data = df_short_reviews.groupby('RivewRelevance').filter(lambda x: len(x) >= 10)\n",
        "print(filtered_data ['RivewRelevance'].value_counts())\n",
        "#filtered_data ['sentiment'] = filtered_data ['rating'].apply(get_sentiment)\n",
        "#train_data = df_short_reviews.sample(n=35804, random_state =0)\n",
        "test_data = filtered_data[['Review','RivewRelevance']]\n",
        "print('Test data')\n",
        "print(test_data['RivewRelevance'].value_counts())\n",
        "\n",
        "\n"
      ],
      "execution_count": null,
      "outputs": []
    },
    {
      "cell_type": "code",
      "metadata": {
        "cell_id": "ca55c05030404377838ae2787337859a",
        "source_hash": "603f390a",
        "execution_start": 1680025289245,
        "execution_millis": 2,
        "deepnote_to_be_reexecuted": false,
        "deepnote_cell_type": "code",
        "id": "Icu5rXt7QUg4"
      },
      "source": [
        "train_data['RivewRelevance'].value_counts()"
      ],
      "execution_count": null,
      "outputs": []
    },
    {
      "cell_type": "code",
      "metadata": {
        "cell_id": "30d20e00ad364d8b920b50e250b4b633",
        "source_hash": "6b5a1523",
        "execution_start": 1680025289246,
        "execution_millis": 19,
        "deepnote_to_be_reexecuted": false,
        "deepnote_cell_type": "code",
        "id": "prYo7DPqQUg4"
      },
      "source": [
        "X_train, X_valid, y_train, y_valid = train_test_split(train_data['Review'].tolist(),\\\n",
        "                                                      train_data['RivewRelevance'].tolist(),\\\n",
        "                                                      test_size=0.2,\\\n",
        "                                                      stratify = train_data['RivewRelevance'].tolist(),\\\n",
        "                                                      random_state=0)\n",
        "\n",
        "\n",
        "print('Train data len:'+str(len(X_train)))\n",
        "print('Class distribution'+str(Counter(y_train)))\n",
        "print('Valid data len:'+str(len(X_valid)))\n",
        "print('Class distribution'+ str(Counter(y_valid)))"
      ],
      "execution_count": null,
      "outputs": []
    },
    {
      "cell_type": "code",
      "metadata": {
        "cell_id": "829d4b79d70e4fa6978a7f4d2507d802",
        "source_hash": "4288bee",
        "execution_start": 1680025289320,
        "execution_millis": 600,
        "deepnote_to_be_reexecuted": false,
        "deepnote_cell_type": "code",
        "id": "OjepV3WZQUg5"
      },
      "source": [
        "num_words = 50000\n",
        "\n",
        "tokenizer = Tokenizer(num_words=num_words,oov_token=\"unk\")\n",
        "tokenizer.fit_on_texts(X_train)\n",
        "\n",
        "\n",
        "print(str(tokenizer.texts_to_sequences(['xyz how are you'])))\n",
        "\n",
        "\n"
      ],
      "execution_count": null,
      "outputs": []
    },
    {
      "cell_type": "code",
      "metadata": {
        "cell_id": "35906ef0a4514c0d8a4edb3a64110473",
        "source_hash": "ad61f72a",
        "execution_start": 1680025289940,
        "execution_millis": 2811,
        "deepnote_to_be_reexecuted": false,
        "deepnote_cell_type": "code",
        "id": "Ky3Iuv94QUg5"
      },
      "source": [
        "\n",
        "\n",
        "\n",
        "x_train = np.array( tokenizer.texts_to_sequences(X_train) )\n",
        "x_valid = np.array( tokenizer.texts_to_sequences(X_valid) )\n",
        "x_test  = np.array( tokenizer.texts_to_sequences(test_data['Review'].tolist()) )\n",
        "\n",
        "\n",
        "\n",
        "x_train = pad_sequences(x_train, padding='post', maxlen=100)\n",
        "x_valid = pad_sequences(x_valid, padding='post', maxlen=100)\n",
        "x_test = pad_sequences(x_test, padding='post', maxlen=100)\n",
        "\n",
        "\n",
        "\n",
        "train_labels = np.asarray(y_train )\n",
        "valid_labels = np.asarray( y_valid)\n",
        "\n",
        "test_labels = np.asarray(test_data['RivewRelevance'].tolist())\n",
        "\n",
        "print('Train data len:'+str(len(x_train)))\n",
        "print('Class distribution'+str(Counter(train_labels)))\n",
        "\n",
        "print('Validation data len:'+str(len(x_valid)))\n",
        "print('Class distribution'+str(Counter(valid_labels)))\n",
        "\n",
        "print('Test data len:'+str(len(x_test)))\n",
        "print('Class distribution'+str(Counter(test_labels)))\n",
        "\n",
        "\n",
        "train_ds = tf.data.Dataset.from_tensor_slices((x_train,train_labels))\n",
        "valid_ds = tf.data.Dataset.from_tensor_slices((x_valid,valid_labels))\n",
        "test_ds = tf.data.Dataset.from_tensor_slices((x_test,test_labels))\n"
      ],
      "execution_count": null,
      "outputs": []
    },
    {
      "cell_type": "code",
      "metadata": {
        "cell_id": "e0f2c33ed0ba4e2184be311c0b677f1d",
        "source_hash": "7dc60ae7",
        "execution_start": 1680025292755,
        "execution_millis": 68,
        "deepnote_to_be_reexecuted": false,
        "deepnote_cell_type": "code",
        "id": "mAr7M_37QUg5"
      },
      "source": [
        "count =0\n",
        "print('======Train dataset ====')\n",
        "for value,label in train_ds:\n",
        "    count += 1\n",
        "    print(value,label)\n",
        "    if count==1:\n",
        "        break\n",
        "count =0\n",
        "print('======Validation dataset ====')\n",
        "for value,label in valid_ds:\n",
        "    count += 1\n",
        "    print(value,label)\n",
        "    if count==1:\n",
        "        break\n",
        "count =0\n",
        "print('======Test dataset ====')\n",
        "for value,label in test_ds:\n",
        "    count += 1\n",
        "    print(value,label)\n",
        "    if count==1:\n",
        "        break"
      ],
      "execution_count": null,
      "outputs": []
    },
    {
      "cell_type": "code",
      "metadata": {
        "cell_id": "b2ceb7bcbb844edc9387fe21f7eda6bc",
        "scrolled": true,
        "source_hash": "e5beff6b",
        "execution_start": 1680025292829,
        "execution_millis": 242,
        "deepnote_to_be_reexecuted": false,
        "deepnote_cell_type": "code",
        "id": "oolxbJn6V93n"
      },
      "source": [
        "max_features =50000\n",
        "embedding_dim =16\n",
        "sequence_length = 100\n",
        "\n",
        "model = tf.keras.Sequential()\n",
        "model.add(tf.keras.layers.Embedding(max_features +1, embedding_dim, input_length=sequence_length,\\\n",
        "                                    embeddings_regularizer = regularizers.l2(0.005)))\n",
        "model.add(tf.keras.layers.Dropout(0.4))\n",
        "\n",
        "model.add(tf.keras.layers.LSTM(embedding_dim,dropout=0.2, recurrent_dropout=0.2,return_sequences=True,\\\n",
        "                                                             kernel_regularizer=regularizers.l2(0.005),\\\n",
        "                                                             bias_regularizer=regularizers.l2(0.005)))\n",
        "\n",
        "model.add(tf.keras.layers.Flatten())\n",
        "\n",
        "model.add(tf.keras.layers.Dense(512, activation='relu',\\\n",
        "                                kernel_regularizer=regularizers.l2(0.001),\\\n",
        "                                bias_regularizer=regularizers.l2(0.001),))\n",
        "model.add(tf.keras.layers.Dropout(0.4))\n",
        "\n",
        "model.add(tf.keras.layers.Dense(8, activation='relu',\\\n",
        "                                kernel_regularizer=regularizers.l2(0.001),\\\n",
        "                                bias_regularizer=regularizers.l2(0.001),))\n",
        "model.add(tf.keras.layers.Dropout(0.4))\n",
        "\n",
        "\n",
        "model.add(tf.keras.layers.Dense(1,activation='sigmoid'))\n",
        "\n",
        "\n",
        "\n",
        "\n",
        "model.summary()\n",
        "model.compile(loss=tf.keras.losses.BinaryCrossentropy(),optimizer=tf.keras.optimizers.Adam(1e-3),metrics=[tf.keras.metrics.BinaryAccuracy()])"
      ],
      "execution_count": null,
      "outputs": []
    },
    {
      "cell_type": "code",
      "metadata": {
        "cell_id": "d8748e68d4dd414db8f3ac9bcaf13236",
        "scrolled": false,
        "source_hash": "fd484533",
        "execution_start": 1680025293194,
        "execution_millis": 45215,
        "deepnote_to_be_reexecuted": false,
        "deepnote_cell_type": "code",
        "id": "Q1iSGO8cV93o"
      },
      "source": [
        "epochs = 100\n",
        "# Fit the model using the train and test datasets.\n",
        "#history = model.fit(x_train, train_labels,validation_data= (x_test,test_labels),epochs=epochs )\n",
        "history = model.fit(train_ds.shuffle(5000).batch(32),\n",
        "                    epochs= epochs ,\n",
        "                    validation_data=valid_ds.batch(32),\n",
        "                    verbose=1)"
      ],
      "execution_count": null,
      "outputs": []
    },
    {
      "cell_type": "code",
      "metadata": {
        "cell_id": "36e249ce22c84fb9bae40ca511990d53",
        "source_hash": "8353a39b",
        "execution_start": 1680025338410,
        "execution_millis": 3,
        "deepnote_to_be_reexecuted": false,
        "deepnote_cell_type": "code",
        "id": "eAlNHJRXV93o"
      },
      "source": [
        "history.history\n"
      ],
      "execution_count": null,
      "outputs": []
    },
    {
      "cell_type": "code",
      "metadata": {
        "cell_id": "7344ba1bc44f409db2dad4e9d771733c",
        "source_hash": "e764ee9a",
        "execution_start": 1680025338416,
        "execution_millis": 280,
        "deepnote_to_be_reexecuted": false,
        "deepnote_cell_type": "code",
        "id": "iEjODf7fV93o"
      },
      "source": [
        "\n",
        "plt.plot(history.history['loss'], label=' training data')\n",
        "plt.plot(history.history['val_loss'], label='validation data')\n",
        "plt.title('Loss for Text Classification')\n",
        "plt.ylabel('Loss value')\n",
        "plt.xlabel('No. epoch')\n",
        "plt.legend(loc=\"upper left\")\n",
        "plt.show()"
      ],
      "execution_count": null,
      "outputs": []
    },
    {
      "cell_type": "code",
      "metadata": {
        "cell_id": "f7c643e15cb648b0be9daf69287992fb",
        "source_hash": "1ad78d5a",
        "execution_start": 1680025338700,
        "execution_millis": 166,
        "deepnote_to_be_reexecuted": false,
        "deepnote_cell_type": "code",
        "id": "jqcHXdYfV93o"
      },
      "source": [
        "\n",
        "\n",
        "plt.plot(history.history['binary_accuracy'], label=' training data')\n",
        "plt.plot(history.history['val_binary_accuracy'], label='validation data')\n",
        "plt.title('Accuracy for Text Classification')\n",
        "plt.ylabel('Accuracy value')\n",
        "plt.xlabel('No. epoch')\n",
        "plt.legend(loc=\"upper left\")\n",
        "plt.show()\n"
      ],
      "execution_count": null,
      "outputs": []
    },
    {
      "cell_type": "code",
      "metadata": {
        "cell_id": "59b74deed16243ba97f8c721e2f8ded0",
        "source_hash": "346648a8",
        "execution_start": 1680025338868,
        "execution_millis": 121,
        "deepnote_to_be_reexecuted": false,
        "deepnote_cell_type": "code",
        "id": "LK1N1SMYV93o"
      },
      "source": [
        "model.save('C:\\\\AppReviews\\\\savedTFLSTMModel\\\\tf_lstmmodel.h5')\n",
        "json_string = tokenizer.to_json()\n"
      ],
      "execution_count": null,
      "outputs": []
    },
    {
      "cell_type": "code",
      "metadata": {
        "cell_id": "cfb4ea1f67b748cab3c04b3741171339",
        "source_hash": "3c342b34",
        "execution_start": 1680025338991,
        "execution_millis": 28,
        "deepnote_to_be_reexecuted": false,
        "deepnote_cell_type": "code",
        "id": "m62NLEGUV93o"
      },
      "source": [
        "import json\n",
        "with open('C:\\\\AppReviews\\\\savedTFLSTMModel\\\\tokenizer.json', 'w') as outfile:\n",
        "    json.dump(json_string, outfile)\n"
      ],
      "execution_count": null,
      "outputs": []
    },
    {
      "cell_type": "code",
      "metadata": {
        "cell_id": "6bcafbf376d44cbea6bed47d3ff5fd5c",
        "source_hash": "708344b7",
        "execution_start": 1680025339021,
        "execution_millis": 5201,
        "deepnote_to_be_reexecuted": false,
        "deepnote_cell_type": "code",
        "id": "JI_sH_omV93q"
      },
      "source": [
        "valid_predict= model.predict(x_valid)"
      ],
      "execution_count": null,
      "outputs": []
    },
    {
      "cell_type": "code",
      "metadata": {
        "cell_id": "9c4b29f5661b46e38a9f362106f6c453",
        "source_hash": "8ef19b65",
        "execution_start": 1680025344217,
        "execution_millis": 5,
        "deepnote_to_be_reexecuted": false,
        "deepnote_cell_type": "code",
        "id": "NwhCH2N-V93q"
      },
      "source": [
        "print(valid_predict[:10])"
      ],
      "execution_count": null,
      "outputs": []
    },
    {
      "cell_type": "code",
      "metadata": {
        "cell_id": "9280cb41096d4306aee90bc3de2de668",
        "source_hash": "3a9dda55",
        "execution_start": 1680025344218,
        "execution_millis": 5,
        "deepnote_to_be_reexecuted": false,
        "deepnote_cell_type": "code",
        "id": "4GlHM3kUV93q"
      },
      "source": [
        "def plot_roc(name, labels, predictions, **kwargs):\n",
        "    fp, tp, thresholds = sklearn.metrics.roc_curve(labels, predictions)\n",
        "    plt.plot(fp, tp, label=name, linewidth=2, **kwargs)\n",
        "    plt.xlabel('False positives Rate')\n",
        "    plt.ylabel('True positives Rate')\n",
        "    plt.xlim([-0.03, 1.0])\n",
        "    plt.ylim([0.0, 1.03])\n",
        "    plt.grid(True)\n",
        "    thresholdsLength = len(thresholds)\n",
        "    thresholds_every = 1000\n",
        "    colorMap = plt.get_cmap('jet', thresholdsLength)\n",
        "    for i in range(0, thresholdsLength, thresholds_every):\n",
        "        threshold_value_with_max_four_decimals = str(thresholds[i])[:5]\n",
        "        plt.text(fp[i] - 0.03, tp[i] + 0.001, threshold_value_with_max_four_decimals, fontdict={'size': 15}, color=colorMap(i/thresholdsLength));\n",
        "\n",
        "    ax = plt.gca()\n",
        "    ax.set_aspect('equal')"
      ],
      "execution_count": null,
      "outputs": []
    },
    {
      "cell_type": "code",
      "metadata": {
        "cell_id": "54cd83468ed64ee7b595f061f658d1d9",
        "source_hash": "651a1288",
        "execution_start": 1680025344218,
        "execution_millis": 5,
        "deepnote_to_be_reexecuted": false,
        "deepnote_cell_type": "code",
        "id": "yoej4cqUV93q"
      },
      "source": [
        "mpl.rcParams['figure.figsize'] = (16, 16)\n",
        "\n",
        "colors = plt.rcParams['axes.prop_cycle'].by_key()['color']"
      ],
      "execution_count": null,
      "outputs": []
    },
    {
      "cell_type": "markdown",
      "metadata": {
        "cell_id": "c26d08c059a640d4bc9fb79bb8798ad1",
        "deepnote_cell_type": "markdown",
        "id": "-0d2kWEiV93q"
      },
      "source": [
        "Lets load our model and test on test data"
      ]
    },
    {
      "cell_type": "code",
      "metadata": {
        "cell_id": "9d2a3fdd1d39434eabb3cdf7133f582b",
        "source_hash": "f7fd59a8",
        "execution_start": 1680025382132,
        "execution_millis": 234,
        "deepnote_to_be_reexecuted": false,
        "deepnote_cell_type": "code",
        "id": "TNl6UI1UV93q"
      },
      "source": [
        "new_model = tf.keras.models.load_model('C:\\\\AppReviews\\\\savedTFLSTMModel\\\\tf_lstmmodel.h5')\n",
        "new_model.summary()\n"
      ],
      "execution_count": null,
      "outputs": []
    },
    {
      "cell_type": "code",
      "metadata": {
        "cell_id": "99c5d2250a724525a2d4203ed97ab804",
        "source_hash": "f3e1fafe",
        "execution_start": 1680025387683,
        "execution_millis": 66,
        "deepnote_to_be_reexecuted": false,
        "deepnote_cell_type": "code",
        "id": "OIzR4J9cV93q"
      },
      "source": [
        "with open('C:\\\\AppReviews\\\\savedTFLSTMModel\\\\tokenizer.json') as json_file:\n",
        "    json_string = json.load(json_file)\n",
        "tokenizer1 = tf.keras.preprocessing.text.tokenizer_from_json(json_string)"
      ],
      "execution_count": null,
      "outputs": []
    },
    {
      "cell_type": "code",
      "metadata": {
        "cell_id": "b207f814c6c849ffaf7c087efc2d1c4c",
        "source_hash": "d9bf422c",
        "execution_start": 1680025387779,
        "execution_millis": 1370,
        "deepnote_to_be_reexecuted": false,
        "deepnote_cell_type": "code",
        "id": "_cCW-Gw9V93r"
      },
      "source": [
        "x_test  = np.array( tokenizer.texts_to_sequences(test_data['Review'].tolist()) )\n",
        "x_test = pad_sequences(x_test, padding='post', maxlen=100)"
      ],
      "execution_count": null,
      "outputs": []
    },
    {
      "cell_type": "code",
      "metadata": {
        "cell_id": "2719561220f84eedbb565ce96bf662e0",
        "source_hash": "88ee8243",
        "execution_start": 1680025389159,
        "execution_millis": 24553,
        "deepnote_to_be_reexecuted": false,
        "deepnote_cell_type": "code",
        "id": "MJO0f_SaV93r"
      },
      "source": [
        "\n",
        "# Generate predictions (probabilities -- the output of the last layer)\n",
        "# on test  data using `predict`\n",
        "print(\"Generate predictions for all samples\")\n",
        "predictions = new_model.predict(x_test)\n",
        "\n"
      ],
      "execution_count": null,
      "outputs": []
    },
    {
      "cell_type": "code",
      "metadata": {
        "cell_id": "44acac77f89a4d30be3696058e3c31b9",
        "source_hash": "9f4d38eb",
        "execution_start": 1680025413714,
        "execution_millis": 5,
        "deepnote_to_be_reexecuted": false,
        "deepnote_cell_type": "code",
        "id": "iY75HUpTV93r"
      },
      "source": [
        "test_data['pred_Relvence']= predictions\n",
        "test_data['pred_Relvence'] = np.where((test_data.pred_Relvence >= 0.78),1,test_data.pred_Relvence)\n",
        "test_data['pred_Relvence'] = np.where((test_data.pred_Relvence < 0.78),0,test_data.pred_Relvence)\n"
      ],
      "execution_count": null,
      "outputs": []
    },
    {
      "cell_type": "code",
      "metadata": {
        "cell_id": "044214ad0ae243178af365007293c175",
        "source_hash": "87f55b20",
        "execution_start": 1680025591137,
        "execution_millis": 135,
        "deepnote_table_state": {
          "sortBy": [],
          "filters": [],
          "pageSize": 10,
          "pageIndex": 40
        },
        "deepnote_table_loading": false,
        "deepnote_to_be_reexecuted": false,
        "deepnote_cell_type": "code",
        "id": "peNxpzl_V93r"
      },
      "source": [
        "test_data"
      ],
      "execution_count": null,
      "outputs": []
    },
    {
      "cell_type": "code",
      "metadata": {
        "cell_id": "a34f2b6036dd4301923942df0c92f993",
        "source_hash": "fdb7d344",
        "execution_start": 1680025413722,
        "execution_millis": 125,
        "deepnote_to_be_reexecuted": false,
        "deepnote_cell_type": "code",
        "id": "gPENPtgrV93s"
      },
      "source": [
        "labels = [0,1,2]\n",
        "\n",
        "print(accuracy_score(test_data['RivewRelevance'], test_data['pred_Relvence']))\n",
        "print(classification_report(test_data['RivewRelevance'].tolist(),test_data['pred_Relvence'].tolist(),labels=labels))"
      ],
      "execution_count": null,
      "outputs": []
    }
  ]
}