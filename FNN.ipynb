{
  "cells": [
    {
      "cell_type": "markdown",
      "metadata": {
        "id": "view-in-github",
        "colab_type": "text"
      },
      "source": [
        "<a href=\"https://colab.research.google.com/github/Maram00ali/REV4RE/blob/main/FNN.ipynb\" target=\"_parent\"><img src=\"https://colab.research.google.com/assets/colab-badge.svg\" alt=\"Open In Colab\"/></a>"
      ]
    },
    {
      "cell_type": "code",
      "metadata": {
        "cell_id": "f720d1b3856f4fe29a21707992bdac88",
        "source_hash": "e5e4378",
        "execution_start": 1682522378960,
        "execution_millis": 2094,
        "deepnote_to_be_reexecuted": false,
        "deepnote_cell_type": "code",
        "id": "o-ORJaY4Wvfi",
        "outputId": "2fe7ddb9-e4e5-4226-e265-9facc54deb27"
      },
      "source": [
        "pip install gensim"
      ],
      "execution_count": null,
      "outputs": [
        {
          "name": "stdout",
          "text": "Requirement already satisfied: gensim in /usr/local/lib/python3.8/dist-packages (4.3.1)\nRequirement already satisfied: smart-open>=1.8.1 in /shared-libs/python3.8/py/lib/python3.8/site-packages (from gensim) (5.2.1)\nRequirement already satisfied: scipy>=1.7.0 in /shared-libs/python3.8/py/lib/python3.8/site-packages (from gensim) (1.9.3)\nRequirement already satisfied: numpy>=1.18.5 in /usr/local/lib/python3.8/dist-packages (from gensim) (1.22.4)\n\u001b[33mWARNING: You are using pip version 20.2.4; however, version 23.1.2 is available.\nYou should consider upgrading via the '/usr/local/bin/python -m pip install --upgrade pip' command.\u001b[0m\nNote: you may need to restart the kernel to use updated packages.\n",
          "output_type": "stream"
        }
      ]
    },
    {
      "cell_type": "code",
      "metadata": {
        "cell_id": "51155e7e41494e799a7b252f489f43b9",
        "source_hash": "1460ab29",
        "execution_start": 1682522381057,
        "execution_millis": 1361,
        "deepnote_to_be_reexecuted": false,
        "deepnote_cell_type": "code",
        "id": "ic5zqfflWvfj",
        "outputId": "b407f827-368a-4373-975b-c22fcf531feb"
      },
      "source": [
        "!pip install numpy 1.21.5"
      ],
      "execution_count": null,
      "outputs": [
        {
          "name": "stdout",
          "text": "Requirement already satisfied: numpy in /usr/local/lib/python3.8/dist-packages (1.22.4)\n\u001b[31mERROR: Could not find a version that satisfies the requirement 1.21.5 (from versions: none)\u001b[0m\n\u001b[31mERROR: No matching distribution found for 1.21.5\u001b[0m\n\u001b[33mWARNING: You are using pip version 20.2.4; however, version 23.1.2 is available.\nYou should consider upgrading via the '/usr/bin/python3 -m pip install --upgrade pip' command.\u001b[0m\n",
          "output_type": "stream"
        }
      ]
    },
    {
      "cell_type": "code",
      "metadata": {
        "id": "INR3CT8rS9Rv",
        "cell_id": "7b7e726c2db44e55b36382e49d1e6269",
        "source_hash": "9b82ee11",
        "execution_start": 1682522382371,
        "execution_millis": 51,
        "deepnote_to_be_reexecuted": false,
        "deepnote_cell_type": "code"
      },
      "source": [
        "import pandas as pd"
      ],
      "execution_count": null,
      "outputs": []
    },
    {
      "cell_type": "code",
      "metadata": {
        "id": "m699oQ22TBDo",
        "source_hash": "fe4af6c9",
        "execution_start": 1682522382374,
        "execution_millis": 216,
        "deepnote_to_be_reexecuted": false,
        "cell_id": "e05bd1acd21a4e5cad5cc1e00abdc261",
        "deepnote_cell_type": "code"
      },
      "source": [
        "df = pd.read_csv(\"dataset path\")"
      ],
      "execution_count": null,
      "outputs": []
    },
    {
      "cell_type": "code",
      "metadata": {
        "id": "tQjtjvRkTdYR",
        "colab": {
          "height": 206,
          "base_uri": "https://localhost:8080/"
        },
        "cell_id": "950c96af2f794980bb8adf1071bc5a47",
        "outputId": "54340352-35f6-4c09-82af-e12179a8f9de",
        "source_hash": "c085b6ba",
        "execution_start": 1682522382530,
        "execution_millis": 71,
        "deepnote_to_be_reexecuted": false,
        "deepnote_cell_type": "code"
      },
      "source": [
        "df.head()"
      ],
      "execution_count": null,
      "outputs": [
        {
          "output_type": "execute_result",
          "execution_count": 5,
          "data": {
            "application/vnd.deepnote.dataframe.v3+json": {
              "column_count": 2,
              "row_count": 5,
              "columns": [
                {
                  "name": "Review",
                  "dtype": "object",
                  "stats": {
                    "unique_count": 5,
                    "nan_count": 0,
                    "categories": [
                      {
                        "name": "5 star good app",
                        "count": 1
                      },
                      {
                        "name": "A monthly subscription fee. Really?",
                        "count": 1
                      },
                      {
                        "name": "3 others",
                        "count": 3
                      }
                    ]
                  }
                },
                {
                  "name": "RivewRelevance",
                  "dtype": "int64",
                  "stats": {
                    "unique_count": 1,
                    "nan_count": 0,
                    "min": "1",
                    "max": "1",
                    "histogram": [
                      {
                        "bin_start": 0.5,
                        "bin_end": 0.6,
                        "count": 0
                      },
                      {
                        "bin_start": 0.6,
                        "bin_end": 0.7,
                        "count": 0
                      },
                      {
                        "bin_start": 0.7,
                        "bin_end": 0.8,
                        "count": 0
                      },
                      {
                        "bin_start": 0.8,
                        "bin_end": 0.9,
                        "count": 0
                      },
                      {
                        "bin_start": 0.9,
                        "bin_end": 1,
                        "count": 0
                      },
                      {
                        "bin_start": 1,
                        "bin_end": 1.1,
                        "count": 5
                      },
                      {
                        "bin_start": 1.1,
                        "bin_end": 1.2000000000000002,
                        "count": 0
                      },
                      {
                        "bin_start": 1.2000000000000002,
                        "bin_end": 1.3,
                        "count": 0
                      },
                      {
                        "bin_start": 1.3,
                        "bin_end": 1.4,
                        "count": 0
                      },
                      {
                        "bin_start": 1.4,
                        "bin_end": 1.5,
                        "count": 0
                      }
                    ]
                  }
                },
                {
                  "name": "_deepnote_index_column",
                  "dtype": "int64"
                }
              ],
              "rows": [
                {
                  "Review": "5 star good app",
                  "RivewRelevance": "1",
                  "_deepnote_index_column": "0"
                },
                {
                  "Review": "A monthly subscription fee. Really?",
                  "RivewRelevance": "1",
                  "_deepnote_index_column": "1"
                },
                {
                  "Review": "Able to customize and decorate a ton of things even for free! I really recommend this good app!",
                  "RivewRelevance": "1",
                  "_deepnote_index_column": "2"
                },
                {
                  "Review": "All I can say is this game is the best!!",
                  "RivewRelevance": "1",
                  "_deepnote_index_column": "3"
                },
                {
                  "Review": "Although not the best, it better for own creatives.",
                  "RivewRelevance": "1",
                  "_deepnote_index_column": "4"
                }
              ]
            },
            "text/plain": "                                              Review  RivewRelevance\n0                                    5 star good app               1\n1                A monthly subscription fee. Really?               1\n2  Able to customize and decorate a ton of things...               1\n3           All I can say is this game is the best!!               1\n4  Although not the best, it better for own creat...               1",
            "text/html": "<div>\n<style scoped>\n    .dataframe tbody tr th:only-of-type {\n        vertical-align: middle;\n    }\n\n    .dataframe tbody tr th {\n        vertical-align: top;\n    }\n\n    .dataframe thead th {\n        text-align: right;\n    }\n</style>\n<table border=\"1\" class=\"dataframe\">\n  <thead>\n    <tr style=\"text-align: right;\">\n      <th></th>\n      <th>Review</th>\n      <th>RivewRelevance</th>\n    </tr>\n  </thead>\n  <tbody>\n    <tr>\n      <th>0</th>\n      <td>5 star good app</td>\n      <td>1</td>\n    </tr>\n    <tr>\n      <th>1</th>\n      <td>A monthly subscription fee. Really?</td>\n      <td>1</td>\n    </tr>\n    <tr>\n      <th>2</th>\n      <td>Able to customize and decorate a ton of things...</td>\n      <td>1</td>\n    </tr>\n    <tr>\n      <th>3</th>\n      <td>All I can say is this game is the best!!</td>\n      <td>1</td>\n    </tr>\n    <tr>\n      <th>4</th>\n      <td>Although not the best, it better for own creat...</td>\n      <td>1</td>\n    </tr>\n  </tbody>\n</table>\n</div>"
          },
          "metadata": {}
        }
      ]
    },
    {
      "cell_type": "code",
      "metadata": {
        "cell_id": "064327b4d3ba4ad2a18885c75167d345",
        "source_hash": "329722a9",
        "execution_start": 1682522382643,
        "execution_millis": 115,
        "deepnote_to_be_reexecuted": false,
        "deepnote_cell_type": "code",
        "id": "SnGF1mmCWvfk",
        "outputId": "159d179d-04be-48ac-b868-53b40ddeadbc"
      },
      "source": [
        "top_data_df = pd.read_csv('/work/Relavence_labeld_Dataset.csv')\n",
        "print(\"Columns in the original dataset:\\n\")\n",
        "print(top_data_df.columns)"
      ],
      "execution_count": null,
      "outputs": [
        {
          "name": "stdout",
          "text": "Columns in the original dataset:\n\nIndex(['Review', 'RivewRelevance'], dtype='object')\n",
          "output_type": "stream"
        }
      ]
    },
    {
      "cell_type": "code",
      "metadata": {
        "cell_id": "d85d37918a034c5792aa49d3de23d12d",
        "source_hash": "b8bf5268",
        "execution_start": 1682522382800,
        "execution_millis": 363,
        "deepnote_to_be_reexecuted": false,
        "deepnote_cell_type": "code",
        "id": "9kBnCL6YWvfk",
        "outputId": "0e7973aa-13ca-4096-bbaa-f2a256cbd234"
      },
      "source": [
        "import matplotlib.pyplot as plt\n",
        "plt.figure()\n",
        "pd.value_counts(top_data_df['RivewRelevance']).plot.bar(title=\"ReivewRelevance distribution in df\")\n",
        "plt.xlabel(\"RivewRelevance\")\n",
        "plt.ylabel(\"No. of rows in df\")\n",
        "plt.show()"
      ],
      "execution_count": null,
      "outputs": [
        {
          "data": {
            "text/plain": "<Figure size 640x480 with 1 Axes>",
            "image/png": "[encoded data removed]"
          },
          "metadata": {
            "image/png": {
              "width": 589,
              "height": 450
            }
          },
          "output_type": "display_data"
        }
      ]
    },
    {
      "cell_type": "code",
      "metadata": {
        "cell_id": "d515a1e24dac4003bf4caa557fed3d5c",
        "source_hash": "4faa39b9",
        "execution_start": 1682522383174,
        "execution_millis": 2,
        "deepnote_to_be_reexecuted": false,
        "deepnote_cell_type": "code",
        "id": "Hljr9opSWvfk",
        "outputId": "55f96520-9cd9-45e7-fd3c-ed4e29bf2d53"
      },
      "source": [
        "# Function to retrieve top few number of each category\n",
        "def get_top_data(top_n = 5000):\n",
        "    top_data_df_relevent = top_data_df[top_data_df['RivewRelevance'] == 1].head(top_n)\n",
        "    top_data_df_irrelvent= top_data_df[top_data_df['RivewRelevance'] == 0].head(top_n)\n",
        "    top_data_df_mix = top_data_df[top_data_df['RivewRelevance'] == 2].head(top_n)\n",
        "    top_data_df_small = pd.concat([top_data_df_relevent, top_data_df_irrelvent, top_data_df_mix])\n",
        "    return top_data_df_small\n",
        "\n",
        "# Function call to get the top 10000 from each sentiment\n",
        "top_data_df_small = top_data_df\n",
        "\n",
        "# After selecting top few samples of each sentiment\n",
        "print(\"After segregating and taking equal number of rows for each RivewRelevance:\")\n",
        "print(top_data_df_small['RivewRelevance'].value_counts())\n",
        "top_data_df_small.head(10)"
      ],
      "execution_count": null,
      "outputs": [
        {
          "name": "stdout",
          "text": "After segregating and taking equal number of rows for each RivewRelevance:\n1    69045\n0    10352\n2     5535\nName: RivewRelevance, dtype: int64\n",
          "output_type": "stream"
        },
        {
          "output_type": "execute_result",
          "execution_count": 8,
          "data": {
            "application/vnd.deepnote.dataframe.v3+json": {
              "column_count": 2,
              "row_count": 10,
              "columns": [
                {
                  "name": "Review",
                  "dtype": "object",
                  "stats": {
                    "unique_count": 10,
                    "nan_count": 0,
                    "categories": [
                      {
                        "name": "5 star good app",
                        "count": 1
                      },
                      {
                        "name": "A monthly subscription fee. Really?",
                        "count": 1
                      },
                      {
                        "name": "8 others",
                        "count": 8
                      }
                    ]
                  }
                },
                {
                  "name": "RivewRelevance",
                  "dtype": "int64",
                  "stats": {
                    "unique_count": 2,
                    "nan_count": 0,
                    "min": "1",
                    "max": "2",
                    "histogram": [
                      {
                        "bin_start": 1,
                        "bin_end": 1.1,
                        "count": 9
                      },
                      {
                        "bin_start": 1.1,
                        "bin_end": 1.2,
                        "count": 0
                      },
                      {
                        "bin_start": 1.2,
                        "bin_end": 1.3,
                        "count": 0
                      },
                      {
                        "bin_start": 1.3,
                        "bin_end": 1.4,
                        "count": 0
                      },
                      {
                        "bin_start": 1.4,
                        "bin_end": 1.5,
                        "count": 0
                      },
                      {
                        "bin_start": 1.5,
                        "bin_end": 1.6,
                        "count": 0
                      },
                      {
                        "bin_start": 1.6,
                        "bin_end": 1.7000000000000002,
                        "count": 0
                      },
                      {
                        "bin_start": 1.7000000000000002,
                        "bin_end": 1.8,
                        "count": 0
                      },
                      {
                        "bin_start": 1.8,
                        "bin_end": 1.9,
                        "count": 0
                      },
                      {
                        "bin_start": 1.9,
                        "bin_end": 2,
                        "count": 1
                      }
                    ]
                  }
                },
                {
                  "name": "_deepnote_index_column",
                  "dtype": "int64"
                }
              ],
              "rows": [
                {
                  "Review": "5 star good app",
                  "RivewRelevance": "1",
                  "_deepnote_index_column": "0"
                },
                {
                  "Review": "A monthly subscription fee. Really?",
                  "RivewRelevance": "1",
                  "_deepnote_index_column": "1"
                },
                {
                  "Review": "Able to customize and decorate a ton of things even for free! I really recommend this good app!",
                  "RivewRelevance": "1",
                  "_deepnote_index_column": "2"
                },
                {
                  "Review": "All I can say is this game is the best!!",
                  "RivewRelevance": "1",
                  "_deepnote_index_column": "3"
                },
                {
                  "Review": "Although not the best, it better for own creatives.",
                  "RivewRelevance": "1",
                  "_deepnote_index_column": "4"
                },
                {
                  "Review": "asks literally every time you open the app if you want to buy the pro for like 100s of dollars and doesn’t have a feature where you can let the ai design your room for yoy",
                  "RivewRelevance": "1",
                  "_deepnote_index_column": "5"
                },
                {
                  "Review": "Awesome tool for home owners, realtors, designers and anyone who just wants to imagine and see a room first without having to spend the money upfront on furniture, paint and anything else that may not piece together like it did in our minds. Awesome app!",
                  "RivewRelevance": "1",
                  "_deepnote_index_column": "6"
                },
                {
                  "Review": "Been using for a few hours so far, it’s not user friendly. Can’t figure out how to add a closet or rename the rooms I’ve done. The furniture is ikea branded vs just a generic king/queen bed add.",
                  "RivewRelevance": "2",
                  "_deepnote_index_column": "7"
                },
                {
                  "Review": "Bored at home dont know what to do?\n\nGet this app ASAP! Keeps u entertained no lag so much to descover and way more",
                  "RivewRelevance": "1",
                  "_deepnote_index_column": "8"
                },
                {
                  "Review": "Dear Room Planner\nI love this app so much!You have many options and a great way to plan a room you are building.Not only is this a game of ideas for a specific room it can also be a game where you make your dream house or room!The reason I don’t mark is five stars is because it is hard for beginners.Maybe have a more detailed tutorial?But in my opinion this game is great.I enjoy decorating rooms and love the furniture.Great Game!\n                                         Sincerely,11 year old",
                  "RivewRelevance": "1",
                  "_deepnote_index_column": "9"
                }
              ]
            },
            "text/plain": "                                              Review  RivewRelevance\n0                                    5 star good app               1\n1                A monthly subscription fee. Really?               1\n2  Able to customize and decorate a ton of things...               1\n3           All I can say is this game is the best!!               1\n4  Although not the best, it better for own creat...               1\n5  asks literally every time you open the app if ...               1\n6  Awesome tool for home owners, realtors, design...               1\n7  Been using for a few hours so far, it’s not us...               2\n8  Bored at home dont know what to do?\\n\\nGet thi...               1\n9  Dear Room Planner\\nI love this app so much!You...               1",
            "text/html": "<div>\n<style scoped>\n    .dataframe tbody tr th:only-of-type {\n        vertical-align: middle;\n    }\n\n    .dataframe tbody tr th {\n        vertical-align: top;\n    }\n\n    .dataframe thead th {\n        text-align: right;\n    }\n</style>\n<table border=\"1\" class=\"dataframe\">\n  <thead>\n    <tr style=\"text-align: right;\">\n      <th></th>\n      <th>Review</th>\n      <th>RivewRelevance</th>\n    </tr>\n  </thead>\n  <tbody>\n    <tr>\n      <th>0</th>\n      <td>5 star good app</td>\n      <td>1</td>\n    </tr>\n    <tr>\n      <th>1</th>\n      <td>A monthly subscription fee. Really?</td>\n      <td>1</td>\n    </tr>\n    <tr>\n      <th>2</th>\n      <td>Able to customize and decorate a ton of things...</td>\n      <td>1</td>\n    </tr>\n    <tr>\n      <th>3</th>\n      <td>All I can say is this game is the best!!</td>\n      <td>1</td>\n    </tr>\n    <tr>\n      <th>4</th>\n      <td>Although not the best, it better for own creat...</td>\n      <td>1</td>\n    </tr>\n    <tr>\n      <th>5</th>\n      <td>asks literally every time you open the app if ...</td>\n      <td>1</td>\n    </tr>\n    <tr>\n      <th>6</th>\n      <td>Awesome tool for home owners, realtors, design...</td>\n      <td>1</td>\n    </tr>\n    <tr>\n      <th>7</th>\n      <td>Been using for a few hours so far, it’s not us...</td>\n      <td>2</td>\n    </tr>\n    <tr>\n      <th>8</th>\n      <td>Bored at home dont know what to do?\\n\\nGet thi...</td>\n      <td>1</td>\n    </tr>\n    <tr>\n      <th>9</th>\n      <td>Dear Room Planner\\nI love this app so much!You...</td>\n      <td>1</td>\n    </tr>\n  </tbody>\n</table>\n</div>"
          },
          "metadata": {}
        }
      ]
    },
    {
      "cell_type": "code",
      "metadata": {
        "cell_id": "3c66da88ed954e26a26fd8b8e7f464f4",
        "source_hash": "a1a27c08",
        "execution_start": 1682522383222,
        "execution_millis": 1168,
        "deepnote_to_be_reexecuted": false,
        "deepnote_cell_type": "code",
        "id": "fXSTMjVDWvfl"
      },
      "source": [
        "# Importing NLTK Libraries\n",
        "import nltk\n",
        "from nltk.corpus import stopwords\n",
        "from nltk import *"
      ],
      "execution_count": null,
      "outputs": []
    },
    {
      "cell_type": "code",
      "metadata": {
        "cell_id": "07239197ff0d429a8f4d23b2934f007a",
        "source_hash": "c393777c",
        "execution_start": 1682522384393,
        "execution_millis": 2,
        "deepnote_to_be_reexecuted": false,
        "deepnote_cell_type": "code",
        "id": "RRHts_Y_Wvfl"
      },
      "source": [
        "# Declaring function for text preprocessing\n",
        "\n",
        "def preprocess_text(main_df):\n",
        "  df_1 = main_df.copy()\n",
        "\n",
        "  # remove stopwords\n",
        "  nltk.download('stopwords')         # Downloading stopwords\n",
        "  stop = stopwords.words('english')\n",
        "  df_1['Review'] = df_1['Review'].apply(lambda x: \" \".join(x for x in x.split() if x not in stop))\n",
        "\n",
        "  # remove punctuations and convert to lower case\n",
        "  #df_1['Review'] = df_1['Review'].apply(lambda x: re.sub('[!@#$:).;,?&]', '', x.lower()))\n",
        "\n",
        "  # remove double spaces\n",
        "  #df_1['Review'] = df_1['Review'].apply(lambda x: re.sub(' ', ' ', x))\n",
        "\n",
        "  return df_1"
      ],
      "execution_count": null,
      "outputs": []
    },
    {
      "cell_type": "code",
      "metadata": {
        "cell_id": "509474a7cd7b454e92158de55c4e6ef6",
        "source_hash": "3938c78c",
        "execution_start": 1682522384396,
        "execution_millis": 2049,
        "deepnote_to_be_reexecuted": false,
        "deepnote_cell_type": "code",
        "id": "a_lTPnv1Wvfl",
        "outputId": "5200a9ee-5da0-4851-80cd-32c46bd01881"
      },
      "source": [
        "# Preprocessing training and test data\n",
        "top_data_df_small = preprocess_text(top_data_df_small)\n"
      ],
      "execution_count": null,
      "outputs": [
        {
          "name": "stderr",
          "text": "[nltk_data] Downloading package stopwords to /root/nltk_data...\n[nltk_data]   Package stopwords is already up-to-date!\n",
          "output_type": "stream"
        }
      ]
    },
    {
      "cell_type": "code",
      "metadata": {
        "cell_id": "40ac7748df564358bc1e6b4496b13c16",
        "source_hash": "815e1424",
        "execution_start": 1682522386445,
        "execution_millis": 90,
        "deepnote_to_be_reexecuted": false,
        "deepnote_cell_type": "code",
        "id": "4xz1DYNJWvfl",
        "outputId": "e5b2f926-6b29-4532-910e-a40f09d24c9c"
      },
      "source": [
        "top_data_df_small"
      ],
      "execution_count": null,
      "outputs": [
        {
          "output_type": "execute_result",
          "execution_count": 12,
          "data": {
            "application/vnd.deepnote.dataframe.v3+json": {
              "column_count": 2,
              "row_count": 84932,
              "columns": [
                {
                  "name": "Review",
                  "dtype": "object",
                  "stats": {
                    "unique_count": 83949,
                    "nan_count": 0,
                    "categories": [
                      {
                        "name": "I love app",
                        "count": 29
                      },
                      {
                        "name": "It good app",
                        "count": 25
                      },
                      {
                        "name": "83947 others",
                        "count": 84878
                      }
                    ]
                  }
                },
                {
                  "name": "RivewRelevance",
                  "dtype": "int64"
                },
                {
                  "name": "_deepnote_index_column",
                  "dtype": "int64"
                }
              ],
              "rows": [
                {
                  "Review": "5 star good app",
                  "RivewRelevance": "1",
                  "_deepnote_index_column": "0"
                },
                {
                  "Review": "A monthly subscription fee. Really?",
                  "RivewRelevance": "1",
                  "_deepnote_index_column": "1"
                },
                {
                  "Review": "Able customize decorate ton things even free! I really recommend good app!",
                  "RivewRelevance": "1",
                  "_deepnote_index_column": "2"
                },
                {
                  "Review": "All I say game best!!",
                  "RivewRelevance": "1",
                  "_deepnote_index_column": "3"
                },
                {
                  "Review": "Although best, better creatives.",
                  "RivewRelevance": "1",
                  "_deepnote_index_column": "4"
                },
                {
                  "Review": "asks literally every time open app want buy pro like 100s dollars doesn’t feature let ai design room yoy",
                  "RivewRelevance": "1",
                  "_deepnote_index_column": "5"
                },
                {
                  "Review": "Awesome tool home owners, realtors, designers anyone wants imagine see room first without spend money upfront furniture, paint anything else may piece together like minds. Awesome app!",
                  "RivewRelevance": "1",
                  "_deepnote_index_column": "6"
                },
                {
                  "Review": "Been using hours far, it’s user friendly. Can’t figure add closet rename rooms I’ve done. The furniture ikea branded vs generic king/queen bed add.",
                  "RivewRelevance": "2",
                  "_deepnote_index_column": "7"
                },
                {
                  "Review": "Bored home dont know do? Get app ASAP! Keeps u entertained lag much descover way",
                  "RivewRelevance": "1",
                  "_deepnote_index_column": "8"
                },
                {
                  "Review": "Dear Room Planner I love app much!You many options great way plan room building.Not game ideas specific room also game make dream house room!The reason I don’t mark five stars hard beginners.Maybe detailed tutorial?But opinion game great.I enjoy decorating rooms love furniture.Great Game! Sincerely,11 year old",
                  "RivewRelevance": "1",
                  "_deepnote_index_column": "9"
                }
              ]
            },
            "text/plain": "                                                  Review  RivewRelevance\n0                                        5 star good app               1\n1                    A monthly subscription fee. Really?               1\n2      Able customize decorate ton things even free! ...               1\n3                                  All I say game best!!               1\n4                       Although best, better creatives.               1\n...                                                  ...             ...\n84927  Your app sucks.Im deleting it.I know I'm getti...               1\n84928  Your app wait along process downloads west dat...               1\n84929  Your customer service unresponsive. I email go...               1\n84930  Your new desktop version sucks. I save send in...               1\n84931  Your product so, useful practical. Thank you. ...               1\n\n[84932 rows x 2 columns]",
            "text/html": "<div>\n<style scoped>\n    .dataframe tbody tr th:only-of-type {\n        vertical-align: middle;\n    }\n\n    .dataframe tbody tr th {\n        vertical-align: top;\n    }\n\n    .dataframe thead th {\n        text-align: right;\n    }\n</style>\n<table border=\"1\" class=\"dataframe\">\n  <thead>\n    <tr style=\"text-align: right;\">\n      <th></th>\n      <th>Review</th>\n      <th>RivewRelevance</th>\n    </tr>\n  </thead>\n  <tbody>\n    <tr>\n      <th>0</th>\n      <td>5 star good app</td>\n      <td>1</td>\n    </tr>\n    <tr>\n      <th>1</th>\n      <td>A monthly subscription fee. Really?</td>\n      <td>1</td>\n    </tr>\n    <tr>\n      <th>2</th>\n      <td>Able customize decorate ton things even free! ...</td>\n      <td>1</td>\n    </tr>\n    <tr>\n      <th>3</th>\n      <td>All I say game best!!</td>\n      <td>1</td>\n    </tr>\n    <tr>\n      <th>4</th>\n      <td>Although best, better creatives.</td>\n      <td>1</td>\n    </tr>\n    <tr>\n      <th>...</th>\n      <td>...</td>\n      <td>...</td>\n    </tr>\n    <tr>\n      <th>84927</th>\n      <td>Your app sucks.Im deleting it.I know I'm getti...</td>\n      <td>1</td>\n    </tr>\n    <tr>\n      <th>84928</th>\n      <td>Your app wait along process downloads west dat...</td>\n      <td>1</td>\n    </tr>\n    <tr>\n      <th>84929</th>\n      <td>Your customer service unresponsive. I email go...</td>\n      <td>1</td>\n    </tr>\n    <tr>\n      <th>84930</th>\n      <td>Your new desktop version sucks. I save send in...</td>\n      <td>1</td>\n    </tr>\n    <tr>\n      <th>84931</th>\n      <td>Your product so, useful practical. Thank you. ...</td>\n      <td>1</td>\n    </tr>\n  </tbody>\n</table>\n<p>84932 rows × 2 columns</p>\n</div>"
          },
          "metadata": {}
        }
      ]
    },
    {
      "cell_type": "code",
      "metadata": {
        "cell_id": "b0a5968a2ab441f299423983b5db6e72",
        "source_hash": "8c262785",
        "execution_start": 1682522386537,
        "execution_millis": 188,
        "deepnote_to_be_reexecuted": false,
        "deepnote_cell_type": "code",
        "id": "faQJQ2XFWvfm",
        "outputId": "c5d5fa82-56a3-466f-dd22-f0babbe615f3"
      },
      "source": [
        "# Removing the stop words\n",
        "from gensim.parsing.preprocessing import remove_stopwords\n",
        "print(remove_stopwords(\"I did not like the food!!\"))\n",
        "print(remove_stopwords(\"This product is not good!!\"))"
      ],
      "execution_count": null,
      "outputs": [
        {
          "name": "stdout",
          "text": "I like food!!\nThis product good!!\n",
          "output_type": "stream"
        }
      ]
    },
    {
      "cell_type": "code",
      "metadata": {
        "cell_id": "1e959958079a4ba0a9e6364dc0f0d16f",
        "source_hash": "d8384332",
        "execution_start": 1682522386739,
        "execution_millis": 2185,
        "deepnote_to_be_reexecuted": false,
        "deepnote_cell_type": "code",
        "id": "9Oge9bBaWvfm",
        "outputId": "dda3a1a9-7790-44ce-aae7-b7c4a9fb5a07"
      },
      "source": [
        "\n",
        "from gensim.utils import simple_preprocess\n",
        "# Tokenize the text column to get the new column 'tokenized_text'\n",
        "top_data_df_small['tokenized_text'] = [simple_preprocess(line, deacc=True) for line in top_data_df_small['Review']]\n",
        "print(top_data_df_small['tokenized_text'].head(10))"
      ],
      "execution_count": null,
      "outputs": [
        {
          "name": "stdout",
          "text": "0                                    [star, good, app]\n1                 [monthly, subscription, fee, really]\n2    [able, customize, decorate, ton, things, even,...\n3                               [all, say, game, best]\n4                  [although, best, better, creatives]\n5    [asks, literally, every, time, open, app, want...\n6    [awesome, tool, home, owners, realtors, design...\n7    [been, using, hours, far, it, user, friendly, ...\n8    [bored, home, dont, know, do, get, app, asap, ...\n9    [dear, room, planner, love, app, much, you, ma...\nName: tokenized_text, dtype: object\n",
          "output_type": "stream"
        }
      ]
    },
    {
      "cell_type": "code",
      "metadata": {
        "cell_id": "3e34f1c7a8c14165840d2a72487ba1e3",
        "source_hash": "293cdd9c",
        "execution_start": 1682522388929,
        "execution_millis": 2,
        "deepnote_to_be_reexecuted": false,
        "deepnote_cell_type": "code",
        "id": "rTIUJTLOWvfm",
        "outputId": "e02f0a44-bdae-487b-ca85-750e593d0240"
      },
      "source": [
        "from gensim.parsing.porter import PorterStemmer\n",
        "porter_stemmer = PorterStemmer()\n",
        "# Get the stemmed_tokens\n",
        "top_data_df_small['stemmed_tokens'] = top_data_df_small['tokenized_text']\n",
        "top_data_df_small['stemmed_tokens'].head(10)"
      ],
      "execution_count": null,
      "outputs": [
        {
          "output_type": "execute_result",
          "execution_count": 15,
          "data": {
            "text/plain": "0                                    [star, good, app]\n1                 [monthly, subscription, fee, really]\n2    [able, customize, decorate, ton, things, even,...\n3                               [all, say, game, best]\n4                  [although, best, better, creatives]\n5    [asks, literally, every, time, open, app, want...\n6    [awesome, tool, home, owners, realtors, design...\n7    [been, using, hours, far, it, user, friendly, ...\n8    [bored, home, dont, know, do, get, app, asap, ...\n9    [dear, room, planner, love, app, much, you, ma...\nName: stemmed_tokens, dtype: object"
          },
          "metadata": {}
        }
      ]
    },
    {
      "cell_type": "code",
      "metadata": {
        "cell_id": "dc0c638a17024219af61c5ff698bc7bc",
        "source_hash": "d3d10510",
        "execution_start": 1682522388933,
        "execution_millis": 21,
        "deepnote_to_be_reexecuted": false,
        "deepnote_cell_type": "code",
        "id": "ZBNoQjTcWvfm",
        "outputId": "3ff14f14-18be-400d-92df-e32da4f3cb84"
      },
      "source": [
        "from sklearn.model_selection import train_test_split\n",
        "# Train Test Split Function\n",
        "def split_train_test(top_data_df_small, test_size=0.20, shuffle_state=True):\n",
        "    X_train, X_test, Y_train, Y_test = train_test_split(top_data_df_small[['stemmed_tokens']],\n",
        "                                                        top_data_df_small['RivewRelevance'],\n",
        "                                                        shuffle=shuffle_state,\n",
        "                                                        test_size=test_size,\n",
        "                                                        random_state=42)\n",
        "    print(\"Value counts for Train RivewRelevance\")\n",
        "    print(Y_train.value_counts())\n",
        "    print(\"Value counts for Test RivewRelevance\")\n",
        "    print(Y_test.value_counts())\n",
        "    print(type(X_train))\n",
        "    print(type(Y_train))\n",
        "    X_train = X_train.reset_index()\n",
        "    X_test = X_test.reset_index()\n",
        "    Y_train = Y_train.to_frame()\n",
        "    Y_train = Y_train.reset_index()\n",
        "    Y_test = Y_test.to_frame()\n",
        "    Y_test = Y_test.reset_index()\n",
        "    print(X_train.head())\n",
        "    return X_train, X_test, Y_train, Y_test\n",
        "\n",
        "# Call the train_test_split\n",
        "X_train, X_test, Y_train, Y_test = split_train_test(top_data_df_small)"
      ],
      "execution_count": null,
      "outputs": [
        {
          "name": "stdout",
          "text": "Value counts for Train RivewRelevance\n1    55298\n0     8244\n2     4403\nName: RivewRelevance, dtype: int64\nValue counts for Test RivewRelevance\n1    13747\n0     2108\n2     1132\nName: RivewRelevance, dtype: int64\n<class 'pandas.core.frame.DataFrame'>\n<class 'pandas.core.series.Series'>\n   index                                     stemmed_tokens\n0  61303  [this, app, bug, performing, quiz, get, stuck,...\n1   9118  [bought, bra, aliexpress, but, smell, bad, eve...\n2  56031  [honestly, used, app, thw, ui, confusing, real...\n3  19571      [now, google, translate, working, tried, lot]\n4  10948  [love, hair, going, order, more, nice, communi...\n",
          "output_type": "stream"
        }
      ]
    },
    {
      "cell_type": "code",
      "metadata": {
        "cell_id": "b202ab0d54f442f79d4065934b2bb5e5",
        "source_hash": "1730e655",
        "execution_start": 1682522388954,
        "execution_millis": 1681,
        "deepnote_to_be_reexecuted": false,
        "deepnote_cell_type": "code",
        "id": "Btb3w1k6Wvfm",
        "outputId": "aad18e08-dd84-4738-a306-b6e72ff82581"
      },
      "source": [
        "import torch.nn as nn\n",
        "import torch.nn.functional as F\n",
        "import torch.optim as optim\n",
        "\n",
        "import torch\n",
        "# Use cuda if present\n",
        "device = torch.device(\"cuda\" if torch.cuda.is_available() else \"cpu\")\n",
        "print(\"Device available for running: \")\n",
        "print(device)"
      ],
      "execution_count": null,
      "outputs": [
        {
          "name": "stderr",
          "text": "/shared-libs/python3.8/py/lib/python3.8/site-packages/tqdm/auto.py:22: TqdmWarning: IProgress not found. Please update jupyter and ipywidgets. See https://ipywidgets.readthedocs.io/en/stable/user_install.html\n  from .autonotebook import tqdm as notebook_tqdm\nDevice available for running: \ncpu\n",
          "output_type": "stream"
        }
      ]
    },
    {
      "cell_type": "code",
      "metadata": {
        "cell_id": "928c6f94a3ee4e8498a64cc55023d153",
        "source_hash": "733c7bbf",
        "execution_start": 1682522390617,
        "execution_millis": 21,
        "deepnote_to_be_reexecuted": false,
        "deepnote_cell_type": "code",
        "id": "sy52S4aAWvfm"
      },
      "source": [
        "class FeedforwardNeuralNetModel(nn.Module):\n",
        "    def __init__(self, input_dim, hidden_dim, output_dim):\n",
        "        super(FeedforwardNeuralNetModel, self).__init__()\n",
        "\n",
        "        # Linear function 1: vocab_size --> 500\n",
        "        self.fc1 = nn.Linear(input_dim, hidden_dim)\n",
        "        # Non-linearity 1\n",
        "        self.relu1 = nn.ReLU()\n",
        "\n",
        "        # Linear function 2: 500 --> 500\n",
        "        self.fc2 = nn.Linear(hidden_dim, hidden_dim)\n",
        "        # Non-linearity 2\n",
        "        self.relu2 = nn.ReLU()\n",
        "\n",
        "        # Linear function 3 (readout): 500 --> 3\n",
        "        self.fc3 = nn.Linear(hidden_dim, output_dim)\n",
        "\n",
        "    def forward(self, x):\n",
        "        # Linear function 1\n",
        "        out = self.fc1(x)\n",
        "        # Non-linearity 1\n",
        "        out = self.relu1(out)\n",
        "\n",
        "        # Linear function 2\n",
        "        out = self.fc2(out)\n",
        "        # Non-linearity 2\n",
        "        out = self.relu2(out)\n",
        "\n",
        "        # Linear function 3 (readout)\n",
        "        out = self.fc3(out)\n",
        "\n",
        "        return F.softmax(out, dim=1)"
      ],
      "execution_count": null,
      "outputs": []
    },
    {
      "cell_type": "code",
      "metadata": {
        "cell_id": "654d5bf8ddce4cb18954459a9a3ef777",
        "source_hash": "19fe680c",
        "execution_start": 1682522390620,
        "execution_millis": 991,
        "deepnote_to_be_reexecuted": false,
        "deepnote_cell_type": "code",
        "id": "IgDD8VaVWvfm",
        "outputId": "b8c14431-f56d-4611-ea45-441010aacabf"
      },
      "source": [
        "from gensim import corpora\n",
        "# Function to return the dictionary either with padding word or without padding\n",
        "def make_dict(top_data_df_small, padding=True):\n",
        "    if padding:\n",
        "        print(\"Dictionary with padded token added\")\n",
        "        review_dict = corpora.Dictionary([['pad']])\n",
        "        review_dict.add_documents(top_data_df_small['stemmed_tokens'])\n",
        "    else:\n",
        "        print(\"Dictionary without padding\")\n",
        "        review_dict = corpora.Dictionary(top_data_df_small['stemmed_tokens'])\n",
        "    return review_dict\n",
        "\n",
        "# Make the dictionary without padding for the basic models\n",
        "review_dict = make_dict(top_data_df_small, padding=False)\n"
      ],
      "execution_count": null,
      "outputs": [
        {
          "name": "stdout",
          "text": "Dictionary without padding\n",
          "output_type": "stream"
        }
      ]
    },
    {
      "cell_type": "code",
      "metadata": {
        "cell_id": "17c675a0c64948fabe814b261a487479",
        "source_hash": "65b086a5",
        "execution_start": 1682522391611,
        "execution_millis": 4,
        "deepnote_to_be_reexecuted": false,
        "deepnote_cell_type": "code",
        "id": "gPGfdIE7Wvfm"
      },
      "source": [
        "VOCAB_SIZE = 30056\n",
        "NUM_LABELS = 3\n",
        "\n",
        "# Function to make bow vector to be used as input to network\n",
        "def make_bow_vector(review_dict, sentence):\n",
        "    vec = torch.zeros(VOCAB_SIZE, dtype=torch.float64, device=device)\n",
        "    for word in sentence:\n",
        "        vec[review_dict.token2id[word]] += 1\n",
        "    return vec.view(1, -1).float()"
      ],
      "execution_count": null,
      "outputs": []
    },
    {
      "cell_type": "code",
      "metadata": {
        "cell_id": "6fa1f88634934d01b8e7eced4968c86c",
        "source_hash": "6e6ead2d",
        "execution_start": 1682522391615,
        "execution_millis": 5,
        "deepnote_to_be_reexecuted": false,
        "deepnote_cell_type": "code",
        "id": "GZilGuONWvfm"
      },
      "source": [
        "# Function to get the output tensor\n",
        "def make_target(label):\n",
        "    if label == 0:\n",
        "        return torch.tensor([0], dtype=torch.long, device=device)\n",
        "    elif label == 1:\n",
        "        return torch.tensor([1], dtype=torch.long, device=device)\n",
        "    else:\n",
        "        return torch.tensor([2], dtype=torch.long, device=device)"
      ],
      "execution_count": null,
      "outputs": []
    },
    {
      "cell_type": "code",
      "metadata": {
        "cell_id": "8ca3073d97b549ec907295dd04f29c5a",
        "source_hash": "44a47984",
        "execution_start": 1682522391620,
        "execution_millis": 96,
        "deepnote_to_be_reexecuted": false,
        "deepnote_cell_type": "code",
        "id": "SZWBaqQrWvfm"
      },
      "source": [
        "VOCAB_SIZE = len(review_dict)\n",
        "\n",
        "input_dim = VOCAB_SIZE\n",
        "hidden_dim = 500\n",
        "output_dim = 3\n",
        "num_epochs = 1\n",
        "\n",
        "ff_nn_bow_model = FeedforwardNeuralNetModel(input_dim, hidden_dim, output_dim)\n",
        "ff_nn_bow_model.to(device)\n",
        "\n",
        "loss_function = nn.CrossEntropyLoss()\n",
        "optimizer = optim.SGD(ff_nn_bow_model.parameters(), lr=0.001)"
      ],
      "execution_count": null,
      "outputs": []
    },
    {
      "cell_type": "code",
      "metadata": {
        "cell_id": "30af5ea191394a159315b2533c3ea514",
        "source_hash": "6de70aeb",
        "execution_start": 1682522391718,
        "execution_millis": 2268716,
        "deepnote_to_be_reexecuted": false,
        "deepnote_cell_type": "code",
        "id": "4XaXiUdnWvfm"
      },
      "source": [
        "# Open the file for writing loss\n",
        "ffnn_loss_file_name = 'ffnn_bow_class_big_loss_500_epoch_100_less_lr.csv'\n",
        "f = open(ffnn_loss_file_name,'w')\n",
        "f.write('iter, loss')\n",
        "f.write('\\n')\n",
        "losses = []\n",
        "iter = 0\n",
        "# Start training\n",
        "for epoch in range(num_epochs):\n",
        "    if (epoch+1) % 25 == 0:\n",
        "        print(\"Epoch completed: \" + str(epoch+1))\n",
        "    train_loss = 0\n",
        "    for index, row in X_train.iterrows():\n",
        "        # Clearing the accumulated gradients\n",
        "        optimizer.zero_grad()\n",
        "\n",
        "        # Make the bag of words vector for stemmed tokens\n",
        "        bow_vec = make_bow_vector(review_dict,row['stemmed_tokens'])\n",
        "         # Forward pass to get output\n",
        "        probs = ff_nn_bow_model(bow_vec)\n",
        "\n",
        "        # Get the target label\n",
        "        target = make_target(Y_train['RivewRelevance'][index])\n",
        "\n",
        "        # Calculate Loss: softmax --> cross entropy loss\n",
        "        loss = loss_function(probs, target)\n",
        "        # Accumulating the loss over time\n",
        "        train_loss += loss.item()\n",
        "\n",
        "        # Getting gradients w.r.t. parameters\n",
        "        loss.backward()\n",
        "\n",
        "        # Updating parameters\n",
        "        optimizer.step()\n",
        "    f.write(str((epoch+1)) + \",\" + str(train_loss / len(X_train)))\n",
        "    f.write('\\n')\n",
        "    train_loss = 0\n",
        "\n",
        "f.close()\n",
        ""
      ],
      "execution_count": null,
      "outputs": []
    },
    {
      "cell_type": "code",
      "metadata": {
        "cell_id": "614a2a1503f54bc89c6485b4136a938f",
        "source_hash": "cda6a6f9",
        "execution_start": 1682524660433,
        "execution_millis": 43687,
        "deepnote_to_be_reexecuted": false,
        "deepnote_cell_type": "code",
        "id": "pb8bEL8AWvfn",
        "outputId": "dde139ab-7943-4ebf-c9b3-aed70e6a584d"
      },
      "source": [
        "from sklearn.metrics import classification_report\n",
        "bow_ff_nn_predictions = []\n",
        "original_lables_ff_bow = []\n",
        "with torch.no_grad():\n",
        "    for index, row in X_test.iterrows():\n",
        "        bow_vec = make_bow_vector(review_dict, row['stemmed_tokens'])\n",
        "        probs = ff_nn_bow_model(bow_vec)\n",
        "        bow_ff_nn_predictions.append(torch.argmax(probs, dim=1).cpu().numpy()[0])\n",
        "        original_lables_ff_bow.append(make_target(Y_test['RivewRelevance'][index]).cpu().numpy()[0])\n",
        "print(classification_report(original_lables_ff_bow,bow_ff_nn_predictions))\n",
        "ffnn_loss_df = pd.read_csv(ffnn_loss_file_name)\n",
        "print(len(ffnn_loss_df))\n",
        "print(ffnn_loss_df.columns)\n",
        "#ffnn_plt_500_padding_100_epochs = ffnn_loss_df[' loss'].plot()\n",
        "#fig = ffnn_plt_500_padding_100_epochs.get_figure()\n",
        "#fig.savefig( 'plots/' + \"ffnn_bow_loss_500_padding_100_epochs_less_lr.pdf\")\n"
      ],
      "execution_count": null,
      "outputs": [
        {
          "name": "stdout",
          "text": "              precision    recall  f1-score   support\n\n           0       0.00      0.00      0.00      2108\n           1       0.81      1.00      0.89     13747\n           2       0.00      0.00      0.00      1132\n\n    accuracy                           0.81     16987\n   macro avg       0.27      0.33      0.30     16987\nweighted avg       0.65      0.81      0.72     16987\n\n1\nIndex(['iter', ' loss'], dtype='object')\n/shared-libs/python3.8/py/lib/python3.8/site-packages/sklearn/metrics/_classification.py:1334: UndefinedMetricWarning: Precision and F-score are ill-defined and being set to 0.0 in labels with no predicted samples. Use `zero_division` parameter to control this behavior.\n  _warn_prf(average, modifier, msg_start, len(result))\n/shared-libs/python3.8/py/lib/python3.8/site-packages/sklearn/metrics/_classification.py:1334: UndefinedMetricWarning: Precision and F-score are ill-defined and being set to 0.0 in labels with no predicted samples. Use `zero_division` parameter to control this behavior.\n  _warn_prf(average, modifier, msg_start, len(result))\n/shared-libs/python3.8/py/lib/python3.8/site-packages/sklearn/metrics/_classification.py:1334: UndefinedMetricWarning: Precision and F-score are ill-defined and being set to 0.0 in labels with no predicted samples. Use `zero_division` parameter to control this behavior.\n  _warn_prf(average, modifier, msg_start, len(result))\n",
          "output_type": "stream"
        }
      ]
    },
    {
      "cell_type": "code",
      "metadata": {
        "cell_id": "b5017a2391aa475289a6818a304edb72",
        "source_hash": "a26c6aa2",
        "execution_start": 1682524704122,
        "execution_millis": 2,
        "deepnote_to_be_reexecuted": false,
        "deepnote_cell_type": "code",
        "id": "rGVs1HKwWvfn",
        "outputId": "0063c752-dad8-4b3e-e15e-39570d491b7d"
      },
      "source": [
        "# Making the Confusion Matrix\n",
        "from sklearn.metrics import confusion_matrix\n",
        "cm = confusion_matrix(original_lables_ff_bow, bow_ff_nn_predictions)\n",
        "print(cm)"
      ],
      "execution_count": null,
      "outputs": [
        {
          "name": "stdout",
          "text": "[[    0  2108     0]\n [    0 13747     0]\n [    0  1132     0]]\n",
          "output_type": "stream"
        }
      ]
    },
    {
      "cell_type": "markdown",
      "source": [
        "<a style='text-decoration:none;line-height:16px;display:flex;color:#5B5B62;padding:10px;justify-content:end;' href='https://deepnote.com?utm_source=created-in-deepnote-cell&projectId=378be7ce-053e-4e53-a8d7-d43f011c835b' target=\"_blank\">\n",
        "<img alt='Created in deepnote.com' style='display:inline;max-height:16px;margin:0px;margin-right:7.5px;' src='data:image/svg+xml;base64,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' > </img>\n",
        "Created in <span style='font-weight:600;margin-left:4px;'>Deepnote</span></a>"
      ],
      "metadata": {
        "created_in_deepnote_cell": true,
        "deepnote_cell_type": "markdown",
        "id": "s-tvLCByWvfn"
      }
    }
  ],
  "nbformat": 4,
  "nbformat_minor": 0,
  "metadata": {
    "deepnote_notebook_id": "f7f74a6d13c34863b0348e4d2264b656",
    "deepnote_execution_queue": [],
    "colab": {
      "provenance": [],
      "include_colab_link": true
    }
  }
}