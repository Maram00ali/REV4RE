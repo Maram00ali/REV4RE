{
  "cells": [
    {
      "cell_type": "markdown",
      "metadata": {
        "id": "view-in-github",
        "colab_type": "text"
      },
      "source": [
        "<a href=\"https://colab.research.google.com/github/Maram00ali/REV4RE/blob/main/Basic_classificationNB.ipynb\" target=\"_parent\"><img src=\"https://colab.research.google.com/assets/colab-badge.svg\" alt=\"Open In Colab\"/></a>"
      ]
    },
    {
      "cell_type": "code",
      "metadata": {
        "tags": [],
        "source_hash": "6930914e",
        "execution_start": 1681065655669,
        "execution_millis": 1390,
        "deepnote_to_be_reexecuted": false,
        "cell_id": "a129df738b21406ea1cb4b3c4e66e335",
        "deepnote_cell_type": "code",
        "id": "aO0JqywXSsNT",
        "outputId": "b98922e2-6048-468a-db27-cc4be849ad56"
      },
      "source": [
        "import numpy as np\n",
        "import matplotlib.pyplot as plt\n",
        "import pandas as pd\n",
        "\n",
        "dataset = pd.read_csv('dataset path')\n",
        "dataset.head()"
      ],
      "execution_count": null,
      "outputs": [
        {
          "output_type": "execute_result",
          "execution_count": 1,
          "data": {
            "application/vnd.deepnote.dataframe.v3+json": {
              "column_count": 2,
              "row_count": 5,
              "columns": [
                {
                  "name": "Review",
                  "dtype": "object",
                  "stats": {
                    "unique_count": 5,
                    "nan_count": 0,
                    "categories": [
                      {
                        "name": "5 star good app",
                        "count": 1
                      },
                      {
                        "name": "A monthly subscription fee. Really?",
                        "count": 1
                      },
                      {
                        "name": "3 others",
                        "count": 3
                      }
                    ]
                  }
                },
                {
                  "name": "RivewRelevance",
                  "dtype": "int64",
                  "stats": {
                    "unique_count": 1,
                    "nan_count": 0,
                    "min": "1",
                    "max": "1",
                    "histogram": [
                      {
                        "bin_start": 0.5,
                        "bin_end": 0.6,
                        "count": 0
                      },
                      {
                        "bin_start": 0.6,
                        "bin_end": 0.7,
                        "count": 0
                      },
                      {
                        "bin_start": 0.7,
                        "bin_end": 0.8,
                        "count": 0
                      },
                      {
                        "bin_start": 0.8,
                        "bin_end": 0.9,
                        "count": 0
                      },
                      {
                        "bin_start": 0.9,
                        "bin_end": 1,
                        "count": 0
                      },
                      {
                        "bin_start": 1,
                        "bin_end": 1.1,
                        "count": 5
                      },
                      {
                        "bin_start": 1.1,
                        "bin_end": 1.2000000000000002,
                        "count": 0
                      },
                      {
                        "bin_start": 1.2000000000000002,
                        "bin_end": 1.3,
                        "count": 0
                      },
                      {
                        "bin_start": 1.3,
                        "bin_end": 1.4,
                        "count": 0
                      },
                      {
                        "bin_start": 1.4,
                        "bin_end": 1.5,
                        "count": 0
                      }
                    ]
                  }
                },
                {
                  "name": "_deepnote_index_column",
                  "dtype": "int64"
                }
              ],
              "rows": [
                {
                  "Review": "5 star good app",
                  "RivewRelevance": "1",
                  "_deepnote_index_column": "0"
                },
                {
                  "Review": "A monthly subscription fee. Really?",
                  "RivewRelevance": "1",
                  "_deepnote_index_column": "1"
                },
                {
                  "Review": "Able to customize and decorate a ton of things even for free! I really recommend this good app!",
                  "RivewRelevance": "1",
                  "_deepnote_index_column": "2"
                },
                {
                  "Review": "All I can say is this game is the best!!",
                  "RivewRelevance": "1",
                  "_deepnote_index_column": "3"
                },
                {
                  "Review": "Although not the best, it better for own creatives.",
                  "RivewRelevance": "1",
                  "_deepnote_index_column": "4"
                }
              ]
            },
            "text/plain": "                                              Review  RivewRelevance\n0                                    5 star good app               1\n1                A monthly subscription fee. Really?               1\n2  Able to customize and decorate a ton of things...               1\n3           All I can say is this game is the best!!               1\n4  Although not the best, it better for own creat...               1",
            "text/html": "<div>\n<style scoped>\n    .dataframe tbody tr th:only-of-type {\n        vertical-align: middle;\n    }\n\n    .dataframe tbody tr th {\n        vertical-align: top;\n    }\n\n    .dataframe thead th {\n        text-align: right;\n    }\n</style>\n<table border=\"1\" class=\"dataframe\">\n  <thead>\n    <tr style=\"text-align: right;\">\n      <th></th>\n      <th>Review</th>\n      <th>RivewRelevance</th>\n    </tr>\n  </thead>\n  <tbody>\n    <tr>\n      <th>0</th>\n      <td>5 star good app</td>\n      <td>1</td>\n    </tr>\n    <tr>\n      <th>1</th>\n      <td>A monthly subscription fee. Really?</td>\n      <td>1</td>\n    </tr>\n    <tr>\n      <th>2</th>\n      <td>Able to customize and decorate a ton of things...</td>\n      <td>1</td>\n    </tr>\n    <tr>\n      <th>3</th>\n      <td>All I can say is this game is the best!!</td>\n      <td>1</td>\n    </tr>\n    <tr>\n      <th>4</th>\n      <td>Although not the best, it better for own creat...</td>\n      <td>1</td>\n    </tr>\n  </tbody>\n</table>\n</div>"
          },
          "metadata": {}
        }
      ]
    },
    {
      "cell_type": "code",
      "metadata": {
        "tags": [],
        "cell_id": "50d0a87646b94d7e817f709e2bc9efd9",
        "source_hash": "ed8da230",
        "execution_start": 1681065657055,
        "execution_millis": 5,
        "deepnote_to_be_reexecuted": false,
        "deepnote_cell_type": "code",
        "id": "d9yZuM9nSsNW",
        "outputId": "678def95-fca7-438d-99c3-feb3cf044d5c"
      },
      "source": [
        "len(dataset)"
      ],
      "execution_count": null,
      "outputs": [
        {
          "output_type": "execute_result",
          "execution_count": 2,
          "data": {
            "text/plain": "84932"
          },
          "metadata": {}
        }
      ]
    },
    {
      "cell_type": "code",
      "metadata": {
        "tags": [],
        "cell_id": "5c14c319df33499a9ab4d5dc8abcef9b",
        "source_hash": "c2bbee1e",
        "execution_start": 1681065657059,
        "execution_millis": 27,
        "deepnote_to_be_reexecuted": false,
        "deepnote_cell_type": "code",
        "id": "YoIEVCbrSsNW",
        "outputId": "93c5c645-1044-48b2-f347-d9d1a571ad94"
      },
      "source": [
        "dataset.isnull().sum()"
      ],
      "execution_count": null,
      "outputs": [
        {
          "output_type": "execute_result",
          "execution_count": 3,
          "data": {
            "text/plain": "Review            0\nRivewRelevance    0\ndtype: int64"
          },
          "metadata": {}
        }
      ]
    },
    {
      "cell_type": "code",
      "metadata": {
        "tags": [],
        "cell_id": "55ca76c65d084a37991a51cad9432c2a",
        "source_hash": "9a174f77",
        "execution_start": 1681065657065,
        "execution_millis": 24,
        "deepnote_to_be_reexecuted": false,
        "deepnote_cell_type": "code",
        "id": "AiiLj7l7SsNW",
        "outputId": "3b212757-e329-4745-cc12-d43d47beada6"
      },
      "source": [
        "# calculate count of each category\n",
        "labels, counts = np.unique(dataset.RivewRelevance, return_counts=True)\n",
        "# convert data.target_names to np array for fancy indexing\n",
        "\n",
        "print(dict(zip(labels, counts)))\n"
      ],
      "execution_count": null,
      "outputs": [
        {
          "name": "stdout",
          "text": "{0: 10352, 1: 69045, 2: 5535}\n",
          "output_type": "stream"
        }
      ]
    },
    {
      "cell_type": "markdown",
      "metadata": {
        "tags": [],
        "cell_id": "91cbaeea322c4fac9727e1cfa9decf03",
        "is_collapsed": false,
        "formattedRanges": [],
        "deepnote_cell_type": "text-cell-h1",
        "id": "57bvVabZSsNX"
      },
      "source": [
        "# Split dataset"
      ]
    },
    {
      "cell_type": "code",
      "metadata": {
        "tags": [],
        "cell_id": "578ac8abc0484d4ab3673e9960c7b7e1",
        "source_hash": "909b6e4",
        "execution_start": 1681065657068,
        "execution_millis": 1000,
        "deepnote_to_be_reexecuted": false,
        "deepnote_cell_type": "code",
        "id": "0fnJBYOZSsNY",
        "outputId": "c134f589-0343-4376-851d-b1d4d9072f54"
      },
      "source": [
        "from sklearn.model_selection import train_test_split\n",
        "X_train, X_test, y_train, y_test = train_test_split(dataset.Review, dataset.RivewRelevance)\n",
        "list(t[:80] for t in X_train[:10])"
      ],
      "execution_count": null,
      "outputs": [
        {
          "output_type": "execute_result",
          "execution_count": 5,
          "data": {
            "text/plain": "[\"It's ok. Facebook lite. I like the Reels. It keeps trying to get me to link up w\",\n \"I'm annoyed how I can't figure out how to delete books that I don't want anymore\",\n 'there is a game in your ads',\n 'Brilliant app for searching hotels and restaurants.',\n 'I love this app it makes my phone look good!',\n 'I like this game. Very popular game, and l like this update',\n 'Not giving the exactly word, trying many times to get it.',\n 'It’s a great app for editing but it randomly doesn’t let me use my photos! It’s ',\n 'Love booking.com! So easy and hassle free to use which is a pleasure. Recommend ',\n 'I rate this app because I want one language add in translate that is Sanskrit it']"
          },
          "metadata": {}
        }
      ]
    },
    {
      "cell_type": "markdown",
      "metadata": {
        "tags": [],
        "cell_id": "1972381cb7d8439eb96a442050a674c6",
        "is_collapsed": false,
        "formattedRanges": [],
        "deepnote_cell_type": "text-cell-h1",
        "id": "vh-zkA54SsNY"
      },
      "source": [
        "# Prepare dataset"
      ]
    },
    {
      "cell_type": "code",
      "metadata": {
        "tags": [],
        "cell_id": "236e51b9a7c34901bcd813c35b2ab56e",
        "source_hash": "d2355228",
        "execution_start": 1681065658072,
        "execution_millis": 3,
        "deepnote_to_be_reexecuted": false,
        "deepnote_cell_type": "code",
        "id": "3uGH6uFeSsNY"
      },
      "source": [
        "#dataset pre_processing"
      ],
      "execution_count": null,
      "outputs": []
    },
    {
      "cell_type": "code",
      "metadata": {
        "tags": [],
        "cell_id": "d75804d8a89546d39c952d4846e57d73",
        "source_hash": "3e1e7ccd",
        "execution_start": 1681065658120,
        "execution_millis": 2,
        "deepnote_to_be_reexecuted": false,
        "deepnote_cell_type": "code",
        "id": "p9K2HzCTSsNY"
      },
      "source": [
        "# Extracting features from text files (pure extraction)\n",
        "#from sklearn.feature_extraction.text import CountVectorizer\n",
        "#count_vect = CountVectorizer()\n",
        "#X_train_counts = count_vect.fit_transform(X_train)\n",
        "#X_train_counts.shape"
      ],
      "execution_count": null,
      "outputs": []
    },
    {
      "cell_type": "code",
      "metadata": {
        "tags": [],
        "cell_id": "c49c5e98d7a4473980a24207111b9454",
        "source_hash": "cef74736",
        "execution_start": 1681065658120,
        "execution_millis": 4,
        "deepnote_to_be_reexecuted": false,
        "deepnote_cell_type": "code",
        "id": "JQearkNESsNY"
      },
      "source": [
        "#TF_IDF feauture extraction\n",
        "#from sklearn.feature_extraction.text import TfidfVectorizer\n",
        "#vectorizer = TfidfVectorizer(stop_words=\"english\", max_features=1000, decode_error=\"ignore\")\n",
        "#vectorizer.fit(X_train)\n"
      ],
      "execution_count": null,
      "outputs": []
    },
    {
      "cell_type": "markdown",
      "metadata": {
        "tags": [],
        "cell_id": "2830e067fd89436289db94af49dccb17",
        "is_collapsed": false,
        "formattedRanges": [],
        "deepnote_cell_type": "text-cell-h1",
        "id": "rJRlmzrzSsNZ"
      },
      "source": [
        "# start with the basic classification"
      ]
    },
    {
      "cell_type": "code",
      "metadata": {
        "tags": [],
        "cell_id": "7747000a57d244b6b9899399e1782f6b",
        "source_hash": "6e508bd7",
        "execution_start": 1681065658121,
        "execution_millis": 1256,
        "deepnote_to_be_reexecuted": false,
        "deepnote_cell_type": "code",
        "id": "hf6huDEOSsNZ"
      },
      "source": [
        "# import library\n",
        "import re\n",
        "import nltk\n",
        "from sklearn.svm import SVC\n",
        "from sklearn.feature_extraction.text import TfidfTransformer\n",
        "from sklearn.naive_bayes import GaussianNB\n",
        "from sklearn.neighbors import KNeighborsClassifier\n",
        "from sklearn.naive_bayes import MultinomialNB\n",
        "from sklearn.linear_model import LogisticRegression\n",
        "from sklearn.pipeline import Pipeline\n",
        "from sklearn.preprocessing import Normalizer\n",
        "from sklearn.feature_extraction.text import TfidfVectorizer, CountVectorizer\n",
        "from sklearn.model_selection import cross_val_score\n",
        "from sklearn.metrics import classification_report, accuracy_score\n",
        "from sklearn import metrics\n",
        "\n"
      ],
      "execution_count": null,
      "outputs": []
    },
    {
      "cell_type": "markdown",
      "metadata": {
        "tags": [],
        "cell_id": "5379d4aefcc24ed3b210fe7973682d20",
        "is_collapsed": false,
        "formattedRanges": [],
        "deepnote_cell_type": "text-cell-h1",
        "id": "1NMR_g5gSsNZ"
      },
      "source": [
        "#"
      ]
    },
    {
      "cell_type": "code",
      "metadata": {
        "tags": [],
        "cell_id": "c20f5e5a4129488b80d1097841c096da",
        "source_hash": "1f346e0e",
        "execution_start": 1681065659379,
        "execution_millis": 901085,
        "deepnote_to_be_reexecuted": false,
        "deepnote_cell_type": "code",
        "id": "mjKwmqgLSsNZ",
        "outputId": "dee57c44-f211-412c-d14b-927ec06e2a1a"
      },
      "source": [
        "# Stemming Code\n",
        "\n",
        "import nltk\n",
        "nltk.download()\n",
        "\n",
        "from nltk.stem.snowball import SnowballStemmer\n",
        "stemmer = SnowballStemmer(\"english\", ignore_stopwords=True)\n",
        "\n",
        "class StemmedCountVectorizer(CountVectorizer):\n",
        "    def build_analyzer(self):\n",
        "        analyzer = super(StemmedCountVectorizer, self).build_analyzer()\n",
        "        return lambda doc: ([stemmer.stem(w) for w in analyzer(doc)])"
      ],
      "execution_count": null,
      "outputs": [
        {
          "name": "stdout",
          "text": "NLTK Downloader\n---------------------------------------------------------------------------\n    d) Download   l) List    u) Update   c) Config   h) Help   q) Quit\n---------------------------------------------------------------------------\n",
          "output_type": "stream"
        },
        {
          "output_type": "error",
          "ename": "KeyboardInterrupt",
          "evalue": "Interrupted by user",
          "traceback": [
            "\u001b[0;31m---------------------------------------------------------------------------\u001b[0m",
            "\u001b[0;31mKeyboardInterrupt\u001b[0m                         Traceback (most recent call last)",
            "Cell \u001b[0;32mIn [10], line 4\u001b[0m\n\u001b[1;32m      1\u001b[0m \u001b[38;5;66;03m# Stemming Code\u001b[39;00m\n\u001b[1;32m      3\u001b[0m \u001b[38;5;28;01mimport\u001b[39;00m \u001b[38;5;21;01mnltk\u001b[39;00m\n\u001b[0;32m----> 4\u001b[0m \u001b[43mnltk\u001b[49m\u001b[38;5;241;43m.\u001b[39;49m\u001b[43mdownload\u001b[49m\u001b[43m(\u001b[49m\u001b[43m)\u001b[49m\n\u001b[1;32m      6\u001b[0m \u001b[38;5;28;01mfrom\u001b[39;00m \u001b[38;5;21;01mnltk\u001b[39;00m\u001b[38;5;21;01m.\u001b[39;00m\u001b[38;5;21;01mstem\u001b[39;00m\u001b[38;5;21;01m.\u001b[39;00m\u001b[38;5;21;01msnowball\u001b[39;00m \u001b[38;5;28;01mimport\u001b[39;00m SnowballStemmer\n\u001b[1;32m      7\u001b[0m stemmer \u001b[38;5;241m=\u001b[39m SnowballStemmer(\u001b[38;5;124m\"\u001b[39m\u001b[38;5;124menglish\u001b[39m\u001b[38;5;124m\"\u001b[39m, ignore_stopwords\u001b[38;5;241m=\u001b[39m\u001b[38;5;28;01mTrue\u001b[39;00m)\n",
            "File \u001b[0;32m/shared-libs/python3.9/py/lib/python3.9/site-packages/nltk/downloader.py:763\u001b[0m, in \u001b[0;36mDownloader.download\u001b[0;34m(self, info_or_id, download_dir, quiet, force, prefix, halt_on_error, raise_on_error, print_error_to)\u001b[0m\n\u001b[1;32m    761\u001b[0m     \u001b[38;5;28;01mif\u001b[39;00m download_dir \u001b[38;5;129;01mis\u001b[39;00m \u001b[38;5;129;01mnot\u001b[39;00m \u001b[38;5;28;01mNone\u001b[39;00m:\n\u001b[1;32m    762\u001b[0m         \u001b[38;5;28mself\u001b[39m\u001b[38;5;241m.\u001b[39m_download_dir \u001b[38;5;241m=\u001b[39m download_dir\n\u001b[0;32m--> 763\u001b[0m     \u001b[38;5;28;43mself\u001b[39;49m\u001b[38;5;241;43m.\u001b[39;49m\u001b[43m_interactive_download\u001b[49m\u001b[43m(\u001b[49m\u001b[43m)\u001b[49m\n\u001b[1;32m    764\u001b[0m     \u001b[38;5;28;01mreturn\u001b[39;00m \u001b[38;5;28;01mTrue\u001b[39;00m\n\u001b[1;32m    766\u001b[0m \u001b[38;5;28;01melse\u001b[39;00m:\n\u001b[1;32m    767\u001b[0m     \u001b[38;5;66;03m# Define a helper function for displaying output:\u001b[39;00m\n",
            "File \u001b[0;32m/shared-libs/python3.9/py/lib/python3.9/site-packages/nltk/downloader.py:1117\u001b[0m, in \u001b[0;36mDownloader._interactive_download\u001b[0;34m(self)\u001b[0m\n\u001b[1;32m   1115\u001b[0m         DownloaderShell(\u001b[38;5;28mself\u001b[39m)\u001b[38;5;241m.\u001b[39mrun()\n\u001b[1;32m   1116\u001b[0m \u001b[38;5;28;01melse\u001b[39;00m:\n\u001b[0;32m-> 1117\u001b[0m     \u001b[43mDownloaderShell\u001b[49m\u001b[43m(\u001b[49m\u001b[38;5;28;43mself\u001b[39;49m\u001b[43m)\u001b[49m\u001b[38;5;241;43m.\u001b[39;49m\u001b[43mrun\u001b[49m\u001b[43m(\u001b[49m\u001b[43m)\u001b[49m\n",
            "File \u001b[0;32m/shared-libs/python3.9/py/lib/python3.9/site-packages/nltk/downloader.py:1141\u001b[0m, in \u001b[0;36mDownloaderShell.run\u001b[0;34m(self)\u001b[0m\n\u001b[1;32m   1132\u001b[0m \u001b[38;5;28;01mwhile\u001b[39;00m \u001b[38;5;28;01mTrue\u001b[39;00m:\n\u001b[1;32m   1133\u001b[0m     \u001b[38;5;28mself\u001b[39m\u001b[38;5;241m.\u001b[39m_simple_interactive_menu(\n\u001b[1;32m   1134\u001b[0m         \u001b[38;5;124m\"\u001b[39m\u001b[38;5;124md) Download\u001b[39m\u001b[38;5;124m\"\u001b[39m,\n\u001b[1;32m   1135\u001b[0m         \u001b[38;5;124m\"\u001b[39m\u001b[38;5;124ml) List\u001b[39m\u001b[38;5;124m\"\u001b[39m,\n\u001b[0;32m   (...)\u001b[0m\n\u001b[1;32m   1139\u001b[0m         \u001b[38;5;124m\"\u001b[39m\u001b[38;5;124mq) Quit\u001b[39m\u001b[38;5;124m\"\u001b[39m,\n\u001b[1;32m   1140\u001b[0m     )\n\u001b[0;32m-> 1141\u001b[0m     user_input \u001b[38;5;241m=\u001b[39m \u001b[38;5;28;43minput\u001b[39;49m\u001b[43m(\u001b[49m\u001b[38;5;124;43m\"\u001b[39;49m\u001b[38;5;124;43mDownloader> \u001b[39;49m\u001b[38;5;124;43m\"\u001b[39;49m\u001b[43m)\u001b[49m\u001b[38;5;241m.\u001b[39mstrip()\n\u001b[1;32m   1142\u001b[0m     \u001b[38;5;28;01mif\u001b[39;00m \u001b[38;5;129;01mnot\u001b[39;00m user_input:\n\u001b[1;32m   1143\u001b[0m         \u001b[38;5;28mprint\u001b[39m()\n",
            "File \u001b[0;32m/shared-libs/python3.9/py-core/lib/python3.9/site-packages/ipykernel/kernelbase.py:1177\u001b[0m, in \u001b[0;36mKernel.raw_input\u001b[0;34m(self, prompt)\u001b[0m\n\u001b[1;32m   1173\u001b[0m \u001b[38;5;28;01mif\u001b[39;00m \u001b[38;5;129;01mnot\u001b[39;00m \u001b[38;5;28mself\u001b[39m\u001b[38;5;241m.\u001b[39m_allow_stdin:\n\u001b[1;32m   1174\u001b[0m     \u001b[38;5;28;01mraise\u001b[39;00m StdinNotImplementedError(\n\u001b[1;32m   1175\u001b[0m         \u001b[38;5;124m\"\u001b[39m\u001b[38;5;124mraw_input was called, but this frontend does not support input requests.\u001b[39m\u001b[38;5;124m\"\u001b[39m\n\u001b[1;32m   1176\u001b[0m     )\n\u001b[0;32m-> 1177\u001b[0m \u001b[38;5;28;01mreturn\u001b[39;00m \u001b[38;5;28;43mself\u001b[39;49m\u001b[38;5;241;43m.\u001b[39;49m\u001b[43m_input_request\u001b[49m\u001b[43m(\u001b[49m\n\u001b[1;32m   1178\u001b[0m \u001b[43m    \u001b[49m\u001b[38;5;28;43mstr\u001b[39;49m\u001b[43m(\u001b[49m\u001b[43mprompt\u001b[49m\u001b[43m)\u001b[49m\u001b[43m,\u001b[49m\n\u001b[1;32m   1179\u001b[0m \u001b[43m    \u001b[49m\u001b[38;5;28;43mself\u001b[39;49m\u001b[38;5;241;43m.\u001b[39;49m\u001b[43m_parent_ident\u001b[49m\u001b[43m[\u001b[49m\u001b[38;5;124;43m\"\u001b[39;49m\u001b[38;5;124;43mshell\u001b[39;49m\u001b[38;5;124;43m\"\u001b[39;49m\u001b[43m]\u001b[49m\u001b[43m,\u001b[49m\n\u001b[1;32m   1180\u001b[0m \u001b[43m    \u001b[49m\u001b[38;5;28;43mself\u001b[39;49m\u001b[38;5;241;43m.\u001b[39;49m\u001b[43mget_parent\u001b[49m\u001b[43m(\u001b[49m\u001b[38;5;124;43m\"\u001b[39;49m\u001b[38;5;124;43mshell\u001b[39;49m\u001b[38;5;124;43m\"\u001b[39;49m\u001b[43m)\u001b[49m\u001b[43m,\u001b[49m\n\u001b[1;32m   1181\u001b[0m \u001b[43m    \u001b[49m\u001b[43mpassword\u001b[49m\u001b[38;5;241;43m=\u001b[39;49m\u001b[38;5;28;43;01mFalse\u001b[39;49;00m\u001b[43m,\u001b[49m\n\u001b[1;32m   1182\u001b[0m \u001b[43m\u001b[49m\u001b[43m)\u001b[49m\n",
            "File \u001b[0;32m/shared-libs/python3.9/py-core/lib/python3.9/site-packages/ipykernel/kernelbase.py:1219\u001b[0m, in \u001b[0;36mKernel._input_request\u001b[0;34m(self, prompt, ident, parent, password)\u001b[0m\n\u001b[1;32m   1216\u001b[0m             \u001b[38;5;28;01mbreak\u001b[39;00m\n\u001b[1;32m   1217\u001b[0m \u001b[38;5;28;01mexcept\u001b[39;00m \u001b[38;5;167;01mKeyboardInterrupt\u001b[39;00m:\n\u001b[1;32m   1218\u001b[0m     \u001b[38;5;66;03m# re-raise KeyboardInterrupt, to truncate traceback\u001b[39;00m\n\u001b[0;32m-> 1219\u001b[0m     \u001b[38;5;28;01mraise\u001b[39;00m \u001b[38;5;167;01mKeyboardInterrupt\u001b[39;00m(\u001b[38;5;124m\"\u001b[39m\u001b[38;5;124mInterrupted by user\u001b[39m\u001b[38;5;124m\"\u001b[39m) \u001b[38;5;28;01mfrom\u001b[39;00m \u001b[38;5;28mNone\u001b[39m\n\u001b[1;32m   1220\u001b[0m \u001b[38;5;28;01mexcept\u001b[39;00m \u001b[38;5;167;01mException\u001b[39;00m:\n\u001b[1;32m   1221\u001b[0m     \u001b[38;5;28mself\u001b[39m\u001b[38;5;241m.\u001b[39mlog\u001b[38;5;241m.\u001b[39mwarning(\u001b[38;5;124m\"\u001b[39m\u001b[38;5;124mInvalid Message:\u001b[39m\u001b[38;5;124m\"\u001b[39m, exc_info\u001b[38;5;241m=\u001b[39m\u001b[38;5;28;01mTrue\u001b[39;00m)\n",
            "\u001b[0;31mKeyboardInterrupt\u001b[0m: Interrupted by user"
          ]
        }
      ]
    },
    {
      "cell_type": "code",
      "metadata": {
        "tags": [],
        "cell_id": "2e07420d71184496a4799cf077d5cb7b",
        "source_hash": "84055030",
        "execution_start": 1679141112449,
        "execution_millis": 1925448030,
        "deepnote_to_be_reexecuted": true,
        "deepnote_cell_type": "code",
        "id": "QszTzoZaSsNZ"
      },
      "source": [
        "#normlizing text\n",
        "#import numpy as np\n",
        "#from sklearn import preprocessing\n",
        "\n",
        "#norm_dataset = preprocessing.normalize(dataset.data)\n",
        "#scaled_df = pd.DataFrame(norm_dataset, columns=dataset.data.columns)\n",
        "#print(scaled_df)"
      ],
      "execution_count": null,
      "outputs": []
    },
    {
      "cell_type": "markdown",
      "metadata": {
        "tags": [],
        "cell_id": "82cf6bda356c43588bc739c361dc0b6a",
        "is_collapsed": false,
        "formattedRanges": [],
        "deepnote_cell_type": "text-cell-h1",
        "id": "IAglSeFBSsNZ"
      },
      "source": [
        "# NB"
      ]
    },
    {
      "cell_type": "code",
      "metadata": {
        "tags": [],
        "cell_id": "83bad727c6454e91b7d78f4aae5e1492",
        "source_hash": "fef06704",
        "execution_start": 1679310785352,
        "execution_millis": 1755775126,
        "deepnote_to_be_reexecuted": true,
        "deepnote_cell_type": "code",
        "id": "CoIWnvclSsNZ"
      },
      "source": [
        "#MultinomialNB pure extraction without processing\n",
        "\n",
        "Mult_NB= Pipeline([('vect', CountVectorizer()), ('clf', MultinomialNB())])"
      ],
      "execution_count": null,
      "outputs": []
    },
    {
      "cell_type": "code",
      "metadata": {
        "tags": [],
        "cell_id": "203d95cf9237420fb24989d49aed948c",
        "source_hash": "4fce7775",
        "execution_start": 1679311023551,
        "execution_millis": 1755536934,
        "deepnote_to_be_reexecuted": true,
        "deepnote_cell_type": "code",
        "id": "_N51IP8MSsNZ"
      },
      "source": [
        "#MultinomialNB pure extraction with stopword\n",
        "\n",
        "Mult_NB = Pipeline([('vect', CountVectorizer(stop_words='english')),\n",
        "                     ('clf', MultinomialNB())])"
      ],
      "execution_count": null,
      "outputs": []
    },
    {
      "cell_type": "code",
      "metadata": {
        "tags": [],
        "cell_id": "3c599c9495e1474ab5fa8f61103dbdc3",
        "source_hash": "dd9f6633",
        "execution_start": 1679311552653,
        "execution_millis": 1755007832,
        "deepnote_to_be_reexecuted": true,
        "deepnote_cell_type": "code",
        "id": "2U5Ce9KFSsNa"
      },
      "source": [
        "#GaussianNB pure extraction without processing\n",
        "Ga_NB = Pipeline([('vect', CountVectorizer()),\n",
        "                     ('clf', GaussianNB())])"
      ],
      "execution_count": null,
      "outputs": []
    },
    {
      "cell_type": "code",
      "metadata": {
        "tags": [],
        "cell_id": "2bc8893a3c0f4de7a6f5c1d360b37823",
        "source_hash": "b7841969",
        "deepnote_to_be_reexecuted": true,
        "deepnote_cell_type": "code",
        "id": "9fDiRpR3SsNa"
      },
      "source": [
        "#GaussianNB  pure extraction with stopword\n",
        "Ga_NB = Pipeline([('vect', CountVectorizer(stop_words='english')),\n",
        "                     ('clf', GaussianNB())])"
      ],
      "execution_count": null,
      "outputs": []
    },
    {
      "cell_type": "code",
      "metadata": {
        "tags": [],
        "cell_id": "ad91b8e0ed5846d8a1b1cc8e237865c7",
        "source_hash": "7c28503f",
        "execution_start": 1679312981123,
        "execution_millis": 1753579374,
        "deepnote_to_be_reexecuted": true,
        "deepnote_cell_type": "code",
        "id": "PBz1nGchSsNa"
      },
      "source": [
        "#Mult_NB pure +stopword + TF_IDF transformer\n",
        "Mult_NB= Pipeline([('vect', CountVectorizer(stop_words='english')), ('tfidf', TfidfTransformer()),\n",
        "                     ('clf', MultinomialNB())])"
      ],
      "execution_count": null,
      "outputs": []
    },
    {
      "cell_type": "code",
      "metadata": {
        "tags": [],
        "cell_id": "c6efc0ae4eee46fd96b999e74b92d6b7",
        "source_hash": "8effda82",
        "execution_start": 1678999757282,
        "execution_millis": 2066803215,
        "deepnote_to_be_reexecuted": true,
        "deepnote_cell_type": "code",
        "id": "g2WOiDpXSsNa"
      },
      "source": [
        "#GaussianNB pure+ stopword + TF_IDF transformer\n",
        "Ga_NB = Pipeline([('vect', CountVectorizer(stop_words='english')), ('tfidf', TfidfTransformer()),\n",
        "                     ('clf', GaussianNB())])"
      ],
      "execution_count": null,
      "outputs": []
    },
    {
      "cell_type": "code",
      "metadata": {
        "tags": [],
        "cell_id": "3f0823745bb947faaf20a27c0d44c96d",
        "source_hash": "cec3ddb2",
        "execution_start": 1679340367748,
        "execution_millis": 1726192753,
        "deepnote_to_be_reexecuted": true,
        "deepnote_cell_type": "code",
        "id": "Uw2gJo0HSsNa"
      },
      "source": [
        "#Mult_NB TF_IDF\n",
        "Mult_NB = Pipeline([('vect', TfidfVectorizer(max_features=3000), ('tfidf', TfidfTransformer()),\n",
        "                     ('clf', MultinomialNB())])"
      ],
      "execution_count": null,
      "outputs": []
    },
    {
      "cell_type": "code",
      "metadata": {
        "tags": [],
        "cell_id": "123d7ee885b64630b2112f870b0d0b07",
        "source_hash": "7cbb9bf2",
        "execution_start": 1679340439647,
        "execution_millis": 1726120860,
        "deepnote_to_be_reexecuted": true,
        "deepnote_cell_type": "code",
        "id": "MRoWA6uPSsNa"
      },
      "source": [
        "#Mult_NB  TF_IDF  + stopword\n",
        "Mult_NB_TF_IDF = Pipeline([('vect', TfidfVectorizer(stop_words='english',max_features=3000), ('tfidf', TfidfTransformer())),\n",
        "                     ('clf', MultinomialNB())])"
      ],
      "execution_count": null,
      "outputs": []
    },
    {
      "cell_type": "code",
      "metadata": {
        "tags": [],
        "cell_id": "3f0971f935c744aabc11a7cf1bb8d54a",
        "source_hash": "60e10822",
        "deepnote_to_be_reexecuted": true,
        "deepnote_cell_type": "code",
        "id": "etQ2qdxdSsNa"
      },
      "source": [
        "#GaussianNB TF_IDF\n",
        "Ga_NB = Pipeline([('vect', CountVectorizer(stop_words='english')), ('tfidf', TfidfTransformer()),\n",
        "                     ('clf', GaussianNB())])"
      ],
      "execution_count": null,
      "outputs": []
    },
    {
      "cell_type": "code",
      "metadata": {
        "tags": [],
        "cell_id": "0f55c30a52ce47c7bc1db764878a966f",
        "source_hash": "6e570660",
        "deepnote_to_be_reexecuted": true,
        "deepnote_cell_type": "code",
        "id": "eLwx4kO-SsNa"
      },
      "source": [
        "#GaussianNB TF_IDF + stopword\n",
        "Ga_NB = Pipeline([('vect', TfidfVectorizer(stop_words='english'), ('tfidf', TfidfTransformer()),\n",
        "                     ('clf', GaussianNB())])"
      ],
      "execution_count": null,
      "outputs": []
    },
    {
      "cell_type": "code",
      "metadata": {
        "tags": [],
        "cell_id": "f84bb9d91d064c2c826491d4221195da",
        "source_hash": "b5f2b353",
        "execution_start": 1679342136200,
        "execution_millis": 1724424341,
        "deepnote_to_be_reexecuted": true,
        "deepnote_cell_type": "code",
        "id": "RWMeR-lESsNa"
      },
      "source": [
        "#Mult_NB CountVectorizer(stop_words='english')+ steeming\n",
        "stemmed_count_vect = StemmedCountVectorizer(stop_words='english',max_features=3000)\n",
        "Mult_NB = Pipeline([('vect', stemmed_count_vect),('tfidf', TfidfTransformer()),\n",
        "                    ('clf', MultinomialNB())])"
      ],
      "execution_count": null,
      "outputs": []
    },
    {
      "cell_type": "code",
      "metadata": {
        "tags": [],
        "cell_id": "ebc49eeeac1940aa90a1610d9bfe9ab7",
        "source_hash": "8cadc71e",
        "execution_start": 1679342846619,
        "execution_millis": 1723713988,
        "deepnote_to_be_reexecuted": true,
        "deepnote_cell_type": "code",
        "id": "Go3CHX-LSsNa"
      },
      "source": [
        "#Mult_NB الأعلى مع normaiztion\n",
        "Mult_NB = Pipeline([('vect', CountVectorizer(stop_words='english',max_features=3000)), ('norm', Normalizer()),\n",
        "                    ('clf',  MultinomialNB())])"
      ],
      "execution_count": null,
      "outputs": []
    },
    {
      "cell_type": "code",
      "metadata": {
        "tags": [],
        "cell_id": "8287cbb84c5d44a19f6f84ca8b39602b",
        "source_hash": "739e97f4",
        "execution_start": 1679343698855,
        "execution_millis": 1722861752,
        "deepnote_to_be_reexecuted": true,
        "deepnote_cell_type": "code",
        "id": "-U3sdNbvSsNb"
      },
      "source": [
        "#Mult_NB normalizaion and stemming\n",
        "stemmed_count_vect = StemmedCountVectorizer(stop_words='english',max_features=3000)\n",
        "Mult_NB = Pipeline([('vect', stemmed_count_vect), ('norm', Normalizer()),\n",
        "                    ('clf',  MultinomialNB())])"
      ],
      "execution_count": null,
      "outputs": []
    },
    {
      "cell_type": "code",
      "metadata": {
        "tags": [],
        "cell_id": "d426394398194455b0ce2fefd9a936a9",
        "source_hash": "e5cea57b",
        "deepnote_to_be_reexecuted": true,
        "deepnote_cell_type": "code",
        "id": "6HHUDpyLSsNb"
      },
      "source": [
        "#GaussianNB  الأعلى مع steeming\n",
        "#stemmed_count_vect = StemmedCountVectorizer(stop_words='english')\n",
        "#GaussianNB = Pipeline([('vect', stemmed_count_vect),('tfidf', TfidfTransformer()),\n",
        "#                    ('clf', GaussianNB())])"
      ],
      "execution_count": null,
      "outputs": []
    },
    {
      "cell_type": "code",
      "metadata": {
        "tags": [],
        "cell_id": "c3f77dad469f401f8ed37816725d4410",
        "source_hash": "5efbd69c",
        "deepnote_to_be_reexecuted": true,
        "deepnote_cell_type": "code",
        "id": "737eDPoiSsNb"
      },
      "source": [
        "#GaussianNB  الأعلى مع normaiztion\n",
        "GaussianNB = Pipeline([('vect', CountVectorizer(stop_words='english'), ('norm', Normalizer()),\n",
        "                    ('clf', GaussianNB())])"
      ],
      "execution_count": null,
      "outputs": []
    },
    {
      "cell_type": "code",
      "metadata": {
        "tags": [],
        "cell_id": "40846b1c66944c399041a939331f0f23",
        "source_hash": "ceb09fdb",
        "execution_start": 1679341906294,
        "execution_millis": 1724654375,
        "deepnote_to_be_reexecuted": true,
        "deepnote_cell_type": "code",
        "id": "iqtNgCIuSsNb"
      },
      "source": [
        "#MultinomialNB  normaiztion + stopword+steeming\n",
        "stemmed_count_vect = StemmedCountVectorizer(stop_words='english'))\n",
        "Mult_NB = Pipeline([('vect', stemmed_count_vect), ('norm', Normalizer()),\n",
        "                    ('clf',   MultinomialNB())])"
      ],
      "execution_count": null,
      "outputs": []
    },
    {
      "cell_type": "code",
      "metadata": {
        "tags": [],
        "cell_id": "adf9169b610a46629031ebc8544268cd",
        "source_hash": "ac39dcf4",
        "execution_start": 1679343710273,
        "execution_millis": 1722850396,
        "deepnote_to_be_reexecuted": true,
        "deepnote_cell_type": "code",
        "id": "nwY79ufSSsNb"
      },
      "source": [
        "##MultinomialNB  + stopword+ normalization+steeming\n",
        "\n",
        "\n",
        "NB_model = Mult_NB\n",
        "NB_model.fit(X_train, y_train)\n",
        "y_pred = NB_model.predict(X_test)\n",
        "print(accuracy_score(y_test, y_pred))\n",
        "print(classification_report(y_test, y_pred ))"
      ],
      "execution_count": null,
      "outputs": []
    },
    {
      "cell_type": "code",
      "metadata": {
        "tags": [],
        "cell_id": "442d866fbec7445caebb98111c8929de",
        "source_hash": "a046dfec",
        "execution_start": 1679343736499,
        "execution_millis": 1722824171,
        "deepnote_to_be_reexecuted": true,
        "deepnote_cell_type": "code",
        "id": "B8bl2BrHSsNb"
      },
      "source": [
        "# Making the Confusion Matrix\n",
        "from sklearn.metrics import confusion_matrix\n",
        "cm = confusion_matrix(y_test, y_pred )\n",
        "print(cm)"
      ],
      "execution_count": null,
      "outputs": []
    },
    {
      "cell_type": "code",
      "metadata": {
        "tags": [],
        "cell_id": "e5c1ddb6ef08479486e0a47747e61dcc",
        "source_hash": "3620974d",
        "execution_start": 1679342859221,
        "execution_millis": 1723701453,
        "deepnote_to_be_reexecuted": true,
        "deepnote_cell_type": "code",
        "id": "ZTHbwHabSsNb"
      },
      "source": [
        "print(NB_model.predict(['Would like to use dark mode, but I’m on iOS 12. Hope soon you will be able to enable dark theme via WhatsApp settings and not the phone settings 😎']))"
      ],
      "execution_count": null,
      "outputs": []
    },
    {
      "cell_type": "markdown",
      "metadata": {
        "tags": [],
        "cell_id": "688c58f5a7e84ea98293ce8e1063d7c0",
        "is_collapsed": false,
        "formattedRanges": [],
        "deepnote_cell_type": "text-cell-h1",
        "id": "58aUxJZaSsNb"
      },
      "source": [
        "#  word2vec"
      ]
    },
    {
      "cell_type": "code",
      "metadata": {
        "tags": [],
        "cell_id": "472939d9f5634e44a1f7ee9472401b75",
        "source_hash": "4af434fd",
        "execution_start": 1679524509823,
        "execution_millis": 1542050851,
        "deepnote_to_be_reexecuted": true,
        "deepnote_cell_type": "code",
        "id": "wfMn3FOjSsNb"
      },
      "source": [
        "from scipy.special import logsumexp\n",
        "import gensim\n",
        "from gensim.models import Word2Vec\n",
        "from gensim.models import KeyedVectors"
      ],
      "execution_count": null,
      "outputs": []
    },
    {
      "cell_type": "code",
      "metadata": {
        "tags": [],
        "cell_id": "d6bd2ee96fff4a6daac9ab7484b57e7d",
        "source_hash": "612163f5",
        "execution_start": 1679524512782,
        "execution_millis": 1542047892,
        "deepnote_to_be_reexecuted": true,
        "deepnote_cell_type": "code",
        "id": "so_3fR4TSsNc"
      },
      "source": [
        "!pip install gensim.downloader"
      ],
      "execution_count": null,
      "outputs": []
    },
    {
      "cell_type": "code",
      "metadata": {
        "tags": [],
        "cell_id": "669492c3406142e78eeca6d366f19a9c",
        "source_hash": "ec0df9c",
        "execution_start": 1679524516484,
        "execution_millis": 1542044191,
        "deepnote_to_be_reexecuted": true,
        "deepnote_cell_type": "code",
        "id": "ADyPfHRCSsNc"
      },
      "source": [
        "import gensim.downloader as api\n",
        "print(list(gensim.downloader.info()['models'].keys()))"
      ],
      "execution_count": null,
      "outputs": []
    },
    {
      "cell_type": "code",
      "metadata": {
        "tags": [],
        "cell_id": "fa84171063c44d0ca65d4e6c827bfef2",
        "source_hash": "cea08ca6",
        "execution_start": 1679524520084,
        "execution_millis": 1542040591,
        "deepnote_to_be_reexecuted": true,
        "deepnote_cell_type": "code",
        "id": "lBza6w4fSsNd"
      },
      "source": [
        "wv = api.load('glove-twitter-50')"
      ],
      "execution_count": null,
      "outputs": []
    },
    {
      "cell_type": "code",
      "metadata": {
        "tags": [],
        "cell_id": "42efcab78f52409fbbb9a42c2df24ea5",
        "source_hash": "9be18b5c",
        "execution_start": 1679524556916,
        "execution_millis": 1542003760,
        "deepnote_to_be_reexecuted": true,
        "deepnote_cell_type": "code",
        "id": "5agNil0-SsNd"
      },
      "source": [
        "wv = api.load('word2vec-google-news-300')"
      ],
      "execution_count": null,
      "outputs": []
    },
    {
      "cell_type": "code",
      "metadata": {
        "tags": [],
        "cell_id": "ab3eea2f83b74636a094601f6b3ba2f3",
        "source_hash": "6334ffd0",
        "execution_start": 1679524593925,
        "execution_millis": 1541966752,
        "deepnote_to_be_reexecuted": true,
        "deepnote_cell_type": "code",
        "id": "PqpgrC0qSsNd"
      },
      "source": [
        "wv.init_sims(replace=True)"
      ],
      "execution_count": null,
      "outputs": []
    },
    {
      "cell_type": "code",
      "metadata": {
        "tags": [],
        "cell_id": "2927b5cb9006440f9572b3d4ff2bc7d5",
        "source_hash": "524ca162",
        "execution_start": 1679524595489,
        "execution_millis": 1541965188,
        "deepnote_to_be_reexecuted": true,
        "deepnote_cell_type": "code",
        "id": "zgCa_BclSsNd"
      },
      "source": [
        "import nltk\n",
        "nltk.download('stopwords')"
      ],
      "execution_count": null,
      "outputs": []
    },
    {
      "cell_type": "code",
      "metadata": {
        "tags": [],
        "cell_id": "6029acb0a30140eca76cb72f107e0c95",
        "source_hash": "df2a01ea",
        "execution_start": 1679524595589,
        "execution_millis": 1541965117,
        "deepnote_to_be_reexecuted": true,
        "deepnote_cell_type": "code",
        "id": "8OVZXGStSsNd"
      },
      "source": [
        "def word_averaging(wv, words):\n",
        "    all_words, mean = set(), []\n",
        "\n",
        "    for word in words:\n",
        "        if isinstance(word, np.ndarray):\n",
        "            mean.append(word)\n",
        "        elif word in wv.vocab:\n",
        "            mean.append(wv.syn0norm[wv.vocab[word].index])\n",
        "            all_words.add(wv.vocab[word].index)\n",
        "\n",
        "    if not mean:\n",
        "        logging.warning(\"cannot compute similarity with no input %s\", words)\n",
        "        # FIXME: remove these examples in pre-processing\n",
        "        return np.zeros(wv.vector_size,)\n",
        "\n",
        "    mean = gensim.matutils.unitvec(np.array(mean).mean(axis=0)).astype(np.float32)\n",
        "    return mean\n",
        "\n",
        "def  word_averaging_list(wv, text_list):\n",
        "    return np.vstack([word_averaging(wv, Review) for Review in text_list ])"
      ],
      "execution_count": null,
      "outputs": []
    },
    {
      "cell_type": "code",
      "metadata": {
        "tags": [],
        "cell_id": "453b2489eafd482d902f79dca78905ca",
        "source_hash": "ccd17a13",
        "execution_start": 1679524595590,
        "execution_millis": 1541965088,
        "deepnote_to_be_reexecuted": true,
        "deepnote_cell_type": "code",
        "id": "xp-QyTqPSsNd"
      },
      "source": [
        "nltk.download('punkt')\n"
      ],
      "execution_count": null,
      "outputs": []
    },
    {
      "cell_type": "code",
      "metadata": {
        "tags": [],
        "cell_id": "53c3e6c65b1f415aab0f673da88d288a",
        "source_hash": "daedeca8",
        "execution_start": 1679524595626,
        "execution_millis": 1541965052,
        "deepnote_to_be_reexecuted": true,
        "deepnote_cell_type": "code",
        "id": "0uOYCD5OSsNd"
      },
      "source": [
        "def sent_vec(sent):\n",
        "    vector_size = wv.vector_size\n",
        "    wv_res = np.zeros(vector_size)\n",
        "    # print(wv_res)\n",
        "    ctr = 1\n",
        "    for w in sent:\n",
        "        if w in wv:\n",
        "            ctr += 1\n",
        "            wv_res += wv[w]\n",
        "    wv_res = wv_res/ctr\n",
        "    return wv_res"
      ],
      "execution_count": null,
      "outputs": []
    },
    {
      "cell_type": "code",
      "metadata": {
        "tags": [],
        "cell_id": "e0044be020844fe4affc90a69662a6c1",
        "source_hash": "1f22fa75",
        "execution_start": 1679524595627,
        "execution_millis": 1541965052,
        "deepnote_to_be_reexecuted": true,
        "deepnote_cell_type": "code",
        "id": "Hcg7LeVgSsNd"
      },
      "source": [
        "# Creating our tokenizer function\n",
        "def spacy_tokenizer(sentence):\n",
        "    # Creating our token object, which is used to create documents with linguistic annotations.\n",
        "    doc = nlp(sentence)\n",
        "\n",
        "    # print(doc)\n",
        "    # print(type(doc))\n",
        "\n",
        "    # Lemmatizing each token and converting each token into lowercase\n",
        "    mytokens = [ word.lemma_.lower().strip() for word in doc ]\n",
        "\n",
        "    # print(mytokens)\n",
        "\n",
        "    # Removing stop words\n",
        "    mytokens = [ word for word in mytokens if word not in stop_words and word not in punctuations ]\n",
        "\n",
        "    # return preprocessed list of tokens\n",
        "    return mytokens"
      ],
      "execution_count": null,
      "outputs": []
    },
    {
      "cell_type": "code",
      "metadata": {
        "tags": [],
        "cell_id": "16feb0d6f4e14dbeaa880230bf35b835",
        "source_hash": "33b30926",
        "execution_start": 1679524595628,
        "execution_millis": 1541965051,
        "deepnote_to_be_reexecuted": true,
        "deepnote_cell_type": "code",
        "id": "0dM_33KESsNd"
      },
      "source": [
        "!pip install spacy -q\n",
        "!python -m spacy download en_core_web_sm -q"
      ],
      "execution_count": null,
      "outputs": []
    },
    {
      "cell_type": "code",
      "metadata": {
        "tags": [],
        "cell_id": "b68f344946ce45629c8ad1fdd62d9f49",
        "source_hash": "d2744d53",
        "execution_start": 1679524609260,
        "execution_millis": 1541951434,
        "deepnote_to_be_reexecuted": true,
        "deepnote_cell_type": "code",
        "id": "FYbSG-qfSsNd"
      },
      "source": [
        "import spacy\n",
        "import en_core_web_sm\n",
        "nlp = en_core_web_sm.load()\n",
        "nlp = spacy.load(\"en_core_web_sm\")\n",
        "stop_words = nlp.Defaults.stop_words\n",
        "print(stop_words)"
      ],
      "execution_count": null,
      "outputs": []
    },
    {
      "cell_type": "code",
      "metadata": {
        "tags": [],
        "cell_id": "cfdaa1ac8bbc4f8f96c292dac1eec82d",
        "source_hash": "f6a7e8cb",
        "execution_start": 1679524612540,
        "execution_millis": 1541948155,
        "deepnote_to_be_reexecuted": true,
        "deepnote_cell_type": "code",
        "id": "806Nrx3xSsNe"
      },
      "source": [
        "import string\n",
        "\n",
        "punctuations = string.punctuation\n",
        "print(punctuations)"
      ],
      "execution_count": null,
      "outputs": []
    },
    {
      "cell_type": "code",
      "metadata": {
        "tags": [],
        "cell_id": "f1ab632344ed438b832031cd4c8ed3ef",
        "source_hash": "c9d6de34",
        "execution_start": 1679524612544,
        "execution_millis": 1541948151,
        "deepnote_to_be_reexecuted": true,
        "deepnote_cell_type": "code",
        "id": "SezeXAedSsNe"
      },
      "source": [
        "dataset['tokens'] = dataset['Review'].apply(spacy_tokenizer)"
      ],
      "execution_count": null,
      "outputs": []
    },
    {
      "cell_type": "code",
      "metadata": {
        "tags": [],
        "cell_id": "a6ccf33f07df45e38f7e126388b75ef0",
        "source_hash": "2e63bf25",
        "execution_start": 1679525183518,
        "execution_millis": 1541377178,
        "deepnote_to_be_reexecuted": true,
        "deepnote_cell_type": "code",
        "id": "iHPjTxb3SsNe"
      },
      "source": [
        "dataset['vec'] = dataset['tokens'].apply(sent_vec)"
      ],
      "execution_count": null,
      "outputs": []
    },
    {
      "cell_type": "code",
      "metadata": {
        "tags": [],
        "cell_id": "57ab6edb8bd44cf1a9138792ad20bd82",
        "source_hash": "cb41665f",
        "execution_start": 1679525186051,
        "execution_millis": 1541374645,
        "deepnote_to_be_reexecuted": true,
        "deepnote_cell_type": "code",
        "id": "Use9DMKOSsNe"
      },
      "source": [
        "X = dataset['vec'].to_list()\n",
        "y = dataset['RivewRelevance'].to_list()"
      ],
      "execution_count": null,
      "outputs": []
    },
    {
      "cell_type": "code",
      "metadata": {
        "tags": [],
        "cell_id": "390cc4eb0c1e4ebda064ca7fb8bbc3ed",
        "source_hash": "c619548",
        "execution_start": 1679525186055,
        "execution_millis": 1541374641,
        "deepnote_to_be_reexecuted": true,
        "deepnote_cell_type": "code",
        "id": "scqqcSqmSsNe"
      },
      "source": [
        "from sklearn.model_selection import train_test_split\n",
        "X_train, X_test, y_train, y_test = train_test_split(X, y)\n",
        "list(t[:80] for t in X_train[:10])"
      ],
      "execution_count": null,
      "outputs": []
    },
    {
      "cell_type": "code",
      "metadata": {
        "tags": [],
        "cell_id": "ec564f9e059143cba771b7a2f7f26d22",
        "source_hash": "4fbaedb3",
        "execution_start": 1679525186078,
        "execution_millis": 1541374619,
        "deepnote_to_be_reexecuted": true,
        "deepnote_cell_type": "code",
        "id": "rnvo_FGDSsNe"
      },
      "source": [
        "clasW2V=    MultinomialNB()"
      ],
      "execution_count": null,
      "outputs": []
    },
    {
      "cell_type": "code",
      "metadata": {
        "tags": [],
        "cell_id": "d8480f4012b7403c851256f974b30e89",
        "source_hash": "57c8d208",
        "execution_start": 1679525397161,
        "execution_millis": 1541163536,
        "deepnote_to_be_reexecuted": true,
        "deepnote_cell_type": "code",
        "id": "FAoFxtlDSsNe"
      },
      "source": [
        "from sklearn.preprocessing import MinMaxScaler #fixed import\n",
        "\n",
        "scaler = MinMaxScaler()\n",
        "X_train = scaler.fit_transform(X_train)\n",
        "X_test = scaler.transform(X_test)"
      ],
      "execution_count": null,
      "outputs": []
    },
    {
      "cell_type": "code",
      "metadata": {
        "tags": [],
        "cell_id": "699cc6bbd24d4ec1866edf68f71f5ccd",
        "source_hash": "960c3b18",
        "execution_start": 1679525399882,
        "execution_millis": 1541160816,
        "deepnote_to_be_reexecuted": true,
        "deepnote_cell_type": "code",
        "id": "d-2i7c9rSsNe"
      },
      "source": [
        "#MultinomialNB(word2vec)\n",
        "\n",
        "NB_model = clasW2V\n",
        "NB_model.fit(X_train, y_train)\n",
        "y_pred = NB_model.predict(X_test)\n",
        "print(accuracy_score(y_test, y_pred))\n",
        "print(classification_report(y_test, y_pred ))"
      ],
      "execution_count": null,
      "outputs": []
    },
    {
      "cell_type": "code",
      "metadata": {
        "tags": [],
        "cell_id": "71d3edc2111a492c81e300cb48b44d7b",
        "source_hash": "ec15dc42",
        "execution_start": 1679525585182,
        "execution_millis": 1540975516,
        "deepnote_to_be_reexecuted": true,
        "deepnote_cell_type": "code",
        "id": "IQr1hSFlSsNe"
      },
      "source": [
        "import numpy\n",
        "with numpy.printoptions(threshold=numpy.inf):\n",
        "    print(y_pred)"
      ],
      "execution_count": null,
      "outputs": []
    },
    {
      "cell_type": "code",
      "metadata": {
        "tags": [],
        "cell_id": "56148ae965a745aa85fefb5a9cd4819c",
        "source_hash": "a046dfec",
        "execution_start": 1679525428614,
        "execution_millis": 1541132084,
        "deepnote_to_be_reexecuted": true,
        "deepnote_cell_type": "code",
        "id": "G9GtsyYOSsNe"
      },
      "source": [
        "# Making the Confusion Matrix\n",
        "from sklearn.metrics import confusion_matrix\n",
        "cm = confusion_matrix(y_test, y_pred )\n",
        "print(cm)"
      ],
      "execution_count": null,
      "outputs": []
    },
    {
      "cell_type": "markdown",
      "source": [
        "<a style='text-decoration:none;line-height:16px;display:flex;color:#5B5B62;padding:10px;justify-content:end;' href='https://deepnote.com?utm_source=created-in-deepnote-cell&projectId=378be7ce-053e-4e53-a8d7-d43f011c835b' target=\"_blank\">\n",
        "<img alt='Created in deepnote.com' style='display:inline;max-height:16px;margin:0px;margin-right:7.5px;' src='data:image/svg+xml;base64,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' > </img>\n",
        "Created in <span style='font-weight:600;margin-left:4px;'>Deepnote</span></a>"
      ],
      "metadata": {
        "created_in_deepnote_cell": true,
        "deepnote_cell_type": "markdown",
        "id": "l_jzToSVSsNe"
      }
    }
  ],
  "nbformat": 4,
  "nbformat_minor": 0,
  "metadata": {
    "deepnote_persisted_session": {
      "createdAt": "2023-04-10T02:47:35.285Z"
    },
    "deepnote_notebook_id": "4f052329437345bd8e150671be9a67ae",
    "deepnote_execution_queue": [],
    "colab": {
      "provenance": [],
      "include_colab_link": true
    }
  }
}