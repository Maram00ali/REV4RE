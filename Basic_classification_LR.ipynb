{
  "cells": [
    {
      "cell_type": "markdown",
      "metadata": {
        "id": "view-in-github",
        "colab_type": "text"
      },
      "source": [
        "<a href=\"https://colab.research.google.com/github/Maram00ali/REV4RE/blob/main/Basic_classification_LR.ipynb\" target=\"_parent\"><img src=\"https://colab.research.google.com/assets/colab-badge.svg\" alt=\"Open In Colab\"/></a>"
      ]
    },
    {
      "cell_type": "code",
      "metadata": {
        "tags": [],
        "source_hash": "6930914e",
        "execution_start": 1679296835731,
        "execution_millis": 1057,
        "deepnote_to_be_reexecuted": false,
        "cell_id": "86222237317542f0a1df5a1f7fbf67d3",
        "deepnote_cell_type": "code",
        "id": "BEVUrw8eSH9Q",
        "outputId": "b9b44eda-3633-4fd8-ba49-20e503b7d37b"
      },
      "source": [
        "import numpy as np\n",
        "import matplotlib.pyplot as plt\n",
        "import pandas as pd\n",
        "\n",
        "dataset = pd.read_csv('dataset path')\n",
        "dataset.head()"
      ],
      "execution_count": null,
      "outputs": [
        {
          "output_type": "execute_result",
          "execution_count": 1,
          "data": {
            "application/vnd.deepnote.dataframe.v3+json": {
              "column_count": 2,
              "row_count": 5,
              "columns": [
                {
                  "name": "Review",
                  "dtype": "object",
                  "stats": {
                    "unique_count": 5,
                    "nan_count": 0,
                    "categories": [
                      {
                        "name": "5 star good app",
                        "count": 1
                      },
                      {
                        "name": "A monthly subscription fee. Really?",
                        "count": 1
                      },
                      {
                        "name": "3 others",
                        "count": 3
                      }
                    ]
                  }
                },
                {
                  "name": "RivewRelevance",
                  "dtype": "int64",
                  "stats": {
                    "unique_count": 1,
                    "nan_count": 0,
                    "min": "1",
                    "max": "1",
                    "histogram": [
                      {
                        "bin_start": 0.5,
                        "bin_end": 0.6,
                        "count": 0
                      },
                      {
                        "bin_start": 0.6,
                        "bin_end": 0.7,
                        "count": 0
                      },
                      {
                        "bin_start": 0.7,
                        "bin_end": 0.8,
                        "count": 0
                      },
                      {
                        "bin_start": 0.8,
                        "bin_end": 0.9,
                        "count": 0
                      },
                      {
                        "bin_start": 0.9,
                        "bin_end": 1,
                        "count": 0
                      },
                      {
                        "bin_start": 1,
                        "bin_end": 1.1,
                        "count": 5
                      },
                      {
                        "bin_start": 1.1,
                        "bin_end": 1.2000000000000002,
                        "count": 0
                      },
                      {
                        "bin_start": 1.2000000000000002,
                        "bin_end": 1.3,
                        "count": 0
                      },
                      {
                        "bin_start": 1.3,
                        "bin_end": 1.4,
                        "count": 0
                      },
                      {
                        "bin_start": 1.4,
                        "bin_end": 1.5,
                        "count": 0
                      }
                    ]
                  }
                },
                {
                  "name": "_deepnote_index_column",
                  "dtype": "int64"
                }
              ],
              "rows": [
                {
                  "Review": "5 star good app",
                  "RivewRelevance": "1",
                  "_deepnote_index_column": "0"
                },
                {
                  "Review": "A monthly subscription fee. Really?",
                  "RivewRelevance": "1",
                  "_deepnote_index_column": "1"
                },
                {
                  "Review": "Able to customize and decorate a ton of things even for free! I really recommend this good app!",
                  "RivewRelevance": "1",
                  "_deepnote_index_column": "2"
                },
                {
                  "Review": "All I can say is this game is the best!!",
                  "RivewRelevance": "1",
                  "_deepnote_index_column": "3"
                },
                {
                  "Review": "Although not the best, it better for own creatives.",
                  "RivewRelevance": "1",
                  "_deepnote_index_column": "4"
                }
              ]
            },
            "text/plain": "                                              Review  RivewRelevance\n0                                    5 star good app               1\n1                A monthly subscription fee. Really?               1\n2  Able to customize and decorate a ton of things...               1\n3           All I can say is this game is the best!!               1\n4  Although not the best, it better for own creat...               1",
            "text/html": "<div>\n<style scoped>\n    .dataframe tbody tr th:only-of-type {\n        vertical-align: middle;\n    }\n\n    .dataframe tbody tr th {\n        vertical-align: top;\n    }\n\n    .dataframe thead th {\n        text-align: right;\n    }\n</style>\n<table border=\"1\" class=\"dataframe\">\n  <thead>\n    <tr style=\"text-align: right;\">\n      <th></th>\n      <th>Review</th>\n      <th>RivewRelevance</th>\n    </tr>\n  </thead>\n  <tbody>\n    <tr>\n      <th>0</th>\n      <td>5 star good app</td>\n      <td>1</td>\n    </tr>\n    <tr>\n      <th>1</th>\n      <td>A monthly subscription fee. Really?</td>\n      <td>1</td>\n    </tr>\n    <tr>\n      <th>2</th>\n      <td>Able to customize and decorate a ton of things...</td>\n      <td>1</td>\n    </tr>\n    <tr>\n      <th>3</th>\n      <td>All I can say is this game is the best!!</td>\n      <td>1</td>\n    </tr>\n    <tr>\n      <th>4</th>\n      <td>Although not the best, it better for own creat...</td>\n      <td>1</td>\n    </tr>\n  </tbody>\n</table>\n</div>"
          },
          "metadata": {}
        }
      ]
    },
    {
      "cell_type": "code",
      "metadata": {
        "tags": [],
        "cell_id": "37fb806a8e3a427c82fdc87f2839a883",
        "source_hash": "ed8da230",
        "execution_start": 1679296211892,
        "execution_millis": 3,
        "deepnote_to_be_reexecuted": false,
        "deepnote_cell_type": "code",
        "id": "NhycBxyySH9S",
        "outputId": "a180c573-9a5c-4b8d-9e28-cdf6307d2200"
      },
      "source": [
        "len(dataset)"
      ],
      "execution_count": null,
      "outputs": [
        {
          "output_type": "execute_result",
          "execution_count": 2,
          "data": {
            "text/plain": "84932"
          },
          "metadata": {}
        }
      ]
    },
    {
      "cell_type": "code",
      "metadata": {
        "tags": [],
        "cell_id": "d84bc8e83bfc4c4ebbc3fb0780bf4373",
        "source_hash": "c2bbee1e",
        "execution_start": 1679296214851,
        "execution_millis": 3,
        "deepnote_to_be_reexecuted": false,
        "deepnote_cell_type": "code",
        "id": "phjJNiygSH9S",
        "outputId": "bef08754-7a09-491f-d853-a167753e1119"
      },
      "source": [
        "dataset.isnull().sum()"
      ],
      "execution_count": null,
      "outputs": [
        {
          "output_type": "execute_result",
          "execution_count": 3,
          "data": {
            "text/plain": "Review            0\nRivewRelevance    0\ndtype: int64"
          },
          "metadata": {}
        }
      ]
    },
    {
      "cell_type": "code",
      "metadata": {
        "tags": [],
        "cell_id": "b7eff75cd4d9457cbd2e410cd95df105",
        "source_hash": "9a174f77",
        "execution_start": 1679296218571,
        "execution_millis": 4,
        "deepnote_to_be_reexecuted": false,
        "deepnote_cell_type": "code",
        "id": "p2rzZbg0SH9S",
        "outputId": "8f9d38d3-f77f-4989-fcfa-e12e3d65d82c"
      },
      "source": [
        "# calculate count of each category\n",
        "labels, counts = np.unique(dataset.RivewRelevance, return_counts=True)\n",
        "# convert data.target_names to np array for fancy indexing\n",
        "\n",
        "print(dict(zip(labels, counts)))\n"
      ],
      "execution_count": null,
      "outputs": [
        {
          "name": "stdout",
          "text": "{0: 10352, 1: 69045, 2: 5535}\n",
          "output_type": "stream"
        }
      ]
    },
    {
      "cell_type": "markdown",
      "metadata": {
        "tags": [],
        "cell_id": "aabbabc7c0234770ac905a4eb70cf942",
        "is_collapsed": false,
        "formattedRanges": [],
        "deepnote_cell_type": "text-cell-h1",
        "id": "c6e-MYfsSH9T"
      },
      "source": [
        "# Split dataset"
      ]
    },
    {
      "cell_type": "code",
      "metadata": {
        "tags": [],
        "cell_id": "0bb4eb043b0d497487c83811e9658c89",
        "source_hash": "909b6e4",
        "execution_start": 1679296841893,
        "execution_millis": 989,
        "deepnote_to_be_reexecuted": false,
        "deepnote_cell_type": "code",
        "id": "DCjwUMrXSH9T",
        "outputId": "c50396eb-eadd-4f3e-893f-7bbee34edf68"
      },
      "source": [
        "from sklearn.model_selection import train_test_split\n",
        "X_train, X_test, y_train, y_test = train_test_split(dataset.Review, dataset.RivewRelevance)\n",
        "list(t[:80] for t in X_train[:10])"
      ],
      "execution_count": null,
      "outputs": [
        {
          "output_type": "execute_result",
          "execution_count": 2,
          "data": {
            "text/plain": "['AliExpress is good store',\n \"please add status update like what's app! please\",\n 'They should call this scamscanner. I needed an app that would scan legal documen',\n 'I have been using this Web site for a couple of years and I only had two discrep',\n 'All good but pls add story at telegram',\n 'i like the dictionary and word marking feature most. Preferably using this app f',\n 'Great and dependable. It works!',\n \"I can't access my account yet it's not been disabled, keeps saying can't load fe\",\n 'AliExpress has better deals than eBay. Shipping takes a little longer but it’s w',\n 'My app was updated to the latest version yesterday (Version 7.8.1), and it doesn']"
          },
          "metadata": {}
        }
      ]
    },
    {
      "cell_type": "markdown",
      "metadata": {
        "tags": [],
        "cell_id": "ca31c28037e64612833fcdf5c881668b",
        "is_collapsed": false,
        "formattedRanges": [],
        "deepnote_cell_type": "text-cell-h1",
        "id": "YIFz24FUSH9T"
      },
      "source": [
        "# Prepare dataset"
      ]
    },
    {
      "cell_type": "code",
      "metadata": {
        "tags": [],
        "cell_id": "5df149b376924938aebc3e72edc40055",
        "source_hash": "d2355228",
        "execution_start": 1678998207205,
        "execution_millis": 4,
        "deepnote_to_be_reexecuted": true,
        "deepnote_cell_type": "code",
        "id": "h9sNhnqwSH9T"
      },
      "source": [
        "#dataset pre_processing"
      ],
      "execution_count": null,
      "outputs": []
    },
    {
      "cell_type": "code",
      "metadata": {
        "tags": [],
        "cell_id": "031c9d6703f346749e540d9dd69f4dd3",
        "source_hash": "3e1e7ccd",
        "execution_start": 1679140969457,
        "execution_millis": 1084,
        "deepnote_to_be_reexecuted": true,
        "deepnote_cell_type": "code",
        "id": "7go3EnXlSH9U",
        "outputId": "32d93032-183d-46a6-bc71-50516107f4fb"
      },
      "source": [
        "# Extracting features from text files (pure extraction)\n",
        "#from sklearn.feature_extraction.text import CountVectorizer\n",
        "#count_vect = CountVectorizer()\n",
        "#X_train_counts = count_vect.fit_transform(X_train)\n",
        "#X_train_counts.shape"
      ],
      "execution_count": null,
      "outputs": [
        {
          "output_type": "execute_result",
          "execution_count": 6,
          "data": {
            "text/plain": "(63699, 30723)"
          },
          "metadata": {}
        }
      ]
    },
    {
      "cell_type": "code",
      "metadata": {
        "tags": [],
        "cell_id": "ac7cfaab95a54f2b886b48a177d1bf85",
        "source_hash": "fda5c4c",
        "execution_start": 1679296648978,
        "execution_millis": 1001,
        "deepnote_to_be_reexecuted": false,
        "deepnote_cell_type": "code",
        "id": "ZIh6g51JSH9U",
        "outputId": "674a262d-dce9-4780-c422-7e1486205241"
      },
      "source": [
        "#TF_IDF feauture extraction\n",
        "from sklearn.feature_extraction.text import TfidfVectorizer\n",
        "vectorizer = TfidfVectorizer(stop_words=\"english\", max_features=1000, decode_error=\"ignore\")\n",
        "vectorizer.fit(X_train)\n"
      ],
      "execution_count": null,
      "outputs": [
        {
          "output_type": "execute_result",
          "execution_count": 3,
          "data": {
            "text/plain": "TfidfVectorizer(decode_error='ignore', max_features=1000, stop_words='english')",
            "text/html": "<style>#sk-container-id-1 {color: black;background-color: white;}#sk-container-id-1 pre{padding: 0;}#sk-container-id-1 div.sk-toggleable {background-color: white;}#sk-container-id-1 label.sk-toggleable__label {cursor: pointer;display: block;width: 100%;margin-bottom: 0;padding: 0.3em;box-sizing: border-box;text-align: center;}#sk-container-id-1 label.sk-toggleable__label-arrow:before {content: \"▸\";float: left;margin-right: 0.25em;color: #696969;}#sk-container-id-1 label.sk-toggleable__label-arrow:hover:before {color: black;}#sk-container-id-1 div.sk-estimator:hover label.sk-toggleable__label-arrow:before {color: black;}#sk-container-id-1 div.sk-toggleable__content {max-height: 0;max-width: 0;overflow: hidden;text-align: left;background-color: #f0f8ff;}#sk-container-id-1 div.sk-toggleable__content pre {margin: 0.2em;color: black;border-radius: 0.25em;background-color: #f0f8ff;}#sk-container-id-1 input.sk-toggleable__control:checked~div.sk-toggleable__content {max-height: 200px;max-width: 100%;overflow: auto;}#sk-container-id-1 input.sk-toggleable__control:checked~label.sk-toggleable__label-arrow:before {content: \"▾\";}#sk-container-id-1 div.sk-estimator input.sk-toggleable__control:checked~label.sk-toggleable__label {background-color: #d4ebff;}#sk-container-id-1 div.sk-label input.sk-toggleable__control:checked~label.sk-toggleable__label {background-color: #d4ebff;}#sk-container-id-1 input.sk-hidden--visually {border: 0;clip: rect(1px 1px 1px 1px);clip: rect(1px, 1px, 1px, 1px);height: 1px;margin: -1px;overflow: hidden;padding: 0;position: absolute;width: 1px;}#sk-container-id-1 div.sk-estimator {font-family: monospace;background-color: #f0f8ff;border: 1px dotted black;border-radius: 0.25em;box-sizing: border-box;margin-bottom: 0.5em;}#sk-container-id-1 div.sk-estimator:hover {background-color: #d4ebff;}#sk-container-id-1 div.sk-parallel-item::after {content: \"\";width: 100%;border-bottom: 1px solid gray;flex-grow: 1;}#sk-container-id-1 div.sk-label:hover label.sk-toggleable__label {background-color: #d4ebff;}#sk-container-id-1 div.sk-serial::before {content: \"\";position: absolute;border-left: 1px solid gray;box-sizing: border-box;top: 0;bottom: 0;left: 50%;z-index: 0;}#sk-container-id-1 div.sk-serial {display: flex;flex-direction: column;align-items: center;background-color: white;padding-right: 0.2em;padding-left: 0.2em;position: relative;}#sk-container-id-1 div.sk-item {position: relative;z-index: 1;}#sk-container-id-1 div.sk-parallel {display: flex;align-items: stretch;justify-content: center;background-color: white;position: relative;}#sk-container-id-1 div.sk-item::before, #sk-container-id-1 div.sk-parallel-item::before {content: \"\";position: absolute;border-left: 1px solid gray;box-sizing: border-box;top: 0;bottom: 0;left: 50%;z-index: -1;}#sk-container-id-1 div.sk-parallel-item {display: flex;flex-direction: column;z-index: 1;position: relative;background-color: white;}#sk-container-id-1 div.sk-parallel-item:first-child::after {align-self: flex-end;width: 50%;}#sk-container-id-1 div.sk-parallel-item:last-child::after {align-self: flex-start;width: 50%;}#sk-container-id-1 div.sk-parallel-item:only-child::after {width: 0;}#sk-container-id-1 div.sk-dashed-wrapped {border: 1px dashed gray;margin: 0 0.4em 0.5em 0.4em;box-sizing: border-box;padding-bottom: 0.4em;background-color: white;}#sk-container-id-1 div.sk-label label {font-family: monospace;font-weight: bold;display: inline-block;line-height: 1.2em;}#sk-container-id-1 div.sk-label-container {text-align: center;}#sk-container-id-1 div.sk-container {/* jupyter's `normalize.less` sets `[hidden] { display: none; }` but bootstrap.min.css set `[hidden] { display: none !important; }` so we also need the `!important` here to be able to override the default hidden behavior on the sphinx rendered scikit-learn.org. See: https://github.com/scikit-learn/scikit-learn/issues/21755 */display: inline-block !important;position: relative;}#sk-container-id-1 div.sk-text-repr-fallback {display: none;}</style><div id=\"sk-container-id-1\" class=\"sk-top-container\"><div class=\"sk-text-repr-fallback\"><pre>TfidfVectorizer(decode_error=&#x27;ignore&#x27;, max_features=1000, stop_words=&#x27;english&#x27;)</pre><b>In a Jupyter environment, please rerun this cell to show the HTML representation or trust the notebook. <br />On GitHub, the HTML representation is unable to render, please try loading this page with nbviewer.org.</b></div><div class=\"sk-container\" hidden><div class=\"sk-item\"><div class=\"sk-estimator sk-toggleable\"><input class=\"sk-toggleable__control sk-hidden--visually\" id=\"sk-estimator-id-1\" type=\"checkbox\" checked><label for=\"sk-estimator-id-1\" class=\"sk-toggleable__label sk-toggleable__label-arrow\">TfidfVectorizer</label><div class=\"sk-toggleable__content\"><pre>TfidfVectorizer(decode_error=&#x27;ignore&#x27;, max_features=1000, stop_words=&#x27;english&#x27;)</pre></div></div></div></div></div>"
          },
          "metadata": {}
        }
      ]
    },
    {
      "cell_type": "markdown",
      "metadata": {
        "tags": [],
        "cell_id": "9b52601c98b74d27bdb7854b3a7f5dc7",
        "is_collapsed": false,
        "formattedRanges": [],
        "deepnote_cell_type": "text-cell-h1",
        "id": "ifNzm0-NSH9U"
      },
      "source": [
        "# start with the basic classification"
      ]
    },
    {
      "cell_type": "code",
      "metadata": {
        "tags": [],
        "cell_id": "15e76f157077486889abdea9a2bc7d21",
        "source_hash": "6e508bd7",
        "execution_start": 1679296847737,
        "execution_millis": 647,
        "deepnote_to_be_reexecuted": false,
        "deepnote_cell_type": "code",
        "id": "6PMNMRrgSH9U"
      },
      "source": [
        "# import library\n",
        "import re\n",
        "import nltk\n",
        "from sklearn.svm import SVC\n",
        "from sklearn.feature_extraction.text import TfidfTransformer\n",
        "from sklearn.naive_bayes import GaussianNB\n",
        "from sklearn.neighbors import KNeighborsClassifier\n",
        "from sklearn.naive_bayes import MultinomialNB\n",
        "from sklearn.linear_model import LogisticRegression\n",
        "from sklearn.pipeline import Pipeline\n",
        "from sklearn.preprocessing import Normalizer\n",
        "from sklearn.feature_extraction.text import TfidfVectorizer, CountVectorizer\n",
        "from sklearn.model_selection import cross_val_score\n",
        "from sklearn.metrics import classification_report, accuracy_score\n",
        "from sklearn import metrics\n",
        "\n"
      ],
      "execution_count": null,
      "outputs": []
    },
    {
      "cell_type": "markdown",
      "metadata": {
        "tags": [],
        "cell_id": "fec0b2b8328d43ab9bcc53b837f44bf4",
        "is_collapsed": false,
        "formattedRanges": [],
        "deepnote_cell_type": "text-cell-h1",
        "id": "R42-6olASH9U"
      },
      "source": [
        "#"
      ]
    },
    {
      "cell_type": "code",
      "metadata": {
        "tags": [],
        "cell_id": "034b1420b85c4fd08041a474fb359c54",
        "source_hash": "1f346e0e",
        "execution_start": 1679296852442,
        "execution_millis": 8686,
        "deepnote_to_be_reexecuted": false,
        "deepnote_cell_type": "code",
        "id": "cW7kV-jbSH9U",
        "outputId": "3f821f3f-00cb-4f34-9251-361e864718d0"
      },
      "source": [
        "# Stemming Code\n",
        "\n",
        "import nltk\n",
        "nltk.download()\n",
        "\n",
        "from nltk.stem.snowball import SnowballStemmer\n",
        "stemmer = SnowballStemmer(\"english\", ignore_stopwords=True)\n",
        "\n",
        "class StemmedCountVectorizer(CountVectorizer):\n",
        "    def build_analyzer(self):\n",
        "        analyzer = super(StemmedCountVectorizer, self).build_analyzer()\n",
        "        return lambda doc: ([stemmer.stem(w) for w in analyzer(doc)])"
      ],
      "execution_count": null,
      "outputs": [
        {
          "name": "stdout",
          "text": "NLTK Downloader\n---------------------------------------------------------------------------\n    d) Download   l) List    u) Update   c) Config   h) Help   q) Quit\n---------------------------------------------------------------------------\n\nDownload which package (l=list; x=cancel)?\n    Downloading collection 'all'\n       | \n       | Downloading package abc to /root/nltk_data...\n       |   Package abc is already up-to-date!\n       | Downloading package alpino to /root/nltk_data...\n       |   Package alpino is already up-to-date!\n       | Downloading package averaged_perceptron_tagger to\n       |     /root/nltk_data...\n       |   Package averaged_perceptron_tagger is already up-to-date!\n       | Downloading package averaged_perceptron_tagger_ru to\n       |     /root/nltk_data...\n       |   Package averaged_perceptron_tagger_ru is already up-to-\n       |       date!\n       | Downloading package basque_grammars to /root/nltk_data...\n       |   Package basque_grammars is already up-to-date!\n       | Downloading package bcp47 to /root/nltk_data...\n       |   Package bcp47 is already up-to-date!\n       | Downloading package biocreative_ppi to /root/nltk_data...\n       |   Package biocreative_ppi is already up-to-date!\n       | Downloading package bllip_wsj_no_aux to /root/nltk_data...\n       |   Package bllip_wsj_no_aux is already up-to-date!\n       | Downloading package book_grammars to /root/nltk_data...\n       |   Package book_grammars is already up-to-date!\n       | Downloading package brown to /root/nltk_data...\n       |   Package brown is already up-to-date!\n       | Downloading package brown_tei to /root/nltk_data...\n       |   Package brown_tei is already up-to-date!\n       | Downloading package cess_cat to /root/nltk_data...\n       |   Package cess_cat is already up-to-date!\n       | Downloading package cess_esp to /root/nltk_data...\n       |   Package cess_esp is already up-to-date!\n       | Downloading package chat80 to /root/nltk_data...\n       |   Package chat80 is already up-to-date!\n       | Downloading package city_database to /root/nltk_data...\n       |   Package city_database is already up-to-date!\n       | Downloading package cmudict to /root/nltk_data...\n       |   Package cmudict is already up-to-date!\n       | Downloading package comparative_sentences to\n       |     /root/nltk_data...\n       |   Package comparative_sentences is already up-to-date!\n       | Downloading package comtrans to /root/nltk_data...\n       |   Package comtrans is already up-to-date!\n       | Downloading package conll2000 to /root/nltk_data...\n       |   Package conll2000 is already up-to-date!\n       | Downloading package conll2002 to /root/nltk_data...\n       |   Package conll2002 is already up-to-date!\n       | Downloading package conll2007 to /root/nltk_data...\n       |   Package conll2007 is already up-to-date!\n       | Downloading package crubadan to /root/nltk_data...\n       |   Package crubadan is already up-to-date!\n       | Downloading package dependency_treebank to /root/nltk_data...\n       |   Package dependency_treebank is already up-to-date!\n       | Downloading package dolch to /root/nltk_data...\n       |   Package dolch is already up-to-date!\n       | Downloading package europarl_raw to /root/nltk_data...\n       |   Package europarl_raw is already up-to-date!\n       | Downloading package extended_omw to /root/nltk_data...\n       |   Package extended_omw is already up-to-date!\n       | Downloading package floresta to /root/nltk_data...\n       |   Package floresta is already up-to-date!\n       | Downloading package framenet_v15 to /root/nltk_data...\n       |   Package framenet_v15 is already up-to-date!\n       | Downloading package framenet_v17 to /root/nltk_data...\n       |   Package framenet_v17 is already up-to-date!\n       | Downloading package gazetteers to /root/nltk_data...\n       |   Package gazetteers is already up-to-date!\n       | Downloading package genesis to /root/nltk_data...\n       |   Package genesis is already up-to-date!\n       | Downloading package gutenberg to /root/nltk_data...\n       |   Package gutenberg is already up-to-date!\n       | Downloading package ieer to /root/nltk_data...\n       |   Package ieer is already up-to-date!\n       | Downloading package inaugural to /root/nltk_data...\n       |   Package inaugural is already up-to-date!\n       | Downloading package indian to /root/nltk_data...\n       |   Package indian is already up-to-date!\n       | Downloading package jeita to /root/nltk_data...\n       |   Package jeita is already up-to-date!\n       | Downloading package kimmo to /root/nltk_data...\n       |   Package kimmo is already up-to-date!\n       | Downloading package knbc to /root/nltk_data...\n       |   Package knbc is already up-to-date!\n       | Downloading package large_grammars to /root/nltk_data...\n       |   Package large_grammars is already up-to-date!\n       | Downloading package lin_thesaurus to /root/nltk_data...\n       |   Package lin_thesaurus is already up-to-date!\n       | Downloading package mac_morpho to /root/nltk_data...\n       |   Package mac_morpho is already up-to-date!\n       | Downloading package machado to /root/nltk_data...\n       |   Package machado is already up-to-date!\n       | Downloading package masc_tagged to /root/nltk_data...\n       |   Package masc_tagged is already up-to-date!\n       | Downloading package maxent_ne_chunker to /root/nltk_data...\n       |   Package maxent_ne_chunker is already up-to-date!\n       | Downloading package maxent_treebank_pos_tagger to\n       |     /root/nltk_data...\n       |   Package maxent_treebank_pos_tagger is already up-to-date!\n       | Downloading package moses_sample to /root/nltk_data...\n       |   Package moses_sample is already up-to-date!\n       | Downloading package movie_reviews to /root/nltk_data...\n       |   Package movie_reviews is already up-to-date!\n       | Downloading package mte_teip5 to /root/nltk_data...\n       |   Package mte_teip5 is already up-to-date!\n       | Downloading package mwa_ppdb to /root/nltk_data...\n       |   Package mwa_ppdb is already up-to-date!\n       | Downloading package names to /root/nltk_data...\n       |   Package names is already up-to-date!\n       | Downloading package nombank.1.0 to /root/nltk_data...\n       |   Package nombank.1.0 is already up-to-date!\n       | Downloading package nonbreaking_prefixes to\n       |     /root/nltk_data...\n       |   Package nonbreaking_prefixes is already up-to-date!\n       | Downloading package nps_chat to /root/nltk_data...\n       |   Package nps_chat is already up-to-date!\n       | Downloading package omw to /root/nltk_data...\n       |   Package omw is already up-to-date!\n       | Downloading package omw-1.4 to /root/nltk_data...\n       |   Package omw-1.4 is already up-to-date!\n       | Downloading package opinion_lexicon to /root/nltk_data...\n       |   Package opinion_lexicon is already up-to-date!\n       | Downloading package panlex_swadesh to /root/nltk_data...\n       |   Package panlex_swadesh is already up-to-date!\n       | Downloading package paradigms to /root/nltk_data...\n       |   Package paradigms is already up-to-date!\n       | Downloading package pe08 to /root/nltk_data...\n       |   Package pe08 is already up-to-date!\n       | Downloading package perluniprops to /root/nltk_data...\n       |   Package perluniprops is already up-to-date!\n       | Downloading package pil to /root/nltk_data...\n       |   Package pil is already up-to-date!\n       | Downloading package pl196x to /root/nltk_data...\n       |   Package pl196x is already up-to-date!\n       | Downloading package porter_test to /root/nltk_data...\n       |   Package porter_test is already up-to-date!\n       | Downloading package ppattach to /root/nltk_data...\n       |   Package ppattach is already up-to-date!\n       | Downloading package problem_reports to /root/nltk_data...\n       |   Package problem_reports is already up-to-date!\n       | Downloading package product_reviews_1 to /root/nltk_data...\n       |   Package product_reviews_1 is already up-to-date!\n       | Downloading package product_reviews_2 to /root/nltk_data...\n       |   Package product_reviews_2 is already up-to-date!\n       | Downloading package propbank to /root/nltk_data...\n       |   Package propbank is already up-to-date!\n       | Downloading package pros_cons to /root/nltk_data...\n       |   Package pros_cons is already up-to-date!\n       | Downloading package ptb to /root/nltk_data...\n       |   Package ptb is already up-to-date!\n       | Downloading package punkt to /root/nltk_data...\n       |   Package punkt is already up-to-date!\n       | Downloading package qc to /root/nltk_data...\n       |   Package qc is already up-to-date!\n       | Downloading package reuters to /root/nltk_data...\n       |   Package reuters is already up-to-date!\n       | Downloading package rslp to /root/nltk_data...\n       |   Package rslp is already up-to-date!\n       | Downloading package rte to /root/nltk_data...\n       |   Package rte is already up-to-date!\n       | Downloading package sample_grammars to /root/nltk_data...\n       |   Package sample_grammars is already up-to-date!\n       | Downloading package semcor to /root/nltk_data...\n       |   Package semcor is already up-to-date!\n       | Downloading package senseval to /root/nltk_data...\n       |   Package senseval is already up-to-date!\n       | Downloading package sentence_polarity to /root/nltk_data...\n       |   Package sentence_polarity is already up-to-date!\n       | Downloading package sentiwordnet to /root/nltk_data...\n       |   Package sentiwordnet is already up-to-date!\n       | Downloading package shakespeare to /root/nltk_data...\n       |   Package shakespeare is already up-to-date!\n       | Downloading package sinica_treebank to /root/nltk_data...\n       |   Package sinica_treebank is already up-to-date!\n       | Downloading package smultron to /root/nltk_data...\n       |   Package smultron is already up-to-date!\n       | Downloading package snowball_data to /root/nltk_data...\n       |   Package snowball_data is already up-to-date!\n       | Downloading package spanish_grammars to /root/nltk_data...\n       |   Package spanish_grammars is already up-to-date!\n       | Downloading package state_union to /root/nltk_data...\n       |   Package state_union is already up-to-date!\n       | Downloading package stopwords to /root/nltk_data...\n       |   Package stopwords is already up-to-date!\n       | Downloading package subjectivity to /root/nltk_data...\n       |   Package subjectivity is already up-to-date!\n       | Downloading package swadesh to /root/nltk_data...\n       |   Package swadesh is already up-to-date!\n       | Downloading package switchboard to /root/nltk_data...\n       |   Package switchboard is already up-to-date!\n       | Downloading package tagsets to /root/nltk_data...\n       |   Package tagsets is already up-to-date!\n       | Downloading package timit to /root/nltk_data...\n       |   Package timit is already up-to-date!\n       | Downloading package toolbox to /root/nltk_data...\n       |   Package toolbox is already up-to-date!\n       | Downloading package treebank to /root/nltk_data...\n       |   Package treebank is already up-to-date!\n       | Downloading package twitter_samples to /root/nltk_data...\n       |   Package twitter_samples is already up-to-date!\n       | Downloading package udhr to /root/nltk_data...\n       |   Package udhr is already up-to-date!\n       | Downloading package udhr2 to /root/nltk_data...\n       |   Package udhr2 is already up-to-date!\n       | Downloading package unicode_samples to /root/nltk_data...\n       |   Package unicode_samples is already up-to-date!\n       | Downloading package universal_tagset to /root/nltk_data...\n       |   Package universal_tagset is already up-to-date!\n       | Downloading package universal_treebanks_v20 to\n       |     /root/nltk_data...\n       |   Package universal_treebanks_v20 is already up-to-date!\n       | Downloading package vader_lexicon to /root/nltk_data...\n       |   Package vader_lexicon is already up-to-date!\n       | Downloading package verbnet to /root/nltk_data...\n       |   Package verbnet is already up-to-date!\n       | Downloading package verbnet3 to /root/nltk_data...\n       |   Package verbnet3 is already up-to-date!\n       | Downloading package webtext to /root/nltk_data...\n       |   Package webtext is already up-to-date!\n       | Downloading package wmt15_eval to /root/nltk_data...\n       |   Package wmt15_eval is already up-to-date!\n       | Downloading package word2vec_sample to /root/nltk_data...\n       |   Package word2vec_sample is already up-to-date!\n       | Downloading package wordnet to /root/nltk_data...\n       |   Package wordnet is already up-to-date!\n       | Downloading package wordnet2021 to /root/nltk_data...\n       |   Package wordnet2021 is already up-to-date!\n       | Downloading package wordnet2022 to /root/nltk_data...\n       |   Package wordnet2022 is already up-to-date!\n       | Downloading package wordnet31 to /root/nltk_data...\n       |   Package wordnet31 is already up-to-date!\n       | Downloading package wordnet_ic to /root/nltk_data...\n       |   Package wordnet_ic is already up-to-date!\n       | Downloading package words to /root/nltk_data...\n       |   Package words is already up-to-date!\n       | Downloading package ycoe to /root/nltk_data...\n       |   Package ycoe is already up-to-date!\n       | \n     Done downloading collection all\n\n---------------------------------------------------------------------------\n    d) Download   l) List    u) Update   c) Config   h) Help   q) Quit\n---------------------------------------------------------------------------\n",
          "output_type": "stream"
        }
      ]
    },
    {
      "cell_type": "code",
      "metadata": {
        "tags": [],
        "cell_id": "d958498934b84d8280134857f637d147",
        "source_hash": "84055030",
        "execution_start": 1679141112449,
        "execution_millis": 2085,
        "deepnote_to_be_reexecuted": true,
        "deepnote_cell_type": "code",
        "id": "164IDFK4SH9U",
        "outputId": "26eb8bfd-5f1e-4f6b-fb12-d0dccfea2462"
      },
      "source": [
        "#normlizing text\n",
        "#import numpy as np\n",
        "#from sklearn import preprocessing\n",
        "\n",
        "#norm_dataset = preprocessing.normalize(dataset.data)\n",
        "#scaled_df = pd.DataFrame(norm_dataset, columns=dataset.data.columns)\n",
        "#print(scaled_df)"
      ],
      "execution_count": null,
      "outputs": [
        {
          "name": "stdout",
          "text": "                                                       0\n0        (0, 2341)\\t0.22941573387056174\\n  (0, 3554)\\...\n1        (0, 157)\\t0.1414213562373095\\n  (0, 484)\\t0....\n2        (0, 1839)\\t0.19245008972987526\\n  (0, 2029)\\...\n3        (0, 1615)\\t0.11785113019775793\\n  (0, 2160)\\...\n4        (0, 1554)\\t0.1386750490563073\\n  (0, 2160)\\t...\n...                                                  ...\n63694    (0, 2160)\\t0.08980265101338746\\n  (0, 3458)\\...\n63695    (0, 1398)\\t0.2886751345948129\\n  (0, 2140)\\t...\n63696    (0, 1261)\\t0.35355339059327373\\n  (0, 12097)...\n63697    (0, 2513)\\t0.5\\n  (0, 10669)\\t0.5\\n  (0, 116...\n63698    (0, 1839)\\t0.1543033499620919\\n  (0, 2160)\\t...\n\n[63699 rows x 1 columns]\n",
          "output_type": "stream"
        }
      ]
    },
    {
      "cell_type": "markdown",
      "metadata": {
        "tags": [],
        "cell_id": "909e394b7a3448e9b2e89d008880f04d",
        "is_collapsed": false,
        "formattedRanges": [],
        "deepnote_cell_type": "text-cell-h1",
        "id": "USkEda9MSH9V"
      },
      "source": [
        "# LR"
      ]
    },
    {
      "cell_type": "code",
      "metadata": {
        "tags": [],
        "cell_id": "b6a4d4c3fb7d4686a5cd9b23b4b14b92",
        "source_hash": "bd366d0e",
        "execution_start": 1679256586922,
        "execution_millis": 4,
        "deepnote_to_be_reexecuted": false,
        "deepnote_cell_type": "code",
        "id": "RDBeehpySH9V"
      },
      "source": [
        "#LR pure extraction without processing\n",
        "#LR = Pipeline([('vect', CountVectorizer(max_features=None)),\n",
        "#                     ('clf',  LogisticRegression())])"
      ],
      "execution_count": null,
      "outputs": []
    },
    {
      "cell_type": "code",
      "metadata": {
        "tags": [],
        "cell_id": "f8e845b521ef44f1a55f2d2850dd86ab",
        "source_hash": "94acfdec",
        "execution_start": 1679257881735,
        "execution_millis": 3,
        "deepnote_to_be_reexecuted": false,
        "deepnote_cell_type": "code",
        "id": "XRr54bxNSH9V"
      },
      "source": [
        "#LR pure extraction +stopword\n",
        "#LR = Pipeline([('vect', CountVectorizer(stop_words='english')),\n",
        "#                     ('clf',  LogisticRegression(solver='lbfgs', max_iter=1000))])"
      ],
      "execution_count": null,
      "outputs": []
    },
    {
      "cell_type": "code",
      "metadata": {
        "tags": [],
        "cell_id": "ceffbbd19ea2402a955269ba4c9e06a7",
        "source_hash": "a027bfd1",
        "execution_start": 1679266337151,
        "execution_millis": 4,
        "deepnote_to_be_reexecuted": false,
        "deepnote_cell_type": "code",
        "id": "asfP0g8uSH9V"
      },
      "source": [
        "#LR pure extraction without processing +TF_IDF transformer\n",
        "\n",
        "LR = Pipeline([('vect', CountVectorizer(stop_words='english')), ('tfidf', TfidfTransformer()),\n",
        "                     ('clf',  LogisticRegression(solver='lbfgs', max_iter=1000))])"
      ],
      "execution_count": null,
      "outputs": []
    },
    {
      "cell_type": "code",
      "metadata": {
        "tags": [],
        "cell_id": "55d9490f80c548fb8350e24cc729040c",
        "source_hash": "e336e269",
        "execution_start": 1679265021919,
        "execution_millis": 4,
        "deepnote_to_be_reexecuted": false,
        "deepnote_cell_type": "code",
        "id": "G4WKbwqvSH9V"
      },
      "source": [
        "#LR TF_IDF without processing\n",
        "#LR = Pipeline([('vect', TfidfVectorizer( max_features=None,decode_error=\"ignore\")),\n",
        "#                     ('clf', LogisticRegression(solver='lbfgs', max_iter=1000))])"
      ],
      "execution_count": null,
      "outputs": []
    },
    {
      "cell_type": "code",
      "metadata": {
        "tags": [],
        "cell_id": "5b6da56a77064473bb3a6ca7ee9af0ea",
        "source_hash": "16686766",
        "execution_start": 1679267882981,
        "execution_millis": 4,
        "deepnote_to_be_reexecuted": false,
        "deepnote_cell_type": "code",
        "id": "U3D6YMzZSH9V"
      },
      "source": [
        "#LR TF_IDF +stop word\n",
        "#TF_IDF feauter extraction wihout any processing\n",
        "LR = Pipeline([('vect', TfidfVectorizer(stop_words='english', max_features=None,decode_error=\"ignore\"),('tfidf', TfidfTransformer())),\n",
        "                     ('clf',  LogisticRegression(solver='lbfgs', max_iter=1000))])"
      ],
      "execution_count": null,
      "outputs": []
    },
    {
      "cell_type": "code",
      "metadata": {
        "tags": [],
        "cell_id": "49b47fa3065c4be5bdae763224e92728",
        "source_hash": "7de843b4",
        "execution_start": 1679267977627,
        "execution_millis": 2,
        "deepnote_to_be_reexecuted": false,
        "deepnote_cell_type": "code",
        "id": "McsY8HWkSH9V"
      },
      "source": [
        "#TF_IDF extraction with stopword +TF_IDF transformer\n",
        "LR = Pipeline([('vect', TfidfVectorizer(stop_words='english',decode_error=\"ignore\")),\n",
        "                     ('clf',  LogisticRegression(solver='lbfgs', max_iter=1000))])"
      ],
      "execution_count": null,
      "outputs": []
    },
    {
      "cell_type": "code",
      "metadata": {
        "tags": [],
        "cell_id": "7053e13ec86742c0a80822e5cd613b8c",
        "source_hash": "45761277",
        "execution_start": 1679295825680,
        "execution_millis": 5,
        "deepnote_to_be_reexecuted": false,
        "deepnote_cell_type": "code",
        "id": "6149StLWSH9V"
      },
      "source": [
        "#LR  + normalization\n",
        "LR = Pipeline([('vect', CountVectorizer(max_features=None, stop_words='english')), ('norm', Normalizer()),\n",
        "                    ('clf', LogisticRegression(solver='lbfgs', max_iter=1000))])"
      ],
      "execution_count": null,
      "outputs": []
    },
    {
      "cell_type": "code",
      "metadata": {
        "tags": [],
        "cell_id": "952ad62914c248aa897cda81219be406",
        "source_hash": "e157005d",
        "execution_start": 1679296338651,
        "execution_millis": 3,
        "deepnote_to_be_reexecuted": false,
        "deepnote_cell_type": "code",
        "id": "jTFzTpuzSH9V"
      },
      "source": [
        "#LR stopword +steeming\n",
        "stemmed_count_vect = StemmedCountVectorizer(stop_words='english')\n",
        "\n",
        "LR = Pipeline([('vect', stemmed_count_vect),\n",
        "                    ('clf', LogisticRegression(solver='lbfgs', max_iter=1000))])"
      ],
      "execution_count": null,
      "outputs": []
    },
    {
      "cell_type": "code",
      "metadata": {
        "tags": [],
        "cell_id": "4add220d4825463aa49944072cc5db09",
        "source_hash": "3d991429",
        "execution_start": 1679296867724,
        "execution_millis": 24,
        "deepnote_to_be_reexecuted": false,
        "deepnote_cell_type": "code",
        "id": "yuZdOnwESH9V"
      },
      "source": [
        "#LR +stopword + stemmed +normalization\n",
        "stemmed_count_vect = StemmedCountVectorizer(stop_words='english')\n",
        "LR = Pipeline([('vect', stemmed_count_vect), ('norm', Normalizer()),\n",
        "                    ('clf', LogisticRegression(solver='lbfgs', max_iter=1000))])"
      ],
      "execution_count": null,
      "outputs": []
    },
    {
      "cell_type": "code",
      "metadata": {
        "tags": [],
        "cell_id": "cb5c64153e5b41c9b78710bc44173ced",
        "source_hash": "4b4bd37d",
        "execution_start": 1679296871028,
        "execution_millis": 61690,
        "deepnote_to_be_reexecuted": false,
        "deepnote_cell_type": "code",
        "id": "000lvP3ZSH9V",
        "outputId": "6db90f9d-e985-4d7d-d853-b0f470eddf0f"
      },
      "source": [
        "#LR +stopword + stemmed +normalization\n",
        "LR_model = LR\n",
        "LR_model.fit(X_train, y_train)\n",
        "y_pred = LR_model.predict(X_test)\n",
        "print(accuracy_score(y_test, y_pred))\n",
        "print(classification_report(y_test, y_pred ))"
      ],
      "execution_count": null,
      "outputs": [
        {
          "name": "stdout",
          "text": "0.8605001648377526\n              precision    recall  f1-score   support\n\n           0       0.74      0.54      0.63      2590\n           1       0.88      0.98      0.92     17179\n           2       0.42      0.06      0.11      1464\n\n    accuracy                           0.86     21233\n   macro avg       0.68      0.53      0.55     21233\nweighted avg       0.83      0.86      0.83     21233\n\n",
          "output_type": "stream"
        }
      ]
    },
    {
      "cell_type": "code",
      "metadata": {
        "tags": [],
        "cell_id": "d52c103c7d3f4c42bd8f8dc2213f525f",
        "source_hash": "a046dfec",
        "execution_start": 1679296940015,
        "execution_millis": 4,
        "deepnote_to_be_reexecuted": false,
        "deepnote_cell_type": "code",
        "id": "rn3SCgTBSH9V",
        "outputId": "fda38515-cfee-4cc9-83b5-8237463df2a6"
      },
      "source": [
        "# Making the Confusion Matrix\n",
        "from sklearn.metrics import confusion_matrix\n",
        "cm = confusion_matrix(y_test, y_pred )\n",
        "print(cm)"
      ],
      "execution_count": null,
      "outputs": [
        {
          "name": "stdout",
          "text": "[[ 1396  1139    55]\n [  323 16782    74]\n [  157  1214    93]]\n",
          "output_type": "stream"
        }
      ]
    },
    {
      "cell_type": "code",
      "metadata": {
        "tags": [],
        "cell_id": "909fc6b757a142cc8a191d1b0c3912b6",
        "source_hash": "11f61b3f",
        "execution_start": 1679296932717,
        "execution_millis": 2,
        "deepnote_to_be_reexecuted": false,
        "deepnote_cell_type": "code",
        "id": "Vy4hi1SMSH9V",
        "outputId": "12e9f4b9-39a7-4d4a-9123-f43f3749358f"
      },
      "source": [
        "print(LR_model.predict(['Would like to use dark mode, but I’m on iOS 12. Hope soon you will be able to enable dark theme via WhatsApp settings and not the phone settings 😎']))"
      ],
      "execution_count": null,
      "outputs": [
        {
          "name": "stdout",
          "text": "[1]\n",
          "output_type": "stream"
        }
      ]
    },
    {
      "cell_type": "markdown",
      "source": [
        "<a style='text-decoration:none;line-height:16px;display:flex;color:#5B5B62;padding:10px;justify-content:end;' href='https://deepnote.com?utm_source=created-in-deepnote-cell&projectId=378be7ce-053e-4e53-a8d7-d43f011c835b' target=\"_blank\">\n",
        "<img alt='Created in deepnote.com' style='display:inline;max-height:16px;margin:0px;margin-right:7.5px;' src='data:image/svg+xml;base64,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' > </img>\n",
        "Created in <span style='font-weight:600;margin-left:4px;'>Deepnote</span></a>"
      ],
      "metadata": {
        "created_in_deepnote_cell": true,
        "deepnote_cell_type": "markdown",
        "id": "ChnL-Yr5SH9W"
      }
    }
  ],
  "nbformat": 4,
  "nbformat_minor": 0,
  "metadata": {
    "deepnote_persisted_session": {
      "createdAt": "2023-03-20T15:32:38.928Z"
    },
    "deepnote_notebook_id": "7bf52fa92afa473fa4a64f54f162220a",
    "deepnote_execution_queue": [],
    "colab": {
      "provenance": [],
      "include_colab_link": true
    }
  }
}