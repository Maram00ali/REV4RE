{
  "cells": [
    {
      "cell_type": "markdown",
      "metadata": {
        "id": "view-in-github",
        "colab_type": "text"
      },
      "source": [
        "<a href=\"https://colab.research.google.com/github/Maram00ali/REV4RE/blob/main/LSTM.ipynb\" target=\"_parent\"><img src=\"https://colab.research.google.com/assets/colab-badge.svg\" alt=\"Open In Colab\"/></a>"
      ]
    },
    {
      "cell_type": "code",
      "metadata": {
        "cell_id": "9c375581c60a4ad4a1ee4bf230be6dc3",
        "source_hash": "ab82cffa",
        "execution_start": 1680024965567,
        "execution_millis": 2196,
        "deepnote_to_be_reexecuted": false,
        "deepnote_cell_type": "code",
        "id": "d_Vi3j_6V93f",
        "outputId": "5d122265-23a6-42b2-973b-b59521c2e46c"
      },
      "source": [
        "!pip install pydot==1.4.2"
      ],
      "execution_count": null,
      "outputs": [
        {
          "name": "stdout",
          "text": "Requirement already satisfied: pydot==1.4.2 in /root/venv/lib/python3.9/site-packages (1.4.2)\nRequirement already satisfied: pyparsing>=2.1.4 in /shared-libs/python3.9/py-core/lib/python3.9/site-packages (from pydot==1.4.2) (3.0.9)\n\u001b[33mWARNING: You are using pip version 22.0.4; however, version 23.0.1 is available.\nYou should consider upgrading via the '/root/venv/bin/python -m pip install --upgrade pip' command.\u001b[0m\u001b[33m\n\u001b[0m",
          "output_type": "stream"
        }
      ]
    },
    {
      "cell_type": "code",
      "metadata": {
        "cell_id": "9647ad46f4f947de9a5ebbfe9880b058",
        "source_hash": "5d259a58",
        "execution_start": 1680024967805,
        "execution_millis": 6729,
        "deepnote_to_be_reexecuted": false,
        "deepnote_cell_type": "code",
        "id": "8S8OkY62V93h",
        "outputId": "d729fb84-4667-43bb-f0d1-13b9b1acfd07"
      },
      "source": [
        "import matplotlib as mpl\n",
        "import matplotlib.pyplot as plt\n",
        "import os\n",
        "import re\n",
        "import shutil\n",
        "import string\n",
        "import tensorflow as tf\n",
        "from tensorflow.keras import regularizers\n",
        "\n",
        "from tensorflow.keras import layers\n",
        "from tensorflow.keras import losses\n",
        "\n",
        "from collections import Counter\n",
        "\n",
        "\n",
        "import pandas as pd\n",
        "import numpy as np\n",
        "\n",
        "import sklearn\n",
        "\n",
        "\n",
        "from sklearn.model_selection import train_test_split\n",
        "from sklearn.metrics import classification_report , accuracy_score\n",
        "\n",
        "\n",
        "from tensorflow.keras import preprocessing\n",
        "from tensorflow.keras.preprocessing.text import Tokenizer\n",
        "from tensorflow.keras.preprocessing.sequence import pad_sequences\n",
        "\n",
        "\n",
        "import seaborn as sns\n",
        "\n",
        "import pydot"
      ],
      "execution_count": null,
      "outputs": [
        {
          "name": "stderr",
          "text": "2023-03-28 17:36:08.267792: I tensorflow/core/platform/cpu_feature_guard.cc:193] This TensorFlow binary is optimized with oneAPI Deep Neural Network Library (oneDNN) to use the following CPU instructions in performance-critical operations:  AVX2 AVX512F AVX512_VNNI FMA\nTo enable them in other operations, rebuild TensorFlow with the appropriate compiler flags.\n2023-03-28 17:36:08.369573: I tensorflow/core/util/util.cc:169] oneDNN custom operations are on. You may see slightly different numerical results due to floating-point round-off errors from different computation orders. To turn them off, set the environment variable `TF_ENABLE_ONEDNN_OPTS=0`.\n2023-03-28 17:36:08.374280: W tensorflow/stream_executor/platform/default/dso_loader.cc:64] Could not load dynamic library 'libcudart.so.11.0'; dlerror: libcudart.so.11.0: cannot open shared object file: No such file or directory\n2023-03-28 17:36:08.374294: I tensorflow/stream_executor/cuda/cudart_stub.cc:29] Ignore above cudart dlerror if you do not have a GPU set up on your machine.\n2023-03-28 17:36:08.397655: E tensorflow/stream_executor/cuda/cuda_blas.cc:2981] Unable to register cuBLAS factory: Attempting to register factory for plugin cuBLAS when one has already been registered\n2023-03-28 17:36:10.220566: W tensorflow/stream_executor/platform/default/dso_loader.cc:64] Could not load dynamic library 'libnvinfer.so.7'; dlerror: libnvinfer.so.7: cannot open shared object file: No such file or directory\n2023-03-28 17:36:10.220659: W tensorflow/stream_executor/platform/default/dso_loader.cc:64] Could not load dynamic library 'libnvinfer_plugin.so.7'; dlerror: libnvinfer_plugin.so.7: cannot open shared object file: No such file or directory\n2023-03-28 17:36:10.220668: W tensorflow/compiler/tf2tensorrt/utils/py_utils.cc:38] TF-TRT Warning: Cannot dlopen some TensorRT libraries. If you would like to use Nvidia GPU with TensorRT, please make sure the missing libraries mentioned above are installed properly.\n",
          "output_type": "stream"
        }
      ]
    },
    {
      "cell_type": "code",
      "metadata": {
        "cell_id": "107ccbf4952e4005b00faa795571a261",
        "source_hash": "5cd864d7",
        "execution_start": 1680024974535,
        "execution_millis": 4,
        "deepnote_to_be_reexecuted": false,
        "deepnote_cell_type": "code",
        "id": "6lbsev_xV93i",
        "outputId": "f179ca90-9972-4ed0-9f30-ca6e9765a88b"
      },
      "source": [
        "print(tf.__version__)\n",
        "#policy = mixed_precision.Policy('mixed_float16')\n",
        "#mixed_precision.set_policy(policy)"
      ],
      "execution_count": null,
      "outputs": [
        {
          "name": "stdout",
          "text": "2.10.0\n",
          "output_type": "stream"
        }
      ]
    },
    {
      "cell_type": "code",
      "metadata": {
        "cell_id": "07605865be614481bdb714a60cffa551",
        "source_hash": "5ffb69de",
        "execution_start": 1680024974540,
        "execution_millis": 4,
        "deepnote_to_be_reexecuted": false,
        "deepnote_cell_type": "code",
        "id": "IrZ5KqTgV93i",
        "outputId": "a6fa5a8f-ddf8-4336-b9a8-22f0d0ca78c5"
      },
      "source": [
        "if tf.test.gpu_device_name():\n",
        "    print('Default GPU Device:{}'.format(tf.test.gpu_device_name()))\n",
        "\n",
        "else:\n",
        "    print(\"Please install GPU version of TF\")"
      ],
      "execution_count": null,
      "outputs": [
        {
          "name": "stdout",
          "text": "Please install GPU version of TF\n2023-03-28 17:36:14.538889: I tensorflow/core/platform/cpu_feature_guard.cc:193] This TensorFlow binary is optimized with oneAPI Deep Neural Network Library (oneDNN) to use the following CPU instructions in performance-critical operations:  AVX2 AVX512F AVX512_VNNI FMA\nTo enable them in other operations, rebuild TensorFlow with the appropriate compiler flags.\n2023-03-28 17:36:14.539487: W tensorflow/stream_executor/platform/default/dso_loader.cc:64] Could not load dynamic library 'libcuda.so.1'; dlerror: libcuda.so.1: cannot open shared object file: No such file or directory\n2023-03-28 17:36:14.539500: W tensorflow/stream_executor/cuda/cuda_driver.cc:263] failed call to cuInit: UNKNOWN ERROR (303)\n2023-03-28 17:36:14.539513: I tensorflow/stream_executor/cuda/cuda_diagnostics.cc:156] kernel driver does not appear to be running on this host (p-378be7ce-053e-4e53-a8d7-d43f011c835b): /proc/driver/nvidia/version does not exist\n",
          "output_type": "stream"
        }
      ]
    },
    {
      "cell_type": "markdown",
      "metadata": {
        "cell_id": "e15e495ec9644811a795b6c6f0ce4a3d",
        "deepnote_cell_type": "markdown",
        "id": "DQRS9lFNV93j"
      },
      "source": [
        "****\n",
        "Let us define methods to pre-process the review data\n",
        "****"
      ]
    },
    {
      "cell_type": "code",
      "metadata": {
        "cell_id": "d42605e496a94bdf845af6e7e26d7ffc",
        "source_hash": "e19e8e51",
        "execution_start": 1680024974589,
        "execution_millis": 2,
        "deepnote_to_be_reexecuted": false,
        "deepnote_cell_type": "code",
        "id": "jXaCIbPHV93j"
      },
      "source": [
        "\n",
        "\n",
        "\n",
        "def clean_text(text ):\n",
        "    delete_dict = {sp_character: '' for sp_character in string.punctuation}\n",
        "    delete_dict[' '] = ' '\n",
        "    table = str.maketrans(delete_dict)\n",
        "    text1 = text.translate(table)\n",
        "    #print('cleaned:'+text1)\n",
        "    textArr= text1.split()\n",
        "    text2 = ' '.join([w for w in textArr if ( not w.isdigit() and  ( not w.isdigit() and len(w)>2))])\n",
        "\n",
        "    return text2.lower()\n",
        "\n"
      ],
      "execution_count": null,
      "outputs": []
    },
    {
      "cell_type": "markdown",
      "metadata": {
        "cell_id": "60d219bda916499e8ff86dfb38d942a5",
        "deepnote_cell_type": "markdown",
        "id": "rXDHQrWRV93k"
      },
      "source": [
        "***\n",
        "\n",
        "Let us pre-process the data\n",
        "\n",
        "***"
      ]
    },
    {
      "cell_type": "code",
      "metadata": {
        "source_hash": "e9e99d83",
        "execution_start": 1680024974590,
        "execution_millis": 116,
        "deepnote_to_be_reexecuted": false,
        "cell_id": "d67f95bac80c4b8ab4f8c21421c19d2d",
        "deepnote_cell_type": "code",
        "id": "UeNbK16PV93k",
        "outputId": "5ebbb0fa-44da-4637-a36a-435c73ac5db3"
      },
      "source": [
        "review_data= pd.read_csv(\"dataset path\")\n",
        "print(review_data.head(10))\n",
        "print(len(review_data))\n"
      ],
      "execution_count": null,
      "outputs": [
        {
          "name": "stdout",
          "text": "                                              Review  RivewRelevance\n0                                    5 star good app               1\n1                A monthly subscription fee. Really?               1\n2  Able to customize and decorate a ton of things...               1\n3           All I can say is this game is the best!!               1\n4  Although not the best, it better for own creat...               1\n5  asks literally every time you open the app if ...               1\n6  Awesome tool for home owners, realtors, design...               1\n7  Been using for a few hours so far, it’s not us...               2\n8  Bored at home dont know what to do?\\n\\nGet thi...               1\n9  Dear Room Planner\\nI love this app so much!You...               1\n84932\n",
          "output_type": "stream"
        }
      ]
    },
    {
      "cell_type": "code",
      "metadata": {
        "cell_id": "2efe45bd565342e6b1a24586d0fc145f",
        "source_hash": "7fe6725e",
        "execution_start": 1680024974752,
        "execution_millis": 1429,
        "deepnote_to_be_reexecuted": false,
        "deepnote_cell_type": "code",
        "id": "nUsGst13V93k",
        "outputId": "70756794-18a6-4fdf-b4d2-adc95542bf52"
      },
      "source": [
        "review_data.dropna(axis = 0, how ='any',inplace=True)\n",
        "\n",
        "\n",
        "\n",
        "\n",
        "\n",
        "#review_data['reviewText'] = review_data['reviewText'].apply(remove_url)\n",
        "review_data['reviewText'] = review_data['Review'].apply(clean_text)\n",
        "review_data['Num_words_text'] = review_data['Review'].apply(lambda x:len(str(x).split()))\n",
        "\n",
        "print('-------Dataset --------')\n",
        "print(review_data['RivewRelevance'].value_counts())\n",
        "print(len(review_data))\n",
        "print('-------------------------')\n",
        "max_review_data_sentence_length  = review_data['Num_words_text'].max()\n",
        "\n",
        "print('Train Max Sentence Length :'+str(max_review_data_sentence_length))\n",
        "\n",
        "\n",
        "#all_sentences = train_data['text'].tolist() + test_data['text'].tolist()\n"
      ],
      "execution_count": null,
      "outputs": [
        {
          "name": "stdout",
          "text": "-------Dataset --------\n1    69045\n0    10352\n2     5535\nName: RivewRelevance, dtype: int64\n84932\n-------------------------\nTrain Max Sentence Length :1189\n",
          "output_type": "stream"
        }
      ]
    },
    {
      "cell_type": "code",
      "metadata": {
        "cell_id": "fae85c720ee34c02b7acb0613a6ccab8",
        "source_hash": "c8a08f8b",
        "execution_start": 1680024976176,
        "execution_millis": 9,
        "deepnote_to_be_reexecuted": false,
        "deepnote_cell_type": "code",
        "id": "qZRjoiVzV93k",
        "outputId": "eb409c5f-6d05-4030-98f2-5fd2b9712939"
      },
      "source": [
        "review_data['Num_words_text'].describe()"
      ],
      "execution_count": null,
      "outputs": [
        {
          "output_type": "execute_result",
          "execution_count": 8,
          "data": {
            "text/plain": "count    84932.000000\nmean        26.388758\nstd         32.159515\nmin          3.000000\n25%          8.000000\n50%         16.000000\n75%         33.000000\nmax       1189.000000\nName: Num_words_text, dtype: float64"
          },
          "metadata": {}
        }
      ]
    },
    {
      "cell_type": "code",
      "metadata": {
        "cell_id": "d0a9756fef394897b3fbf5cd02e91959",
        "source_hash": "5ed79e99",
        "execution_start": 1680024976190,
        "execution_millis": 46,
        "deepnote_to_be_reexecuted": false,
        "deepnote_cell_type": "code",
        "id": "P27Eb8vtV93k",
        "outputId": "200af0d4-c11f-4b49-8318-0538fb4a9521"
      },
      "source": [
        "sns.set(style=\"whitegrid\")\n",
        "sns.boxplot(x=review_data['Num_words_text'])"
      ],
      "execution_count": null,
      "outputs": [
        {
          "output_type": "execute_result",
          "execution_count": 9,
          "data": {
            "text/plain": "<AxesSubplot: xlabel='Num_words_text'>"
          },
          "metadata": {}
        },
        {
          "data": {
            "text/plain": "<Figure size 640x480 with 1 Axes>",
            "image/png": "[encoded data removed]"
          },
          "metadata": {
            "image/png": {
              "width": 516,
              "height": 441
            }
          },
          "output_type": "display_data"
        }
      ]
    },
    {
      "cell_type": "markdown",
      "metadata": {
        "cell_id": "7417d029e90943c4a5a6bc8bf0665401",
        "deepnote_cell_type": "markdown",
        "id": "iFIrRUuTV93l"
      },
      "source": [
        "***\n",
        "Let us create a dataset having reviews of 100 words or less\n",
        "***"
      ]
    },
    {
      "cell_type": "code",
      "metadata": {
        "cell_id": "b2df6fa408cd44358edb8f51e46dc956",
        "source_hash": "e1d14922",
        "execution_start": 1680024976420,
        "execution_millis": 13,
        "deepnote_to_be_reexecuted": false,
        "deepnote_cell_type": "code",
        "id": "858rm6p-V93l",
        "outputId": "9ca9aa57-d73e-458e-bd6c-5759594489c2"
      },
      "source": [
        "mask = (review_data['Num_words_text'] < 400) & (review_data['Num_words_text'] >=20)\n",
        "df_short_reviews = review_data[mask]\n",
        "print('No of Short reviews')\n",
        "print(len(df_short_reviews))\n",
        "\n",
        "mask = review_data['Num_words_text'] >= 400\n",
        "df_long_reviews = review_data[mask]\n",
        "print('No of Long reviews')\n",
        "print(len(df_long_reviews))"
      ],
      "execution_count": null,
      "outputs": [
        {
          "name": "stdout",
          "text": "No of Short reviews\n35804\nNo of Long reviews\n27\n",
          "output_type": "stream"
        }
      ]
    },
    {
      "cell_type": "code",
      "metadata": {
        "cell_id": "169a4dd3de094344b79e90063a62da51",
        "source_hash": "403f2f20",
        "execution_start": 1680024976474,
        "execution_millis": 4,
        "deepnote_to_be_reexecuted": false,
        "deepnote_cell_type": "code",
        "id": "nYDXiDfTV93l",
        "outputId": "a2e04ed6-40b0-4fdd-ba8a-86c2fb0f275c"
      },
      "source": [
        "print(df_short_reviews['Num_words_text'].max())"
      ],
      "execution_count": null,
      "outputs": [
        {
          "name": "stdout",
          "text": "398\n",
          "output_type": "stream"
        }
      ]
    },
    {
      "cell_type": "code",
      "metadata": {
        "cell_id": "c3d46eab678c4d0c96ad22f8076aa925",
        "source_hash": "476effe1",
        "execution_start": 1680024976475,
        "execution_millis": 3,
        "deepnote_to_be_reexecuted": false,
        "deepnote_cell_type": "code",
        "id": "uW8d2r4tV93l"
      },
      "source": [
        "def get_sentiment(rating):\n",
        "    if rating == 5 or rating == 4 or rating ==3:\n",
        "        return 1\n",
        "    else:\n",
        "        return 0\n",
        ""
      ],
      "execution_count": null,
      "outputs": []
    },
    {
      "cell_type": "markdown",
      "metadata": {
        "cell_id": "c39e6a1239a044709bbca968b5f0f440",
        "deepnote_cell_type": "markdown",
        "id": "gooA1e-sV93l"
      },
      "source": [
        "***\n",
        "Let us create our train and test datasets\n",
        "***"
      ]
    },
    {
      "cell_type": "code",
      "metadata": {
        "cell_id": "a5ae857b2db84f6683cfdc87712f0c8f",
        "source_hash": "33c59838",
        "execution_start": 1680024976476,
        "execution_millis": 3,
        "deepnote_to_be_reexecuted": false,
        "deepnote_cell_type": "code",
        "id": "95TTqFUKV93m",
        "outputId": "694016b4-d951-4b7c-f581-a9385cf8ff53"
      },
      "source": [
        "#df_short_reviews['rating'].value_counts()\n",
        "filtered_data = df_short_reviews.groupby('RivewRelevance').filter(lambda x: len(x) >= 20)\n",
        "print(len(filtered_data))\n",
        "print(filtered_data ['RivewRelevance'].value_counts())\n",
        "#filtered_data ['sentiment'] = filtered_data ['rating'].apply(get_sentiment)\n",
        "#train_data = df_short_reviews.sample(n=35804, random_state =0)\n",
        "train_data = filtered_data[['Review','RivewRelevance']]\n",
        "print('Train data')\n",
        "print(train_data['RivewRelevance'].value_counts())\n",
        "\n",
        "#Create Test Data\n",
        "mask = review_data['Num_words_text'] < 100\n",
        "df_short_reviews = review_data[mask]\n",
        "filtered_data = df_short_reviews.groupby('RivewRelevance').filter(lambda x: len(x) >= 10)\n",
        "print(filtered_data ['RivewRelevance'].value_counts())\n",
        "#filtered_data ['sentiment'] = filtered_data ['rating'].apply(get_sentiment)\n",
        "#train_data = df_short_reviews.sample(n=35804, random_state =0)\n",
        "test_data = filtered_data[['Review','RivewRelevance']]\n",
        "print('Test data')\n",
        "print(test_data['RivewRelevance'].value_counts())\n",
        "\n",
        "\n"
      ],
      "execution_count": null,
      "outputs": [
        {
          "name": "stdout",
          "text": "35804\n1    27985\n2     4133\n0     3686\nName: RivewRelevance, dtype: int64\nTrain data\n1    27985\n2     4133\n0     3686\nName: RivewRelevance, dtype: int64\n1    67503\n0    10060\n2     4823\nName: RivewRelevance, dtype: int64\nTest data\n1    67503\n0    10060\n2     4823\nName: RivewRelevance, dtype: int64\n",
          "output_type": "stream"
        }
      ]
    },
    {
      "cell_type": "code",
      "metadata": {
        "cell_id": "ca55c05030404377838ae2787337859a",
        "source_hash": "603f390a",
        "execution_start": 1680025289245,
        "execution_millis": 2,
        "deepnote_to_be_reexecuted": false,
        "deepnote_cell_type": "code",
        "id": "YCCFT4yhV93m",
        "outputId": "6987a99a-dbad-4fac-cf5d-ec49845f5658"
      },
      "source": [
        "train_data['RivewRelevance'].value_counts()"
      ],
      "execution_count": null,
      "outputs": [
        {
          "output_type": "execute_result",
          "execution_count": 15,
          "data": {
            "text/plain": "1    27985\n2     4133\n0     3686\nName: RivewRelevance, dtype: int64"
          },
          "metadata": {}
        }
      ]
    },
    {
      "cell_type": "markdown",
      "metadata": {
        "cell_id": "616932e16a614028a397ad5796e28b70",
        "deepnote_cell_type": "markdown",
        "id": "c_d8L01qV93m"
      },
      "source": [
        "Let us split the training data into train and validation datasets\n",
        "Let us convert our training,validation and test data into the format accepted by tensorflow"
      ]
    },
    {
      "cell_type": "code",
      "metadata": {
        "cell_id": "30d20e00ad364d8b920b50e250b4b633",
        "source_hash": "6b5a1523",
        "execution_start": 1680025289246,
        "execution_millis": 19,
        "deepnote_to_be_reexecuted": false,
        "deepnote_cell_type": "code",
        "id": "kHshQk0EV93m",
        "outputId": "0fc68624-6233-48e4-ddc7-a9bb3688595f"
      },
      "source": [
        "X_train, X_valid, y_train, y_valid = train_test_split(train_data['Review'].tolist(),\\\n",
        "                                                      train_data['RivewRelevance'].tolist(),\\\n",
        "                                                      test_size=0.2,\\\n",
        "                                                      stratify = train_data['RivewRelevance'].tolist(),\\\n",
        "                                                      random_state=0)\n",
        "\n",
        "\n",
        "print('Train data len:'+str(len(X_train)))\n",
        "print('Class distribution'+str(Counter(y_train)))\n",
        "print('Valid data len:'+str(len(X_valid)))\n",
        "print('Class distribution'+ str(Counter(y_valid)))"
      ],
      "execution_count": null,
      "outputs": [
        {
          "name": "stdout",
          "text": "Train data len:17902\nClass distributionCounter({1: 13992, 2: 2067, 0: 1843})\nValid data len:17902\nClass distributionCounter({1: 13993, 2: 2066, 0: 1843})\n",
          "output_type": "stream"
        }
      ]
    },
    {
      "cell_type": "markdown",
      "metadata": {
        "cell_id": "9e19b329d8a14e5ea3bcaa596238e1b4",
        "deepnote_cell_type": "markdown",
        "id": "oKmdQKTYV93m"
      },
      "source": [
        "***\n",
        "https://www.tensorflow.org/api_docs/python/tf/keras/preprocessing/text/Tokenizer\n",
        "<br>\n",
        "This class allows to vectorize a text corpus, by turning each text into either a sequence of integers (each integer being the index of a token in a dictionary) or into a vector where the coefficient for each token could be binary, based on word count, based on tf-idf...\n",
        "***"
      ]
    },
    {
      "cell_type": "code",
      "metadata": {
        "cell_id": "829d4b79d70e4fa6978a7f4d2507d802",
        "source_hash": "4288bee",
        "execution_start": 1680025289320,
        "execution_millis": 600,
        "deepnote_to_be_reexecuted": false,
        "deepnote_cell_type": "code",
        "id": "gf6p6FeiV93m",
        "outputId": "b4f39811-4b07-4ec9-9652-5c792a7446fe"
      },
      "source": [
        "num_words = 50000\n",
        "\n",
        "tokenizer = Tokenizer(num_words=num_words,oov_token=\"unk\")\n",
        "tokenizer.fit_on_texts(X_train)\n",
        "\n",
        "\n",
        "print(str(tokenizer.texts_to_sequences(['xyz how are you'])))\n",
        "\n",
        "\n"
      ],
      "execution_count": null,
      "outputs": [
        {
          "name": "stdout",
          "text": "[[10346, 82, 27, 11]]\n",
          "output_type": "stream"
        }
      ]
    },
    {
      "cell_type": "markdown",
      "metadata": {
        "cell_id": "91900f3289fb43aa84f8bf923fdebe88",
        "deepnote_cell_type": "markdown",
        "id": "JfFRnZpjV93m"
      },
      "source": [
        "***\n",
        "Let us create our train,validation and test tensorflow datasets\n",
        "***"
      ]
    },
    {
      "cell_type": "code",
      "metadata": {
        "cell_id": "35906ef0a4514c0d8a4edb3a64110473",
        "source_hash": "ad61f72a",
        "execution_start": 1680025289940,
        "execution_millis": 2811,
        "deepnote_to_be_reexecuted": false,
        "deepnote_cell_type": "code",
        "id": "5phJ7Q6CV93n",
        "outputId": "fbaa11b6-7519-4ab2-f7f6-9435d6d09fd6"
      },
      "source": [
        "\n",
        "\n",
        "\n",
        "x_train = np.array( tokenizer.texts_to_sequences(X_train) )\n",
        "x_valid = np.array( tokenizer.texts_to_sequences(X_valid) )\n",
        "x_test  = np.array( tokenizer.texts_to_sequences(test_data['Review'].tolist()) )\n",
        "\n",
        "\n",
        "\n",
        "x_train = pad_sequences(x_train, padding='post', maxlen=100)\n",
        "x_valid = pad_sequences(x_valid, padding='post', maxlen=100)\n",
        "x_test = pad_sequences(x_test, padding='post', maxlen=100)\n",
        "\n",
        "\n",
        "\n",
        "train_labels = np.asarray(y_train )\n",
        "valid_labels = np.asarray( y_valid)\n",
        "\n",
        "test_labels = np.asarray(test_data['RivewRelevance'].tolist())\n",
        "\n",
        "print('Train data len:'+str(len(x_train)))\n",
        "print('Class distribution'+str(Counter(train_labels)))\n",
        "\n",
        "print('Validation data len:'+str(len(x_valid)))\n",
        "print('Class distribution'+str(Counter(valid_labels)))\n",
        "\n",
        "print('Test data len:'+str(len(x_test)))\n",
        "print('Class distribution'+str(Counter(test_labels)))\n",
        "\n",
        "\n",
        "train_ds = tf.data.Dataset.from_tensor_slices((x_train,train_labels))\n",
        "valid_ds = tf.data.Dataset.from_tensor_slices((x_valid,valid_labels))\n",
        "test_ds = tf.data.Dataset.from_tensor_slices((x_test,test_labels))\n"
      ],
      "execution_count": null,
      "outputs": [
        {
          "name": "stderr",
          "text": "/tmp/ipykernel_903/4257519400.py:1: VisibleDeprecationWarning: Creating an ndarray from ragged nested sequences (which is a list-or-tuple of lists-or-tuples-or ndarrays with different lengths or shapes) is deprecated. If you meant to do this, you must specify 'dtype=object' when creating the ndarray.\n  x_train = np.array( tokenizer.texts_to_sequences(X_train) )\n/tmp/ipykernel_903/4257519400.py:2: VisibleDeprecationWarning: Creating an ndarray from ragged nested sequences (which is a list-or-tuple of lists-or-tuples-or ndarrays with different lengths or shapes) is deprecated. If you meant to do this, you must specify 'dtype=object' when creating the ndarray.\n  x_valid = np.array( tokenizer.texts_to_sequences(X_valid) )\n/tmp/ipykernel_903/4257519400.py:3: VisibleDeprecationWarning: Creating an ndarray from ragged nested sequences (which is a list-or-tuple of lists-or-tuples-or ndarrays with different lengths or shapes) is deprecated. If you meant to do this, you must specify 'dtype=object' when creating the ndarray.\n  x_test  = np.array( tokenizer.texts_to_sequences(test_data['Review'].tolist()) )\nTrain data len:17902\nClass distributionCounter({1: 13992, 2: 2067, 0: 1843})\nValidation data len:17902\nClass distributionCounter({1: 13993, 2: 2066, 0: 1843})\nTest data len:82386\nClass distributionCounter({1: 67503, 0: 10060, 2: 4823})\n",
          "output_type": "stream"
        }
      ]
    },
    {
      "cell_type": "code",
      "metadata": {
        "cell_id": "e0f2c33ed0ba4e2184be311c0b677f1d",
        "source_hash": "7dc60ae7",
        "execution_start": 1680025292755,
        "execution_millis": 68,
        "deepnote_to_be_reexecuted": false,
        "deepnote_cell_type": "code",
        "id": "hFyzr8mDV93n",
        "outputId": "c8462eec-1767-4ab2-f1c1-f8adc7688483"
      },
      "source": [
        "count =0\n",
        "print('======Train dataset ====')\n",
        "for value,label in train_ds:\n",
        "    count += 1\n",
        "    print(value,label)\n",
        "    if count==1:\n",
        "        break\n",
        "count =0\n",
        "print('======Validation dataset ====')\n",
        "for value,label in valid_ds:\n",
        "    count += 1\n",
        "    print(value,label)\n",
        "    if count==1:\n",
        "        break\n",
        "count =0\n",
        "print('======Test dataset ====')\n",
        "for value,label in test_ds:\n",
        "    count += 1\n",
        "    print(value,label)\n",
        "    if count==1:\n",
        "        break"
      ],
      "execution_count": null,
      "outputs": [
        {
          "name": "stdout",
          "text": "======Train dataset ====\ntf.Tensor(\n[ 352  312 1999   15 2903   12 1043   15  193   25    7  207   16  444\n 2600   52 1666   15 1031    8 1361    5  939    5   58 5013 1666    2\n   17  141   97   50   10   23   16    9  658    4   24   12    3 1412\n   51    9  381    6 3929   12  414  260  273  107  115    2   40   15\n  193   12    7  161    5   75    6 2323   24  127   68 6467    5 1999\n  336    8 1380   19    3 1362 2903   18    2  195   69 1204  336  750\n 3487   24    0    0    0    0    0    0    0    0    0    0    0    0\n    0    0], shape=(100,), dtype=int32) tf.Tensor(1, shape=(), dtype=int64)\n======Validation dataset ====\ntf.Tensor(\n[   34    70     4   618    12     7   259    30   562   806  1511    14\n   142    20    52  1729   122    71   103   636    23   352 12817   384\n     0     0     0     0     0     0     0     0     0     0     0     0\n     0     0     0     0     0     0     0     0     0     0     0     0\n     0     0     0     0     0     0     0     0     0     0     0     0\n     0     0     0     0     0     0     0     0     0     0     0     0\n     0     0     0     0     0     0     0     0     0     0     0     0\n     0     0     0     0     0     0     0     0     0     0     0     0\n     0     0     0     0], shape=(100,), dtype=int32) tf.Tensor(1, shape=(), dtype=int64)\n======Test dataset ====\ntf.Tensor(\n[146 246  37  10   0   0   0   0   0   0   0   0   0   0   0   0   0   0\n   0   0   0   0   0   0   0   0   0   0   0   0   0   0   0   0   0   0\n   0   0   0   0   0   0   0   0   0   0   0   0   0   0   0   0   0   0\n   0   0   0   0   0   0   0   0   0   0   0   0   0   0   0   0   0   0\n   0   0   0   0   0   0   0   0   0   0   0   0   0   0   0   0   0   0\n   0   0   0   0   0   0   0   0   0   0], shape=(100,), dtype=int32) tf.Tensor(1, shape=(), dtype=int64)\n",
          "output_type": "stream"
        }
      ]
    },
    {
      "cell_type": "markdown",
      "metadata": {
        "cell_id": "3a038b57308c4bd5ba39da31e42fd333",
        "deepnote_cell_type": "markdown",
        "id": "lGE9KXriV93n"
      },
      "source": [
        "****\n",
        "Let us create a simple LSTM based sentiment classification  model  \n",
        "Long short-term memory (LSTM) is an artificial recurrent neural network (RNN) architecture[1] used in the field of deep learning. Unlike standard feedforward neural networks, LSTM has feedback connections. It can not only process single data points (such as images), but also entire sequences of data (such as speech or video). For example, LSTM is applicable to tasks such as unsegmented, connected handwriting recognition,[2] speech recognition[3][4] and anomaly detection in network traffic or IDSs (intrusion detection systems).\n",
        "https://en.wikipedia.org/wiki/Long_short-term_memory\n",
        "\n",
        "For futher reading :https://towardsdatascience.com/illustrated-guide-to-lstms-and-gru-s-a-step-by-step-explanation-44e9eb85bf21\n",
        "\n",
        "****\n",
        "\n",
        "\n"
      ]
    },
    {
      "cell_type": "markdown",
      "metadata": {
        "cell_id": "17cce909d9f44d959b4d5e8b083e890a",
        "deepnote_cell_type": "markdown",
        "id": "CXehAC9GV93n"
      },
      "source": [
        "![450px-The_LSTM_cell.png](attachment:450px-The_LSTM_cell.png)"
      ]
    },
    {
      "cell_type": "markdown",
      "metadata": {
        "cell_id": "8817cbffe6b9426593db3ac5e635fa05",
        "deepnote_cell_type": "markdown",
        "id": "y6oOGrTmV93n"
      },
      "source": [
        "****\n",
        "<br>\n",
        "<br>\n",
        "Keras is a high-level API that's easier for ML beginners, as well as researchers.\n",
        "It is integrated as part of Tensorflow 2.0\n",
        "<br>\n",
        "I am using the Sequential model\n",
        "A Sequential model is appropriate for a plain stack of layers where each layer has exactly one input tensor and one output tensor.\n",
        "Source :https://www.tensorflow.org/guide/keras/sequential_model\n",
        "****"
      ]
    },
    {
      "cell_type": "code",
      "metadata": {
        "cell_id": "b2ceb7bcbb844edc9387fe21f7eda6bc",
        "scrolled": true,
        "source_hash": "e5beff6b",
        "execution_start": 1680025292829,
        "execution_millis": 242,
        "deepnote_to_be_reexecuted": false,
        "deepnote_cell_type": "code",
        "id": "oolxbJn6V93n",
        "outputId": "baa115f4-860c-4e9f-f267-c3b285849451"
      },
      "source": [
        "max_features =50000\n",
        "embedding_dim =16\n",
        "sequence_length = 100\n",
        "\n",
        "model = tf.keras.Sequential()\n",
        "model.add(tf.keras.layers.Embedding(max_features +1, embedding_dim, input_length=sequence_length,\\\n",
        "                                    embeddings_regularizer = regularizers.l2(0.005)))\n",
        "model.add(tf.keras.layers.Dropout(0.4))\n",
        "\n",
        "model.add(tf.keras.layers.LSTM(embedding_dim,dropout=0.2, recurrent_dropout=0.2,return_sequences=True,\\\n",
        "                                                             kernel_regularizer=regularizers.l2(0.005),\\\n",
        "                                                             bias_regularizer=regularizers.l2(0.005)))\n",
        "\n",
        "model.add(tf.keras.layers.Flatten())\n",
        "\n",
        "model.add(tf.keras.layers.Dense(512, activation='relu',\\\n",
        "                                kernel_regularizer=regularizers.l2(0.001),\\\n",
        "                                bias_regularizer=regularizers.l2(0.001),))\n",
        "model.add(tf.keras.layers.Dropout(0.4))\n",
        "\n",
        "model.add(tf.keras.layers.Dense(8, activation='relu',\\\n",
        "                                kernel_regularizer=regularizers.l2(0.001),\\\n",
        "                                bias_regularizer=regularizers.l2(0.001),))\n",
        "model.add(tf.keras.layers.Dropout(0.4))\n",
        "\n",
        "\n",
        "model.add(tf.keras.layers.Dense(1,activation='sigmoid'))\n",
        "\n",
        "\n",
        "\n",
        "\n",
        "model.summary()\n",
        "model.compile(loss=tf.keras.losses.BinaryCrossentropy(),optimizer=tf.keras.optimizers.Adam(1e-3),metrics=[tf.keras.metrics.BinaryAccuracy()])"
      ],
      "execution_count": null,
      "outputs": [
        {
          "name": "stdout",
          "text": "Model: \"sequential\"\n_________________________________________________________________\n Layer (type)                Output Shape              Param #   \n=================================================================\n embedding (Embedding)       (None, 100, 16)           800016    \n                                                                 \n dropout (Dropout)           (None, 100, 16)           0         \n                                                                 \n lstm (LSTM)                 (None, 100, 16)           2112      \n                                                                 \n flatten (Flatten)           (None, 1600)              0         \n                                                                 \n dense (Dense)               (None, 512)               819712    \n                                                                 \n dropout_1 (Dropout)         (None, 512)               0         \n                                                                 \n dense_1 (Dense)             (None, 8)                 4104      \n                                                                 \n dropout_2 (Dropout)         (None, 8)                 0         \n                                                                 \n dense_2 (Dense)             (None, 1)                 9         \n                                                                 \n=================================================================\nTotal params: 1,625,953\nTrainable params: 1,625,953\nNon-trainable params: 0\n_________________________________________________________________\n",
          "output_type": "stream"
        }
      ]
    },
    {
      "cell_type": "markdown",
      "metadata": {
        "cell_id": "4c433d64bace4b5c9205a9542e9a663c",
        "deepnote_cell_type": "markdown",
        "id": "_OfBrh0RV93n"
      },
      "source": [
        "![Architecture.png](attachment:Architecture.png)"
      ]
    },
    {
      "cell_type": "code",
      "metadata": {
        "cell_id": "2e370a2591c24d3ab9fe865ed88cdec0",
        "source_hash": "8e17f564",
        "execution_start": 1680025293112,
        "execution_millis": 80,
        "deepnote_to_be_reexecuted": false,
        "deepnote_cell_type": "code",
        "id": "WAh-l3pTV93n",
        "outputId": "7a689ec3-f217-4656-d372-99a71a2a2444"
      },
      "source": [
        "tf.keras.utils.plot_model(model, \"multi_input_and_output_model.png\", show_shapes=True)"
      ],
      "execution_count": null,
      "outputs": [
        {
          "output_type": "execute_result",
          "execution_count": 21,
          "data": {
            "image/png": "[encoded data removed]",
            "text/plain": "<IPython.core.display.Image object>"
          },
          "metadata": {
            "image/png": {
              "width": 439,
              "height": 1069
            }
          }
        }
      ]
    },
    {
      "cell_type": "markdown",
      "metadata": {
        "cell_id": "fe741000e1104ea7b8dbc43d38985950",
        "deepnote_cell_type": "markdown",
        "id": "mxPbkV-HV93n"
      },
      "source": [
        "***\n",
        "Let's train our model\n",
        "***"
      ]
    },
    {
      "cell_type": "code",
      "metadata": {
        "cell_id": "d8748e68d4dd414db8f3ac9bcaf13236",
        "scrolled": false,
        "source_hash": "fd484533",
        "execution_start": 1680025293194,
        "execution_millis": 45215,
        "deepnote_to_be_reexecuted": false,
        "deepnote_cell_type": "code",
        "id": "Q1iSGO8cV93o",
        "outputId": "a29117bb-9d20-40aa-e89e-5fa1b46d0849"
      },
      "source": [
        "epochs = 100\n",
        "# Fit the model using the train and test datasets.\n",
        "#history = model.fit(x_train, train_labels,validation_data= (x_test,test_labels),epochs=epochs )\n",
        "history = model.fit(train_ds.shuffle(5000).batch(32),\n",
        "                    epochs= epochs ,\n",
        "                    validation_data=valid_ds.batch(32),\n",
        "                    verbose=1)"
      ],
      "execution_count": null,
      "outputs": [
        {
          "name": "stdout",
          "text": "Epoch 1/10\n18/18 [==============================] - 7s 256ms/step - loss: 3.1041 - binary_accuracy: 0.7560 - val_loss: 1.4920 - val_binary_accuracy: 0.7816\nEpoch 2/10\n18/18 [==============================] - 4s 239ms/step - loss: 0.6475 - binary_accuracy: 0.7816 - val_loss: -0.5640 - val_binary_accuracy: 0.7816\nEpoch 3/10\n18/18 [==============================] - 4s 249ms/step - loss: -3.6052 - binary_accuracy: 0.7812 - val_loss: -10.5970 - val_binary_accuracy: 0.7816\nEpoch 4/10\n18/18 [==============================] - 4s 240ms/step - loss: -43.0102 - binary_accuracy: 0.7847 - val_loss: -115.7222 - val_binary_accuracy: 0.8077\nEpoch 5/10\n18/18 [==============================] - 4s 237ms/step - loss: -252.0286 - binary_accuracy: 0.8138 - val_loss: -424.5983 - val_binary_accuracy: 0.8181\nEpoch 6/10\n18/18 [==============================] - 4s 239ms/step - loss: -713.0195 - binary_accuracy: 0.8237 - val_loss: -981.0256 - val_binary_accuracy: 0.8279\nEpoch 7/10\n18/18 [==============================] - 4s 239ms/step - loss: -1585.5205 - binary_accuracy: 0.8243 - val_loss: -1875.6096 - val_binary_accuracy: 0.8253\nEpoch 8/10\n18/18 [==============================] - 4s 238ms/step - loss: -2845.8477 - binary_accuracy: 0.8226 - val_loss: -3092.5293 - val_binary_accuracy: 0.8280\nEpoch 9/10\n18/18 [==============================] - 4s 238ms/step - loss: -4426.7910 - binary_accuracy: 0.8271 - val_loss: -4626.4585 - val_binary_accuracy: 0.8187\nEpoch 10/10\n18/18 [==============================] - 4s 239ms/step - loss: -6388.0386 - binary_accuracy: 0.8266 - val_loss: -6473.6934 - val_binary_accuracy: 0.8268\n",
          "output_type": "stream"
        }
      ]
    },
    {
      "cell_type": "code",
      "metadata": {
        "cell_id": "36e249ce22c84fb9bae40ca511990d53",
        "source_hash": "8353a39b",
        "execution_start": 1680025338410,
        "execution_millis": 3,
        "deepnote_to_be_reexecuted": false,
        "deepnote_cell_type": "code",
        "id": "eAlNHJRXV93o",
        "outputId": "27e839ba-eadf-450f-c5ad-e3760b34953b"
      },
      "source": [
        "history.history\n"
      ],
      "execution_count": null,
      "outputs": [
        {
          "output_type": "execute_result",
          "execution_count": 23,
          "data": {
            "text/plain": "{'loss': [3.1041178703308105,\n  0.647479236125946,\n  -3.605175495147705,\n  -43.010189056396484,\n  -252.02857971191406,\n  -713.0194702148438,\n  -1585.5205078125,\n  -2845.84765625,\n  -4426.791015625,\n  -6388.03857421875],\n 'binary_accuracy': [0.7560049295425415,\n  0.7815886735916138,\n  0.7811976075172424,\n  0.784716784954071,\n  0.8138197064399719,\n  0.8236510157585144,\n  0.8242654204368591,\n  0.822589635848999,\n  0.8270584344863892,\n  0.8266115784645081],\n 'val_loss': [1.492043375968933,\n  -0.5639911890029907,\n  -10.59703540802002,\n  -115.72219848632812,\n  -424.59832763671875,\n  -981.0255737304688,\n  -1875.609619140625,\n  -3092.529296875,\n  -4626.45849609375,\n  -6473.693359375],\n 'val_binary_accuracy': [0.7816445231437683,\n  0.7816445231437683,\n  0.7816445231437683,\n  0.8077309727668762,\n  0.8180650472640991,\n  0.8278962969779968,\n  0.8252708911895752,\n  0.8279522061347961,\n  0.8186794519424438,\n  0.8268349766731262]}"
          },
          "metadata": {}
        }
      ]
    },
    {
      "cell_type": "code",
      "metadata": {
        "cell_id": "7344ba1bc44f409db2dad4e9d771733c",
        "source_hash": "e764ee9a",
        "execution_start": 1680025338416,
        "execution_millis": 280,
        "deepnote_to_be_reexecuted": false,
        "deepnote_cell_type": "code",
        "id": "iEjODf7fV93o",
        "outputId": "a79bee3b-9bdd-4e65-96a3-6a4a654473b6"
      },
      "source": [
        "\n",
        "plt.plot(history.history['loss'], label=' training data')\n",
        "plt.plot(history.history['val_loss'], label='validation data')\n",
        "plt.title('Loss for Text Classification')\n",
        "plt.ylabel('Loss value')\n",
        "plt.xlabel('No. epoch')\n",
        "plt.legend(loc=\"upper left\")\n",
        "plt.show()"
      ],
      "execution_count": null,
      "outputs": [
        {
          "data": {
            "text/plain": "<Figure size 640x480 with 1 Axes>",
            "image/png": "[encoded data removed]"
          },
          "metadata": {
            "image/png": {
              "width": 604,
              "height": 463
            }
          },
          "output_type": "display_data"
        }
      ]
    },
    {
      "cell_type": "code",
      "metadata": {
        "cell_id": "f7c643e15cb648b0be9daf69287992fb",
        "source_hash": "1ad78d5a",
        "execution_start": 1680025338700,
        "execution_millis": 166,
        "deepnote_to_be_reexecuted": false,
        "deepnote_cell_type": "code",
        "id": "jqcHXdYfV93o",
        "outputId": "d7698ad3-d490-4b07-8ed8-4a28e5a6b077"
      },
      "source": [
        "\n",
        "\n",
        "plt.plot(history.history['binary_accuracy'], label=' training data')\n",
        "plt.plot(history.history['val_binary_accuracy'], label='validation data')\n",
        "plt.title('Accuracy for Text Classification')\n",
        "plt.ylabel('Accuracy value')\n",
        "plt.xlabel('No. epoch')\n",
        "plt.legend(loc=\"upper left\")\n",
        "plt.show()\n"
      ],
      "execution_count": null,
      "outputs": [
        {
          "data": {
            "text/plain": "<Figure size 640x480 with 1 Axes>",
            "image/png": "[encoded data removed]"
          },
          "metadata": {
            "image/png": {
              "width": 586,
              "height": 463
            }
          },
          "output_type": "display_data"
        }
      ]
    },
    {
      "cell_type": "markdown",
      "metadata": {
        "cell_id": "0bca0093da2a411eb5d6af3a24438b18",
        "deepnote_cell_type": "markdown",
        "id": "EqrlRXYEV93o"
      },
      "source": [
        "Lets save our model and tokenizer"
      ]
    },
    {
      "cell_type": "code",
      "metadata": {
        "cell_id": "59b74deed16243ba97f8c721e2f8ded0",
        "source_hash": "346648a8",
        "execution_start": 1680025338868,
        "execution_millis": 121,
        "deepnote_to_be_reexecuted": false,
        "deepnote_cell_type": "code",
        "id": "LK1N1SMYV93o"
      },
      "source": [
        "model.save('C:\\\\AppReviews\\\\savedTFLSTMModel\\\\tf_lstmmodel.h5')\n",
        "json_string = tokenizer.to_json()\n"
      ],
      "execution_count": null,
      "outputs": []
    },
    {
      "cell_type": "code",
      "metadata": {
        "cell_id": "cfb4ea1f67b748cab3c04b3741171339",
        "source_hash": "3c342b34",
        "execution_start": 1680025338991,
        "execution_millis": 28,
        "deepnote_to_be_reexecuted": false,
        "deepnote_cell_type": "code",
        "id": "m62NLEGUV93o"
      },
      "source": [
        "import json\n",
        "with open('C:\\\\AppReviews\\\\savedTFLSTMModel\\\\tokenizer.json', 'w') as outfile:\n",
        "    json.dump(json_string, outfile)\n",
        ""
      ],
      "execution_count": null,
      "outputs": []
    },
    {
      "cell_type": "code",
      "metadata": {
        "cell_id": "6bcafbf376d44cbea6bed47d3ff5fd5c",
        "source_hash": "708344b7",
        "execution_start": 1680025339021,
        "execution_millis": 5201,
        "deepnote_to_be_reexecuted": false,
        "deepnote_cell_type": "code",
        "id": "JI_sH_omV93q",
        "outputId": "263d577e-fbf0-4e3d-9c55-eff63cf54892"
      },
      "source": [
        "valid_predict= model.predict(x_valid)"
      ],
      "execution_count": null,
      "outputs": [
        {
          "name": "stdout",
          "text": "560/560 [==============================] - 5s 9ms/step\n",
          "output_type": "stream"
        }
      ]
    },
    {
      "cell_type": "code",
      "metadata": {
        "cell_id": "9c4b29f5661b46e38a9f362106f6c453",
        "source_hash": "8ef19b65",
        "execution_start": 1680025344217,
        "execution_millis": 5,
        "deepnote_to_be_reexecuted": false,
        "deepnote_cell_type": "code",
        "id": "NwhCH2N-V93q",
        "outputId": "c6dac5ef-ea2c-419f-c5e9-b4b87e1f3969"
      },
      "source": [
        "print(valid_predict[:10])"
      ],
      "execution_count": null,
      "outputs": [
        {
          "name": "stdout",
          "text": "[[1.]\n [1.]\n [1.]\n [1.]\n [1.]\n [1.]\n [1.]\n [1.]\n [1.]\n [1.]]\n",
          "output_type": "stream"
        }
      ]
    },
    {
      "cell_type": "markdown",
      "metadata": {
        "cell_id": "79d459c82a62415ba114b5cbc17035f0",
        "deepnote_cell_type": "markdown",
        "id": "MZYMqVQvV93q"
      },
      "source": [
        "***\n",
        "Code from : https://stackoverflow.com/questions/22518230/creating-a-threshold-coded-roc-plot-in-python\n",
        "\n",
        "A receiver operating characteristic curve, or ROC curve, is a graphical plot that illustrates the diagnostic ability of a binary classifier system as its discrimination threshold is varied. The method was developed for operators of military radar receivers, which is why it is so named\n",
        "\n",
        "https://en.wikipedia.org/wiki/Receiver_operating_characteristic\n",
        "\n",
        "***"
      ]
    },
    {
      "cell_type": "code",
      "metadata": {
        "cell_id": "9280cb41096d4306aee90bc3de2de668",
        "source_hash": "3a9dda55",
        "execution_start": 1680025344218,
        "execution_millis": 5,
        "deepnote_to_be_reexecuted": false,
        "deepnote_cell_type": "code",
        "id": "4GlHM3kUV93q"
      },
      "source": [
        "def plot_roc(name, labels, predictions, **kwargs):\n",
        "    fp, tp, thresholds = sklearn.metrics.roc_curve(labels, predictions)\n",
        "    plt.plot(fp, tp, label=name, linewidth=2, **kwargs)\n",
        "    plt.xlabel('False positives Rate')\n",
        "    plt.ylabel('True positives Rate')\n",
        "    plt.xlim([-0.03, 1.0])\n",
        "    plt.ylim([0.0, 1.03])\n",
        "    plt.grid(True)\n",
        "    thresholdsLength = len(thresholds)\n",
        "    thresholds_every = 1000\n",
        "    colorMap = plt.get_cmap('jet', thresholdsLength)\n",
        "    for i in range(0, thresholdsLength, thresholds_every):\n",
        "        threshold_value_with_max_four_decimals = str(thresholds[i])[:5]\n",
        "        plt.text(fp[i] - 0.03, tp[i] + 0.001, threshold_value_with_max_four_decimals, fontdict={'size': 15}, color=colorMap(i/thresholdsLength));\n",
        "\n",
        "    ax = plt.gca()\n",
        "    ax.set_aspect('equal')"
      ],
      "execution_count": null,
      "outputs": []
    },
    {
      "cell_type": "code",
      "metadata": {
        "cell_id": "54cd83468ed64ee7b595f061f658d1d9",
        "source_hash": "651a1288",
        "execution_start": 1680025344218,
        "execution_millis": 5,
        "deepnote_to_be_reexecuted": false,
        "deepnote_cell_type": "code",
        "id": "yoej4cqUV93q"
      },
      "source": [
        "mpl.rcParams['figure.figsize'] = (16, 16)\n",
        "\n",
        "colors = plt.rcParams['axes.prop_cycle'].by_key()['color']"
      ],
      "execution_count": null,
      "outputs": []
    },
    {
      "cell_type": "code",
      "metadata": {
        "cell_id": "15877ac2af98464c81f129a69a09eabb",
        "source_hash": "70677267",
        "execution_start": 1680025374129,
        "execution_millis": 32,
        "deepnote_to_be_reexecuted": false,
        "deepnote_cell_type": "code",
        "id": "oPUBkt9RV93q",
        "outputId": "727dfb24-20de-446c-8bc2-a0f0d65d29b2"
      },
      "source": [
        "#plot_roc(\"Valid Baseline\", valid_labels, valid_predict, color=colors[0], linestyle='--')\n",
        "#plt.legend(loc='lower right')"
      ],
      "execution_count": null,
      "outputs": [
        {
          "output_type": "error",
          "ename": "ValueError",
          "evalue": "multiclass format is not supported",
          "traceback": [
            "\u001b[0;31m---------------------------------------------------------------------------\u001b[0m",
            "\u001b[0;31mValueError\u001b[0m                                Traceback (most recent call last)",
            "Cell \u001b[0;32mIn [34], line 1\u001b[0m\n\u001b[0;32m----> 1\u001b[0m \u001b[43mplot_roc\u001b[49m\u001b[43m(\u001b[49m\u001b[38;5;124;43m\"\u001b[39;49m\u001b[38;5;124;43mValid Baseline\u001b[39;49m\u001b[38;5;124;43m\"\u001b[39;49m\u001b[43m,\u001b[49m\u001b[43m \u001b[49m\u001b[43mvalid_labels\u001b[49m\u001b[43m,\u001b[49m\u001b[43m \u001b[49m\u001b[43mvalid_predict\u001b[49m\u001b[43m,\u001b[49m\u001b[43m \u001b[49m\u001b[43mcolor\u001b[49m\u001b[38;5;241;43m=\u001b[39;49m\u001b[43mcolors\u001b[49m\u001b[43m[\u001b[49m\u001b[38;5;241;43m0\u001b[39;49m\u001b[43m]\u001b[49m\u001b[43m,\u001b[49m\u001b[43m \u001b[49m\u001b[43mlinestyle\u001b[49m\u001b[38;5;241;43m=\u001b[39;49m\u001b[38;5;124;43m'\u001b[39;49m\u001b[38;5;124;43m--\u001b[39;49m\u001b[38;5;124;43m'\u001b[39;49m\u001b[43m)\u001b[49m\n",
            "Cell \u001b[0;32mIn [30], line 2\u001b[0m, in \u001b[0;36mplot_roc\u001b[0;34m(name, labels, predictions, **kwargs)\u001b[0m\n\u001b[1;32m      1\u001b[0m \u001b[38;5;28;01mdef\u001b[39;00m \u001b[38;5;21mplot_roc\u001b[39m(name, labels, predictions, \u001b[38;5;241m*\u001b[39m\u001b[38;5;241m*\u001b[39mkwargs):\n\u001b[0;32m----> 2\u001b[0m     fp, tp, thresholds \u001b[38;5;241m=\u001b[39m \u001b[43msklearn\u001b[49m\u001b[38;5;241;43m.\u001b[39;49m\u001b[43mmetrics\u001b[49m\u001b[38;5;241;43m.\u001b[39;49m\u001b[43mroc_curve\u001b[49m\u001b[43m(\u001b[49m\u001b[43mlabels\u001b[49m\u001b[43m,\u001b[49m\u001b[43m \u001b[49m\u001b[43mpredictions\u001b[49m\u001b[43m)\u001b[49m\n\u001b[1;32m      3\u001b[0m     plt\u001b[38;5;241m.\u001b[39mplot(fp, tp, label\u001b[38;5;241m=\u001b[39mname, linewidth\u001b[38;5;241m=\u001b[39m\u001b[38;5;241m2\u001b[39m, \u001b[38;5;241m*\u001b[39m\u001b[38;5;241m*\u001b[39mkwargs)\n\u001b[1;32m      4\u001b[0m     plt\u001b[38;5;241m.\u001b[39mxlabel(\u001b[38;5;124m'\u001b[39m\u001b[38;5;124mFalse positives Rate\u001b[39m\u001b[38;5;124m'\u001b[39m)\n",
            "File \u001b[0;32m/shared-libs/python3.9/py/lib/python3.9/site-packages/sklearn/metrics/_ranking.py:981\u001b[0m, in \u001b[0;36mroc_curve\u001b[0;34m(y_true, y_score, pos_label, sample_weight, drop_intermediate)\u001b[0m\n\u001b[1;32m    892\u001b[0m \u001b[38;5;28;01mdef\u001b[39;00m \u001b[38;5;21mroc_curve\u001b[39m(\n\u001b[1;32m    893\u001b[0m     y_true, y_score, \u001b[38;5;241m*\u001b[39m, pos_label\u001b[38;5;241m=\u001b[39m\u001b[38;5;28;01mNone\u001b[39;00m, sample_weight\u001b[38;5;241m=\u001b[39m\u001b[38;5;28;01mNone\u001b[39;00m, drop_intermediate\u001b[38;5;241m=\u001b[39m\u001b[38;5;28;01mTrue\u001b[39;00m\n\u001b[1;32m    894\u001b[0m ):\n\u001b[1;32m    895\u001b[0m     \u001b[38;5;124;03m\"\"\"Compute Receiver operating characteristic (ROC).\u001b[39;00m\n\u001b[1;32m    896\u001b[0m \n\u001b[1;32m    897\u001b[0m \u001b[38;5;124;03m    Note: this implementation is restricted to the binary classification task.\u001b[39;00m\n\u001b[0;32m   (...)\u001b[0m\n\u001b[1;32m    979\u001b[0m \n\u001b[1;32m    980\u001b[0m \u001b[38;5;124;03m    \"\"\"\u001b[39;00m\n\u001b[0;32m--> 981\u001b[0m     fps, tps, thresholds \u001b[38;5;241m=\u001b[39m \u001b[43m_binary_clf_curve\u001b[49m\u001b[43m(\u001b[49m\n\u001b[1;32m    982\u001b[0m \u001b[43m        \u001b[49m\u001b[43my_true\u001b[49m\u001b[43m,\u001b[49m\u001b[43m \u001b[49m\u001b[43my_score\u001b[49m\u001b[43m,\u001b[49m\u001b[43m \u001b[49m\u001b[43mpos_label\u001b[49m\u001b[38;5;241;43m=\u001b[39;49m\u001b[43mpos_label\u001b[49m\u001b[43m,\u001b[49m\u001b[43m \u001b[49m\u001b[43msample_weight\u001b[49m\u001b[38;5;241;43m=\u001b[39;49m\u001b[43msample_weight\u001b[49m\n\u001b[1;32m    983\u001b[0m \u001b[43m    \u001b[49m\u001b[43m)\u001b[49m\n\u001b[1;32m    985\u001b[0m     \u001b[38;5;66;03m# Attempt to drop thresholds corresponding to points in between and\u001b[39;00m\n\u001b[1;32m    986\u001b[0m     \u001b[38;5;66;03m# collinear with other points. These are always suboptimal and do not\u001b[39;00m\n\u001b[1;32m    987\u001b[0m     \u001b[38;5;66;03m# appear on a plotted ROC curve (and thus do not affect the AUC).\u001b[39;00m\n\u001b[0;32m   (...)\u001b[0m\n\u001b[1;32m    992\u001b[0m     \u001b[38;5;66;03m# but does not drop more complicated cases like fps = [1, 3, 7],\u001b[39;00m\n\u001b[1;32m    993\u001b[0m     \u001b[38;5;66;03m# tps = [1, 2, 4]; there is no harm in keeping too many thresholds.\u001b[39;00m\n\u001b[1;32m    994\u001b[0m     \u001b[38;5;28;01mif\u001b[39;00m drop_intermediate \u001b[38;5;129;01mand\u001b[39;00m \u001b[38;5;28mlen\u001b[39m(fps) \u001b[38;5;241m>\u001b[39m \u001b[38;5;241m2\u001b[39m:\n",
            "File \u001b[0;32m/shared-libs/python3.9/py/lib/python3.9/site-packages/sklearn/metrics/_ranking.py:740\u001b[0m, in \u001b[0;36m_binary_clf_curve\u001b[0;34m(y_true, y_score, pos_label, sample_weight)\u001b[0m\n\u001b[1;32m    738\u001b[0m y_type \u001b[38;5;241m=\u001b[39m type_of_target(y_true, input_name\u001b[38;5;241m=\u001b[39m\u001b[38;5;124m\"\u001b[39m\u001b[38;5;124my_true\u001b[39m\u001b[38;5;124m\"\u001b[39m)\n\u001b[1;32m    739\u001b[0m \u001b[38;5;28;01mif\u001b[39;00m \u001b[38;5;129;01mnot\u001b[39;00m (y_type \u001b[38;5;241m==\u001b[39m \u001b[38;5;124m\"\u001b[39m\u001b[38;5;124mbinary\u001b[39m\u001b[38;5;124m\"\u001b[39m \u001b[38;5;129;01mor\u001b[39;00m (y_type \u001b[38;5;241m==\u001b[39m \u001b[38;5;124m\"\u001b[39m\u001b[38;5;124mmulticlass\u001b[39m\u001b[38;5;124m\"\u001b[39m \u001b[38;5;129;01mand\u001b[39;00m pos_label \u001b[38;5;129;01mis\u001b[39;00m \u001b[38;5;129;01mnot\u001b[39;00m \u001b[38;5;28;01mNone\u001b[39;00m)):\n\u001b[0;32m--> 740\u001b[0m     \u001b[38;5;28;01mraise\u001b[39;00m \u001b[38;5;167;01mValueError\u001b[39;00m(\u001b[38;5;124m\"\u001b[39m\u001b[38;5;132;01m{0}\u001b[39;00m\u001b[38;5;124m format is not supported\u001b[39m\u001b[38;5;124m\"\u001b[39m\u001b[38;5;241m.\u001b[39mformat(y_type))\n\u001b[1;32m    742\u001b[0m check_consistent_length(y_true, y_score, sample_weight)\n\u001b[1;32m    743\u001b[0m y_true \u001b[38;5;241m=\u001b[39m column_or_1d(y_true)\n",
            "\u001b[0;31mValueError\u001b[0m: multiclass format is not supported"
          ]
        }
      ]
    },
    {
      "cell_type": "markdown",
      "metadata": {
        "cell_id": "c26d08c059a640d4bc9fb79bb8798ad1",
        "deepnote_cell_type": "markdown",
        "id": "-0d2kWEiV93q"
      },
      "source": [
        "Lets load our model and test on test data"
      ]
    },
    {
      "cell_type": "code",
      "metadata": {
        "cell_id": "9d2a3fdd1d39434eabb3cdf7133f582b",
        "source_hash": "f7fd59a8",
        "execution_start": 1680025382132,
        "execution_millis": 234,
        "deepnote_to_be_reexecuted": false,
        "deepnote_cell_type": "code",
        "id": "TNl6UI1UV93q",
        "outputId": "9ec55249-95fa-4acd-ad03-548bde61c15c"
      },
      "source": [
        "new_model = tf.keras.models.load_model('C:\\\\AppReviews\\\\savedTFLSTMModel\\\\tf_lstmmodel.h5')\n",
        "new_model.summary()\n"
      ],
      "execution_count": null,
      "outputs": [
        {
          "name": "stdout",
          "text": "Model: \"sequential\"\n_________________________________________________________________\n Layer (type)                Output Shape              Param #   \n=================================================================\n embedding (Embedding)       (None, 100, 16)           800016    \n                                                                 \n dropout (Dropout)           (None, 100, 16)           0         \n                                                                 \n lstm (LSTM)                 (None, 100, 16)           2112      \n                                                                 \n flatten (Flatten)           (None, 1600)              0         \n                                                                 \n dense (Dense)               (None, 512)               819712    \n                                                                 \n dropout_1 (Dropout)         (None, 512)               0         \n                                                                 \n dense_1 (Dense)             (None, 8)                 4104      \n                                                                 \n dropout_2 (Dropout)         (None, 8)                 0         \n                                                                 \n dense_2 (Dense)             (None, 1)                 9         \n                                                                 \n=================================================================\nTotal params: 1,625,953\nTrainable params: 1,625,953\nNon-trainable params: 0\n_________________________________________________________________\n",
          "output_type": "stream"
        }
      ]
    },
    {
      "cell_type": "code",
      "metadata": {
        "cell_id": "99c5d2250a724525a2d4203ed97ab804",
        "source_hash": "f3e1fafe",
        "execution_start": 1680025387683,
        "execution_millis": 66,
        "deepnote_to_be_reexecuted": false,
        "deepnote_cell_type": "code",
        "id": "OIzR4J9cV93q"
      },
      "source": [
        "with open('C:\\\\AppReviews\\\\savedTFLSTMModel\\\\tokenizer.json') as json_file:\n",
        "    json_string = json.load(json_file)\n",
        "tokenizer1 = tf.keras.preprocessing.text.tokenizer_from_json(json_string)"
      ],
      "execution_count": null,
      "outputs": []
    },
    {
      "cell_type": "code",
      "metadata": {
        "cell_id": "b207f814c6c849ffaf7c087efc2d1c4c",
        "source_hash": "d9bf422c",
        "execution_start": 1680025387779,
        "execution_millis": 1370,
        "deepnote_to_be_reexecuted": false,
        "deepnote_cell_type": "code",
        "id": "_cCW-Gw9V93r",
        "outputId": "7cca9f62-8306-43a8-f848-20bae3e46165"
      },
      "source": [
        "x_test  = np.array( tokenizer.texts_to_sequences(test_data['Review'].tolist()) )\n",
        "x_test = pad_sequences(x_test, padding='post', maxlen=100)"
      ],
      "execution_count": null,
      "outputs": [
        {
          "name": "stderr",
          "text": "/tmp/ipykernel_903/2965490106.py:1: VisibleDeprecationWarning: Creating an ndarray from ragged nested sequences (which is a list-or-tuple of lists-or-tuples-or ndarrays with different lengths or shapes) is deprecated. If you meant to do this, you must specify 'dtype=object' when creating the ndarray.\n  x_test  = np.array( tokenizer.texts_to_sequences(test_data['Review'].tolist()) )\n",
          "output_type": "stream"
        }
      ]
    },
    {
      "cell_type": "code",
      "metadata": {
        "cell_id": "2719561220f84eedbb565ce96bf662e0",
        "source_hash": "88ee8243",
        "execution_start": 1680025389159,
        "execution_millis": 24553,
        "deepnote_to_be_reexecuted": false,
        "deepnote_cell_type": "code",
        "id": "MJO0f_SaV93r",
        "outputId": "d9e9aa02-b34a-470c-87f4-5a0c2b2b3bfc"
      },
      "source": [
        "\n",
        "# Generate predictions (probabilities -- the output of the last layer)\n",
        "# on test  data using `predict`\n",
        "print(\"Generate predictions for all samples\")\n",
        "predictions = new_model.predict(x_test)\n",
        "\n"
      ],
      "execution_count": null,
      "outputs": [
        {
          "name": "stdout",
          "text": "Generate predictions for all samples\n2575/2575 [==============================] - 24s 9ms/step\n",
          "output_type": "stream"
        }
      ]
    },
    {
      "cell_type": "code",
      "metadata": {
        "cell_id": "44acac77f89a4d30be3696058e3c31b9",
        "source_hash": "9f4d38eb",
        "execution_start": 1680025413714,
        "execution_millis": 5,
        "deepnote_to_be_reexecuted": false,
        "deepnote_cell_type": "code",
        "id": "iY75HUpTV93r",
        "outputId": "185b08eb-cc4c-40db-bccd-3e4fa64fadef"
      },
      "source": [
        "test_data['pred_Relvence']= predictions\n",
        "test_data['pred_Relvence'] = np.where((test_data.pred_Relvence >= 0.78),1,test_data.pred_Relvence)\n",
        "test_data['pred_Relvence'] = np.where((test_data.pred_Relvence < 0.78),0,test_data.pred_Relvence)\n"
      ],
      "execution_count": null,
      "outputs": [
        {
          "name": "stderr",
          "text": "/tmp/ipykernel_903/2426244008.py:1: SettingWithCopyWarning: \nA value is trying to be set on a copy of a slice from a DataFrame.\nTry using .loc[row_indexer,col_indexer] = value instead\n\nSee the caveats in the documentation: https://pandas.pydata.org/pandas-docs/stable/user_guide/indexing.html#returning-a-view-versus-a-copy\n  test_data['pred_Relvence']= predictions\n/tmp/ipykernel_903/2426244008.py:2: SettingWithCopyWarning: \nA value is trying to be set on a copy of a slice from a DataFrame.\nTry using .loc[row_indexer,col_indexer] = value instead\n\nSee the caveats in the documentation: https://pandas.pydata.org/pandas-docs/stable/user_guide/indexing.html#returning-a-view-versus-a-copy\n  test_data['pred_Relvence'] = np.where((test_data.pred_Relvence >= 0.78),1,test_data.pred_Relvence)\n/tmp/ipykernel_903/2426244008.py:3: SettingWithCopyWarning: \nA value is trying to be set on a copy of a slice from a DataFrame.\nTry using .loc[row_indexer,col_indexer] = value instead\n\nSee the caveats in the documentation: https://pandas.pydata.org/pandas-docs/stable/user_guide/indexing.html#returning-a-view-versus-a-copy\n  test_data['pred_Relvence'] = np.where((test_data.pred_Relvence < 0.78),0,test_data.pred_Relvence)\n",
          "output_type": "stream"
        }
      ]
    },
    {
      "cell_type": "code",
      "metadata": {
        "cell_id": "044214ad0ae243178af365007293c175",
        "source_hash": "87f55b20",
        "execution_start": 1680025591137,
        "execution_millis": 135,
        "deepnote_table_state": {
          "sortBy": [],
          "filters": [],
          "pageSize": 10,
          "pageIndex": 40
        },
        "deepnote_table_loading": false,
        "deepnote_to_be_reexecuted": false,
        "deepnote_cell_type": "code",
        "id": "peNxpzl_V93r",
        "outputId": "0122fd5e-c3ad-4814-9bba-6cd70bf14e52"
      },
      "source": [
        "test_data"
      ],
      "execution_count": null,
      "outputs": [
        {
          "output_type": "execute_result",
          "execution_count": 46,
          "data": {
            "application/vnd.deepnote.dataframe.v3+json": {
              "column_count": 3,
              "row_count": 82386,
              "columns": [
                {
                  "name": "Review",
                  "dtype": "object",
                  "stats": {
                    "unique_count": 81983,
                    "nan_count": 0,
                    "categories": [
                      {
                        "name": "I love this app",
                        "count": 10
                      },
                      {
                        "name": "I like this app",
                        "count": 8
                      },
                      {
                        "name": "81981 others",
                        "count": 82368
                      }
                    ]
                  }
                },
                {
                  "name": "RivewRelevance",
                  "dtype": "int64"
                },
                {
                  "name": "pred_Relvence",
                  "dtype": "float32"
                },
                {
                  "name": "_deepnote_index_column",
                  "dtype": "int64"
                }
              ],
              "rows": [
                {
                  "Review": "Bad , so bad app ,it's better shut down the servers.",
                  "RivewRelevance": "1",
                  "pred_Relvence": "1.0",
                  "_deepnote_index_column": "408"
                },
                {
                  "Review": "Bad ! 😑🤬 Very bad",
                  "RivewRelevance": "1",
                  "pred_Relvence": "0.0",
                  "_deepnote_index_column": "409"
                },
                {
                  "Review": "Bad . Very bad",
                  "RivewRelevance": "1",
                  "pred_Relvence": "0.0",
                  "_deepnote_index_column": "410"
                },
                {
                  "Review": "Bad app my Gf always block on Instagram pls frist delete the block option",
                  "RivewRelevance": "2",
                  "pred_Relvence": "1.0",
                  "_deepnote_index_column": "411"
                },
                {
                  "Review": "Bad app my girel friend always bloked me in instagram please first delete the block option 😒",
                  "RivewRelevance": "2",
                  "pred_Relvence": "1.0",
                  "_deepnote_index_column": "412"
                },
                {
                  "Review": "bad app with bad manneger",
                  "RivewRelevance": "1",
                  "pred_Relvence": "1.0",
                  "_deepnote_index_column": "413"
                },
                {
                  "Review": "bad app, dont wast your time in this app",
                  "RivewRelevance": "1",
                  "pred_Relvence": "1.0",
                  "_deepnote_index_column": "414"
                },
                {
                  "Review": "Bad application because it has so many bags",
                  "RivewRelevance": "1",
                  "pred_Relvence": "1.0",
                  "_deepnote_index_column": "415"
                },
                {
                  "Review": "Bad bad bad very bad app",
                  "RivewRelevance": "1",
                  "pred_Relvence": "0.0",
                  "_deepnote_index_column": "416"
                },
                {
                  "Review": "Bad bad bad.... The worst!",
                  "RivewRelevance": "1",
                  "pred_Relvence": "0.0",
                  "_deepnote_index_column": "417"
                }
              ]
            },
            "text/plain": "                                                  Review  RivewRelevance  \\\n0                                        5 star good app               1   \n1                    A monthly subscription fee. Really?               1   \n2      Able to customize and decorate a ton of things...               1   \n3               All I can say is this game is the best!!               1   \n4      Although not the best, it better for own creat...               1   \n...                                                  ...             ...   \n84927  Your app sucks.Im deleting it.I know I'm not g...               1   \n84928  Your app wait along the process of downloads a...               1   \n84929  Your customer service is the most unresponsive...               1   \n84930  Your new desktop version sucks. I can save or ...               1   \n84931  Your product is so, so useful and practical. T...               1   \n\n       pred_Relvence  \n0                0.0  \n1                1.0  \n2                1.0  \n3                1.0  \n4                1.0  \n...              ...  \n84927            1.0  \n84928            1.0  \n84929            1.0  \n84930            1.0  \n84931            1.0  \n\n[82386 rows x 3 columns]",
            "text/html": "<div>\n<style scoped>\n    .dataframe tbody tr th:only-of-type {\n        vertical-align: middle;\n    }\n\n    .dataframe tbody tr th {\n        vertical-align: top;\n    }\n\n    .dataframe thead th {\n        text-align: right;\n    }\n</style>\n<table border=\"1\" class=\"dataframe\">\n  <thead>\n    <tr style=\"text-align: right;\">\n      <th></th>\n      <th>Review</th>\n      <th>RivewRelevance</th>\n      <th>pred_Relvence</th>\n    </tr>\n  </thead>\n  <tbody>\n    <tr>\n      <th>0</th>\n      <td>5 star good app</td>\n      <td>1</td>\n      <td>0.0</td>\n    </tr>\n    <tr>\n      <th>1</th>\n      <td>A monthly subscription fee. Really?</td>\n      <td>1</td>\n      <td>1.0</td>\n    </tr>\n    <tr>\n      <th>2</th>\n      <td>Able to customize and decorate a ton of things...</td>\n      <td>1</td>\n      <td>1.0</td>\n    </tr>\n    <tr>\n      <th>3</th>\n      <td>All I can say is this game is the best!!</td>\n      <td>1</td>\n      <td>1.0</td>\n    </tr>\n    <tr>\n      <th>4</th>\n      <td>Although not the best, it better for own creat...</td>\n      <td>1</td>\n      <td>1.0</td>\n    </tr>\n    <tr>\n      <th>...</th>\n      <td>...</td>\n      <td>...</td>\n      <td>...</td>\n    </tr>\n    <tr>\n      <th>84927</th>\n      <td>Your app sucks.Im deleting it.I know I'm not g...</td>\n      <td>1</td>\n      <td>1.0</td>\n    </tr>\n    <tr>\n      <th>84928</th>\n      <td>Your app wait along the process of downloads a...</td>\n      <td>1</td>\n      <td>1.0</td>\n    </tr>\n    <tr>\n      <th>84929</th>\n      <td>Your customer service is the most unresponsive...</td>\n      <td>1</td>\n      <td>1.0</td>\n    </tr>\n    <tr>\n      <th>84930</th>\n      <td>Your new desktop version sucks. I can save or ...</td>\n      <td>1</td>\n      <td>1.0</td>\n    </tr>\n    <tr>\n      <th>84931</th>\n      <td>Your product is so, so useful and practical. T...</td>\n      <td>1</td>\n      <td>1.0</td>\n    </tr>\n  </tbody>\n</table>\n<p>82386 rows × 3 columns</p>\n</div>"
          },
          "metadata": {}
        }
      ]
    },
    {
      "cell_type": "code",
      "metadata": {
        "cell_id": "a34f2b6036dd4301923942df0c92f993",
        "source_hash": "fdb7d344",
        "execution_start": 1680025413722,
        "execution_millis": 125,
        "deepnote_to_be_reexecuted": false,
        "deepnote_cell_type": "code",
        "id": "gPENPtgrV93s",
        "outputId": "513e1cee-656e-4bd2-9ffa-5018e483e428"
      },
      "source": [
        "labels = [0,1,2]\n",
        "\n",
        "print(accuracy_score(test_data['RivewRelevance'], test_data['pred_Relvence']))\n",
        "print(classification_report(test_data['RivewRelevance'].tolist(),test_data['pred_Relvence'].tolist(),labels=labels))"
      ],
      "execution_count": null,
      "outputs": [
        {
          "name": "stdout",
          "text": "0.7349671060617096\n              precision    recall  f1-score   support\n\n           0       0.33      0.75      0.46     10060\n           1       0.89      0.78      0.83     67503\n           2       0.00      0.00      0.00      4823\n\n    accuracy                           0.73     82386\n   macro avg       0.41      0.51      0.43     82386\nweighted avg       0.77      0.73      0.74     82386\n\n/shared-libs/python3.9/py/lib/python3.9/site-packages/sklearn/metrics/_classification.py:1334: UndefinedMetricWarning: Precision and F-score are ill-defined and being set to 0.0 in labels with no predicted samples. Use `zero_division` parameter to control this behavior.\n  _warn_prf(average, modifier, msg_start, len(result))\n/shared-libs/python3.9/py/lib/python3.9/site-packages/sklearn/metrics/_classification.py:1334: UndefinedMetricWarning: Precision and F-score are ill-defined and being set to 0.0 in labels with no predicted samples. Use `zero_division` parameter to control this behavior.\n  _warn_prf(average, modifier, msg_start, len(result))\n/shared-libs/python3.9/py/lib/python3.9/site-packages/sklearn/metrics/_classification.py:1334: UndefinedMetricWarning: Precision and F-score are ill-defined and being set to 0.0 in labels with no predicted samples. Use `zero_division` parameter to control this behavior.\n  _warn_prf(average, modifier, msg_start, len(result))\n",
          "output_type": "stream"
        }
      ]
    },
    {
      "cell_type": "markdown",
      "source": [
        "<a style='text-decoration:none;line-height:16px;display:flex;color:#5B5B62;padding:10px;justify-content:end;' href='https://deepnote.com?utm_source=created-in-deepnote-cell&projectId=378be7ce-053e-4e53-a8d7-d43f011c835b' target=\"_blank\">\n",
        "<img alt='Created in deepnote.com' style='display:inline;max-height:16px;margin:0px;margin-right:7.5px;' src='data:image/svg+xml;base64,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' > </img>\n",
        "Created in <span style='font-weight:600;margin-left:4px;'>Deepnote</span></a>"
      ],
      "metadata": {
        "created_in_deepnote_cell": true,
        "deepnote_cell_type": "markdown",
        "id": "RiSinbeIV93s"
      }
    }
  ],
  "nbformat": 4,
  "nbformat_minor": 0,
  "metadata": {
    "deepnote_notebook_id": "be64f3b5ef974c5986e0740b497f930c",
    "deepnote_execution_queue": [],
    "colab": {
      "provenance": [],
      "include_colab_link": true
    }
  }
}
